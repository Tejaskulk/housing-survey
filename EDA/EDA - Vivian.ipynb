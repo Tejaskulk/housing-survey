{
 "cells": [
  {
   "cell_type": "code",
   "execution_count": 2,
   "metadata": {},
   "outputs": [
    {
     "data": {
      "text/html": [
       "<div>\n",
       "<style scoped>\n",
       "    .dataframe tbody tr th:only-of-type {\n",
       "        vertical-align: middle;\n",
       "    }\n",
       "\n",
       "    .dataframe tbody tr th {\n",
       "        vertical-align: top;\n",
       "    }\n",
       "\n",
       "    .dataframe thead th {\n",
       "        text-align: right;\n",
       "    }\n",
       "</style>\n",
       "<table border=\"1\" class=\"dataframe\">\n",
       "  <thead>\n",
       "    <tr style=\"text-align: right;\">\n",
       "      <th></th>\n",
       "      <th>address</th>\n",
       "      <th>price</th>\n",
       "      <th>bed</th>\n",
       "      <th>bath</th>\n",
       "      <th>area</th>\n",
       "      <th>company</th>\n",
       "      <th>neighborhood</th>\n",
       "      <th>laundry</th>\n",
       "      <th>pets</th>\n",
       "      <th>parking</th>\n",
       "      <th>utilities</th>\n",
       "      <th>property_type</th>\n",
       "      <th>year_built</th>\n",
       "      <th>description</th>\n",
       "      <th>images</th>\n",
       "    </tr>\n",
       "  </thead>\n",
       "  <tbody>\n",
       "    <tr>\n",
       "      <td>0</td>\n",
       "      <td>3050 Birch Hollow Dr</td>\n",
       "      <td>1095.0</td>\n",
       "      <td>2</td>\n",
       "      <td>1.0</td>\n",
       "      <td>876</td>\n",
       "      <td>None</td>\n",
       "      <td>None</td>\n",
       "      <td>1.0</td>\n",
       "      <td>1.0</td>\n",
       "      <td>1.0</td>\n",
       "      <td>[]</td>\n",
       "      <td>apartment</td>\n",
       "      <td>NaN</td>\n",
       "      <td>This bedroom apartments includes:\\n\\n→ Contemp...</td>\n",
       "      <td>[https://images.craigslist.org/00S0S_8ZkasrSZ6...</td>\n",
       "    </tr>\n",
       "    <tr>\n",
       "      <td>1</td>\n",
       "      <td>912 Rose Ave</td>\n",
       "      <td>2000.0</td>\n",
       "      <td>4</td>\n",
       "      <td>2.5</td>\n",
       "      <td>2000</td>\n",
       "      <td>None</td>\n",
       "      <td>None</td>\n",
       "      <td>1.0</td>\n",
       "      <td>1.0</td>\n",
       "      <td>1.0</td>\n",
       "      <td>[]</td>\n",
       "      <td>house</td>\n",
       "      <td>NaN</td>\n",
       "      <td>Stunning Ann Arbor home, perfect family house ...</td>\n",
       "      <td>[https://images.craigslist.org/00Y0Y_4tey2xf24...</td>\n",
       "    </tr>\n",
       "    <tr>\n",
       "      <td>2</td>\n",
       "      <td>None</td>\n",
       "      <td>695.0</td>\n",
       "      <td>3</td>\n",
       "      <td>2.0</td>\n",
       "      <td>0</td>\n",
       "      <td>None</td>\n",
       "      <td>None</td>\n",
       "      <td>1.0</td>\n",
       "      <td>0.0</td>\n",
       "      <td>1.0</td>\n",
       "      <td>[]</td>\n",
       "      <td>apartment</td>\n",
       "      <td>NaN</td>\n",
       "      <td>AWESOME Affordable. This stunning 3 bedroom, 1...</td>\n",
       "      <td>[]</td>\n",
       "    </tr>\n",
       "    <tr>\n",
       "      <td>3</td>\n",
       "      <td>1505 Natalie Lane near Kipling Drive</td>\n",
       "      <td>1385.0</td>\n",
       "      <td>1</td>\n",
       "      <td>1.0</td>\n",
       "      <td>800</td>\n",
       "      <td>None</td>\n",
       "      <td>None</td>\n",
       "      <td>1.0</td>\n",
       "      <td>1.0</td>\n",
       "      <td>1.0</td>\n",
       "      <td>[]</td>\n",
       "      <td>apartment</td>\n",
       "      <td>NaN</td>\n",
       "      <td>Have you heard about our Stars &amp; Stripes progr...</td>\n",
       "      <td>[https://images.craigslist.org/00p0p_1PnkFaSsW...</td>\n",
       "    </tr>\n",
       "    <tr>\n",
       "      <td>4</td>\n",
       "      <td>1505 Natalie Lane near Kipling Drive</td>\n",
       "      <td>1185.0</td>\n",
       "      <td>1</td>\n",
       "      <td>1.0</td>\n",
       "      <td>800</td>\n",
       "      <td>None</td>\n",
       "      <td>None</td>\n",
       "      <td>1.0</td>\n",
       "      <td>1.0</td>\n",
       "      <td>1.0</td>\n",
       "      <td>[]</td>\n",
       "      <td>apartment</td>\n",
       "      <td>NaN</td>\n",
       "      <td>Have you heard about our Stars &amp; Stripes progr...</td>\n",
       "      <td>[https://images.craigslist.org/00k0k_7n7PgfXF5...</td>\n",
       "    </tr>\n",
       "  </tbody>\n",
       "</table>\n",
       "</div>"
      ],
      "text/plain": [
       "                                address   price bed  bath  area company  \\\n",
       "0                  3050 Birch Hollow Dr  1095.0   2   1.0   876    None   \n",
       "1                          912 Rose Ave  2000.0   4   2.5  2000    None   \n",
       "2                                  None   695.0   3   2.0     0    None   \n",
       "3  1505 Natalie Lane near Kipling Drive  1385.0   1   1.0   800    None   \n",
       "4  1505 Natalie Lane near Kipling Drive  1185.0   1   1.0   800    None   \n",
       "\n",
       "  neighborhood  laundry  pets  parking utilities property_type  year_built  \\\n",
       "0         None      1.0   1.0      1.0        []     apartment         NaN   \n",
       "1         None      1.0   1.0      1.0        []         house         NaN   \n",
       "2         None      1.0   0.0      1.0        []     apartment         NaN   \n",
       "3         None      1.0   1.0      1.0        []     apartment         NaN   \n",
       "4         None      1.0   1.0      1.0        []     apartment         NaN   \n",
       "\n",
       "                                         description  \\\n",
       "0  This bedroom apartments includes:\\n\\n→ Contemp...   \n",
       "1  Stunning Ann Arbor home, perfect family house ...   \n",
       "2  AWESOME Affordable. This stunning 3 bedroom, 1...   \n",
       "3  Have you heard about our Stars & Stripes progr...   \n",
       "4  Have you heard about our Stars & Stripes progr...   \n",
       "\n",
       "                                              images  \n",
       "0  [https://images.craigslist.org/00S0S_8ZkasrSZ6...  \n",
       "1  [https://images.craigslist.org/00Y0Y_4tey2xf24...  \n",
       "2                                                 []  \n",
       "3  [https://images.craigslist.org/00p0p_1PnkFaSsW...  \n",
       "4  [https://images.craigslist.org/00k0k_7n7PgfXF5...  "
      ]
     },
     "execution_count": 2,
     "metadata": {},
     "output_type": "execute_result"
    }
   ],
   "source": [
    "import numpy as np\n",
    "import json\n",
    "import pandas as pd\n",
    "import matplotlib\n",
    "import matplotlib.pyplot as plt\n",
    "matplotlib.use('nbagg')\n",
    "\n",
    "df = pd.read_json ('data/aggregated.json')\n",
    "\n",
    "df.head()\n"
   ]
  },
  {
   "cell_type": "code",
   "execution_count": 2,
   "metadata": {},
   "outputs": [
    {
     "data": {
      "text/html": [
       "<div>\n",
       "<style scoped>\n",
       "    .dataframe tbody tr th:only-of-type {\n",
       "        vertical-align: middle;\n",
       "    }\n",
       "\n",
       "    .dataframe tbody tr th {\n",
       "        vertical-align: top;\n",
       "    }\n",
       "\n",
       "    .dataframe thead th {\n",
       "        text-align: right;\n",
       "    }\n",
       "</style>\n",
       "<table border=\"1\" class=\"dataframe\">\n",
       "  <thead>\n",
       "    <tr style=\"text-align: right;\">\n",
       "      <th></th>\n",
       "      <th>price</th>\n",
       "      <th>bath</th>\n",
       "      <th>laundry</th>\n",
       "      <th>pets</th>\n",
       "      <th>parking</th>\n",
       "      <th>year_built</th>\n",
       "    </tr>\n",
       "  </thead>\n",
       "  <tbody>\n",
       "    <tr>\n",
       "      <td>price</td>\n",
       "      <td>1.000000</td>\n",
       "      <td>0.340268</td>\n",
       "      <td>-0.066057</td>\n",
       "      <td>-0.195342</td>\n",
       "      <td>-0.081144</td>\n",
       "      <td>-0.038724</td>\n",
       "    </tr>\n",
       "    <tr>\n",
       "      <td>bath</td>\n",
       "      <td>0.340268</td>\n",
       "      <td>1.000000</td>\n",
       "      <td>-0.002040</td>\n",
       "      <td>-0.093690</td>\n",
       "      <td>0.057643</td>\n",
       "      <td>0.153776</td>\n",
       "    </tr>\n",
       "    <tr>\n",
       "      <td>laundry</td>\n",
       "      <td>-0.066057</td>\n",
       "      <td>-0.002040</td>\n",
       "      <td>1.000000</td>\n",
       "      <td>0.193587</td>\n",
       "      <td>0.203173</td>\n",
       "      <td>0.404787</td>\n",
       "    </tr>\n",
       "    <tr>\n",
       "      <td>pets</td>\n",
       "      <td>-0.195342</td>\n",
       "      <td>-0.093690</td>\n",
       "      <td>0.193587</td>\n",
       "      <td>1.000000</td>\n",
       "      <td>0.320473</td>\n",
       "      <td>NaN</td>\n",
       "    </tr>\n",
       "    <tr>\n",
       "      <td>parking</td>\n",
       "      <td>-0.081144</td>\n",
       "      <td>0.057643</td>\n",
       "      <td>0.203173</td>\n",
       "      <td>0.320473</td>\n",
       "      <td>1.000000</td>\n",
       "      <td>0.175739</td>\n",
       "    </tr>\n",
       "    <tr>\n",
       "      <td>year_built</td>\n",
       "      <td>-0.038724</td>\n",
       "      <td>0.153776</td>\n",
       "      <td>0.404787</td>\n",
       "      <td>NaN</td>\n",
       "      <td>0.175739</td>\n",
       "      <td>1.000000</td>\n",
       "    </tr>\n",
       "  </tbody>\n",
       "</table>\n",
       "</div>"
      ],
      "text/plain": [
       "               price      bath   laundry      pets   parking  year_built\n",
       "price       1.000000  0.340268 -0.066057 -0.195342 -0.081144   -0.038724\n",
       "bath        0.340268  1.000000 -0.002040 -0.093690  0.057643    0.153776\n",
       "laundry    -0.066057 -0.002040  1.000000  0.193587  0.203173    0.404787\n",
       "pets       -0.195342 -0.093690  0.193587  1.000000  0.320473         NaN\n",
       "parking    -0.081144  0.057643  0.203173  0.320473  1.000000    0.175739\n",
       "year_built -0.038724  0.153776  0.404787       NaN  0.175739    1.000000"
      ]
     },
     "execution_count": 2,
     "metadata": {},
     "output_type": "execute_result"
    }
   ],
   "source": [
    "#correlation\n",
    "df.corr()"
   ]
  },
  {
   "cell_type": "code",
   "execution_count": 3,
   "metadata": {},
   "outputs": [
    {
     "data": {
      "text/html": [
       "<div>\n",
       "<style scoped>\n",
       "    .dataframe tbody tr th:only-of-type {\n",
       "        vertical-align: middle;\n",
       "    }\n",
       "\n",
       "    .dataframe tbody tr th {\n",
       "        vertical-align: top;\n",
       "    }\n",
       "\n",
       "    .dataframe thead th {\n",
       "        text-align: right;\n",
       "    }\n",
       "</style>\n",
       "<table border=\"1\" class=\"dataframe\">\n",
       "  <thead>\n",
       "    <tr style=\"text-align: right;\">\n",
       "      <th></th>\n",
       "      <th>price</th>\n",
       "      <th>bath</th>\n",
       "      <th>laundry</th>\n",
       "      <th>pets</th>\n",
       "      <th>parking</th>\n",
       "      <th>year_built</th>\n",
       "    </tr>\n",
       "  </thead>\n",
       "  <tbody>\n",
       "    <tr>\n",
       "      <td>count</td>\n",
       "      <td>7818.000000</td>\n",
       "      <td>9203.000000</td>\n",
       "      <td>7302.000000</td>\n",
       "      <td>7302.000000</td>\n",
       "      <td>7302.000000</td>\n",
       "      <td>3237.000000</td>\n",
       "    </tr>\n",
       "    <tr>\n",
       "      <td>mean</td>\n",
       "      <td>1583.984971</td>\n",
       "      <td>1.414919</td>\n",
       "      <td>0.944399</td>\n",
       "      <td>0.492468</td>\n",
       "      <td>0.644618</td>\n",
       "      <td>1077.425085</td>\n",
       "    </tr>\n",
       "    <tr>\n",
       "      <td>std</td>\n",
       "      <td>1095.510351</td>\n",
       "      <td>0.782912</td>\n",
       "      <td>0.229166</td>\n",
       "      <td>0.499977</td>\n",
       "      <td>0.478662</td>\n",
       "      <td>983.812501</td>\n",
       "    </tr>\n",
       "    <tr>\n",
       "      <td>min</td>\n",
       "      <td>1.000000</td>\n",
       "      <td>0.000000</td>\n",
       "      <td>0.000000</td>\n",
       "      <td>0.000000</td>\n",
       "      <td>0.000000</td>\n",
       "      <td>0.000000</td>\n",
       "    </tr>\n",
       "    <tr>\n",
       "      <td>25%</td>\n",
       "      <td>989.000000</td>\n",
       "      <td>1.000000</td>\n",
       "      <td>1.000000</td>\n",
       "      <td>0.000000</td>\n",
       "      <td>0.000000</td>\n",
       "      <td>0.000000</td>\n",
       "    </tr>\n",
       "    <tr>\n",
       "      <td>50%</td>\n",
       "      <td>1299.000000</td>\n",
       "      <td>1.000000</td>\n",
       "      <td>1.000000</td>\n",
       "      <td>0.000000</td>\n",
       "      <td>1.000000</td>\n",
       "      <td>1910.000000</td>\n",
       "    </tr>\n",
       "    <tr>\n",
       "      <td>75%</td>\n",
       "      <td>1725.000000</td>\n",
       "      <td>2.000000</td>\n",
       "      <td>1.000000</td>\n",
       "      <td>1.000000</td>\n",
       "      <td>1.000000</td>\n",
       "      <td>1988.000000</td>\n",
       "    </tr>\n",
       "    <tr>\n",
       "      <td>max</td>\n",
       "      <td>15900.000000</td>\n",
       "      <td>10.000000</td>\n",
       "      <td>1.000000</td>\n",
       "      <td>1.000000</td>\n",
       "      <td>1.000000</td>\n",
       "      <td>2020.000000</td>\n",
       "    </tr>\n",
       "  </tbody>\n",
       "</table>\n",
       "</div>"
      ],
      "text/plain": [
       "              price         bath      laundry         pets      parking  \\\n",
       "count   7818.000000  9203.000000  7302.000000  7302.000000  7302.000000   \n",
       "mean    1583.984971     1.414919     0.944399     0.492468     0.644618   \n",
       "std     1095.510351     0.782912     0.229166     0.499977     0.478662   \n",
       "min        1.000000     0.000000     0.000000     0.000000     0.000000   \n",
       "25%      989.000000     1.000000     1.000000     0.000000     0.000000   \n",
       "50%     1299.000000     1.000000     1.000000     0.000000     1.000000   \n",
       "75%     1725.000000     2.000000     1.000000     1.000000     1.000000   \n",
       "max    15900.000000    10.000000     1.000000     1.000000     1.000000   \n",
       "\n",
       "        year_built  \n",
       "count  3237.000000  \n",
       "mean   1077.425085  \n",
       "std     983.812501  \n",
       "min       0.000000  \n",
       "25%       0.000000  \n",
       "50%    1910.000000  \n",
       "75%    1988.000000  \n",
       "max    2020.000000  "
      ]
     },
     "execution_count": 3,
     "metadata": {},
     "output_type": "execute_result"
    }
   ],
   "source": [
    "df.describe()"
   ]
  },
  {
   "cell_type": "code",
   "execution_count": 18,
   "metadata": {},
   "outputs": [
    {
     "data": {
      "image/png": "[encoded data removed]",
      "text/plain": [
       "<Figure size 432x288 with 25 Axes>"
      ]
     },
     "metadata": {
      "needs_background": "light"
     },
     "output_type": "display_data"
    }
   ],
   "source": [
    "df.hist(column='bath', by=df.bed, sharex=True, label=True)\n",
    "plt.show()"
   ]
  },
  {
   "cell_type": "code",
   "execution_count": 10,
   "metadata": {},
   "outputs": [
    {
     "data": {
      "text/html": [
       "<div>\n",
       "<style scoped>\n",
       "    .dataframe tbody tr th:only-of-type {\n",
       "        vertical-align: middle;\n",
       "    }\n",
       "\n",
       "    .dataframe tbody tr th {\n",
       "        vertical-align: top;\n",
       "    }\n",
       "\n",
       "    .dataframe thead th {\n",
       "        text-align: right;\n",
       "    }\n",
       "</style>\n",
       "<table border=\"1\" class=\"dataframe\">\n",
       "  <thead>\n",
       "    <tr style=\"text-align: right;\">\n",
       "      <th></th>\n",
       "      <th>address</th>\n",
       "      <th>bed</th>\n",
       "      <th>area</th>\n",
       "      <th>company</th>\n",
       "      <th>neighborhood</th>\n",
       "      <th>utilities</th>\n",
       "      <th>property_type</th>\n",
       "      <th>description</th>\n",
       "      <th>images</th>\n",
       "    </tr>\n",
       "  </thead>\n",
       "  <tbody>\n",
       "    <tr>\n",
       "      <td>count</td>\n",
       "      <td>8779</td>\n",
       "      <td>9203.0</td>\n",
       "      <td>6468</td>\n",
       "      <td>3930</td>\n",
       "      <td>2520</td>\n",
       "      <td>9374</td>\n",
       "      <td>9246</td>\n",
       "      <td>9374</td>\n",
       "      <td>9374</td>\n",
       "    </tr>\n",
       "    <tr>\n",
       "      <td>unique</td>\n",
       "      <td>2335</td>\n",
       "      <td>25.0</td>\n",
       "      <td>707</td>\n",
       "      <td>145</td>\n",
       "      <td>14</td>\n",
       "      <td>77</td>\n",
       "      <td>17</td>\n",
       "      <td>4092</td>\n",
       "      <td>2800</td>\n",
       "    </tr>\n",
       "    <tr>\n",
       "      <td>top</td>\n",
       "      <td>Ann Arbor, MI 48104</td>\n",
       "      <td>2.0</td>\n",
       "      <td>0</td>\n",
       "      <td>Cabrio Properties</td>\n",
       "      <td>South University</td>\n",
       "      <td>[]</td>\n",
       "      <td>apartment</td>\n",
       "      <td></td>\n",
       "      <td>[]</td>\n",
       "    </tr>\n",
       "    <tr>\n",
       "      <td>freq</td>\n",
       "      <td>118</td>\n",
       "      <td>2613.0</td>\n",
       "      <td>499</td>\n",
       "      <td>318</td>\n",
       "      <td>254</td>\n",
       "      <td>6851</td>\n",
       "      <td>7043</td>\n",
       "      <td>143</td>\n",
       "      <td>3346</td>\n",
       "    </tr>\n",
       "  </tbody>\n",
       "</table>\n",
       "</div>"
      ],
      "text/plain": [
       "                    address     bed  area            company  \\\n",
       "count                  8779  9203.0  6468               3930   \n",
       "unique                 2335    25.0   707                145   \n",
       "top     Ann Arbor, MI 48104     2.0     0  Cabrio Properties   \n",
       "freq                    118  2613.0   499                318   \n",
       "\n",
       "            neighborhood utilities property_type description images  \n",
       "count               2520      9374          9246        9374   9374  \n",
       "unique                14        77            17        4092   2800  \n",
       "top     South University        []     apartment                 []  \n",
       "freq                 254      6851          7043         143   3346  "
      ]
     },
     "execution_count": 10,
     "metadata": {},
     "output_type": "execute_result"
    }
   ],
   "source": [
    "df.describe(include = 'object')"
   ]
  },
  {
   "cell_type": "code",
   "execution_count": 11,
   "metadata": {
    "scrolled": true
   },
   "outputs": [
    {
     "data": {
      "image/png": "[encoded data removed]",
      "text/plain": [
       "<Figure size 504x576 with 8 Axes>"
      ]
     },
     "metadata": {
      "needs_background": "light"
     },
     "output_type": "display_data"
    }
   ],
   "source": [
    "df.hist(figsize=(7,8), layout=(4,2));\n",
    "plt.tight_layout() \n"
   ]
  },
  {
   "cell_type": "code",
   "execution_count": 12,
   "metadata": {},
   "outputs": [
    {
     "data": {
      "text/plain": [
       "<matplotlib.axes._subplots.AxesSubplot at 0x1c24c4efd88>"
      ]
     },
     "execution_count": 12,
     "metadata": {},
     "output_type": "execute_result"
    },
    {
     "data": {
      "image/png": "[encoded data removed]",
      "text/plain": [
       "<Figure size 432x288 with 1 Axes>"
      ]
     },
     "metadata": {
      "needs_background": "light"
     },
     "output_type": "display_data"
    }
   ],
   "source": [
    "#bath vs price\n",
    "df.plot(kind = 'scatter', x='bath', y='price')"
   ]
  },
  {
   "cell_type": "code",
   "execution_count": 13,
   "metadata": {},
   "outputs": [
    {
     "data": {
      "text/plain": [
       "<matplotlib.axes._subplots.AxesSubplot at 0x1c22447b948>"
      ]
     },
     "execution_count": 13,
     "metadata": {},
     "output_type": "execute_result"
    },
    {
     "data": {
      "image/png": "[encoded data removed]",
      "text/plain": [
       "<Figure size 432x288 with 1 Axes>"
      ]
     },
     "metadata": {
      "needs_background": "light"
     },
     "output_type": "display_data"
    }
   ],
   "source": [
    "#pets vs price\n",
    "df.plot(kind = 'scatter', x='pets', y='price')"
   ]
  },
  {
   "cell_type": "code",
   "execution_count": 14,
   "metadata": {},
   "outputs": [
    {
     "data": {
      "text/plain": [
       "<matplotlib.axes._subplots.AxesSubplot at 0x1c24c3ea908>"
      ]
     },
     "execution_count": 14,
     "metadata": {},
     "output_type": "execute_result"
    },
    {
     "data": {
      "image/png": "[encoded data removed]",
      "text/plain": [
       "<Figure size 432x288 with 1 Axes>"
      ]
     },
     "metadata": {
      "needs_background": "light"
     },
     "output_type": "display_data"
    }
   ],
   "source": [
    "#parking vs price\n",
    "df.plot(kind = 'scatter', x='parking', y='price')"
   ]
  },
  {
   "cell_type": "code",
   "execution_count": 15,
   "metadata": {},
   "outputs": [
    {
     "data": {
      "text/plain": [
       "<matplotlib.axes._subplots.AxesSubplot at 0x1c24c4529c8>"
      ]
     },
     "execution_count": 15,
     "metadata": {},
     "output_type": "execute_result"
    },
    {
     "data": {
      "image/png": "[encoded data removed]",
      "text/plain": [
       "<Figure size 432x288 with 1 Axes>"
      ]
     },
     "metadata": {
      "needs_background": "light"
     },
     "output_type": "display_data"
    }
   ],
   "source": [
    "#laundry vs price\n",
    "df.plot(kind = 'scatter', x='laundry', y='price')"
   ]
  },
  {
   "cell_type": "code",
   "execution_count": 33,
   "metadata": {},
   "outputs": [
    {
     "data": {
      "image/png": "[encoded data removed]",
      "text/plain": [
       "<Figure size 576x576 with 20 Axes>"
      ]
     },
     "metadata": {
      "needs_background": "light"
     },
     "output_type": "display_data"
    }
   ],
   "source": [
    "#number of properties, plotted against their prices, for each property type\n",
    "df.hist(column = 'price', by=df.property_type, sharex=True, label = True, figsize=(8,8))\n",
    "plt.show()"
   ]
  },
  {
   "cell_type": "code",
   "execution_count": 3,
   "metadata": {},
   "outputs": [
    {
     "name": "stdout",
     "output_type": "stream",
     "text": [
      "property_type\n",
      "-                1622.931034\n",
      "4plex            1800.000000\n",
      "apartment        1479.435951\n",
      "condo            1585.821429\n",
      "cottage/cabin      99.000000\n",
      "dorm-style        725.000000\n",
      "duplex           1934.670270\n",
      "flat             1510.000000\n",
      "garden style      995.000000\n",
      "house            2176.715596\n",
      "loft             1707.400000\n",
      "room              838.500000\n",
      "room for rent    2581.666667\n",
      "studio           1459.833333\n",
      "townhome         2672.400000\n",
      "townhouse        1675.228070\n",
      "triplex          1600.000000\n",
      "Name: price, dtype: float64\n"
     ]
    },
    {
     "data": {
      "image/png": "[encoded data removed]",
      "text/plain": [
       "<Figure size 432x288 with 1 Axes>"
      ]
     },
     "metadata": {
      "needs_background": "light"
     },
     "output_type": "display_data"
    }
   ],
   "source": [
    "#Property Type and their price mean\n",
    "dfProp = df.groupby('property_type').mean()\n",
    "print (dfProp.price)\n",
    "dfProp.price.plot(kind='bar', title = 'Property Types and Average Prices')\n",
    "plt.tight_layout()\n",
    "plt.savefig('Property vs Average Price',dpi=300)"
   ]
  }
 ],
 "metadata": {
  "kernelspec": {
   "display_name": "Python 3",
   "language": "python",
   "name": "python3"
  },
  "language_info": {
   "codemirror_mode": {
    "name": "ipython",
    "version": 3
   },
   "file_extension": ".py",
   "mimetype": "text/x-python",
   "name": "python",
   "nbconvert_exporter": "python",
   "pygments_lexer": "ipython3",
   "version": "3.7.4"
  }
 },
 "nbformat": 4,
 "nbformat_minor": 2
}

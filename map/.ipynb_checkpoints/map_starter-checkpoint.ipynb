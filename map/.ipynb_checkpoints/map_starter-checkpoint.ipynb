{
 "cells": [
  {
   "cell_type": "code",
   "execution_count": 162,
   "metadata": {},
   "outputs": [],
   "source": [
    "import json\n",
    "import numpy as np\n",
    "import pandas as pd\n",
    "import geopandas as gp\n",
    "from plotly import express as px"
   ]
  },
  {
   "cell_type": "code",
   "execution_count": 163,
   "metadata": {},
   "outputs": [],
   "source": [
    "df = pd.read_json('../data/model_data/data.json')\n",
    "with open('../map/map.geojson') as file: \n",
    "    neighborhoods = json.load(file)"
   ]
  },
  {
   "cell_type": "markdown",
   "metadata": {},
   "source": [
    "## preliminary cleaning"
   ]
  },
  {
   "cell_type": "code",
   "execution_count": 228,
   "metadata": {},
   "outputs": [],
   "source": [
    "# drop obviously erroneous data points\n",
    "df = df[(df['distance_to_CCTC'] < 20) & df['neighborhood'].notnull()]"
   ]
  },
  {
   "cell_type": "code",
   "execution_count": 274,
   "metadata": {},
   "outputs": [],
   "source": [
    "nbhds = np.append(np.sort(df[df['neighborhood'] != 'Other Surrounding Areas'].neighborhood.unique()), 'Other Surrounding Areas')\n",
    "\n",
    "mean_price = []\n",
    "for nbhd in nbhds:\n",
    "    mean_price.append(round(df[df['neighborhood'] == nbhd].price.mean(), 2))\n",
    "\n",
    "df_nbhd = pd.concat([pd.DataFrame(nbhds, columns=['neighborhood']), \n",
    "                     pd.DataFrame(mean_price, columns=['price'])], axis=1)"
   ]
  },
  {
   "cell_type": "code",
   "execution_count": 276,
   "metadata": {},
   "outputs": [
    {
     "data": {
      "text/html": [
       "<div>\n",
       "<style scoped>\n",
       "    .dataframe tbody tr th:only-of-type {\n",
       "        vertical-align: middle;\n",
       "    }\n",
       "\n",
       "    .dataframe tbody tr th {\n",
       "        vertical-align: top;\n",
       "    }\n",
       "\n",
       "    .dataframe thead th {\n",
       "        text-align: right;\n",
       "    }\n",
       "</style>\n",
       "<table border=\"1\" class=\"dataframe\">\n",
       "  <thead>\n",
       "    <tr style=\"text-align: right;\">\n",
       "      <th></th>\n",
       "      <th>address</th>\n",
       "      <th>price</th>\n",
       "      <th>bed</th>\n",
       "      <th>bath</th>\n",
       "      <th>area</th>\n",
       "      <th>company</th>\n",
       "      <th>neighborhood</th>\n",
       "      <th>laundry</th>\n",
       "      <th>pets</th>\n",
       "      <th>parking</th>\n",
       "      <th>...</th>\n",
       "      <th>lon</th>\n",
       "      <th>distance_to_CCTC</th>\n",
       "      <th>distance_to_Pierpont</th>\n",
       "      <th>distance_to_Stadium</th>\n",
       "      <th>distance_to_Union</th>\n",
       "      <th>distance_to_Ross</th>\n",
       "      <th>distance_to_IM</th>\n",
       "      <th>distance_to_NCRB</th>\n",
       "      <th>distance_to_CCRB</th>\n",
       "      <th>distance_to_UgLi</th>\n",
       "    </tr>\n",
       "  </thead>\n",
       "  <tbody>\n",
       "    <tr>\n",
       "      <th>6883</th>\n",
       "      <td>420 Kellogg Street Ann Arbor, MI 48105</td>\n",
       "      <td>1232.5</td>\n",
       "      <td>1</td>\n",
       "      <td>1.0</td>\n",
       "      <td>650</td>\n",
       "      <td>Friedman Intergrated Real Estate Solutions</td>\n",
       "      <td>North Campus</td>\n",
       "      <td>1.0</td>\n",
       "      <td>1.0</td>\n",
       "      <td>1.0</td>\n",
       "      <td>...</td>\n",
       "      <td>-83.741215</td>\n",
       "      <td>1.755323</td>\n",
       "      <td>1.974067</td>\n",
       "      <td>3.101959</td>\n",
       "      <td>2.005196</td>\n",
       "      <td>1.703930</td>\n",
       "      <td>2.727046</td>\n",
       "      <td>2.197581</td>\n",
       "      <td>1.484511</td>\n",
       "      <td>1.980079</td>\n",
       "    </tr>\n",
       "    <tr>\n",
       "      <th>6884</th>\n",
       "      <td>420 Kellogg Street Ann Arbor, MI 48105</td>\n",
       "      <td>1470.0</td>\n",
       "      <td>2</td>\n",
       "      <td>1.0</td>\n",
       "      <td>650</td>\n",
       "      <td>Friedman Intergrated Real Estate Solutions</td>\n",
       "      <td>North Campus</td>\n",
       "      <td>1.0</td>\n",
       "      <td>1.0</td>\n",
       "      <td>1.0</td>\n",
       "      <td>...</td>\n",
       "      <td>-83.741215</td>\n",
       "      <td>1.755323</td>\n",
       "      <td>1.974067</td>\n",
       "      <td>3.101959</td>\n",
       "      <td>2.005196</td>\n",
       "      <td>1.703930</td>\n",
       "      <td>2.727046</td>\n",
       "      <td>2.197581</td>\n",
       "      <td>1.484511</td>\n",
       "      <td>1.980079</td>\n",
       "    </tr>\n",
       "    <tr>\n",
       "      <th>6885</th>\n",
       "      <td>420 Kellogg Street Ann Arbor, MI 48105</td>\n",
       "      <td>1482.5</td>\n",
       "      <td>2</td>\n",
       "      <td>1.0</td>\n",
       "      <td>650</td>\n",
       "      <td>Friedman Intergrated Real Estate Solutions</td>\n",
       "      <td>North Campus</td>\n",
       "      <td>1.0</td>\n",
       "      <td>1.0</td>\n",
       "      <td>1.0</td>\n",
       "      <td>...</td>\n",
       "      <td>-83.741215</td>\n",
       "      <td>1.755323</td>\n",
       "      <td>1.974067</td>\n",
       "      <td>3.101959</td>\n",
       "      <td>2.005196</td>\n",
       "      <td>1.703930</td>\n",
       "      <td>2.727046</td>\n",
       "      <td>2.197581</td>\n",
       "      <td>1.484511</td>\n",
       "      <td>1.980079</td>\n",
       "    </tr>\n",
       "    <tr>\n",
       "      <th>6947</th>\n",
       "      <td>1780 Broadway Ann Arbor, MI 48105</td>\n",
       "      <td>890.0</td>\n",
       "      <td>4</td>\n",
       "      <td>4.0</td>\n",
       "      <td>None</td>\n",
       "      <td>TDC Management Co.</td>\n",
       "      <td>North Campus</td>\n",
       "      <td>1.0</td>\n",
       "      <td>0.0</td>\n",
       "      <td>1.0</td>\n",
       "      <td>...</td>\n",
       "      <td>-83.721316</td>\n",
       "      <td>2.199767</td>\n",
       "      <td>0.561085</td>\n",
       "      <td>3.969997</td>\n",
       "      <td>2.784566</td>\n",
       "      <td>2.366864</td>\n",
       "      <td>3.674145</td>\n",
       "      <td>0.550299</td>\n",
       "      <td>1.871648</td>\n",
       "      <td>2.541702</td>\n",
       "    </tr>\n",
       "    <tr>\n",
       "      <th>7136</th>\n",
       "      <td>1556a Jones Drive Ann Arbor, MI 48105</td>\n",
       "      <td>1090.0</td>\n",
       "      <td>1</td>\n",
       "      <td>1.0</td>\n",
       "      <td>400</td>\n",
       "      <td>JonesWoods Properties</td>\n",
       "      <td>North Campus</td>\n",
       "      <td>1.0</td>\n",
       "      <td>1.0</td>\n",
       "      <td>1.0</td>\n",
       "      <td>...</td>\n",
       "      <td>-83.731147</td>\n",
       "      <td>1.897875</td>\n",
       "      <td>1.211708</td>\n",
       "      <td>3.548808</td>\n",
       "      <td>2.365993</td>\n",
       "      <td>1.975462</td>\n",
       "      <td>3.209838</td>\n",
       "      <td>1.358837</td>\n",
       "      <td>1.560929</td>\n",
       "      <td>2.210178</td>\n",
       "    </tr>\n",
       "  </tbody>\n",
       "</table>\n",
       "<p>5 rows × 29 columns</p>\n",
       "</div>"
      ],
      "text/plain": [
       "                                     address   price bed  bath  area  \\\n",
       "6883  420 Kellogg Street Ann Arbor, MI 48105  1232.5   1   1.0   650   \n",
       "6884  420 Kellogg Street Ann Arbor, MI 48105  1470.0   2   1.0   650   \n",
       "6885  420 Kellogg Street Ann Arbor, MI 48105  1482.5   2   1.0   650   \n",
       "6947       1780 Broadway Ann Arbor, MI 48105   890.0   4   4.0  None   \n",
       "7136   1556a Jones Drive Ann Arbor, MI 48105  1090.0   1   1.0   400   \n",
       "\n",
       "                                         company  neighborhood  laundry  pets  \\\n",
       "6883  Friedman Intergrated Real Estate Solutions  North Campus      1.0   1.0   \n",
       "6884  Friedman Intergrated Real Estate Solutions  North Campus      1.0   1.0   \n",
       "6885  Friedman Intergrated Real Estate Solutions  North Campus      1.0   1.0   \n",
       "6947                          TDC Management Co.  North Campus      1.0   0.0   \n",
       "7136                       JonesWoods Properties  North Campus      1.0   1.0   \n",
       "\n",
       "      parking  ...        lon distance_to_CCTC  distance_to_Pierpont  \\\n",
       "6883      1.0  ... -83.741215         1.755323              1.974067   \n",
       "6884      1.0  ... -83.741215         1.755323              1.974067   \n",
       "6885      1.0  ... -83.741215         1.755323              1.974067   \n",
       "6947      1.0  ... -83.721316         2.199767              0.561085   \n",
       "7136      1.0  ... -83.731147         1.897875              1.211708   \n",
       "\n",
       "     distance_to_Stadium distance_to_Union distance_to_Ross distance_to_IM  \\\n",
       "6883            3.101959          2.005196         1.703930       2.727046   \n",
       "6884            3.101959          2.005196         1.703930       2.727046   \n",
       "6885            3.101959          2.005196         1.703930       2.727046   \n",
       "6947            3.969997          2.784566         2.366864       3.674145   \n",
       "7136            3.548808          2.365993         1.975462       3.209838   \n",
       "\n",
       "     distance_to_NCRB  distance_to_CCRB  distance_to_UgLi  \n",
       "6883         2.197581          1.484511          1.980079  \n",
       "6884         2.197581          1.484511          1.980079  \n",
       "6885         2.197581          1.484511          1.980079  \n",
       "6947         0.550299          1.871648          2.541702  \n",
       "7136         1.358837          1.560929          2.210178  \n",
       "\n",
       "[5 rows x 29 columns]"
      ]
     },
     "execution_count": 276,
     "metadata": {},
     "output_type": "execute_result"
    }
   ],
   "source": [
    "# investigate this\n",
    "df[df['neighborhood'] == 'North Campus'].head()"
   ]
  },
  {
   "cell_type": "markdown",
   "metadata": {},
   "source": [
    "##  map of neighborhoods, colored by average price"
   ]
  },
  {
   "cell_type": "code",
   "execution_count": 284,
   "metadata": {},
   "outputs": [],
   "source": [
    "fig = px.choropleth_mapbox(df_nbhd, geojson=neighborhoods, \n",
    "                           color='price', \n",
    "                           color_continuous_scale=['green', 'yellow', 'orange', 'red'],\n",
    "                           mapbox_style=\"carto-positron\",\n",
    "                           locations='neighborhood',\n",
    "                           zoom=12.7,\n",
    "                           opacity=0.7,\n",
    "                           center={'lat': 42.283497, 'lon': -83.735136},\n",
    "                           featureidkey='properties.name')"
   ]
  },
  {
   "cell_type": "code",
   "execution_count": 285,
   "metadata": {},
   "outputs": [
    {
     "data": {
      "application/vnd.plotly.v1+json": {
       "config": {
        "plotlyServerURL": "https://plot.ly"
       },
       "data": [
        {
         "coloraxis": "coloraxis",
         "featureidkey": "properties.name",
         "geojson": {
          "features": [
           {
            "geometry": {
             "coordinates": [
              [
               [
                -83.74064683914185,
                42.28661964154404
               ],
               [
                -83.74109745025635,
                42.285341760830015
               ],
               [
                -83.74090433120728,
                42.28121426717874
               ],
               [
                -83.73557209968567,
                42.28135317761194
               ],
               [
                -83.73567938804626,
                42.28315898537478
               ],
               [
                -83.73575448989867,
                42.28427816332788
               ],
               [
                -83.73569011688232,
                42.284619468960436
               ],
               [
                -83.73555064201355,
                42.28488933722137
               ],
               [
                -83.73505711555481,
                42.285349698057324
               ],
               [
                -83.73523950576782,
                42.285476693558
               ],
               [
                -83.73546481132507,
                42.28557194001549
               ],
               [
                -83.73573303222656,
                42.28561956319025
               ],
               [
                -83.7363338470459,
                42.285627500382546
               ],
               [
                -83.73695611953735,
                42.285714809431745
               ],
               [
                -83.73817920684814,
                42.285976735853396
               ],
               [
                -83.74064683914185,
                42.28661964154404
               ]
              ]
             ],
             "type": "Polygon"
            },
            "properties": {
             "fill": "#555555",
             "fill-opacity": 0.2,
             "name": "North Ingalls",
             "stroke": "#555555",
             "stroke-opacity": 1,
             "stroke-width": 2
            },
            "type": "Feature"
           },
           {
            "geometry": {
             "coordinates": [
              [
               [
                -83.74064683914185,
                42.286627578610336
               ],
               [
                -83.74265313148499,
                42.287413343223214
               ],
               [
                -83.74577522277832,
                42.28600054729227
               ],
               [
                -83.7462043762207,
                42.27790413940801
               ],
               [
                -83.74484181404114,
                42.27782475771022
               ],
               [
                -83.74078631401062,
                42.27784857223006
               ],
               [
                -83.74110013246536,
                42.285339776523045
               ],
               [
                -83.74064683914185,
                42.286627578610336
               ]
              ]
             ],
             "type": "Polygon"
            },
            "properties": {
             "fill": "#555555",
             "fill-opacity": 0.2,
             "name": "Old Fourth Ward",
             "stroke": "#555555",
             "stroke-opacity": 1,
             "stroke-width": 2
            },
            "type": "Feature"
           },
           {
            "geometry": {
             "coordinates": [
              [
               [
                -83.74578595161437,
                42.28600054729227
               ],
               [
                -83.74793708324432,
                42.285024270918335
               ],
               [
                -83.74831795692444,
                42.28490124314743
               ],
               [
                -83.75076413154602,
                42.28496474138178
               ],
               [
                -83.75112891197205,
                42.27876939342872
               ],
               [
                -83.75111818313599,
                42.27804901074873
               ],
               [
                -83.75044763088226,
                42.27801130454143
               ],
               [
                -83.74621242284775,
                42.27787834036721
               ],
               [
                -83.74578595161437,
                42.28600054729227
               ]
              ]
             ],
             "type": "Polygon"
            },
            "properties": {
             "fill": "#555555",
             "fill-opacity": 0.2,
             "name": "Old West Side",
             "stroke": "#555555",
             "stroke-opacity": 1,
             "stroke-width": 2
            },
            "type": "Feature"
           },
           {
            "geometry": {
             "coordinates": [
              [
               [
                -83.74869346618652,
                42.27795176837871
               ],
               [
                -83.7488865852356,
                42.274736732062486
               ],
               [
                -83.74902606010437,
                42.274093705116904
               ],
               [
                -83.7443161010742,
                42.27419690741436
               ],
               [
                -83.74070048332214,
                42.27422072330514
               ],
               [
                -83.74078631401062,
                42.277864448571634
               ],
               [
                -83.74484181404114,
                42.27782872679749
               ],
               [
                -83.74869346618652,
                42.27795176837871
               ]
              ]
             ],
             "type": "Polygon"
            },
            "properties": {
             "fill": "#555555",
             "fill-opacity": 0.2,
             "name": "Germantown",
             "stroke": "#555555",
             "stroke-opacity": 1,
             "stroke-width": 2
            },
            "type": "Feature"
           },
           {
            "geometry": {
             "coordinates": [
              [
               [
                -83.74071121215819,
                42.27419690741436
               ],
               [
                -83.74901533126831,
                42.274081797148625
               ],
               [
                -83.74939084053038,
                42.272815570349714
               ],
               [
                -83.75006139278412,
                42.270818929076654
               ],
               [
                -83.75012040138245,
                42.27060457416652
               ],
               [
                -83.75020623207092,
                42.269366064856754
               ],
               [
                -83.74750792980194,
                42.269433548362656
               ],
               [
                -83.74714851379395,
                42.26952087985127
               ],
               [
                -83.74059319496155,
                42.26971142086104
               ],
               [
                -83.7406575679779,
                42.27329983564057
               ],
               [
                -83.74071121215819,
                42.27419690741436
               ]
              ]
             ],
             "type": "Polygon"
            },
            "properties": {
             "fill": "#555555",
             "fill-opacity": 0.2,
             "name": "Elbel",
             "stroke": "#555555",
             "stroke-opacity": 1,
             "stroke-width": 2
            },
            "type": "Feature"
           },
           {
            "geometry": {
             "coordinates": [
              [
               [
                -83.74059319496155,
                42.270886411027135
               ],
               [
                -83.74046444892883,
                42.264153738157205
               ],
               [
                -83.73743891716003,
                42.26424901684559
               ],
               [
                -83.73360872268677,
                42.264376054872756
               ],
               [
                -83.74059319496155,
                42.270886411027135
               ]
              ]
             ],
             "type": "Polygon"
            },
            "properties": {
             "fill": "#555555",
             "fill-opacity": 0.2,
             "name": "Yost",
             "stroke": "#555555",
             "stroke-opacity": 1,
             "stroke-width": 2
            },
            "type": "Feature"
           },
           {
            "geometry": {
             "coordinates": [
              [
               [
                -83.74060660600662,
                42.27090427388431
               ],
               [
                -83.73505175113678,
                42.26575360704196
               ],
               [
                -83.73313665390013,
                42.26687706390379
               ],
               [
                -83.73308569192886,
                42.26752611907908
               ],
               [
                -83.73314201831818,
                42.270342583841924
               ],
               [
                -83.73612463474274,
                42.270213573054676
               ],
               [
                -83.7369292974472,
                42.27016990780534
               ],
               [
                -83.73756498098373,
                42.270189755649696
               ],
               [
                -83.73782247304916,
                42.2702254817538
               ],
               [
                -83.73817116022109,
                42.27040014241567
               ],
               [
                -83.73890072107315,
                42.271047176559264
               ],
               [
                -83.74049663543701,
                42.27098961857637
               ],
               [
                -83.74060660600662,
                42.270947938624914
               ],
               [
                -83.74060660600662,
                42.27090427388431
               ]
              ]
             ],
             "type": "Polygon"
            },
            "properties": {
             "fill": "#555555",
             "fill-opacity": 0.2,
             "name": "East Packard",
             "stroke": "#555555",
             "stroke-opacity": 1,
             "stroke-width": 2
            },
            "type": "Feature"
           },
           {
            "geometry": {
             "coordinates": [
              [
               [
                -83.74060928821562,
                42.270965801464634
               ],
               [
                -83.74050468206406,
                42.27099557285289
               ],
               [
                -83.73890608549118,
                42.27105313083037
               ],
               [
                -83.73817384243011,
                42.27040609674786
               ],
               [
                -83.73781710863113,
                42.27022945131967
               ],
               [
                -83.73756766319273,
                42.270195710001786
               ],
               [
                -83.73691856861115,
                42.27017586215929
               ],
               [
                -83.73611390590668,
                42.270221512187675
               ],
               [
                -83.73371869325638,
                42.270322736045685
               ],
               [
                -83.73314470052719,
                42.27034655340042
               ],
               [
                -83.73317152261734,
                42.272152676582884
               ],
               [
                -83.7315461039543,
                42.27220626406256
               ],
               [
                -83.73102307319641,
                42.27222412654568
               ],
               [
                -83.7298509478569,
                42.27237298037469
               ],
               [
                -83.72883707284927,
                42.27241267466973
               ],
               [
                -83.7281933426857,
                42.27242061352573
               ],
               [
                -83.72805923223494,
                42.27243649123474
               ],
               [
                -83.73135834932327,
                42.27506022770578
               ],
               [
                -83.74067902565002,
                42.274947103651236
               ],
               [
                -83.74060928821562,
                42.270965801464634
               ]
              ]
             ],
             "type": "Polygon"
            },
            "properties": {
             "fill": "#555555",
             "fill-opacity": 0.2,
             "name": "Tappan",
             "stroke": "#555555",
             "stroke-opacity": 1,
             "stroke-width": 2
            },
            "type": "Feature"
           },
           {
            "geometry": {
             "coordinates": [
              [
               [
                -83.73315811157227,
                42.272152676582884
               ],
               [
                -83.73308569192886,
                42.26752214934296
               ],
               [
                -83.73313128948212,
                42.266875079015335
               ],
               [
                -83.73297840356827,
                42.26691874654706
               ],
               [
                -83.73265653848648,
                42.26694058030157
               ],
               [
                -83.72790902853012,
                42.26698027801766
               ],
               [
                -83.72708290815353,
                42.26699615709711
               ],
               [
                -83.72697561979294,
                42.26701997570877
               ],
               [
                -83.72683346271515,
                42.26707356755212
               ],
               [
                -83.72659474611282,
                42.26710334077871
               ],
               [
                -83.72547894716263,
                42.267121204707934
               ],
               [
                -83.72550576925278,
                42.26825059173375
               ],
               [
                -83.72544676065445,
                42.269131856834626
               ],
               [
                -83.72515439987183,
                42.270163953450805
               ],
               [
                -83.72805118560791,
                42.272438475948086
               ],
               [
                -83.72818797826767,
                42.27242061352573
               ],
               [
                -83.7288451194763,
                42.27241267466973
               ],
               [
                -83.72985631227493,
                42.27237099565929
               ],
               [
                -83.73101770877838,
                42.27222412654568
               ],
               [
                -83.73315811157227,
                42.272152676582884
               ]
              ]
             ],
             "type": "Polygon"
            },
            "properties": {
             "fill": "#555555",
             "fill-opacity": 0.2,
             "name": "North Burns Park",
             "stroke": "#555555",
             "stroke-opacity": 1,
             "stroke-width": 2
            },
            "type": "Feature"
           },
           {
            "geometry": {
             "coordinates": [
              [
               [
                -83.73131811618805,
                42.27506221233651
               ],
               [
                -83.7257069349289,
                42.27062045233299
               ],
               [
                -83.72454822063446,
                42.27150565378761
               ],
               [
                -83.72421562671661,
                42.27168031090216
               ],
               [
                -83.72402250766754,
                42.271727944576675
               ],
               [
                -83.72388303279877,
                42.271906570535506
               ],
               [
                -83.72384011745453,
                42.27202168477405
               ],
               [
                -83.72387766838074,
                42.27217649324614
               ],
               [
                -83.72456967830658,
                42.27374837312352
               ],
               [
                -83.7244141101837,
                42.27374440377927
               ],
               [
                -83.72349679470062,
                42.27363326203858
               ],
               [
                -83.72323930263519,
                42.27450651329272
               ],
               [
                -83.72315883636475,
                42.27505427381324
               ],
               [
                -83.72301936149597,
                42.2754075371309
               ],
               [
                -83.72463136911392,
                42.27564172183427
               ],
               [
                -83.7261065840721,
                42.275848121190364
               ],
               [
                -83.72609049081802,
                42.275117781971396
               ],
               [
                -83.72634798288344,
                42.27512770511532
               ],
               [
                -83.72852057218552,
                42.27510388956727
               ],
               [
                -83.72861713171005,
                42.275095951049245
               ],
               [
                -83.73131811618805,
                42.27506221233651
               ]
              ]
             ],
             "type": "Polygon"
            },
            "properties": {
             "fill": "#555555",
             "fill-opacity": 0.2,
             "name": "Oxbridge",
             "stroke": "#555555",
             "stroke-opacity": 1,
             "stroke-width": 2
            },
            "type": "Feature"
           },
           {
            "geometry": {
             "coordinates": [
              [
               [
                -83.7316346168518,
                42.277483415270204
               ],
               [
                -83.733469247818,
                42.27742784772125
               ],
               [
                -83.73391449451447,
                42.2773683110073
               ],
               [
                -83.73405665159225,
                42.2773683110073
               ],
               [
                -83.73429536819458,
                42.277400063928404
               ],
               [
                -83.73453140258789,
                42.277501276257695
               ],
               [
                -83.7346413731575,
                42.277386172027384
               ],
               [
                -83.73458236455917,
                42.27502450434206
               ],
               [
                -83.73134225606918,
                42.275064196967165
               ],
               [
                -83.72862249612808,
                42.27510190493786
               ],
               [
                -83.72852593660355,
                42.27510984345513
               ],
               [
                -83.72636944055557,
                42.27513762825771
               ],
               [
                -83.72609853744507,
                42.27511976660032
               ],
               [
                -83.72611463069916,
                42.27585010579626
               ],
               [
                -83.7316346168518,
                42.277483415270204
               ]
              ]
             ],
             "type": "Polygon"
            },
            "properties": {
             "fill": "#555555",
             "fill-opacity": 0.2,
             "name": "South University",
             "stroke": "#555555",
             "stroke-opacity": 1,
             "stroke-width": 2
            },
            "type": "Feature"
           },
           {
            "geometry": {
             "coordinates": [
              [
               [
                -83.71419489383698,
                42.30065478033922
               ],
               [
                -83.71423244476318,
                42.30230926828585
               ],
               [
                -83.72342705726622,
                42.302071215143826
               ],
               [
                -83.72577667236328,
                42.29939702300579
               ],
               [
                -83.72623801231384,
                42.299214507235995
               ],
               [
                -83.72653841972351,
                42.29902405543391
               ],
               [
                -83.72834086418152,
                42.29765119831936
               ],
               [
                -83.72681736946106,
                42.295611696365974
               ],
               [
                -83.7254548072815,
                42.29622276030171
               ],
               [
                -83.72408151626587,
                42.29661161608281
               ],
               [
                -83.72175604104994,
                42.297415111493144
               ],
               [
                -83.72161388397215,
                42.29750042028038
               ],
               [
                -83.72152805328369,
                42.29481016195446
               ],
               [
                -83.7207555770874,
                42.29481016195446
               ],
               [
                -83.72083067893982,
                42.29794481767499
               ],
               [
                -83.7203586101532,
                42.29794481767499
               ],
               [
                -83.71991872787476,
                42.29798449586128
               ],
               [
                -83.71941447257996,
                42.29814320835646
               ],
               [
                -83.71645867824553,
                42.299281958777776
               ],
               [
                -83.71581763029099,
                42.29959144139605
               ],
               [
                -83.71480375528336,
                42.300188579841496
               ],
               [
                -83.71419489383698,
                42.30065478033922
               ]
              ]
             ],
             "type": "Polygon"
            },
            "properties": {
             "fill": "#555555",
             "fill-opacity": 0.2,
             "name": "West Murfin",
             "stroke": "#555555",
             "stroke-opacity": 1,
             "stroke-width": 2
            },
            "type": "Feature"
           }
          ],
          "type": "FeatureCollection"
         },
         "hoverlabel": {
          "namelength": 0
         },
         "hovertemplate": "neighborhood=%{location}<br>price=%{z}",
         "locations": [
          "East Packard",
          "Elbel",
          "Germantown",
          "North Burns Park",
          "North Campus",
          "North Ingalls",
          "Old Fourth Ward",
          "Old West Side",
          "Oxbridge",
          "South University",
          "Tappan",
          "West Murfin",
          "Yost",
          "Other Surrounding Areas"
         ],
         "marker": {
          "opacity": 0.7
         },
         "name": "",
         "subplot": "mapbox",
         "type": "choroplethmapbox",
         "z": [
          1667.76,
          1699.55,
          1408.34,
          2003.04,
          1119.53,
          1405.71,
          1592.33,
          1333.91,
          2027.04,
          1344.17,
          1795.97,
          1282.14,
          1811.85,
          1334.93
         ]
        }
       ],
       "layout": {
        "coloraxis": {
         "colorbar": {
          "title": {
           "text": "price"
          }
         },
         "colorscale": [
          [
           0,
           "green"
          ],
          [
           0.3333333333333333,
           "yellow"
          ],
          [
           0.6666666666666666,
           "orange"
          ],
          [
           1,
           "red"
          ]
         ]
        },
        "legend": {
         "tracegroupgap": 0
        },
        "mapbox": {
         "center": {
          "lat": 42.283497,
          "lon": -83.735136
         },
         "domain": {
          "x": [
           0,
           1
          ],
          "y": [
           0,
           1
          ]
         },
         "style": "carto-positron",
         "zoom": 12.7
        },
        "margin": {
         "b": 0,
         "l": 0,
         "r": 0,
         "t": 0
        },
        "template": {
         "data": {
          "bar": [
           {
            "error_x": {
             "color": "#2a3f5f"
            },
            "error_y": {
             "color": "#2a3f5f"
            },
            "marker": {
             "line": {
              "color": "#E5ECF6",
              "width": 0.5
             }
            },
            "type": "bar"
           }
          ],
          "barpolar": [
           {
            "marker": {
             "line": {
              "color": "#E5ECF6",
              "width": 0.5
             }
            },
            "type": "barpolar"
           }
          ],
          "carpet": [
           {
            "aaxis": {
             "endlinecolor": "#2a3f5f",
             "gridcolor": "white",
             "linecolor": "white",
             "minorgridcolor": "white",
             "startlinecolor": "#2a3f5f"
            },
            "baxis": {
             "endlinecolor": "#2a3f5f",
             "gridcolor": "white",
             "linecolor": "white",
             "minorgridcolor": "white",
             "startlinecolor": "#2a3f5f"
            },
            "type": "carpet"
           }
          ],
          "choropleth": [
           {
            "colorbar": {
             "outlinewidth": 0,
             "ticks": ""
            },
            "type": "choropleth"
           }
          ],
          "contour": [
           {
            "colorbar": {
             "outlinewidth": 0,
             "ticks": ""
            },
            "colorscale": [
             [
              0,
              "#0d0887"
             ],
             [
              0.1111111111111111,
              "#46039f"
             ],
             [
              0.2222222222222222,
              "#7201a8"
             ],
             [
              0.3333333333333333,
              "#9c179e"
             ],
             [
              0.4444444444444444,
              "#bd3786"
             ],
             [
              0.5555555555555556,
              "#d8576b"
             ],
             [
              0.6666666666666666,
              "#ed7953"
             ],
             [
              0.7777777777777778,
              "#fb9f3a"
             ],
             [
              0.8888888888888888,
              "#fdca26"
             ],
             [
              1,
              "#f0f921"
             ]
            ],
            "type": "contour"
           }
          ],
          "contourcarpet": [
           {
            "colorbar": {
             "outlinewidth": 0,
             "ticks": ""
            },
            "type": "contourcarpet"
           }
          ],
          "heatmap": [
           {
            "colorbar": {
             "outlinewidth": 0,
             "ticks": ""
            },
            "colorscale": [
             [
              0,
              "#0d0887"
             ],
             [
              0.1111111111111111,
              "#46039f"
             ],
             [
              0.2222222222222222,
              "#7201a8"
             ],
             [
              0.3333333333333333,
              "#9c179e"
             ],
             [
              0.4444444444444444,
              "#bd3786"
             ],
             [
              0.5555555555555556,
              "#d8576b"
             ],
             [
              0.6666666666666666,
              "#ed7953"
             ],
             [
              0.7777777777777778,
              "#fb9f3a"
             ],
             [
              0.8888888888888888,
              "#fdca26"
             ],
             [
              1,
              "#f0f921"
             ]
            ],
            "type": "heatmap"
           }
          ],
          "heatmapgl": [
           {
            "colorbar": {
             "outlinewidth": 0,
             "ticks": ""
            },
            "colorscale": [
             [
              0,
              "#0d0887"
             ],
             [
              0.1111111111111111,
              "#46039f"
             ],
             [
              0.2222222222222222,
              "#7201a8"
             ],
             [
              0.3333333333333333,
              "#9c179e"
             ],
             [
              0.4444444444444444,
              "#bd3786"
             ],
             [
              0.5555555555555556,
              "#d8576b"
             ],
             [
              0.6666666666666666,
              "#ed7953"
             ],
             [
              0.7777777777777778,
              "#fb9f3a"
             ],
             [
              0.8888888888888888,
              "#fdca26"
             ],
             [
              1,
              "#f0f921"
             ]
            ],
            "type": "heatmapgl"
           }
          ],
          "histogram": [
           {
            "marker": {
             "colorbar": {
              "outlinewidth": 0,
              "ticks": ""
             }
            },
            "type": "histogram"
           }
          ],
          "histogram2d": [
           {
            "colorbar": {
             "outlinewidth": 0,
             "ticks": ""
            },
            "colorscale": [
             [
              0,
              "#0d0887"
             ],
             [
              0.1111111111111111,
              "#46039f"
             ],
             [
              0.2222222222222222,
              "#7201a8"
             ],
             [
              0.3333333333333333,
              "#9c179e"
             ],
             [
              0.4444444444444444,
              "#bd3786"
             ],
             [
              0.5555555555555556,
              "#d8576b"
             ],
             [
              0.6666666666666666,
              "#ed7953"
             ],
             [
              0.7777777777777778,
              "#fb9f3a"
             ],
             [
              0.8888888888888888,
              "#fdca26"
             ],
             [
              1,
              "#f0f921"
             ]
            ],
            "type": "histogram2d"
           }
          ],
          "histogram2dcontour": [
           {
            "colorbar": {
             "outlinewidth": 0,
             "ticks": ""
            },
            "colorscale": [
             [
              0,
              "#0d0887"
             ],
             [
              0.1111111111111111,
              "#46039f"
             ],
             [
              0.2222222222222222,
              "#7201a8"
             ],
             [
              0.3333333333333333,
              "#9c179e"
             ],
             [
              0.4444444444444444,
              "#bd3786"
             ],
             [
              0.5555555555555556,
              "#d8576b"
             ],
             [
              0.6666666666666666,
              "#ed7953"
             ],
             [
              0.7777777777777778,
              "#fb9f3a"
             ],
             [
              0.8888888888888888,
              "#fdca26"
             ],
             [
              1,
              "#f0f921"
             ]
            ],
            "type": "histogram2dcontour"
           }
          ],
          "mesh3d": [
           {
            "colorbar": {
             "outlinewidth": 0,
             "ticks": ""
            },
            "type": "mesh3d"
           }
          ],
          "parcoords": [
           {
            "line": {
             "colorbar": {
              "outlinewidth": 0,
              "ticks": ""
             }
            },
            "type": "parcoords"
           }
          ],
          "pie": [
           {
            "automargin": true,
            "type": "pie"
           }
          ],
          "scatter": [
           {
            "marker": {
             "colorbar": {
              "outlinewidth": 0,
              "ticks": ""
             }
            },
            "type": "scatter"
           }
          ],
          "scatter3d": [
           {
            "line": {
             "colorbar": {
              "outlinewidth": 0,
              "ticks": ""
             }
            },
            "marker": {
             "colorbar": {
              "outlinewidth": 0,
              "ticks": ""
             }
            },
            "type": "scatter3d"
           }
          ],
          "scattercarpet": [
           {
            "marker": {
             "colorbar": {
              "outlinewidth": 0,
              "ticks": ""
             }
            },
            "type": "scattercarpet"
           }
          ],
          "scattergeo": [
           {
            "marker": {
             "colorbar": {
              "outlinewidth": 0,
              "ticks": ""
             }
            },
            "type": "scattergeo"
           }
          ],
          "scattergl": [
           {
            "marker": {
             "colorbar": {
              "outlinewidth": 0,
              "ticks": ""
             }
            },
            "type": "scattergl"
           }
          ],
          "scattermapbox": [
           {
            "marker": {
             "colorbar": {
              "outlinewidth": 0,
              "ticks": ""
             }
            },
            "type": "scattermapbox"
           }
          ],
          "scatterpolar": [
           {
            "marker": {
             "colorbar": {
              "outlinewidth": 0,
              "ticks": ""
             }
            },
            "type": "scatterpolar"
           }
          ],
          "scatterpolargl": [
           {
            "marker": {
             "colorbar": {
              "outlinewidth": 0,
              "ticks": ""
             }
            },
            "type": "scatterpolargl"
           }
          ],
          "scatterternary": [
           {
            "marker": {
             "colorbar": {
              "outlinewidth": 0,
              "ticks": ""
             }
            },
            "type": "scatterternary"
           }
          ],
          "surface": [
           {
            "colorbar": {
             "outlinewidth": 0,
             "ticks": ""
            },
            "colorscale": [
             [
              0,
              "#0d0887"
             ],
             [
              0.1111111111111111,
              "#46039f"
             ],
             [
              0.2222222222222222,
              "#7201a8"
             ],
             [
              0.3333333333333333,
              "#9c179e"
             ],
             [
              0.4444444444444444,
              "#bd3786"
             ],
             [
              0.5555555555555556,
              "#d8576b"
             ],
             [
              0.6666666666666666,
              "#ed7953"
             ],
             [
              0.7777777777777778,
              "#fb9f3a"
             ],
             [
              0.8888888888888888,
              "#fdca26"
             ],
             [
              1,
              "#f0f921"
             ]
            ],
            "type": "surface"
           }
          ],
          "table": [
           {
            "cells": {
             "fill": {
              "color": "#EBF0F8"
             },
             "line": {
              "color": "white"
             }
            },
            "header": {
             "fill": {
              "color": "#C8D4E3"
             },
             "line": {
              "color": "white"
             }
            },
            "type": "table"
           }
          ]
         },
         "layout": {
          "annotationdefaults": {
           "arrowcolor": "#2a3f5f",
           "arrowhead": 0,
           "arrowwidth": 1
          },
          "coloraxis": {
           "colorbar": {
            "outlinewidth": 0,
            "ticks": ""
           }
          },
          "colorscale": {
           "diverging": [
            [
             0,
             "#8e0152"
            ],
            [
             0.1,
             "#c51b7d"
            ],
            [
             0.2,
             "#de77ae"
            ],
            [
             0.3,
             "#f1b6da"
            ],
            [
             0.4,
             "#fde0ef"
            ],
            [
             0.5,
             "#f7f7f7"
            ],
            [
             0.6,
             "#e6f5d0"
            ],
            [
             0.7,
             "#b8e186"
            ],
            [
             0.8,
             "#7fbc41"
            ],
            [
             0.9,
             "#4d9221"
            ],
            [
             1,
             "#276419"
            ]
           ],
           "sequential": [
            [
             0,
             "#0d0887"
            ],
            [
             0.1111111111111111,
             "#46039f"
            ],
            [
             0.2222222222222222,
             "#7201a8"
            ],
            [
             0.3333333333333333,
             "#9c179e"
            ],
            [
             0.4444444444444444,
             "#bd3786"
            ],
            [
             0.5555555555555556,
             "#d8576b"
            ],
            [
             0.6666666666666666,
             "#ed7953"
            ],
            [
             0.7777777777777778,
             "#fb9f3a"
            ],
            [
             0.8888888888888888,
             "#fdca26"
            ],
            [
             1,
             "#f0f921"
            ]
           ],
           "sequentialminus": [
            [
             0,
             "#0d0887"
            ],
            [
             0.1111111111111111,
             "#46039f"
            ],
            [
             0.2222222222222222,
             "#7201a8"
            ],
            [
             0.3333333333333333,
             "#9c179e"
            ],
            [
             0.4444444444444444,
             "#bd3786"
            ],
            [
             0.5555555555555556,
             "#d8576b"
            ],
            [
             0.6666666666666666,
             "#ed7953"
            ],
            [
             0.7777777777777778,
             "#fb9f3a"
            ],
            [
             0.8888888888888888,
             "#fdca26"
            ],
            [
             1,
             "#f0f921"
            ]
           ]
          },
          "colorway": [
           "#636efa",
           "#EF553B",
           "#00cc96",
           "#ab63fa",
           "#FFA15A",
           "#19d3f3",
           "#FF6692",
           "#B6E880",
           "#FF97FF",
           "#FECB52"
          ],
          "font": {
           "color": "#2a3f5f"
          },
          "geo": {
           "bgcolor": "white",
           "lakecolor": "white",
           "landcolor": "#E5ECF6",
           "showlakes": true,
           "showland": true,
           "subunitcolor": "white"
          },
          "hoverlabel": {
           "align": "left"
          },
          "hovermode": "closest",
          "mapbox": {
           "style": "light"
          },
          "paper_bgcolor": "white",
          "plot_bgcolor": "#E5ECF6",
          "polar": {
           "angularaxis": {
            "gridcolor": "white",
            "linecolor": "white",
            "ticks": ""
           },
           "bgcolor": "#E5ECF6",
           "radialaxis": {
            "gridcolor": "white",
            "linecolor": "white",
            "ticks": ""
           }
          },
          "scene": {
           "xaxis": {
            "backgroundcolor": "#E5ECF6",
            "gridcolor": "white",
            "gridwidth": 2,
            "linecolor": "white",
            "showbackground": true,
            "ticks": "",
            "zerolinecolor": "white"
           },
           "yaxis": {
            "backgroundcolor": "#E5ECF6",
            "gridcolor": "white",
            "gridwidth": 2,
            "linecolor": "white",
            "showbackground": true,
            "ticks": "",
            "zerolinecolor": "white"
           },
           "zaxis": {
            "backgroundcolor": "#E5ECF6",
            "gridcolor": "white",
            "gridwidth": 2,
            "linecolor": "white",
            "showbackground": true,
            "ticks": "",
            "zerolinecolor": "white"
           }
          },
          "shapedefaults": {
           "line": {
            "color": "#2a3f5f"
           }
          },
          "ternary": {
           "aaxis": {
            "gridcolor": "white",
            "linecolor": "white",
            "ticks": ""
           },
           "baxis": {
            "gridcolor": "white",
            "linecolor": "white",
            "ticks": ""
           },
           "bgcolor": "#E5ECF6",
           "caxis": {
            "gridcolor": "white",
            "linecolor": "white",
            "ticks": ""
           }
          },
          "title": {
           "x": 0.05
          },
          "xaxis": {
           "automargin": true,
           "gridcolor": "white",
           "linecolor": "white",
           "ticks": "",
           "title": {
            "standoff": 15
           },
           "zerolinecolor": "white",
           "zerolinewidth": 2
          },
          "yaxis": {
           "automargin": true,
           "gridcolor": "white",
           "linecolor": "white",
           "ticks": "",
           "title": {
            "standoff": 15
           },
           "zerolinecolor": "white",
           "zerolinewidth": 2
          }
         }
        }
       }
      },
      "text/html": [
       "<div>\n",
       "        \n",
       "        \n",
       "            <div id=\"d1e2f1d1-7358-4060-b8b9-c3c5ac06403a\" class=\"plotly-graph-div\" style=\"height:525px; width:100%;\"></div>\n",
       "            <script type=\"text/javascript\">\n",
       "                require([\"plotly\"], function(Plotly) {\n",
       "                    window.PLOTLYENV=window.PLOTLYENV || {};\n",
       "                    \n",
       "                if (document.getElementById(\"d1e2f1d1-7358-4060-b8b9-c3c5ac06403a\")) {\n",
       "                    Plotly.newPlot(\n",
       "                        'd1e2f1d1-7358-4060-b8b9-c3c5ac06403a',\n",
       "                        [{\"coloraxis\": \"coloraxis\", \"featureidkey\": \"properties.name\", \"geojson\": {\"features\": [{\"geometry\": {\"coordinates\": [[[-83.74064683914185, 42.28661964154404], [-83.74109745025635, 42.285341760830015], [-83.74090433120728, 42.28121426717874], [-83.73557209968567, 42.28135317761194], [-83.73567938804626, 42.28315898537478], [-83.73575448989867, 42.28427816332788], [-83.73569011688232, 42.284619468960436], [-83.73555064201355, 42.28488933722137], [-83.73505711555481, 42.285349698057324], [-83.73523950576782, 42.285476693558], [-83.73546481132507, 42.28557194001549], [-83.73573303222656, 42.28561956319025], [-83.7363338470459, 42.285627500382546], [-83.73695611953735, 42.285714809431745], [-83.73817920684814, 42.285976735853396], [-83.74064683914185, 42.28661964154404]]], \"type\": \"Polygon\"}, \"properties\": {\"fill\": \"#555555\", \"fill-opacity\": 0.2, \"name\": \"North Ingalls\", \"stroke\": \"#555555\", \"stroke-opacity\": 1, \"stroke-width\": 2}, \"type\": \"Feature\"}, {\"geometry\": {\"coordinates\": [[[-83.74064683914185, 42.286627578610336], [-83.74265313148499, 42.287413343223214], [-83.74577522277832, 42.28600054729227], [-83.7462043762207, 42.27790413940801], [-83.74484181404114, 42.27782475771022], [-83.74078631401062, 42.27784857223006], [-83.74110013246536, 42.285339776523045], [-83.74064683914185, 42.286627578610336]]], \"type\": \"Polygon\"}, \"properties\": {\"fill\": \"#555555\", \"fill-opacity\": 0.2, \"name\": \"Old Fourth Ward\", \"stroke\": \"#555555\", \"stroke-opacity\": 1, \"stroke-width\": 2}, \"type\": \"Feature\"}, {\"geometry\": {\"coordinates\": [[[-83.74578595161437, 42.28600054729227], [-83.74793708324432, 42.285024270918335], [-83.74831795692444, 42.28490124314743], [-83.75076413154602, 42.28496474138178], [-83.75112891197205, 42.27876939342872], [-83.75111818313599, 42.27804901074873], [-83.75044763088226, 42.27801130454143], [-83.74621242284775, 42.27787834036721], [-83.74578595161437, 42.28600054729227]]], \"type\": \"Polygon\"}, \"properties\": {\"fill\": \"#555555\", \"fill-opacity\": 0.2, \"name\": \"Old West Side\", \"stroke\": \"#555555\", \"stroke-opacity\": 1, \"stroke-width\": 2}, \"type\": \"Feature\"}, {\"geometry\": {\"coordinates\": [[[-83.74869346618652, 42.27795176837871], [-83.7488865852356, 42.274736732062486], [-83.74902606010437, 42.274093705116904], [-83.7443161010742, 42.27419690741436], [-83.74070048332214, 42.27422072330514], [-83.74078631401062, 42.277864448571634], [-83.74484181404114, 42.27782872679749], [-83.74869346618652, 42.27795176837871]]], \"type\": \"Polygon\"}, \"properties\": {\"fill\": \"#555555\", \"fill-opacity\": 0.2, \"name\": \"Germantown\", \"stroke\": \"#555555\", \"stroke-opacity\": 1, \"stroke-width\": 2}, \"type\": \"Feature\"}, {\"geometry\": {\"coordinates\": [[[-83.74071121215819, 42.27419690741436], [-83.74901533126831, 42.274081797148625], [-83.74939084053038, 42.272815570349714], [-83.75006139278412, 42.270818929076654], [-83.75012040138245, 42.27060457416652], [-83.75020623207092, 42.269366064856754], [-83.74750792980194, 42.269433548362656], [-83.74714851379395, 42.26952087985127], [-83.74059319496155, 42.26971142086104], [-83.7406575679779, 42.27329983564057], [-83.74071121215819, 42.27419690741436]]], \"type\": \"Polygon\"}, \"properties\": {\"fill\": \"#555555\", \"fill-opacity\": 0.2, \"name\": \"Elbel\", \"stroke\": \"#555555\", \"stroke-opacity\": 1, \"stroke-width\": 2}, \"type\": \"Feature\"}, {\"geometry\": {\"coordinates\": [[[-83.74059319496155, 42.270886411027135], [-83.74046444892883, 42.264153738157205], [-83.73743891716003, 42.26424901684559], [-83.73360872268677, 42.264376054872756], [-83.74059319496155, 42.270886411027135]]], \"type\": \"Polygon\"}, \"properties\": {\"fill\": \"#555555\", \"fill-opacity\": 0.2, \"name\": \"Yost\", \"stroke\": \"#555555\", \"stroke-opacity\": 1, \"stroke-width\": 2}, \"type\": \"Feature\"}, {\"geometry\": {\"coordinates\": [[[-83.74060660600662, 42.27090427388431], [-83.73505175113678, 42.26575360704196], [-83.73313665390013, 42.26687706390379], [-83.73308569192886, 42.26752611907908], [-83.73314201831818, 42.270342583841924], [-83.73612463474274, 42.270213573054676], [-83.7369292974472, 42.27016990780534], [-83.73756498098373, 42.270189755649696], [-83.73782247304916, 42.2702254817538], [-83.73817116022109, 42.27040014241567], [-83.73890072107315, 42.271047176559264], [-83.74049663543701, 42.27098961857637], [-83.74060660600662, 42.270947938624914], [-83.74060660600662, 42.27090427388431]]], \"type\": \"Polygon\"}, \"properties\": {\"fill\": \"#555555\", \"fill-opacity\": 0.2, \"name\": \"East Packard\", \"stroke\": \"#555555\", \"stroke-opacity\": 1, \"stroke-width\": 2}, \"type\": \"Feature\"}, {\"geometry\": {\"coordinates\": [[[-83.74060928821562, 42.270965801464634], [-83.74050468206406, 42.27099557285289], [-83.73890608549118, 42.27105313083037], [-83.73817384243011, 42.27040609674786], [-83.73781710863113, 42.27022945131967], [-83.73756766319273, 42.270195710001786], [-83.73691856861115, 42.27017586215929], [-83.73611390590668, 42.270221512187675], [-83.73371869325638, 42.270322736045685], [-83.73314470052719, 42.27034655340042], [-83.73317152261734, 42.272152676582884], [-83.7315461039543, 42.27220626406256], [-83.73102307319641, 42.27222412654568], [-83.7298509478569, 42.27237298037469], [-83.72883707284927, 42.27241267466973], [-83.7281933426857, 42.27242061352573], [-83.72805923223494, 42.27243649123474], [-83.73135834932327, 42.27506022770578], [-83.74067902565002, 42.274947103651236], [-83.74060928821562, 42.270965801464634]]], \"type\": \"Polygon\"}, \"properties\": {\"fill\": \"#555555\", \"fill-opacity\": 0.2, \"name\": \"Tappan\", \"stroke\": \"#555555\", \"stroke-opacity\": 1, \"stroke-width\": 2}, \"type\": \"Feature\"}, {\"geometry\": {\"coordinates\": [[[-83.73315811157227, 42.272152676582884], [-83.73308569192886, 42.26752214934296], [-83.73313128948212, 42.266875079015335], [-83.73297840356827, 42.26691874654706], [-83.73265653848648, 42.26694058030157], [-83.72790902853012, 42.26698027801766], [-83.72708290815353, 42.26699615709711], [-83.72697561979294, 42.26701997570877], [-83.72683346271515, 42.26707356755212], [-83.72659474611282, 42.26710334077871], [-83.72547894716263, 42.267121204707934], [-83.72550576925278, 42.26825059173375], [-83.72544676065445, 42.269131856834626], [-83.72515439987183, 42.270163953450805], [-83.72805118560791, 42.272438475948086], [-83.72818797826767, 42.27242061352573], [-83.7288451194763, 42.27241267466973], [-83.72985631227493, 42.27237099565929], [-83.73101770877838, 42.27222412654568], [-83.73315811157227, 42.272152676582884]]], \"type\": \"Polygon\"}, \"properties\": {\"fill\": \"#555555\", \"fill-opacity\": 0.2, \"name\": \"North Burns Park\", \"stroke\": \"#555555\", \"stroke-opacity\": 1, \"stroke-width\": 2}, \"type\": \"Feature\"}, {\"geometry\": {\"coordinates\": [[[-83.73131811618805, 42.27506221233651], [-83.7257069349289, 42.27062045233299], [-83.72454822063446, 42.27150565378761], [-83.72421562671661, 42.27168031090216], [-83.72402250766754, 42.271727944576675], [-83.72388303279877, 42.271906570535506], [-83.72384011745453, 42.27202168477405], [-83.72387766838074, 42.27217649324614], [-83.72456967830658, 42.27374837312352], [-83.7244141101837, 42.27374440377927], [-83.72349679470062, 42.27363326203858], [-83.72323930263519, 42.27450651329272], [-83.72315883636475, 42.27505427381324], [-83.72301936149597, 42.2754075371309], [-83.72463136911392, 42.27564172183427], [-83.7261065840721, 42.275848121190364], [-83.72609049081802, 42.275117781971396], [-83.72634798288344, 42.27512770511532], [-83.72852057218552, 42.27510388956727], [-83.72861713171005, 42.275095951049245], [-83.73131811618805, 42.27506221233651]]], \"type\": \"Polygon\"}, \"properties\": {\"fill\": \"#555555\", \"fill-opacity\": 0.2, \"name\": \"Oxbridge\", \"stroke\": \"#555555\", \"stroke-opacity\": 1, \"stroke-width\": 2}, \"type\": \"Feature\"}, {\"geometry\": {\"coordinates\": [[[-83.7316346168518, 42.277483415270204], [-83.733469247818, 42.27742784772125], [-83.73391449451447, 42.2773683110073], [-83.73405665159225, 42.2773683110073], [-83.73429536819458, 42.277400063928404], [-83.73453140258789, 42.277501276257695], [-83.7346413731575, 42.277386172027384], [-83.73458236455917, 42.27502450434206], [-83.73134225606918, 42.275064196967165], [-83.72862249612808, 42.27510190493786], [-83.72852593660355, 42.27510984345513], [-83.72636944055557, 42.27513762825771], [-83.72609853744507, 42.27511976660032], [-83.72611463069916, 42.27585010579626], [-83.7316346168518, 42.277483415270204]]], \"type\": \"Polygon\"}, \"properties\": {\"fill\": \"#555555\", \"fill-opacity\": 0.2, \"name\": \"South University\", \"stroke\": \"#555555\", \"stroke-opacity\": 1, \"stroke-width\": 2}, \"type\": \"Feature\"}, {\"geometry\": {\"coordinates\": [[[-83.71419489383698, 42.30065478033922], [-83.71423244476318, 42.30230926828585], [-83.72342705726622, 42.302071215143826], [-83.72577667236328, 42.29939702300579], [-83.72623801231384, 42.299214507235995], [-83.72653841972351, 42.29902405543391], [-83.72834086418152, 42.29765119831936], [-83.72681736946106, 42.295611696365974], [-83.7254548072815, 42.29622276030171], [-83.72408151626587, 42.29661161608281], [-83.72175604104994, 42.297415111493144], [-83.72161388397215, 42.29750042028038], [-83.72152805328369, 42.29481016195446], [-83.7207555770874, 42.29481016195446], [-83.72083067893982, 42.29794481767499], [-83.7203586101532, 42.29794481767499], [-83.71991872787476, 42.29798449586128], [-83.71941447257996, 42.29814320835646], [-83.71645867824553, 42.299281958777776], [-83.71581763029099, 42.29959144139605], [-83.71480375528336, 42.300188579841496], [-83.71419489383698, 42.30065478033922]]], \"type\": \"Polygon\"}, \"properties\": {\"fill\": \"#555555\", \"fill-opacity\": 0.2, \"name\": \"West Murfin\", \"stroke\": \"#555555\", \"stroke-opacity\": 1, \"stroke-width\": 2}, \"type\": \"Feature\"}], \"type\": \"FeatureCollection\"}, \"hoverlabel\": {\"namelength\": 0}, \"hovertemplate\": \"neighborhood=%{location}<br>price=%{z}\", \"locations\": [\"East Packard\", \"Elbel\", \"Germantown\", \"North Burns Park\", \"North Campus\", \"North Ingalls\", \"Old Fourth Ward\", \"Old West Side\", \"Oxbridge\", \"South University\", \"Tappan\", \"West Murfin\", \"Yost\", \"Other Surrounding Areas\"], \"marker\": {\"opacity\": 0.7}, \"name\": \"\", \"subplot\": \"mapbox\", \"type\": \"choroplethmapbox\", \"z\": [1667.76, 1699.55, 1408.34, 2003.04, 1119.53, 1405.71, 1592.33, 1333.91, 2027.04, 1344.17, 1795.97, 1282.14, 1811.85, 1334.93]}],\n",
       "                        {\"coloraxis\": {\"colorbar\": {\"title\": {\"text\": \"price\"}}, \"colorscale\": [[0.0, \"green\"], [0.3333333333333333, \"yellow\"], [0.6666666666666666, \"orange\"], [1.0, \"red\"]]}, \"legend\": {\"tracegroupgap\": 0}, \"mapbox\": {\"center\": {\"lat\": 42.283497, \"lon\": -83.735136}, \"domain\": {\"x\": [0.0, 1.0], \"y\": [0.0, 1.0]}, \"style\": \"carto-positron\", \"zoom\": 12.7}, \"margin\": {\"b\": 0, \"l\": 0, \"r\": 0, \"t\": 0}, \"template\": {\"data\": {\"bar\": [{\"error_x\": {\"color\": \"#2a3f5f\"}, \"error_y\": {\"color\": \"#2a3f5f\"}, \"marker\": {\"line\": {\"color\": \"#E5ECF6\", \"width\": 0.5}}, \"type\": \"bar\"}], \"barpolar\": [{\"marker\": {\"line\": {\"color\": \"#E5ECF6\", \"width\": 0.5}}, \"type\": \"barpolar\"}], \"carpet\": [{\"aaxis\": {\"endlinecolor\": \"#2a3f5f\", \"gridcolor\": \"white\", \"linecolor\": \"white\", \"minorgridcolor\": \"white\", \"startlinecolor\": \"#2a3f5f\"}, \"baxis\": {\"endlinecolor\": \"#2a3f5f\", \"gridcolor\": \"white\", \"linecolor\": \"white\", \"minorgridcolor\": \"white\", \"startlinecolor\": \"#2a3f5f\"}, \"type\": \"carpet\"}], \"choropleth\": [{\"colorbar\": {\"outlinewidth\": 0, \"ticks\": \"\"}, \"type\": \"choropleth\"}], \"contour\": [{\"colorbar\": {\"outlinewidth\": 0, \"ticks\": \"\"}, \"colorscale\": [[0.0, \"#0d0887\"], [0.1111111111111111, \"#46039f\"], [0.2222222222222222, \"#7201a8\"], [0.3333333333333333, \"#9c179e\"], [0.4444444444444444, \"#bd3786\"], [0.5555555555555556, \"#d8576b\"], [0.6666666666666666, \"#ed7953\"], [0.7777777777777778, \"#fb9f3a\"], [0.8888888888888888, \"#fdca26\"], [1.0, \"#f0f921\"]], \"type\": \"contour\"}], \"contourcarpet\": [{\"colorbar\": {\"outlinewidth\": 0, \"ticks\": \"\"}, \"type\": \"contourcarpet\"}], \"heatmap\": [{\"colorbar\": {\"outlinewidth\": 0, \"ticks\": \"\"}, \"colorscale\": [[0.0, \"#0d0887\"], [0.1111111111111111, \"#46039f\"], [0.2222222222222222, \"#7201a8\"], [0.3333333333333333, \"#9c179e\"], [0.4444444444444444, \"#bd3786\"], [0.5555555555555556, \"#d8576b\"], [0.6666666666666666, \"#ed7953\"], [0.7777777777777778, \"#fb9f3a\"], [0.8888888888888888, \"#fdca26\"], [1.0, \"#f0f921\"]], \"type\": \"heatmap\"}], \"heatmapgl\": [{\"colorbar\": {\"outlinewidth\": 0, \"ticks\": \"\"}, \"colorscale\": [[0.0, \"#0d0887\"], [0.1111111111111111, \"#46039f\"], [0.2222222222222222, \"#7201a8\"], [0.3333333333333333, \"#9c179e\"], [0.4444444444444444, \"#bd3786\"], [0.5555555555555556, \"#d8576b\"], [0.6666666666666666, \"#ed7953\"], [0.7777777777777778, \"#fb9f3a\"], [0.8888888888888888, \"#fdca26\"], [1.0, \"#f0f921\"]], \"type\": \"heatmapgl\"}], \"histogram\": [{\"marker\": {\"colorbar\": {\"outlinewidth\": 0, \"ticks\": \"\"}}, \"type\": \"histogram\"}], \"histogram2d\": [{\"colorbar\": {\"outlinewidth\": 0, \"ticks\": \"\"}, \"colorscale\": [[0.0, \"#0d0887\"], [0.1111111111111111, \"#46039f\"], [0.2222222222222222, \"#7201a8\"], [0.3333333333333333, \"#9c179e\"], [0.4444444444444444, \"#bd3786\"], [0.5555555555555556, \"#d8576b\"], [0.6666666666666666, \"#ed7953\"], [0.7777777777777778, \"#fb9f3a\"], [0.8888888888888888, \"#fdca26\"], [1.0, \"#f0f921\"]], \"type\": \"histogram2d\"}], \"histogram2dcontour\": [{\"colorbar\": {\"outlinewidth\": 0, \"ticks\": \"\"}, \"colorscale\": [[0.0, \"#0d0887\"], [0.1111111111111111, \"#46039f\"], [0.2222222222222222, \"#7201a8\"], [0.3333333333333333, \"#9c179e\"], [0.4444444444444444, \"#bd3786\"], [0.5555555555555556, \"#d8576b\"], [0.6666666666666666, \"#ed7953\"], [0.7777777777777778, \"#fb9f3a\"], [0.8888888888888888, \"#fdca26\"], [1.0, \"#f0f921\"]], \"type\": \"histogram2dcontour\"}], \"mesh3d\": [{\"colorbar\": {\"outlinewidth\": 0, \"ticks\": \"\"}, \"type\": \"mesh3d\"}], \"parcoords\": [{\"line\": {\"colorbar\": {\"outlinewidth\": 0, \"ticks\": \"\"}}, \"type\": \"parcoords\"}], \"pie\": [{\"automargin\": true, \"type\": \"pie\"}], \"scatter\": [{\"marker\": {\"colorbar\": {\"outlinewidth\": 0, \"ticks\": \"\"}}, \"type\": \"scatter\"}], \"scatter3d\": [{\"line\": {\"colorbar\": {\"outlinewidth\": 0, \"ticks\": \"\"}}, \"marker\": {\"colorbar\": {\"outlinewidth\": 0, \"ticks\": \"\"}}, \"type\": \"scatter3d\"}], \"scattercarpet\": [{\"marker\": {\"colorbar\": {\"outlinewidth\": 0, \"ticks\": \"\"}}, \"type\": \"scattercarpet\"}], \"scattergeo\": [{\"marker\": {\"colorbar\": {\"outlinewidth\": 0, \"ticks\": \"\"}}, \"type\": \"scattergeo\"}], \"scattergl\": [{\"marker\": {\"colorbar\": {\"outlinewidth\": 0, \"ticks\": \"\"}}, \"type\": \"scattergl\"}], \"scattermapbox\": [{\"marker\": {\"colorbar\": {\"outlinewidth\": 0, \"ticks\": \"\"}}, \"type\": \"scattermapbox\"}], \"scatterpolar\": [{\"marker\": {\"colorbar\": {\"outlinewidth\": 0, \"ticks\": \"\"}}, \"type\": \"scatterpolar\"}], \"scatterpolargl\": [{\"marker\": {\"colorbar\": {\"outlinewidth\": 0, \"ticks\": \"\"}}, \"type\": \"scatterpolargl\"}], \"scatterternary\": [{\"marker\": {\"colorbar\": {\"outlinewidth\": 0, \"ticks\": \"\"}}, \"type\": \"scatterternary\"}], \"surface\": [{\"colorbar\": {\"outlinewidth\": 0, \"ticks\": \"\"}, \"colorscale\": [[0.0, \"#0d0887\"], [0.1111111111111111, \"#46039f\"], [0.2222222222222222, \"#7201a8\"], [0.3333333333333333, \"#9c179e\"], [0.4444444444444444, \"#bd3786\"], [0.5555555555555556, \"#d8576b\"], [0.6666666666666666, \"#ed7953\"], [0.7777777777777778, \"#fb9f3a\"], [0.8888888888888888, \"#fdca26\"], [1.0, \"#f0f921\"]], \"type\": \"surface\"}], \"table\": [{\"cells\": {\"fill\": {\"color\": \"#EBF0F8\"}, \"line\": {\"color\": \"white\"}}, \"header\": {\"fill\": {\"color\": \"#C8D4E3\"}, \"line\": {\"color\": \"white\"}}, \"type\": \"table\"}]}, \"layout\": {\"annotationdefaults\": {\"arrowcolor\": \"#2a3f5f\", \"arrowhead\": 0, \"arrowwidth\": 1}, \"coloraxis\": {\"colorbar\": {\"outlinewidth\": 0, \"ticks\": \"\"}}, \"colorscale\": {\"diverging\": [[0, \"#8e0152\"], [0.1, \"#c51b7d\"], [0.2, \"#de77ae\"], [0.3, \"#f1b6da\"], [0.4, \"#fde0ef\"], [0.5, \"#f7f7f7\"], [0.6, \"#e6f5d0\"], [0.7, \"#b8e186\"], [0.8, \"#7fbc41\"], [0.9, \"#4d9221\"], [1, \"#276419\"]], \"sequential\": [[0.0, \"#0d0887\"], [0.1111111111111111, \"#46039f\"], [0.2222222222222222, \"#7201a8\"], [0.3333333333333333, \"#9c179e\"], [0.4444444444444444, \"#bd3786\"], [0.5555555555555556, \"#d8576b\"], [0.6666666666666666, \"#ed7953\"], [0.7777777777777778, \"#fb9f3a\"], [0.8888888888888888, \"#fdca26\"], [1.0, \"#f0f921\"]], \"sequentialminus\": [[0.0, \"#0d0887\"], [0.1111111111111111, \"#46039f\"], [0.2222222222222222, \"#7201a8\"], [0.3333333333333333, \"#9c179e\"], [0.4444444444444444, \"#bd3786\"], [0.5555555555555556, \"#d8576b\"], [0.6666666666666666, \"#ed7953\"], [0.7777777777777778, \"#fb9f3a\"], [0.8888888888888888, \"#fdca26\"], [1.0, \"#f0f921\"]]}, \"colorway\": [\"#636efa\", \"#EF553B\", \"#00cc96\", \"#ab63fa\", \"#FFA15A\", \"#19d3f3\", \"#FF6692\", \"#B6E880\", \"#FF97FF\", \"#FECB52\"], \"font\": {\"color\": \"#2a3f5f\"}, \"geo\": {\"bgcolor\": \"white\", \"lakecolor\": \"white\", \"landcolor\": \"#E5ECF6\", \"showlakes\": true, \"showland\": true, \"subunitcolor\": \"white\"}, \"hoverlabel\": {\"align\": \"left\"}, \"hovermode\": \"closest\", \"mapbox\": {\"style\": \"light\"}, \"paper_bgcolor\": \"white\", \"plot_bgcolor\": \"#E5ECF6\", \"polar\": {\"angularaxis\": {\"gridcolor\": \"white\", \"linecolor\": \"white\", \"ticks\": \"\"}, \"bgcolor\": \"#E5ECF6\", \"radialaxis\": {\"gridcolor\": \"white\", \"linecolor\": \"white\", \"ticks\": \"\"}}, \"scene\": {\"xaxis\": {\"backgroundcolor\": \"#E5ECF6\", \"gridcolor\": \"white\", \"gridwidth\": 2, \"linecolor\": \"white\", \"showbackground\": true, \"ticks\": \"\", \"zerolinecolor\": \"white\"}, \"yaxis\": {\"backgroundcolor\": \"#E5ECF6\", \"gridcolor\": \"white\", \"gridwidth\": 2, \"linecolor\": \"white\", \"showbackground\": true, \"ticks\": \"\", \"zerolinecolor\": \"white\"}, \"zaxis\": {\"backgroundcolor\": \"#E5ECF6\", \"gridcolor\": \"white\", \"gridwidth\": 2, \"linecolor\": \"white\", \"showbackground\": true, \"ticks\": \"\", \"zerolinecolor\": \"white\"}}, \"shapedefaults\": {\"line\": {\"color\": \"#2a3f5f\"}}, \"ternary\": {\"aaxis\": {\"gridcolor\": \"white\", \"linecolor\": \"white\", \"ticks\": \"\"}, \"baxis\": {\"gridcolor\": \"white\", \"linecolor\": \"white\", \"ticks\": \"\"}, \"bgcolor\": \"#E5ECF6\", \"caxis\": {\"gridcolor\": \"white\", \"linecolor\": \"white\", \"ticks\": \"\"}}, \"title\": {\"x\": 0.05}, \"xaxis\": {\"automargin\": true, \"gridcolor\": \"white\", \"linecolor\": \"white\", \"ticks\": \"\", \"title\": {\"standoff\": 15}, \"zerolinecolor\": \"white\", \"zerolinewidth\": 2}, \"yaxis\": {\"automargin\": true, \"gridcolor\": \"white\", \"linecolor\": \"white\", \"ticks\": \"\", \"title\": {\"standoff\": 15}, \"zerolinecolor\": \"white\", \"zerolinewidth\": 2}}}},\n",
       "                        {\"responsive\": true}\n",
       "                    ).then(function(){\n",
       "                            \n",
       "var gd = document.getElementById('d1e2f1d1-7358-4060-b8b9-c3c5ac06403a');\n",
       "var x = new MutationObserver(function (mutations, observer) {{\n",
       "        var display = window.getComputedStyle(gd).display;\n",
       "        if (!display || display === 'none') {{\n",
       "            console.log([gd, 'removed!']);\n",
       "            Plotly.purge(gd);\n",
       "            observer.disconnect();\n",
       "        }}\n",
       "}});\n",
       "\n",
       "// Listen for the removal of the full notebook cells\n",
       "var notebookContainer = gd.closest('#notebook-container');\n",
       "if (notebookContainer) {{\n",
       "    x.observe(notebookContainer, {childList: true});\n",
       "}}\n",
       "\n",
       "// Listen for the clearing of the current output cell\n",
       "var outputEl = gd.closest('.output');\n",
       "if (outputEl) {{\n",
       "    x.observe(outputEl, {childList: true});\n",
       "}}\n",
       "\n",
       "                        })\n",
       "                };\n",
       "                });\n",
       "            </script>\n",
       "        </div>"
      ]
     },
     "metadata": {},
     "output_type": "display_data"
    }
   ],
   "source": [
    "fig.update_layout(margin={\"r\":0,\"t\":0,\"l\":0,\"b\":0})\n",
    "fig.show()"
   ]
  },
  {
   "cell_type": "markdown",
   "metadata": {},
   "source": [
    "## map showing location of each \"valid\" listing"
   ]
  },
  {
   "cell_type": "code",
   "execution_count": 288,
   "metadata": {},
   "outputs": [],
   "source": [
    "fig = px.scatter_mapbox(df, lat='lat', lon='lon', \n",
    "                        hover_name='address', hover_data=['price'],\n",
    "                        color='neighborhood',\n",
    "                        color_discrete_sequence=plotly.colors.qualitative.Alphabet,\n",
    "                        mapbox_style=\"carto-positron\", zoom=12)"
   ]
  },
  {
   "cell_type": "code",
   "execution_count": 289,
   "metadata": {},
   "outputs": [
    {
     "data": {
      "application/vnd.plotly.v1+json": {
       "config": {
        "plotlyServerURL": "https://plot.ly"
       },
       "data": [
        {
         "customdata": [
          [
           965
          ],
          [
           965
          ],
          [
           965
          ],
          [
           965
          ],
          [
           1699
          ],
          [
           1449
          ],
          [
           1209
          ],
          [
           1249
          ],
          [
           1344
          ],
          [
           1374
          ],
          [
           1314
          ],
          [
           1434
          ],
          [
           1299
          ],
          [
           1349
          ],
          [
           1599
          ],
          [
           1349
          ],
          [
           1599
          ],
          [
           1629
          ],
          [
           1699
          ],
          [
           1799
          ],
          [
           1849
          ],
          [
           1099
          ],
          [
           1114
          ],
          [
           2229
          ],
          [
           919
          ],
          [
           1129
          ],
          [
           4199
          ],
          [
           4199
          ],
          [
           4199
          ],
          [
           4199
          ],
          [
           4199
          ],
          [
           4199
          ],
          [
           850
          ],
          [
           850
          ],
          [
           850
          ],
          [
           850
          ],
          [
           800
          ],
          [
           800
          ],
          [
           800
          ],
          [
           800
          ],
          [
           1065
          ],
          [
           1967.5
          ],
          [
           999
          ],
          [
           999
          ],
          [
           999
          ],
          [
           999
          ],
          [
           1395
          ],
          [
           1400
          ],
          [
           1400
          ],
          [
           1400
          ],
          [
           1400
          ],
          [
           1400
          ],
          [
           1400
          ],
          [
           2199
          ],
          [
           799
          ],
          [
           1415
          ],
          [
           1397.5
          ],
          [
           1640
          ],
          [
           5550
          ],
          [
           5550
          ],
          [
           5550
          ],
          [
           5550
          ],
          [
           5550
          ],
          [
           5550
          ],
          [
           null
          ],
          [
           null
          ],
          [
           null
          ],
          [
           1310
          ],
          [
           1099
          ],
          [
           1199
          ],
          [
           6875
          ],
          [
           7800
          ],
          [
           12000
          ],
          [
           450
          ],
          [
           450
          ],
          [
           450
          ],
          [
           450
          ],
          [
           500
          ],
          [
           500
          ],
          [
           500
          ],
          [
           500
          ],
          [
           500
          ],
          [
           500
          ],
          [
           500
          ],
          [
           500
          ],
          [
           590
          ],
          [
           590
          ],
          [
           590
          ],
          [
           590
          ],
          [
           590
          ],
          [
           590
          ],
          [
           590
          ],
          [
           590
          ],
          [
           590
          ],
          [
           590
          ],
          [
           590
          ],
          [
           590
          ],
          [
           700
          ],
          [
           700
          ],
          [
           700
          ],
          [
           700
          ],
          [
           726
          ],
          [
           726
          ],
          [
           726
          ],
          [
           726
          ],
          [
           750
          ],
          [
           750
          ],
          [
           750
          ],
          [
           750
          ],
          [
           800
          ],
          [
           800
          ],
          [
           800
          ],
          [
           800
          ],
          [
           1050
          ],
          [
           1050
          ],
          [
           1050
          ],
          [
           1050
          ],
          [
           1050
          ],
          [
           1050
          ],
          [
           1050
          ],
          [
           1050
          ],
          [
           1050
          ],
          [
           1050
          ],
          [
           1050
          ],
          [
           1050
          ],
          [
           1050
          ],
          [
           1050
          ],
          [
           800
          ],
          [
           800
          ],
          [
           800
          ],
          [
           800
          ],
          [
           850
          ],
          [
           850
          ],
          [
           850
          ],
          [
           850
          ],
          [
           850
          ],
          [
           850
          ],
          [
           850
          ],
          [
           850
          ],
          [
           900
          ],
          [
           900
          ],
          [
           900
          ],
          [
           900
          ],
          [
           900
          ],
          [
           900
          ],
          [
           900
          ],
          [
           900
          ],
          [
           925
          ],
          [
           985
          ],
          [
           985
          ],
          [
           985
          ],
          [
           985
          ],
          [
           985
          ],
          [
           1000
          ],
          [
           1000
          ],
          [
           1000
          ],
          [
           1000
          ],
          [
           1000
          ],
          [
           1000
          ],
          [
           1055
          ],
          [
           1217.5
          ],
          [
           550
          ],
          [
           550
          ],
          [
           550
          ],
          [
           550
          ],
          [
           1200
          ],
          [
           1200
          ],
          [
           1200
          ],
          [
           1200
          ],
          [
           1200
          ],
          [
           1200
          ],
          [
           1250
          ],
          [
           1250
          ],
          [
           1250
          ],
          [
           1250
          ],
          [
           1250
          ],
          [
           1250
          ],
          [
           1250
          ],
          [
           1250
          ],
          [
           1250
          ],
          [
           1250
          ],
          [
           1250
          ],
          [
           1250
          ],
          [
           1250
          ],
          [
           1250
          ],
          [
           1250
          ],
          [
           1250
          ],
          [
           1350
          ],
          [
           1350
          ],
          [
           1350
          ],
          [
           1350
          ],
          [
           1350
          ],
          [
           1350
          ],
          [
           1747.5
          ],
          [
           1857.5
          ],
          [
           1900
          ],
          [
           1920
          ],
          [
           900
          ],
          [
           900
          ],
          [
           900
          ],
          [
           900
          ],
          [
           715
          ],
          [
           715
          ],
          [
           715
          ],
          [
           715
          ],
          [
           715
          ],
          [
           715
          ],
          [
           715
          ],
          [
           715
          ],
          [
           715
          ],
          [
           715
          ],
          [
           715
          ],
          [
           715
          ],
          [
           670
          ],
          [
           670
          ],
          [
           670
          ],
          [
           670
          ],
          [
           700
          ],
          [
           700
          ],
          [
           700
          ],
          [
           700
          ],
          [
           2950
          ],
          [
           2950
          ],
          [
           2950
          ],
          [
           2950
          ],
          [
           1150
          ],
          [
           1150
          ],
          [
           1150
          ],
          [
           1150
          ],
          [
           1150
          ],
          [
           1150
          ],
          [
           1200
          ],
          [
           1200
          ],
          [
           1200
          ],
          [
           1200
          ],
          [
           1200
          ],
          [
           1200
          ]
         ],
         "hoverlabel": {
          "namelength": 0
         },
         "hovertemplate": "<b>%{hovertext}</b><br><br>neighborhood=South University<br>price=%{customdata[0]}<br>lat=%{lat}<br>lon=%{lon}",
         "hovertext": [
          "514 South Forest Avenue Ann Arbor, MI 48104",
          "514 South Forest Avenue Ann Arbor, MI 48104",
          "514 South Forest Avenue Ann Arbor, MI 48104",
          "514 South Forest Avenue Ann Arbor, MI 48104",
          "1300 S University Ave Ann Arbor, MI 48104",
          "1300 S University Ave Ann Arbor, MI 48104",
          "1300 S University Ave Ann Arbor, MI 48104",
          "1300 S University Ave Ann Arbor, MI 48104",
          "1300 S University Ave Ann Arbor, MI 48104",
          "1300 S University Ave Ann Arbor, MI 48104",
          "1300 S University Ave Ann Arbor, MI 48104",
          "1300 S University Ave Ann Arbor, MI 48104",
          "1300 S University Ave Ann Arbor, MI 48104",
          "1300 S University Ave Ann Arbor, MI 48104",
          "1300 S University Ave Ann Arbor, MI 48104",
          "1300 S University Ave Ann Arbor, MI 48104",
          "536 S. Forest Ave Ann Arbor, MI 48104",
          "536 S. Forest Ave Ann Arbor, MI 48104",
          "536 S. Forest Ave Ann Arbor, MI 48104",
          "536 S. Forest Ave Ann Arbor, MI 48104",
          "536 S. Forest Ave Ann Arbor, MI 48104",
          "536 S. Forest Ave Ann Arbor, MI 48104",
          "536 S. Forest Ave Ann Arbor, MI 48104",
          "536 S. Forest Ave Ann Arbor, MI 48104",
          "536 S. Forest Ave Ann Arbor, MI 48104",
          "536 S. Forest Ave Ann Arbor, MI 48104",
          "727 South Forest Avenue Ann Arbor, MI 48104",
          "727 South Forest Avenue Ann Arbor, MI 48104",
          "727 South Forest Avenue Ann Arbor, MI 48104",
          "727 South Forest Avenue Ann Arbor, MI 48104",
          "727 South Forest Avenue Ann Arbor, MI 48104",
          "727 South Forest Avenue Ann Arbor, MI 48104",
          "1348 Wilmot Court Ann Arbor, MI 48104",
          "1348 Wilmot Court Ann Arbor, MI 48104",
          "1348 Wilmot Court Ann Arbor, MI 48104",
          "1348 Wilmot Court Ann Arbor, MI 48104",
          "1223 Hill Street Apt 5 Ann Arbor, MI 48104",
          "1223 Hill Street Apt 5 Ann Arbor, MI 48104",
          "1223 Hill Street Apt 5 Ann Arbor, MI 48104",
          "1223 Hill Street Apt 5 Ann Arbor, MI 48104",
          "503 Church Street Ann Arbor, MI 48109",
          "503 Church Street Ann Arbor, MI 48109",
          "1107 South University Avenue Ann Arbor, MI 48104",
          "1107 South University Avenue Ann Arbor, MI 48104",
          "1107 South University Avenue Ann Arbor, MI 48104",
          "1107 South University Avenue Ann Arbor, MI 48104",
          "1338 Washtenaw Ave Apt #6 Ann Arbor, MI 48104",
          "1311 Wilmot St. Apt 3 Ann Arbor, MI 48104",
          "1311 Wilmot St. Apt 3 Ann Arbor, MI 48104",
          "1311 Wilmot St. Apt 3 Ann Arbor, MI 48104",
          "1311 Wilmot St. Apt 3 Ann Arbor, MI 48104",
          "1311 Wilmot St. Apt 3 Ann Arbor, MI 48104",
          "1311 Wilmot St. Apt 3 Ann Arbor, MI 48104",
          "611 East University Avenue Ann Arbor, MI 48104",
          "611 East University Avenue Ann Arbor, MI 48104",
          "611 East University Avenue Ann Arbor, MI 48104",
          "611 East University Avenue Ann Arbor, MI 48104",
          "611 East University Avenue Ann Arbor, MI 48104",
          "523 Packard Street Ann Arbor, MI 48104",
          "523 Packard Street Ann Arbor, MI 48104",
          "523 Packard Street Ann Arbor, MI 48104",
          "523 Packard Street Ann Arbor, MI 48104",
          "523 Packard Street Ann Arbor, MI 48104",
          "523 Packard Street Ann Arbor, MI 48104",
          "1112 South University Avenue Ann Arbor, MI 48104",
          "1112 South University Avenue Ann Arbor, MI 48104",
          "1112 South University Avenue Ann Arbor, MI 48104",
          "1112 South University Avenue Ann Arbor, MI 48104",
          "1112 South University Avenue Ann Arbor, MI 48104",
          "1112 South University Avenue Ann Arbor, MI 48104",
          "1207 Willard Street Ann Arbor, MI 48104",
          "547 Elm Street Ann Arbor, MI 48104",
          "1208 Willard Street Ann Arbor, MI 48104",
          "1330 North University Court Ann Arbor, MI 48104",
          "1330 North University Court Ann Arbor, MI 48104",
          "1330 North University Court Ann Arbor, MI 48104",
          "1330 North University Court Ann Arbor, MI 48104",
          "731 Packard Street Ann Arbor, MI 48104",
          "731 Packard Street Ann Arbor, MI 48104",
          "731 Packard Street Ann Arbor, MI 48104",
          "731 Packard Street Ann Arbor, MI 48104",
          "Ann Arbor, MI 48104",
          "Ann Arbor, MI 48104",
          "Ann Arbor, MI 48104",
          "Ann Arbor, MI 48104",
          "1335 Geddes Avenue #9 Ann Arbor, MI 48104",
          "1335 Geddes Avenue #9 Ann Arbor, MI 48104",
          "1335 Geddes Avenue #9 Ann Arbor, MI 48104",
          "1335 Geddes Avenue #9 Ann Arbor, MI 48104",
          "1335 Geddes Avenue #9 Ann Arbor, MI 48104",
          "1335 Geddes Avenue #9 Ann Arbor, MI 48104",
          "1335 Geddes Avenue #9 Ann Arbor, MI 48104",
          "1335 Geddes Avenue #9 Ann Arbor, MI 48104",
          "1335 Geddes Avenue #9 Ann Arbor, MI 48104",
          "1335 Geddes Avenue #9 Ann Arbor, MI 48104",
          "1335 Geddes Avenue #9 Ann Arbor, MI 48104",
          "1335 Geddes Avenue #9 Ann Arbor, MI 48104",
          "316 West Stadium Boulevard Ann Arbor, MI 48103",
          "316 West Stadium Boulevard Ann Arbor, MI 48103",
          "316 West Stadium Boulevard Ann Arbor, MI 48103",
          "316 West Stadium Boulevard Ann Arbor, MI 48103",
          "1327 Wilmot Street Ann Arbor, MI 48104",
          "1327 Wilmot Street Ann Arbor, MI 48104",
          "1327 Wilmot Street Ann Arbor, MI 48104",
          "1327 Wilmot Street Ann Arbor, MI 48104",
          "Ann Arbor, MI 48104",
          "Ann Arbor, MI 48104",
          "Ann Arbor, MI 48104",
          "Ann Arbor, MI 48104",
          "536 South Forest Avenue Ann Arbor, MI 48104",
          "536 South Forest Avenue Ann Arbor, MI 48104",
          "536 South Forest Avenue Ann Arbor, MI 48104",
          "536 South Forest Avenue Ann Arbor, MI 48104",
          "1300 South University Avenue Ann Arbor, MI 48104",
          "1300 South University Avenue Ann Arbor, MI 48104",
          "1300 South University Avenue Ann Arbor, MI 48104",
          "1300 South University Avenue Ann Arbor, MI 48104",
          "1300 South University Avenue Ann Arbor, MI 48104",
          "1300 South University Avenue Ann Arbor, MI 48104",
          "1300 South University Avenue Ann Arbor, MI 48104",
          "1300 South University Avenue Ann Arbor, MI 48104",
          "1300 South University Avenue Ann Arbor, MI 48104",
          "1300 South University Avenue Ann Arbor, MI 48104",
          "1300 South University Avenue Ann Arbor, MI 48104",
          "1300 South University Avenue Ann Arbor, MI 48104",
          "1300 South University Avenue Ann Arbor, MI 48104",
          "1300 South University Avenue Ann Arbor, MI 48104",
          "1321 Wilmot Street Ann Arbor, MI 48104",
          "1321 Wilmot Street Ann Arbor, MI 48104",
          "1321 Wilmot Street Ann Arbor, MI 48104",
          "1321 Wilmot Street Ann Arbor, MI 48104",
          "925 Church St Apt 2 Ann Arbor, MI 48104",
          "925 Church St Apt 2 Ann Arbor, MI 48104",
          "925 Church St Apt 2 Ann Arbor, MI 48104",
          "925 Church St Apt 2 Ann Arbor, MI 48104",
          "1107 South University Avenue Ann Arbor, MI 48104",
          "1107 South University Avenue Ann Arbor, MI 48104",
          "1107 South University Avenue Ann Arbor, MI 48104",
          "1107 South University Avenue Ann Arbor, MI 48104",
          "1107 South University Avenue Ann Arbor, MI 48104",
          "1107 South University Avenue Ann Arbor, MI 48104",
          "1107 South University Avenue Ann Arbor, MI 48104",
          "1107 South University Avenue Ann Arbor, MI 48104",
          "1300 South University Avenue Ann Arbor, MI 48104",
          "1300 South University Avenue Ann Arbor, MI 48104",
          "1300 South University Avenue Ann Arbor, MI 48104",
          "1300 South University Avenue Ann Arbor, MI 48104",
          "1352 Wilmot Ct. Ann Arbor, MI 48104",
          "1352 Wilmot Ct. Ann Arbor, MI 48104",
          "1352 Wilmot Ct. Ann Arbor, MI 48104",
          "1352 Wilmot Ct. Ann Arbor, MI 48104",
          "1352 Wilmot Ct. Ann Arbor, MI 48104",
          "1352 Wilmot Ct. Ann Arbor, MI 48104",
          "1107 South University Avenue Ann Arbor, MI 48104",
          "1107 South University Avenue Ann Arbor, MI 48104",
          "1107 South University Avenue Ann Arbor, MI 48104",
          "1107 South University Avenue Ann Arbor, MI 48104",
          "1107 South University Avenue Ann Arbor, MI 48104",
          "1107 South University Avenue Ann Arbor, MI 48104",
          "732 S Forest Ave Ann Arbor, MI 48104",
          "732 S Forest Ave Ann Arbor, MI 48104",
          "Ann Arbor, MI 48104",
          "Ann Arbor, MI 48104",
          "Ann Arbor, MI 48104",
          "Ann Arbor, MI 48104",
          "1107 S University Ave Ann Arbor, MI 48104",
          "1107 S University Ave Ann Arbor, MI 48104",
          "1107 S University Ave Ann Arbor, MI 48104",
          "1107 S University Ave Ann Arbor, MI 48104",
          "1107 S University Ave Ann Arbor, MI 48104",
          "1107 S University Ave Ann Arbor, MI 48104",
          "1107 South University Avenue Ann Arbor, MI 48104",
          "1107 South University Avenue Ann Arbor, MI 48104",
          "1107 South University Avenue Ann Arbor, MI 48104",
          "1107 South University Avenue Ann Arbor, MI 48104",
          "1107 South University Avenue Ann Arbor, MI 48104",
          "1107 South University Avenue Ann Arbor, MI 48104",
          "1107 South University Avenue Ann Arbor, MI 48104",
          "1107 South University Avenue Ann Arbor, MI 48104",
          "1107 South University Avenue Ann Arbor, MI 48104",
          "1107 South University Avenue Ann Arbor, MI 48104",
          "1107 South University Avenue Ann Arbor, MI 48104",
          "1107 South University Avenue Ann Arbor, MI 48104",
          "1107 South University Avenue Ann Arbor, MI 48104",
          "1107 South University Avenue Ann Arbor, MI 48104",
          "1107 South University Avenue Ann Arbor, MI 48104",
          "1107 South University Avenue Ann Arbor, MI 48104",
          "611 East University Avenue Ann Arbor, MI 48104",
          "611 East University Avenue Ann Arbor, MI 48104",
          "611 East University Avenue Ann Arbor, MI 48104",
          "611 East University Avenue Ann Arbor, MI 48104",
          "611 East University Avenue Ann Arbor, MI 48104",
          "611 East University Avenue Ann Arbor, MI 48104",
          "1317 Wilmot St Ann Arbor, MI 48104",
          "1317 Wilmot St Ann Arbor, MI 48104",
          "1317 Wilmot St Ann Arbor, MI 48104",
          "1317 Wilmot St Ann Arbor, MI 48104",
          "555 South Forest Avenue Ann Arbor, MI 48104",
          "555 South Forest Avenue Ann Arbor, MI 48104",
          "555 South Forest Avenue Ann Arbor, MI 48104",
          "555 South Forest Avenue Ann Arbor, MI 48104",
          "1315 Hill Street Ann Arbor, MI 48104",
          "1315 Hill Street Ann Arbor, MI 48104",
          "1315 Hill Street Ann Arbor, MI 48104",
          "1315 Hill Street Ann Arbor, MI 48104",
          "1315 Hill Street Ann Arbor, MI 48104",
          "1315 Hill Street Ann Arbor, MI 48104",
          "1315 Hill Street Ann Arbor, MI 48104",
          "1315 Hill Street Ann Arbor, MI 48104",
          "1315 Hill Street Ann Arbor, MI 48104",
          "1315 Hill Street Ann Arbor, MI 48104",
          "1315 Hill Street Ann Arbor, MI 48104",
          "1315 Hill Street Ann Arbor, MI 48104",
          "1520 Hill Street Ann Arbor, MI 48104",
          "1520 Hill Street Ann Arbor, MI 48104",
          "1520 Hill Street Ann Arbor, MI 48104",
          "1520 Hill Street Ann Arbor, MI 48104",
          "1300 South University Avenue Ann Arbor, MI 48104",
          "1300 South University Avenue Ann Arbor, MI 48104",
          "1300 South University Avenue Ann Arbor, MI 48104",
          "1300 South University Avenue Ann Arbor, MI 48104",
          "520 Linden Ann Arbor, MI 48104",
          "520 Linden Ann Arbor, MI 48104",
          "520 Linden Ann Arbor, MI 48104",
          "520 Linden Ann Arbor, MI 48104",
          "611 East University Avenue Ann Arbor, MI 48104",
          "611 East University Avenue Ann Arbor, MI 48104",
          "611 East University Avenue Ann Arbor, MI 48104",
          "611 East University Avenue Ann Arbor, MI 48104",
          "611 East University Avenue Ann Arbor, MI 48104",
          "611 East University Avenue Ann Arbor, MI 48104",
          "1107 South University Avenue Ann Arbor, MI 48104",
          "1107 South University Avenue Ann Arbor, MI 48104",
          "1107 South University Avenue Ann Arbor, MI 48104",
          "1107 South University Avenue Ann Arbor, MI 48104",
          "1107 South University Avenue Ann Arbor, MI 48104",
          "1107 South University Avenue Ann Arbor, MI 48104"
         ],
         "lat": [
          42.27594065,
          42.27594065,
          42.27594065,
          42.27594065,
          42.2748415,
          42.2748415,
          42.2748415,
          42.2748415,
          42.2748415,
          42.2748415,
          42.2748415,
          42.2748415,
          42.2748415,
          42.2748415,
          42.2748415,
          42.2748415,
          42.27525705,
          42.27525705,
          42.27525705,
          42.27525705,
          42.27525705,
          42.27525705,
          42.27525705,
          42.27525705,
          42.27525705,
          42.27525705,
          42.27267985,
          42.27267985,
          42.27267985,
          42.27267985,
          42.27267985,
          42.27267985,
          42.276346102,
          42.276346102,
          42.276346102,
          42.276346102,
          42.27236155,
          42.27236155,
          42.27236155,
          42.27236155,
          42.27668955,
          42.27668955,
          42.2750725306,
          42.2750725306,
          42.2750725306,
          42.2750725306,
          42.2594158,
          42.2765551031,
          42.2765551031,
          42.2765551031,
          42.2765551031,
          42.2765551031,
          42.2765551031,
          42.274170396,
          42.274170396,
          42.274170396,
          42.274170396,
          42.274170396,
          42.27277565,
          42.27277565,
          42.27277565,
          42.27277565,
          42.27277565,
          42.27277565,
          42.2749100612,
          42.2749100612,
          42.2749100612,
          42.2749100612,
          42.2749100612,
          42.2749100612,
          42.2739616,
          42.2755502069,
          42.2736347,
          42.2782836735,
          42.2782836735,
          42.2782836735,
          42.2782836735,
          42.27025225,
          42.27025225,
          42.27025225,
          42.27025225,
          42.2681569,
          42.2681569,
          42.2681569,
          42.2681569,
          42.27769485,
          42.27769485,
          42.27769485,
          42.27769485,
          42.27769485,
          42.27769485,
          42.27769485,
          42.27769485,
          42.27769485,
          42.27769485,
          42.27769485,
          42.27769485,
          42.26440855,
          42.26440855,
          42.26440855,
          42.26440855,
          42.2767144171,
          42.2767144171,
          42.2767144171,
          42.2767144171,
          42.2681569,
          42.2681569,
          42.2681569,
          42.2681569,
          42.27525705,
          42.27525705,
          42.27525705,
          42.27525705,
          42.2748415,
          42.2748415,
          42.2748415,
          42.2748415,
          42.2748415,
          42.2748415,
          42.2748415,
          42.2748415,
          42.2748415,
          42.2748415,
          42.2748415,
          42.2748415,
          42.2748415,
          42.2748415,
          42.2766612063,
          42.2766612063,
          42.2766612063,
          42.2766612063,
          42.27066465,
          42.27066465,
          42.27066465,
          42.27066465,
          42.2750725306,
          42.2750725306,
          42.2750725306,
          42.2750725306,
          42.2750725306,
          42.2750725306,
          42.2750725306,
          42.2750725306,
          42.2748415,
          42.2748415,
          42.2748415,
          42.2748415,
          42.2763456939,
          42.2763456939,
          42.2763456939,
          42.2763456939,
          42.2763456939,
          42.2763456939,
          42.2750725306,
          42.2750725306,
          42.2750725306,
          42.2750725306,
          42.2750725306,
          42.2750725306,
          42.27256705,
          42.27256705,
          42.2681569,
          42.2681569,
          42.2681569,
          42.2681569,
          42.2750725306,
          42.2750725306,
          42.2750725306,
          42.2750725306,
          42.2750725306,
          42.2750725306,
          42.2750725306,
          42.2750725306,
          42.2750725306,
          42.2750725306,
          42.2750725306,
          42.2750725306,
          42.2750725306,
          42.2750725306,
          42.2750725306,
          42.2750725306,
          42.2750725306,
          42.2750725306,
          42.2750725306,
          42.2750725306,
          42.2750725306,
          42.2750725306,
          42.274170396,
          42.274170396,
          42.274170396,
          42.274170396,
          42.274170396,
          42.274170396,
          42.276618765,
          42.276618765,
          42.276618765,
          42.276618765,
          42.2753108,
          42.2753108,
          42.2753108,
          42.2753108,
          42.27246205,
          42.27246205,
          42.27246205,
          42.27246205,
          42.27246205,
          42.27246205,
          42.27246205,
          42.27246205,
          42.27246205,
          42.27246205,
          42.27246205,
          42.27246205,
          42.27206605,
          42.27206605,
          42.27206605,
          42.27206605,
          42.2748415,
          42.2748415,
          42.2748415,
          42.2748415,
          42.2760612886,
          42.2760612886,
          42.2760612886,
          42.2760612886,
          42.274170396,
          42.274170396,
          42.274170396,
          42.274170396,
          42.274170396,
          42.274170396,
          42.2750725306,
          42.2750725306,
          42.2750725306,
          42.2750725306,
          42.2750725306,
          42.2750725306
         ],
         "legendgroup": "South University",
         "lon": [
          -83.7334425942,
          -83.7334425942,
          -83.7334425942,
          -83.7334425942,
          -83.7329255,
          -83.7329255,
          -83.7329255,
          -83.7329255,
          -83.7329255,
          -83.7329255,
          -83.7329255,
          -83.7329255,
          -83.7329255,
          -83.7329255,
          -83.7329255,
          -83.7329255,
          -83.7334912339,
          -83.7334912339,
          -83.7334912339,
          -83.7334912339,
          -83.7334912339,
          -83.7334912339,
          -83.7334912339,
          -83.7334912339,
          -83.7334912339,
          -83.7334912339,
          -83.7327025,
          -83.7327025,
          -83.7327025,
          -83.7327025,
          -83.7327025,
          -83.7327025,
          -83.7306270816,
          -83.7306270816,
          -83.7306270816,
          -83.7306270816,
          -83.7334878752,
          -83.7334878752,
          -83.7334878752,
          -83.7334878752,
          -83.7344249195,
          -83.7344249195,
          -83.735550898,
          -83.735550898,
          -83.735550898,
          -83.735550898,
          -83.7108296,
          -83.732866352,
          -83.732866352,
          -83.732866352,
          -83.732866352,
          -83.732866352,
          -83.732866352,
          -83.7356511812,
          -83.7356511812,
          -83.7356511812,
          -83.7356511812,
          -83.7356511812,
          -83.7420926997,
          -83.7420926997,
          -83.7420926997,
          -83.7420926997,
          -83.7420926997,
          -83.7420926997,
          -83.7354897959,
          -83.7354897959,
          -83.7354897959,
          -83.7354897959,
          -83.7354897959,
          -83.7354897959,
          -83.7341632257,
          -83.7305717241,
          -83.7340268541,
          -83.731833551,
          -83.731833551,
          -83.731833551,
          -83.731833551,
          -83.73942575,
          -83.73942575,
          -83.73942575,
          -83.73942575,
          -83.7312291,
          -83.7312291,
          -83.7312291,
          -83.7312291,
          -83.7317954994,
          -83.7317954994,
          -83.7317954994,
          -83.7317954994,
          -83.7317954994,
          -83.7317954994,
          -83.7317954994,
          -83.7317954994,
          -83.7317954994,
          -83.7317954994,
          -83.7317954994,
          -83.7317954994,
          -83.7512254833,
          -83.7512254833,
          -83.7512254833,
          -83.7512254833,
          -83.7326437006,
          -83.7326437006,
          -83.7326437006,
          -83.7326437006,
          -83.7312291,
          -83.7312291,
          -83.7312291,
          -83.7312291,
          -83.7334912339,
          -83.7334912339,
          -83.7334912339,
          -83.7334912339,
          -83.7329255,
          -83.7329255,
          -83.7329255,
          -83.7329255,
          -83.7329255,
          -83.7329255,
          -83.7329255,
          -83.7329255,
          -83.7329255,
          -83.7329255,
          -83.7329255,
          -83.7329255,
          -83.7329255,
          -83.7329255,
          -83.7327297041,
          -83.7327297041,
          -83.7327297041,
          -83.7327297041,
          -83.73412175,
          -83.73412175,
          -83.73412175,
          -83.73412175,
          -83.735550898,
          -83.735550898,
          -83.735550898,
          -83.735550898,
          -83.735550898,
          -83.735550898,
          -83.735550898,
          -83.735550898,
          -83.7329255,
          -83.7329255,
          -83.7329255,
          -83.7329255,
          -83.7306207551,
          -83.7306207551,
          -83.7306207551,
          -83.7306207551,
          -83.7306207551,
          -83.7306207551,
          -83.735550898,
          -83.735550898,
          -83.735550898,
          -83.735550898,
          -83.735550898,
          -83.735550898,
          -83.7334646727,
          -83.7334646727,
          -83.7312291,
          -83.7312291,
          -83.7312291,
          -83.7312291,
          -83.735550898,
          -83.735550898,
          -83.735550898,
          -83.735550898,
          -83.735550898,
          -83.735550898,
          -83.735550898,
          -83.735550898,
          -83.735550898,
          -83.735550898,
          -83.735550898,
          -83.735550898,
          -83.735550898,
          -83.735550898,
          -83.735550898,
          -83.735550898,
          -83.735550898,
          -83.735550898,
          -83.735550898,
          -83.735550898,
          -83.735550898,
          -83.735550898,
          -83.7356511812,
          -83.7356511812,
          -83.7356511812,
          -83.7356511812,
          -83.7356511812,
          -83.7356511812,
          -83.7327843633,
          -83.7327843633,
          -83.7327843633,
          -83.7327843633,
          -83.7328370239,
          -83.7328370239,
          -83.7328370239,
          -83.7328370239,
          -83.7327004731,
          -83.7327004731,
          -83.7327004731,
          -83.7327004731,
          -83.7327004731,
          -83.7327004731,
          -83.7327004731,
          -83.7327004731,
          -83.7327004731,
          -83.7327004731,
          -83.7327004731,
          -83.7327004731,
          -83.7289110585,
          -83.7289110585,
          -83.7289110585,
          -83.7289110585,
          -83.7329255,
          -83.7329255,
          -83.7329255,
          -83.7329255,
          -83.7281458812,
          -83.7281458812,
          -83.7281458812,
          -83.7281458812,
          -83.7356511812,
          -83.7356511812,
          -83.7356511812,
          -83.7356511812,
          -83.7356511812,
          -83.7356511812,
          -83.735550898,
          -83.735550898,
          -83.735550898,
          -83.735550898,
          -83.735550898,
          -83.735550898
         ],
         "marker": {
          "color": "#AA0DFE"
         },
         "mode": "markers",
         "name": "South University",
         "showlegend": true,
         "subplot": "mapbox",
         "type": "scattermapbox"
        },
        {
         "customdata": [
          [
           1659
          ],
          [
           1489
          ],
          [
           1559
          ],
          [
           1309
          ],
          [
           1424
          ],
          [
           1304
          ],
          [
           1346.5
          ],
          [
           1545
          ],
          [
           2099
          ],
          [
           2139
          ],
          [
           1389
          ],
          [
           1249
          ],
          [
           1269
          ],
          [
           2149
          ],
          [
           2289
          ],
          [
           1475
          ],
          [
           1349
          ],
          [
           1275
          ],
          [
           1122.5
          ],
          [
           1200
          ],
          [
           1232.5
          ],
          [
           1295
          ],
          [
           1325
          ],
          [
           1395
          ],
          [
           1295
          ],
          [
           1295
          ],
          [
           1295
          ],
          [
           1525
          ],
          [
           1475
          ],
          [
           1475
          ],
          [
           1475
          ],
          [
           1475
          ],
          [
           1475
          ],
          [
           1475
          ],
          [
           1900
          ],
          [
           1900
          ],
          [
           1900
          ],
          [
           1900
          ],
          [
           1900
          ],
          [
           1900
          ],
          [
           2400
          ],
          [
           2400
          ],
          [
           2400
          ],
          [
           2400
          ],
          [
           2400
          ],
          [
           2400
          ],
          [
           2745
          ],
          [
           2745
          ],
          [
           2745
          ],
          [
           2745
          ],
          [
           2745
          ],
          [
           2745
          ],
          [
           3250
          ],
          [
           3250
          ],
          [
           3250
          ],
          [
           3250
          ],
          [
           3250
          ],
          [
           3250
          ],
          [
           4100
          ],
          [
           4100
          ],
          [
           4100
          ],
          [
           4100
          ],
          [
           4100
          ],
          [
           4100
          ],
          [
           4170
          ],
          [
           4600
          ],
          [
           4600
          ],
          [
           4600
          ],
          [
           4600
          ],
          [
           4600
          ],
          [
           4600
          ],
          [
           500
          ],
          [
           500
          ],
          [
           500
          ],
          [
           500
          ],
          [
           560
          ],
          [
           560
          ],
          [
           560
          ],
          [
           560
          ],
          [
           600
          ],
          [
           600
          ],
          [
           600
          ],
          [
           600
          ],
          [
           600
          ],
          [
           600
          ],
          [
           600
          ],
          [
           600
          ],
          [
           680
          ],
          [
           680
          ],
          [
           680
          ],
          [
           680
          ],
          [
           699
          ],
          [
           699
          ],
          [
           699
          ],
          [
           699
          ],
          [
           700
          ],
          [
           700
          ],
          [
           700
          ],
          [
           700
          ],
          [
           700
          ],
          [
           700
          ],
          [
           700
          ],
          [
           700
          ],
          [
           700
          ],
          [
           700
          ],
          [
           700
          ],
          [
           700
          ],
          [
           700
          ],
          [
           700
          ],
          [
           700
          ],
          [
           700
          ],
          [
           750
          ],
          [
           750
          ],
          [
           750
          ],
          [
           750
          ],
          [
           750
          ],
          [
           750
          ],
          [
           750
          ],
          [
           750
          ],
          [
           776
          ],
          [
           776
          ],
          [
           776
          ],
          [
           776
          ],
          [
           800
          ],
          [
           800
          ],
          [
           800
          ],
          [
           800
          ],
          [
           800
          ],
          [
           800
          ],
          [
           800
          ],
          [
           800
          ],
          [
           825
          ],
          [
           825
          ],
          [
           825
          ],
          [
           825
          ],
          [
           875
          ],
          [
           875
          ],
          [
           875
          ],
          [
           875
          ],
          [
           900
          ],
          [
           900
          ],
          [
           900
          ],
          [
           900
          ],
          [
           900
          ],
          [
           900
          ],
          [
           900
          ],
          [
           900
          ],
          [
           1000
          ],
          [
           1000
          ],
          [
           1000
          ],
          [
           1000
          ],
          [
           1000
          ],
          [
           1000
          ],
          [
           1259
          ],
          [
           1259
          ],
          [
           1259
          ],
          [
           1259
          ],
          [
           1259
          ],
          [
           1259
          ],
          [
           1320
          ],
          [
           1320
          ],
          [
           1320
          ],
          [
           1320
          ],
          [
           1320
          ],
          [
           1320
          ],
          [
           675
          ],
          [
           675
          ],
          [
           675
          ],
          [
           675
          ],
          [
           750
          ],
          [
           750
          ],
          [
           750
          ],
          [
           750
          ],
          [
           1800
          ],
          [
           1800
          ],
          [
           1800
          ],
          [
           1800
          ],
          [
           1800
          ],
          [
           1800
          ],
          [
           1990
          ],
          [
           1990
          ],
          [
           1990
          ],
          [
           1990
          ],
          [
           1990
          ],
          [
           1990
          ],
          [
           782.5
          ],
          [
           782.5
          ],
          [
           782.5
          ],
          [
           782.5
          ],
          [
           782.5
          ],
          [
           782.5
          ],
          [
           782.5
          ],
          [
           782.5
          ],
          [
           782.5
          ],
          [
           782.5
          ],
          [
           782.5
          ],
          [
           782.5
          ],
          [
           782.5
          ],
          [
           782.5
          ],
          [
           1449
          ],
          [
           1449
          ],
          [
           1449
          ],
          [
           1449
          ],
          [
           1449
          ],
          [
           1449
          ],
          [
           1480
          ],
          [
           1480
          ],
          [
           1480
          ],
          [
           1480
          ],
          [
           1480
          ],
          [
           1480
          ],
          [
           4350
          ],
          [
           4350
          ],
          [
           4350
          ],
          [
           4350
          ],
          [
           4350
          ],
          [
           4350
          ],
          [
           4500
          ],
          [
           4500
          ],
          [
           4500
          ],
          [
           4500
          ],
          [
           4500
          ],
          [
           4500
          ]
         ],
         "hoverlabel": {
          "namelength": 0
         },
         "hovertemplate": "<b>%{hovertext}</b><br><br>neighborhood=Old Fourth Ward<br>price=%{customdata[0]}<br>lat=%{lat}<br>lon=%{lon}",
         "hovertext": [
          "603 E Huron St Ann Arbor, MI 48104",
          "603 E Huron St Ann Arbor, MI 48104",
          "603 E Huron St Ann Arbor, MI 48104",
          "603 E Huron St Ann Arbor, MI 48104",
          "603 E Huron St Ann Arbor, MI 48104",
          "603 E Huron St Ann Arbor, MI 48104",
          "603 E Huron St Ann Arbor, MI 48104",
          "220 N. First Ann Arbor, MI 48104",
          "425 E. Washington Street Ann Arbor, MI 48104",
          "425 E. Washington Street Ann Arbor, MI 48104",
          "425 E. Washington Street Ann Arbor, MI 48104",
          "425 E. Washington Street Ann Arbor, MI 48104",
          "425 E. Washington Street Ann Arbor, MI 48104",
          "413 E Huron St Ann Arbor, MI 48104",
          "413 E Huron St Ann Arbor, MI 48104",
          "413 E Huron St Ann Arbor, MI 48104",
          "413 E Huron St Ann Arbor, MI 48104",
          "413 E Huron St Ann Arbor, MI 48104",
          "501 East Ann Street Ann Arbor, MI 48104",
          "216 North State Street Ann Arbor, MI 48104",
          "322 North State Street Ann Arbor, MI 48104",
          "520 N Ashley St Ann Arbor, MI 48103",
          "520 N Ashley St Ann Arbor, MI 48103",
          "520 N Ashley St Ann Arbor, MI 48103",
          "512 N Ashley St Ann Arbor, MI 48103",
          "512 N Ashley St Ann Arbor, MI 48103",
          "512 N Ashley St Ann Arbor, MI 48103",
          "118 East Kingsley Street Ann Arbor, MI 48104",
          "208 North Division Street Ann Arbor, MI 48104",
          "208 North Division Street Ann Arbor, MI 48104",
          "208 North Division Street Ann Arbor, MI 48104",
          "208 North Division Street Ann Arbor, MI 48104",
          "208 North Division Street Ann Arbor, MI 48104",
          "208 North Division Street Ann Arbor, MI 48104",
          "499 East Ann Street Ann Arbor, MI 48104",
          "499 East Ann Street Ann Arbor, MI 48104",
          "499 East Ann Street Ann Arbor, MI 48104",
          "499 East Ann Street Ann Arbor, MI 48104",
          "499 East Ann Street Ann Arbor, MI 48104",
          "499 East Ann Street Ann Arbor, MI 48104",
          "310 East Summit Street Apt. 2 Ann Arbor, MI 48104",
          "310 East Summit Street Apt. 2 Ann Arbor, MI 48104",
          "310 East Summit Street Apt. 2 Ann Arbor, MI 48104",
          "310 East Summit Street Apt. 2 Ann Arbor, MI 48104",
          "310 East Summit Street Apt. 2 Ann Arbor, MI 48104",
          "310 East Summit Street Apt. 2 Ann Arbor, MI 48104",
          "211 E Kingsley St Ann Arbor, MI 48104",
          "211 E Kingsley St Ann Arbor, MI 48104",
          "211 E Kingsley St Ann Arbor, MI 48104",
          "211 E Kingsley St Ann Arbor, MI 48104",
          "211 E Kingsley St Ann Arbor, MI 48104",
          "211 E Kingsley St Ann Arbor, MI 48104",
          "212 North 5th Avenue Ann Arbor, MI 48104",
          "212 North 5th Avenue Ann Arbor, MI 48104",
          "212 North 5th Avenue Ann Arbor, MI 48104",
          "212 North 5th Avenue Ann Arbor, MI 48104",
          "212 North 5th Avenue Ann Arbor, MI 48104",
          "212 North 5th Avenue Ann Arbor, MI 48104",
          "214 North 5th Avenue Ann Arbor, MI 48104",
          "214 North 5th Avenue Ann Arbor, MI 48104",
          "214 North 5th Avenue Ann Arbor, MI 48104",
          "214 North 5th Avenue Ann Arbor, MI 48104",
          "214 North 5th Avenue Ann Arbor, MI 48104",
          "214 North 5th Avenue Ann Arbor, MI 48104",
          "411 North State Street #2 Ann Arbor, MI 48104",
          "714 Lawrence Street Ann Arbor, MI 48104",
          "714 Lawrence Street Ann Arbor, MI 48104",
          "714 Lawrence Street Ann Arbor, MI 48104",
          "714 Lawrence Street Ann Arbor, MI 48104",
          "714 Lawrence Street Ann Arbor, MI 48104",
          "714 Lawrence Street Ann Arbor, MI 48104",
          "289 Hiscock Street Ann Arbor, MI 48103",
          "289 Hiscock Street Ann Arbor, MI 48103",
          "289 Hiscock Street Ann Arbor, MI 48103",
          "289 Hiscock Street Ann Arbor, MI 48103",
          "528 North State Street Ann Arbor, MI 48104",
          "528 North State Street Ann Arbor, MI 48104",
          "528 North State Street Ann Arbor, MI 48104",
          "528 North State Street Ann Arbor, MI 48104",
          "820 Fuller Street Ann Arbor, MI 48104",
          "820 Fuller Street Ann Arbor, MI 48104",
          "820 Fuller Street Ann Arbor, MI 48104",
          "820 Fuller Street Ann Arbor, MI 48104",
          "411 East Washington Street Ann Arbor, MI 48104",
          "411 East Washington Street Ann Arbor, MI 48104",
          "411 East Washington Street Ann Arbor, MI 48104",
          "411 East Washington Street Ann Arbor, MI 48104",
          "205 North Division Street Unit 3 Ann Arbor, MI 48104",
          "205 North Division Street Unit 3 Ann Arbor, MI 48104",
          "205 North Division Street Unit 3 Ann Arbor, MI 48104",
          "205 North Division Street Unit 3 Ann Arbor, MI 48104",
          "413 East Huron Street Ann Arbor, MI 48104",
          "413 East Huron Street Ann Arbor, MI 48104",
          "413 East Huron Street Ann Arbor, MI 48104",
          "413 East Huron Street Ann Arbor, MI 48104",
          "800 Fuller Street Ann Arbor, MI 48104",
          "800 Fuller Street Ann Arbor, MI 48104",
          "800 Fuller Street Ann Arbor, MI 48104",
          "800 Fuller Street Ann Arbor, MI 48104",
          "411 East Washington Street Ann Arbor, MI 48104",
          "411 East Washington Street Ann Arbor, MI 48104",
          "411 East Washington Street Ann Arbor, MI 48104",
          "411 East Washington Street Ann Arbor, MI 48104",
          "Ann Arbor, MI 48104",
          "Ann Arbor, MI 48104",
          "Ann Arbor, MI 48104",
          "Ann Arbor, MI 48104",
          "321 North Ingalls Street Ann Arbor, MI 48104",
          "321 North Ingalls Street Ann Arbor, MI 48104",
          "321 North Ingalls Street Ann Arbor, MI 48104",
          "321 North Ingalls Street Ann Arbor, MI 48104",
          "Ann Arbor, MI 48104",
          "Ann Arbor, MI 48104",
          "Ann Arbor, MI 48104",
          "Ann Arbor, MI 48104",
          "Ann Arbor, MI 48104",
          "Ann Arbor, MI 48104",
          "Ann Arbor, MI 48104",
          "Ann Arbor, MI 48104",
          "119 North Ingalls Street Ann Arbor, MI 48104",
          "119 North Ingalls Street Ann Arbor, MI 48104",
          "119 North Ingalls Street Ann Arbor, MI 48104",
          "119 North Ingalls Street Ann Arbor, MI 48104",
          "114 East Kingsley Street Ann Arbor, MI 48104",
          "114 East Kingsley Street Ann Arbor, MI 48104",
          "114 East Kingsley Street Ann Arbor, MI 48104",
          "114 East Kingsley Street Ann Arbor, MI 48104",
          "425 East Washington Street Ann Arbor, MI 48104",
          "425 East Washington Street Ann Arbor, MI 48104",
          "425 East Washington Street Ann Arbor, MI 48104",
          "425 East Washington Street Ann Arbor, MI 48104",
          "411 East Washington Street Ann Arbor, MI 48104",
          "411 East Washington Street Ann Arbor, MI 48104",
          "411 East Washington Street Ann Arbor, MI 48104",
          "411 East Washington Street Ann Arbor, MI 48104",
          "502 North State Street Ann Arbor, MI 48104",
          "502 North State Street Ann Arbor, MI 48104",
          "502 North State Street Ann Arbor, MI 48104",
          "502 North State Street Ann Arbor, MI 48104",
          "411 East Washington Street Ann Arbor, MI 48104",
          "411 East Washington Street Ann Arbor, MI 48104",
          "411 East Washington Street Ann Arbor, MI 48104",
          "411 East Washington Street Ann Arbor, MI 48104",
          "210 North State Street Ann Arbor, MI 48104",
          "210 North State Street Ann Arbor, MI 48104",
          "210 North State Street Ann Arbor, MI 48104",
          "210 North State Street Ann Arbor, MI 48104",
          "425 East Washington Street Ann Arbor, MI 48104",
          "425 East Washington Street Ann Arbor, MI 48104",
          "425 East Washington Street Ann Arbor, MI 48104",
          "425 East Washington Street Ann Arbor, MI 48104",
          "425 East Washington Street Ann Arbor, MI 48104",
          "425 East Washington Street Ann Arbor, MI 48104",
          "603 E Huron St Ann Arbor, MI 48104",
          "603 E Huron St Ann Arbor, MI 48104",
          "603 E Huron St Ann Arbor, MI 48104",
          "603 E Huron St Ann Arbor, MI 48104",
          "603 E Huron St Ann Arbor, MI 48104",
          "603 E Huron St Ann Arbor, MI 48104",
          "Ann Arbor, MI 48104",
          "Ann Arbor, MI 48104",
          "Ann Arbor, MI 48104",
          "Ann Arbor, MI 48104",
          "Ann Arbor, MI 48104",
          "Ann Arbor, MI 48104",
          "813 East Kingsley Street Ann Arbor, MI 48104",
          "813 East Kingsley Street Ann Arbor, MI 48104",
          "813 East Kingsley Street Ann Arbor, MI 48104",
          "813 East Kingsley Street Ann Arbor, MI 48104",
          "Ann Arbor, MI 48104",
          "Ann Arbor, MI 48104",
          "Ann Arbor, MI 48104",
          "Ann Arbor, MI 48104",
          "413 East Huron Street Ann Arbor, MI 48104",
          "413 East Huron Street Ann Arbor, MI 48104",
          "413 East Huron Street Ann Arbor, MI 48104",
          "413 East Huron Street Ann Arbor, MI 48104",
          "413 East Huron Street Ann Arbor, MI 48104",
          "413 East Huron Street Ann Arbor, MI 48104",
          "425 East Washington Street Ann Arbor, MI 48104",
          "425 East Washington Street Ann Arbor, MI 48104",
          "425 East Washington Street Ann Arbor, MI 48104",
          "425 East Washington Street Ann Arbor, MI 48104",
          "425 East Washington Street Ann Arbor, MI 48104",
          "425 East Washington Street Ann Arbor, MI 48104",
          "540 Detroit Street Ann Arbor, MI 48104",
          "540 Detroit Street Ann Arbor, MI 48104",
          "540 Detroit Street Ann Arbor, MI 48104",
          "540 Detroit Street Ann Arbor, MI 48104",
          "540 Detroit Street Ann Arbor, MI 48104",
          "540 Detroit Street Ann Arbor, MI 48104",
          "540 Detroit Street Ann Arbor, MI 48104",
          "540 Detroit Street Ann Arbor, MI 48104",
          "540 Detroit Street Ann Arbor, MI 48104",
          "540 Detroit Street Ann Arbor, MI 48104",
          "540 Detroit Street Ann Arbor, MI 48104",
          "540 Detroit Street Ann Arbor, MI 48104",
          "540 Detroit Street Ann Arbor, MI 48104",
          "540 Detroit Street Ann Arbor, MI 48104",
          "603 East Huron Street Ann Arbor, MI 48104",
          "603 East Huron Street Ann Arbor, MI 48104",
          "603 East Huron Street Ann Arbor, MI 48104",
          "603 East Huron Street Ann Arbor, MI 48104",
          "603 East Huron Street Ann Arbor, MI 48104",
          "603 East Huron Street Ann Arbor, MI 48104",
          "413 East Huron Street Ann Arbor, MI 48104",
          "413 East Huron Street Ann Arbor, MI 48104",
          "413 East Huron Street Ann Arbor, MI 48104",
          "413 East Huron Street Ann Arbor, MI 48104",
          "413 East Huron Street Ann Arbor, MI 48104",
          "413 East Huron Street Ann Arbor, MI 48104",
          "544 North State Street Ann Arbor, MI 48104",
          "544 North State Street Ann Arbor, MI 48104",
          "544 North State Street Ann Arbor, MI 48104",
          "544 North State Street Ann Arbor, MI 48104",
          "544 North State Street Ann Arbor, MI 48104",
          "544 North State Street Ann Arbor, MI 48104",
          "719 North 4th Avenue Ann Arbor, MI 48104",
          "719 North 4th Avenue Ann Arbor, MI 48104",
          "719 North 4th Avenue Ann Arbor, MI 48104",
          "719 North 4th Avenue Ann Arbor, MI 48104",
          "719 North 4th Avenue Ann Arbor, MI 48104",
          "719 North 4th Avenue Ann Arbor, MI 48104"
         ],
         "lat": [
          42.2812782626,
          42.2812782626,
          42.2812782626,
          42.2812782626,
          42.2812782626,
          42.2812782626,
          42.2812782626,
          42.2826902653,
          42.2806341,
          42.2806341,
          42.2806341,
          42.2806341,
          42.2806341,
          42.2814235,
          42.2814235,
          42.2814235,
          42.2814235,
          42.2814235,
          42.2823642854,
          42.2824433265,
          42.2832735306,
          42.2853217551,
          42.2853217551,
          42.2853217551,
          42.2852226531,
          42.2852226531,
          42.2852226531,
          42.2848064898,
          42.2824653469,
          42.2824653469,
          42.2824653469,
          42.2824653469,
          42.2824653469,
          42.2824653469,
          42.2823646797,
          42.2823646797,
          42.2823646797,
          42.2823646797,
          42.2823646797,
          42.2823646797,
          42.2873812213,
          42.2873812213,
          42.2873812213,
          42.2873812213,
          42.2873812213,
          42.2873812213,
          42.2849348571,
          42.2849348571,
          42.2849348571,
          42.2849348571,
          42.2849348571,
          42.2849348571,
          42.2824842245,
          42.2824842245,
          42.2824842245,
          42.2824842245,
          42.2824842245,
          42.2824842245,
          42.2824974286,
          42.2824974286,
          42.2824974286,
          42.2824974286,
          42.2824974286,
          42.2824974286,
          42.28430925,
          42.2838542857,
          42.2838542857,
          42.2838542857,
          42.2838542857,
          42.2838542857,
          42.2838542857,
          42.2877585833,
          42.2877585833,
          42.2877585833,
          42.2877585833,
          42.2854203482,
          42.2854203482,
          42.2854203482,
          42.2854203482,
          42.2859364,
          42.2859364,
          42.2859364,
          42.2859364,
          42.2804787,
          42.2804787,
          42.2804787,
          42.2804787,
          42.2824526735,
          42.2824526735,
          42.2824526735,
          42.2824526735,
          42.2814235,
          42.2814235,
          42.2814235,
          42.2814235,
          42.2862615557,
          42.2862615557,
          42.2862615557,
          42.2862615557,
          42.2804787,
          42.2804787,
          42.2804787,
          42.2804787,
          42.2681569,
          42.2681569,
          42.2681569,
          42.2681569,
          42.28377665,
          42.28377665,
          42.28377665,
          42.28377665,
          42.2681569,
          42.2681569,
          42.2681569,
          42.2681569,
          42.2681569,
          42.2681569,
          42.2681569,
          42.2681569,
          42.2815064898,
          42.2815064898,
          42.2815064898,
          42.2815064898,
          42.2848077143,
          42.2848077143,
          42.2848077143,
          42.2848077143,
          42.2806341,
          42.2806341,
          42.2806341,
          42.2806341,
          42.2804787,
          42.2804787,
          42.2804787,
          42.2804787,
          42.2850050216,
          42.2850050216,
          42.2850050216,
          42.2850050216,
          42.2804787,
          42.2804787,
          42.2804787,
          42.2804787,
          42.2824102041,
          42.2824102041,
          42.2824102041,
          42.2824102041,
          42.2806341,
          42.2806341,
          42.2806341,
          42.2806341,
          42.2806341,
          42.2806341,
          42.2812782626,
          42.2812782626,
          42.2812782626,
          42.2812782626,
          42.2812782626,
          42.2812782626,
          42.2681569,
          42.2681569,
          42.2681569,
          42.2681569,
          42.2681569,
          42.2681569,
          42.284977,
          42.284977,
          42.284977,
          42.284977,
          42.2681569,
          42.2681569,
          42.2681569,
          42.2681569,
          42.2814235,
          42.2814235,
          42.2814235,
          42.2814235,
          42.2814235,
          42.2814235,
          42.2806341,
          42.2806341,
          42.2806341,
          42.2806341,
          42.2806341,
          42.2806341,
          42.2854781937,
          42.2854781937,
          42.2854781937,
          42.2854781937,
          42.2854781937,
          42.2854781937,
          42.2854781937,
          42.2854781937,
          42.2854781937,
          42.2854781937,
          42.2854781937,
          42.2854781937,
          42.2854781937,
          42.2854781937,
          42.2812782626,
          42.2812782626,
          42.2812782626,
          42.2812782626,
          42.2812782626,
          42.2812782626,
          42.2814235,
          42.2814235,
          42.2814235,
          42.2814235,
          42.2814235,
          42.2814235,
          42.285667621,
          42.285667621,
          42.285667621,
          42.285667621,
          42.285667621,
          42.285667621,
          42.287008592,
          42.287008592,
          42.287008592,
          42.287008592,
          42.287008592,
          42.287008592
         ],
         "legendgroup": "Old Fourth Ward",
         "lon": [
          -83.7406910202,
          -83.7406910202,
          -83.7406910202,
          -83.7406910202,
          -83.7406910202,
          -83.7406910202,
          -83.7406910202,
          -83.7507644286,
          -83.7430253445,
          -83.7430253445,
          -83.7430253445,
          -83.7430253445,
          -83.7430253445,
          -83.7343719,
          -83.7343719,
          -83.7343719,
          -83.7343719,
          -83.7343719,
          -83.7427453151,
          -83.7408169592,
          -83.7408416122,
          -83.7494035714,
          -83.7494035714,
          -83.7494035714,
          -83.7494081429,
          -83.7494081429,
          -83.7494081429,
          -83.7479795102,
          -83.743635551,
          -83.743635551,
          -83.743635551,
          -83.743635551,
          -83.743635551,
          -83.743635551,
          -83.7427621288,
          -83.7427621288,
          -83.7427621288,
          -83.7427621288,
          -83.7427621288,
          -83.7427621288,
          -83.744603926,
          -83.744603926,
          -83.744603926,
          -83.744603926,
          -83.744603926,
          -83.744603926,
          -83.7467733061,
          -83.7467733061,
          -83.7467733061,
          -83.7467733061,
          -83.7467733061,
          -83.7467733061,
          -83.7458197143,
          -83.7458197143,
          -83.7458197143,
          -83.7458197143,
          -83.7458197143,
          -83.7458197143,
          -83.745819,
          -83.745819,
          -83.745819,
          -83.745819,
          -83.745819,
          -83.745819,
          -83.7407064694,
          -83.740681,
          -83.740681,
          -83.740681,
          -83.740681,
          -83.740681,
          -83.740681,
          -83.7505667324,
          -83.7505667324,
          -83.7505667324,
          -83.7505667324,
          -83.7408813722,
          -83.7408813722,
          -83.7408813722,
          -83.7408813722,
          -83.7391141409,
          -83.7391141409,
          -83.7391141409,
          -83.7391141409,
          -83.7434586,
          -83.7434586,
          -83.7434586,
          -83.7434586,
          -83.7438577755,
          -83.7438577755,
          -83.7438577755,
          -83.7438577755,
          -83.7343719,
          -83.7343719,
          -83.7343719,
          -83.7343719,
          -83.7397572565,
          -83.7397572565,
          -83.7397572565,
          -83.7397572565,
          -83.7434586,
          -83.7434586,
          -83.7434586,
          -83.7434586,
          -83.7312291,
          -83.7312291,
          -83.7312291,
          -83.7312291,
          -83.7388695539,
          -83.7388695539,
          -83.7388695539,
          -83.7388695539,
          -83.7312291,
          -83.7312291,
          -83.7312291,
          -83.7312291,
          -83.7312291,
          -83.7312291,
          -83.7312291,
          -83.7312291,
          -83.7385142653,
          -83.7385142653,
          -83.7385142653,
          -83.7385142653,
          -83.7480182857,
          -83.7480182857,
          -83.7480182857,
          -83.7480182857,
          -83.7430253445,
          -83.7430253445,
          -83.7430253445,
          -83.7430253445,
          -83.7434586,
          -83.7434586,
          -83.7434586,
          -83.7434586,
          -83.740893,
          -83.740893,
          -83.740893,
          -83.740893,
          -83.7434586,
          -83.7434586,
          -83.7434586,
          -83.7434586,
          -83.7408162245,
          -83.7408162245,
          -83.7408162245,
          -83.7408162245,
          -83.7430253445,
          -83.7430253445,
          -83.7430253445,
          -83.7430253445,
          -83.7430253445,
          -83.7430253445,
          -83.7406910202,
          -83.7406910202,
          -83.7406910202,
          -83.7406910202,
          -83.7406910202,
          -83.7406910202,
          -83.7312291,
          -83.7312291,
          -83.7312291,
          -83.7312291,
          -83.7312291,
          -83.7312291,
          -83.739296,
          -83.739296,
          -83.739296,
          -83.739296,
          -83.7312291,
          -83.7312291,
          -83.7312291,
          -83.7312291,
          -83.7343719,
          -83.7343719,
          -83.7343719,
          -83.7343719,
          -83.7343719,
          -83.7343719,
          -83.7430253445,
          -83.7430253445,
          -83.7430253445,
          -83.7430253445,
          -83.7430253445,
          -83.7430253445,
          -83.7443824857,
          -83.7443824857,
          -83.7443824857,
          -83.7443824857,
          -83.7443824857,
          -83.7443824857,
          -83.7443824857,
          -83.7443824857,
          -83.7443824857,
          -83.7443824857,
          -83.7443824857,
          -83.7443824857,
          -83.7443824857,
          -83.7443824857,
          -83.7406910202,
          -83.7406910202,
          -83.7406910202,
          -83.7406910202,
          -83.7406910202,
          -83.7406910202,
          -83.7343719,
          -83.7343719,
          -83.7343719,
          -83.7343719,
          -83.7343719,
          -83.7343719,
          -83.7408155797,
          -83.7408155797,
          -83.7408155797,
          -83.7408155797,
          -83.7408155797,
          -83.7408155797,
          -83.7467269807,
          -83.7467269807,
          -83.7467269807,
          -83.7467269807,
          -83.7467269807,
          -83.7467269807
         ],
         "marker": {
          "color": "#3283FE"
         },
         "mode": "markers",
         "name": "Old Fourth Ward",
         "showlegend": true,
         "subplot": "mapbox",
         "type": "scattermapbox"
        },
        {
         "customdata": [
          [
           2200
          ],
          [
           1570
          ],
          [
           1175
          ],
          [
           1447.5
          ],
          [
           897.5
          ],
          [
           900
          ],
          [
           900
          ],
          [
           900
          ],
          [
           900
          ],
          [
           900
          ],
          [
           900
          ],
          [
           900
          ],
          [
           900
          ],
          [
           977.5
          ],
          [
           1000
          ],
          [
           1000
          ],
          [
           1000
          ],
          [
           1000
          ],
          [
           1000
          ],
          [
           1000
          ],
          [
           1045
          ],
          [
           1499
          ],
          [
           1095
          ],
          [
           1895
          ],
          [
           1125
          ],
          [
           1125
          ],
          [
           1125
          ],
          [
           1145
          ],
          [
           1145
          ],
          [
           1195
          ],
          [
           1295
          ],
          [
           1295
          ],
          [
           1295
          ],
          [
           1295
          ],
          [
           1295
          ],
          [
           1295
          ],
          [
           1295
          ],
          [
           1625
          ],
          [
           1845
          ],
          [
           1525
          ],
          [
           1675
          ],
          [
           1825
          ],
          [
           1850
          ],
          [
           1600
          ],
          [
           1649
          ],
          [
           1762.5
          ],
          [
           3795
          ],
          [
           3995
          ],
          [
           1740
          ],
          [
           1865
          ],
          [
           2495
          ],
          [
           2696
          ],
          [
           2895
          ],
          [
           1760
          ],
          [
           1760
          ],
          [
           1760
          ],
          [
           1760
          ],
          [
           1760
          ],
          [
           1760
          ],
          [
           2150
          ],
          [
           2150
          ],
          [
           2150
          ],
          [
           2150
          ],
          [
           2150
          ],
          [
           2150
          ],
          [
           2150
          ],
          [
           2150
          ],
          [
           2150
          ],
          [
           2900
          ],
          [
           2900
          ],
          [
           2900
          ],
          [
           2900
          ],
          [
           2900
          ],
          [
           2900
          ],
          [
           3600
          ],
          [
           3600
          ],
          [
           3600
          ],
          [
           3600
          ],
          [
           3600
          ],
          [
           3600
          ],
          [
           830
          ],
          [
           830
          ],
          [
           830
          ],
          [
           830
          ],
          [
           830
          ],
          [
           830
          ],
          [
           830
          ],
          [
           830
          ],
          [
           830
          ],
          [
           830
          ],
          [
           830
          ],
          [
           830
          ],
          [
           6400
          ],
          [
           7600
          ],
          [
           450
          ],
          [
           450
          ],
          [
           450
          ],
          [
           450
          ],
          [
           475
          ],
          [
           475
          ],
          [
           475
          ],
          [
           475
          ],
          [
           540
          ],
          [
           540
          ],
          [
           540
          ],
          [
           540
          ],
          [
           600
          ],
          [
           600
          ],
          [
           600
          ],
          [
           600
          ],
          [
           600
          ],
          [
           600
          ],
          [
           600
          ],
          [
           600
          ],
          [
           600
          ],
          [
           600
          ],
          [
           600
          ],
          [
           600
          ],
          [
           700
          ],
          [
           700
          ],
          [
           700
          ],
          [
           700
          ],
          [
           750
          ],
          [
           750
          ],
          [
           750
          ],
          [
           750
          ],
          [
           900
          ],
          [
           900
          ],
          [
           900
          ],
          [
           900
          ],
          [
           900
          ],
          [
           900
          ],
          [
           900
          ],
          [
           900
          ],
          [
           925
          ],
          [
           925
          ],
          [
           925
          ],
          [
           925
          ],
          [
           950
          ],
          [
           950
          ],
          [
           950
          ],
          [
           950
          ],
          [
           950
          ],
          [
           950
          ],
          [
           950
          ],
          [
           950
          ],
          [
           950
          ],
          [
           950
          ],
          [
           950
          ],
          [
           950
          ],
          [
           960
          ],
          [
           960
          ],
          [
           960
          ],
          [
           960
          ],
          [
           1100
          ],
          [
           1100
          ],
          [
           1100
          ],
          [
           1100
          ],
          [
           1100
          ],
          [
           1100
          ],
          [
           1350
          ],
          [
           1350
          ],
          [
           1350
          ],
          [
           1350
          ],
          [
           1350
          ],
          [
           1350
          ],
          [
           1400
          ],
          [
           1400
          ],
          [
           1400
          ],
          [
           1400
          ],
          [
           1400
          ],
          [
           1400
          ],
          [
           1450
          ],
          [
           1450
          ],
          [
           1450
          ],
          [
           1450
          ],
          [
           1450
          ],
          [
           1450
          ],
          [
           1950
          ],
          [
           1950
          ],
          [
           1950
          ],
          [
           1950
          ],
          [
           1950
          ],
          [
           1950
          ]
         ],
         "hoverlabel": {
          "namelength": 0
         },
         "hovertemplate": "<b>%{hovertext}</b><br><br>neighborhood=Germantown<br>price=%{customdata[0]}<br>lat=%{lat}<br>lon=%{lon}",
         "hovertext": [
          "401 Thompson Street Ann Arbor, MI 48104",
          "401 Thompson Street Ann Arbor, MI 48104",
          "401 Thompson Street Ann Arbor, MI 48104",
          "350 Thompson Ann Arbor, MI 48104",
          "226 Packard Street Ann Arbor, MI 48104",
          "538 South 5th Avenue Ann Arbor, MI 48104",
          "538 South 5th Avenue Ann Arbor, MI 48104",
          "538 South 5th Avenue Ann Arbor, MI 48104",
          "538 South 5th Avenue Ann Arbor, MI 48104",
          "538 South 5th Avenue Ann Arbor, MI 48104",
          "538 South 5th Avenue Ann Arbor, MI 48104",
          "538 South 5th Avenue Ann Arbor, MI 48104",
          "538 South 5th Avenue Ann Arbor, MI 48104",
          "320 South Division Street #10 Ann Arbor, MI 48104",
          "328 East Jefferson Street Ann Arbor, MI 48104",
          "328 East Jefferson Street Ann Arbor, MI 48104",
          "328 East Jefferson Street Ann Arbor, MI 48104",
          "328 East Jefferson Street Ann Arbor, MI 48104",
          "328 East Jefferson Street Ann Arbor, MI 48104",
          "328 East Jefferson Street Ann Arbor, MI 48104",
          "554 S 5th Ave Ann Arbor, MI 48104",
          "554 S 5th Ave Ann Arbor, MI 48104",
          "536 S 4th Ave Ann Arbor, MI 48104",
          "536 S 4th Ave Ann Arbor, MI 48104",
          "551 S 4th Ave Ann Arbor, MI 48104",
          "551 S 4th Ave Ann Arbor, MI 48104",
          "551 S 4th Ave Ann Arbor, MI 48104",
          "553 S 4th Ave Ann Arbor, MI 48104",
          "553 S 4th Ave Ann Arbor, MI 48104",
          "553 S 4th Ave Ann Arbor, MI 48104",
          "414 S Division St Ann Arbor, MI 48104",
          "414 S Division St Ann Arbor, MI 48104",
          "414 S Division St Ann Arbor, MI 48104",
          "414 S Division St Ann Arbor, MI 48104",
          "414 S Division St Ann Arbor, MI 48104",
          "414 S Division St Ann Arbor, MI 48104",
          "527 S 4th Ave Ann Arbor, MI 48104",
          "527 S 4th Ave Ann Arbor, MI 48104",
          "527 S 4th Ave Ann Arbor, MI 48104",
          "555 East William Street Ann Arbor, MI 48104",
          "555 East William Street Ann Arbor, MI 48104",
          "555 East William Street Ann Arbor, MI 48104",
          "555 East William Street Ann Arbor, MI 48104",
          "400 Maynard Street Ann Arbor, MI 48103",
          "400 Maynard Street Ann Arbor, MI 48103",
          "400 Maynard Street Ann Arbor, MI 48103",
          "400 Maynard Street Ann Arbor, MI 48103",
          "400 Maynard Street Ann Arbor, MI 48103",
          "518 E William St Ann Arbor, MI 48104",
          "518 E William St Ann Arbor, MI 48104",
          "518 E William St Ann Arbor, MI 48104",
          "518 E William St Ann Arbor, MI 48104",
          "518 E William St Ann Arbor, MI 48104",
          "555 East William Street Ann Arbor, MI 48104-2426",
          "555 East William Street Ann Arbor, MI 48104-2426",
          "555 East William Street Ann Arbor, MI 48104-2426",
          "555 East William Street Ann Arbor, MI 48104-2426",
          "555 East William Street Ann Arbor, MI 48104-2426",
          "555 East William Street Ann Arbor, MI 48104-2426",
          "403 5th Ave Ann Arbor, MI 48104",
          "403 5th Ave Ann Arbor, MI 48104",
          "403 5th Ave Ann Arbor, MI 48104",
          "403 South 5th Avenue Ann Arbor, MI 48104",
          "403 South 5th Avenue Ann Arbor, MI 48104",
          "403 South 5th Avenue Ann Arbor, MI 48104",
          "403 South 5th Avenue Ann Arbor, MI 48104",
          "403 South 5th Avenue Ann Arbor, MI 48104",
          "403 South 5th Avenue Ann Arbor, MI 48104",
          "555 East William Street Apt 26 H-I Ann Arbor, MI 48104",
          "555 East William Street Apt 26 H-I Ann Arbor, MI 48104",
          "555 East William Street Apt 26 H-I Ann Arbor, MI 48104",
          "555 East William Street Apt 26 H-I Ann Arbor, MI 48104",
          "555 East William Street Apt 26 H-I Ann Arbor, MI 48104",
          "555 East William Street Apt 26 H-I Ann Arbor, MI 48104",
          "524 South 4th Avenue Ann Arbor, MI 48104",
          "524 South 4th Avenue Ann Arbor, MI 48104",
          "524 South 4th Avenue Ann Arbor, MI 48104",
          "524 South 4th Avenue Ann Arbor, MI 48104",
          "524 South 4th Avenue Ann Arbor, MI 48104",
          "524 South 4th Avenue Ann Arbor, MI 48104",
          "402 East Jefferson Street Ann Arbor, MI 48104",
          "402 East Jefferson Street Ann Arbor, MI 48104",
          "402 East Jefferson Street Ann Arbor, MI 48104",
          "402 East Jefferson Street Ann Arbor, MI 48104",
          "402 East Jefferson Street Ann Arbor, MI 48104",
          "402 East Jefferson Street Ann Arbor, MI 48104",
          "402 East Jefferson Street Ann Arbor, MI 48104",
          "402 East Jefferson Street Ann Arbor, MI 48104",
          "402 East Jefferson Street Ann Arbor, MI 48104",
          "402 East Jefferson Street Ann Arbor, MI 48104",
          "402 East Jefferson Street Ann Arbor, MI 48104",
          "402 East Jefferson Street Ann Arbor, MI 48104",
          "410 E William St Ann Arbor, MI 48104",
          "319 East Jefferson Street Ann Arbor, MI 48104",
          "512 South Division Street Ann Arbor, MI 48104",
          "512 South Division Street Ann Arbor, MI 48104",
          "512 South Division Street Ann Arbor, MI 48104",
          "512 South Division Street Ann Arbor, MI 48104",
          "321 South Division Street Ann Arbor, MI 48104",
          "321 South Division Street Ann Arbor, MI 48104",
          "321 South Division Street Ann Arbor, MI 48104",
          "321 South Division Street Ann Arbor, MI 48104",
          "401 Thompson Street Ann Arbor, MI 48104",
          "401 Thompson Street Ann Arbor, MI 48104",
          "401 Thompson Street Ann Arbor, MI 48104",
          "401 Thompson Street Ann Arbor, MI 48104",
          "Ann Arbor, MI 48104",
          "Ann Arbor, MI 48104",
          "Ann Arbor, MI 48104",
          "Ann Arbor, MI 48104",
          "Ann Arbor, MI 48104",
          "Ann Arbor, MI 48104",
          "Ann Arbor, MI 48104",
          "Ann Arbor, MI 48104",
          "Ann Arbor, MI 48104",
          "Ann Arbor, MI 48104",
          "Ann Arbor, MI 48104",
          "Ann Arbor, MI 48104",
          "350 Thompson Street Ann Arbor, MI 48104",
          "350 Thompson Street Ann Arbor, MI 48104",
          "350 Thompson Street Ann Arbor, MI 48104",
          "350 Thompson Street Ann Arbor, MI 48104",
          "307 Thompson Street Ann Arbor, MI 48104",
          "307 Thompson Street Ann Arbor, MI 48104",
          "307 Thompson Street Ann Arbor, MI 48104",
          "307 Thompson Street Ann Arbor, MI 48104",
          "401 Thompson Street Ann Arbor, MI 48104",
          "401 Thompson Street Ann Arbor, MI 48104",
          "401 Thompson Street Ann Arbor, MI 48104",
          "401 Thompson Street Ann Arbor, MI 48104",
          "Ann Arbor, MI 48104",
          "Ann Arbor, MI 48104",
          "Ann Arbor, MI 48104",
          "Ann Arbor, MI 48104",
          "401 South Division Street Ann Arbor, MI 48104",
          "401 South Division Street Ann Arbor, MI 48104",
          "401 South Division Street Ann Arbor, MI 48104",
          "401 South Division Street Ann Arbor, MI 48104",
          "317 East Jefferson Street Ann Arbor, MI 48104",
          "317 East Jefferson Street Ann Arbor, MI 48104",
          "317 East Jefferson Street Ann Arbor, MI 48104",
          "317 East Jefferson Street Ann Arbor, MI 48104",
          "Ann Arbor, MI 48104",
          "Ann Arbor, MI 48104",
          "Ann Arbor, MI 48104",
          "Ann Arbor, MI 48104",
          "508 South Division Street Ann Arbor, MI 48104",
          "508 South Division Street Ann Arbor, MI 48104",
          "508 South Division Street Ann Arbor, MI 48104",
          "508 South Division Street Ann Arbor, MI 48104",
          "311 Thompson Street Ann Arbor, MI 48104",
          "311 Thompson Street Ann Arbor, MI 48104",
          "311 Thompson Street Ann Arbor, MI 48104",
          "311 Thompson Street Ann Arbor, MI 48104",
          "220 Packard Street Ann Arbor, MI 48104",
          "220 Packard Street Ann Arbor, MI 48104",
          "220 Packard Street Ann Arbor, MI 48104",
          "220 Packard Street Ann Arbor, MI 48104",
          "220 Packard Street Ann Arbor, MI 48104",
          "220 Packard Street Ann Arbor, MI 48104",
          "555 East William Street Apt. 12B Ann Arbor, MI 48104",
          "555 East William Street Apt. 12B Ann Arbor, MI 48104",
          "555 East William Street Apt. 12B Ann Arbor, MI 48104",
          "555 East William Street Apt. 12B Ann Arbor, MI 48104",
          "555 East William Street Apt. 12B Ann Arbor, MI 48104",
          "555 East William Street Apt. 12B Ann Arbor, MI 48104",
          "332 South Division Street Ann Arbor, MI 48104",
          "332 South Division Street Ann Arbor, MI 48104",
          "332 South Division Street Ann Arbor, MI 48104",
          "332 South Division Street Ann Arbor, MI 48104",
          "332 South Division Street Ann Arbor, MI 48104",
          "332 South Division Street Ann Arbor, MI 48104",
          "555 East William Street Ann Arbor, MI 48104",
          "555 East William Street Ann Arbor, MI 48104",
          "555 East William Street Ann Arbor, MI 48104",
          "555 East William Street Ann Arbor, MI 48104",
          "555 East William Street Ann Arbor, MI 48104",
          "555 East William Street Ann Arbor, MI 48104",
          "332 South Division Street Ann Arbor, MI 48104",
          "332 South Division Street Ann Arbor, MI 48104",
          "332 South Division Street Ann Arbor, MI 48104",
          "332 South Division Street Ann Arbor, MI 48104",
          "332 South Division Street Ann Arbor, MI 48104",
          "332 South Division Street Ann Arbor, MI 48104"
         ],
         "lat": [
          42.27763425,
          42.27763425,
          42.27763425,
          42.27818315,
          42.2759186122,
          42.27496695,
          42.27496695,
          42.27496695,
          42.27496695,
          42.27496695,
          42.27496695,
          42.27496695,
          42.27496695,
          42.27875505,
          42.27598235,
          42.27598235,
          42.27598235,
          42.27598235,
          42.27598235,
          42.27598235,
          42.2744802,
          42.2744802,
          42.2749744,
          42.2749744,
          42.27446795,
          42.27446795,
          42.27446795,
          42.27437705,
          42.27437705,
          42.27437705,
          42.27728135,
          42.27728135,
          42.27728135,
          42.27728135,
          42.27728135,
          42.27728135,
          42.275148,
          42.275148,
          42.275148,
          42.2780156,
          42.2780156,
          42.2780156,
          42.2780156,
          42.2776215,
          42.2776215,
          42.2776215,
          42.2776215,
          42.2776215,
          42.2777291,
          42.2777291,
          42.2777291,
          42.2777291,
          42.2777291,
          42.2780156,
          42.2780156,
          42.2780156,
          42.2780156,
          42.2780156,
          42.2780156,
          42.2834285,
          42.2834285,
          42.2834285,
          42.2777207143,
          42.2777207143,
          42.2777207143,
          42.2777207143,
          42.2777207143,
          42.2777207143,
          42.2780156,
          42.2780156,
          42.2780156,
          42.2780156,
          42.2780156,
          42.2780156,
          42.27525635,
          42.27525635,
          42.27525635,
          42.27525635,
          42.27525635,
          42.27525635,
          42.2759991,
          42.2759991,
          42.2759991,
          42.2759991,
          42.2759991,
          42.2759991,
          42.2759991,
          42.2759991,
          42.2759991,
          42.2759991,
          42.2759991,
          42.2759991,
          42.2776451,
          42.27646555,
          42.27570685,
          42.27570685,
          42.27570685,
          42.27570685,
          42.2786804,
          42.2786804,
          42.2786804,
          42.2786804,
          42.27763425,
          42.27763425,
          42.27763425,
          42.27763425,
          42.2681569,
          42.2681569,
          42.2681569,
          42.2681569,
          42.2681569,
          42.2681569,
          42.2681569,
          42.2681569,
          42.2681569,
          42.2681569,
          42.2681569,
          42.2681569,
          42.27818315,
          42.27818315,
          42.27818315,
          42.27818315,
          42.2792214286,
          42.2792214286,
          42.2792214286,
          42.2792214286,
          42.27763425,
          42.27763425,
          42.27763425,
          42.27763425,
          42.2681569,
          42.2681569,
          42.2681569,
          42.2681569,
          42.277698,
          42.277698,
          42.277698,
          42.277698,
          42.2764317,
          42.2764317,
          42.2764317,
          42.2764317,
          42.2681569,
          42.2681569,
          42.2681569,
          42.2681569,
          42.27582215,
          42.27582215,
          42.27582215,
          42.27582215,
          42.2791677143,
          42.2791677143,
          42.2791677143,
          42.2791677143,
          42.2755723,
          42.2755723,
          42.2755723,
          42.2755723,
          42.2755723,
          42.2755723,
          42.2780156,
          42.2780156,
          42.2780156,
          42.2780156,
          42.2780156,
          42.2780156,
          42.2783781,
          42.2783781,
          42.2783781,
          42.2783781,
          42.2783781,
          42.2783781,
          42.2780156,
          42.2780156,
          42.2780156,
          42.2780156,
          42.2780156,
          42.2780156,
          42.2783781,
          42.2783781,
          42.2783781,
          42.2783781,
          42.2783781,
          42.2783781
         ],
         "legendgroup": "Germantown",
         "lon": [
          -83.7429352602,
          -83.7429352602,
          -83.7429352602,
          -83.7434466361,
          -83.7472002857,
          -83.7465825157,
          -83.7465825157,
          -83.7465825157,
          -83.7465825157,
          -83.7465825157,
          -83.7465825157,
          -83.7465825157,
          -83.7465825157,
          -83.7444522088,
          -83.7449858004,
          -83.7449858004,
          -83.7449858004,
          -83.7449858004,
          -83.7449858004,
          -83.7449858004,
          -83.7466344,
          -83.7466344,
          -83.7478372,
          -83.7478372,
          -83.7472366839,
          -83.7472366839,
          -83.7472366839,
          -83.7473452515,
          -83.7473452515,
          -83.7473452515,
          -83.7444433108,
          -83.7444433108,
          -83.7444433108,
          -83.7444433108,
          -83.7444433108,
          -83.7444433108,
          -83.7472926247,
          -83.7472926247,
          -83.7472926247,
          -83.7423668957,
          -83.7423668957,
          -83.7423668957,
          -83.7423668957,
          -83.742253763,
          -83.742253763,
          -83.742253763,
          -83.742253763,
          -83.742253763,
          -83.7423622,
          -83.7423622,
          -83.7423622,
          -83.7423622,
          -83.7423622,
          -83.7423668957,
          -83.7423668957,
          -83.7423668957,
          -83.7423668957,
          -83.7423668957,
          -83.7423668957,
          -83.5179413,
          -83.5179413,
          -83.5179413,
          -83.7460804286,
          -83.7460804286,
          -83.7460804286,
          -83.7460804286,
          -83.7460804286,
          -83.7460804286,
          -83.7423668957,
          -83.7423668957,
          -83.7423668957,
          -83.7423668957,
          -83.7423668957,
          -83.7423668957,
          -83.7478206732,
          -83.7478206732,
          -83.7478206732,
          -83.7478206732,
          -83.7478206732,
          -83.7478206732,
          -83.74402375,
          -83.74402375,
          -83.74402375,
          -83.74402375,
          -83.74402375,
          -83.74402375,
          -83.74402375,
          -83.74402375,
          -83.74402375,
          -83.74402375,
          -83.74402375,
          -83.74402375,
          -83.7437300246,
          -83.7453838331,
          -83.7445470857,
          -83.7445470857,
          -83.7445470857,
          -83.7445470857,
          -83.7437447249,
          -83.7437447249,
          -83.7437447249,
          -83.7437447249,
          -83.7429352602,
          -83.7429352602,
          -83.7429352602,
          -83.7429352602,
          -83.7312291,
          -83.7312291,
          -83.7312291,
          -83.7312291,
          -83.7312291,
          -83.7312291,
          -83.7312291,
          -83.7312291,
          -83.7312291,
          -83.7312291,
          -83.7312291,
          -83.7312291,
          -83.7434466361,
          -83.7434466361,
          -83.7434466361,
          -83.7434466361,
          -83.7431442857,
          -83.7431442857,
          -83.7431442857,
          -83.7431442857,
          -83.7429352602,
          -83.7429352602,
          -83.7429352602,
          -83.7429352602,
          -83.7312291,
          -83.7312291,
          -83.7312291,
          -83.7312291,
          -83.744002,
          -83.744002,
          -83.744002,
          -83.744002,
          -83.7455542663,
          -83.7455542663,
          -83.7455542663,
          -83.7455542663,
          -83.7312291,
          -83.7312291,
          -83.7312291,
          -83.7312291,
          -83.7445171983,
          -83.7445171983,
          -83.7445171983,
          -83.7445171983,
          -83.7431431429,
          -83.7431431429,
          -83.7431431429,
          -83.7431431429,
          -83.7469095464,
          -83.7469095464,
          -83.7469095464,
          -83.7469095464,
          -83.7469095464,
          -83.7469095464,
          -83.7423668957,
          -83.7423668957,
          -83.7423668957,
          -83.7423668957,
          -83.7423668957,
          -83.7423668957,
          -83.7443992739,
          -83.7443992739,
          -83.7443992739,
          -83.7443992739,
          -83.7443992739,
          -83.7443992739,
          -83.7423668957,
          -83.7423668957,
          -83.7423668957,
          -83.7423668957,
          -83.7423668957,
          -83.7423668957,
          -83.7443992739,
          -83.7443992739,
          -83.7443992739,
          -83.7443992739,
          -83.7443992739,
          -83.7443992739
         ],
         "marker": {
          "color": "#85660D"
         },
         "mode": "markers",
         "name": "Germantown",
         "showlegend": true,
         "subplot": "mapbox",
         "type": "scattermapbox"
        },
        {
         "customdata": [
          [
           1305
          ],
          [
           1567.5
          ],
          [
           1642.5
          ],
          [
           1500
          ],
          [
           1500
          ],
          [
           1500
          ],
          [
           1500
          ],
          [
           1500
          ],
          [
           1575
          ],
          [
           1650
          ],
          [
           1650
          ],
          [
           1650
          ],
          [
           1650
          ],
          [
           1650
          ],
          [
           1650
          ],
          [
           1650
          ],
          [
           1650
          ],
          [
           1650
          ],
          [
           1650
          ],
          [
           1650
          ],
          [
           1650
          ],
          [
           1650
          ],
          [
           1650
          ],
          [
           1650
          ],
          [
           1650
          ],
          [
           500
          ],
          [
           500
          ],
          [
           500
          ],
          [
           500
          ],
          [
           675
          ],
          [
           675
          ],
          [
           675
          ],
          [
           675
          ],
          [
           1025
          ],
          [
           1295
          ],
          [
           1695
          ],
          [
           1045
          ],
          [
           1195
          ],
          [
           1245
          ],
          [
           1175
          ],
          [
           1250
          ],
          [
           1250
          ],
          [
           1425
          ],
          [
           1450
          ],
          [
           1325
          ],
          [
           1695
          ],
          [
           1795
          ],
          [
           1345
          ],
          [
           1550
          ],
          [
           1365
          ],
          [
           1365
          ],
          [
           1365
          ],
          [
           1365
          ],
          [
           1365
          ],
          [
           1365
          ],
          [
           1395
          ],
          [
           1565
          ],
          [
           1595
          ],
          [
           1475
          ],
          [
           1525
          ],
          [
           1575
          ],
          [
           1575
          ],
          [
           1550
          ],
          [
           1550
          ],
          [
           1550
          ],
          [
           1550
          ],
          [
           1550
          ],
          [
           1550
          ],
          [
           1675
          ],
          [
           1675
          ],
          [
           1675
          ],
          [
           1675
          ],
          [
           1675
          ],
          [
           1675
          ],
          [
           1695
          ],
          [
           1749
          ],
          [
           1895
          ],
          [
           945
          ],
          [
           945
          ],
          [
           945
          ],
          [
           945
          ],
          [
           2500
          ],
          [
           2500
          ],
          [
           2500
          ],
          [
           2500
          ],
          [
           2500
          ],
          [
           2500
          ],
          [
           650
          ],
          [
           650
          ],
          [
           650
          ],
          [
           650
          ],
          [
           650
          ],
          [
           650
          ],
          [
           650
          ],
          [
           650
          ],
          [
           675
          ],
          [
           675
          ],
          [
           675
          ],
          [
           675
          ],
          [
           752
          ],
          [
           752
          ],
          [
           752
          ],
          [
           752
          ],
          [
           760
          ],
          [
           760
          ],
          [
           760
          ],
          [
           760
          ],
          [
           800
          ],
          [
           800
          ],
          [
           800
          ],
          [
           800
          ],
          [
           850
          ],
          [
           850
          ],
          [
           850
          ],
          [
           850
          ],
          [
           500
          ],
          [
           500
          ],
          [
           500
          ],
          [
           500
          ],
          [
           1100
          ],
          [
           1100
          ],
          [
           1100
          ],
          [
           1100
          ],
          [
           1100
          ],
          [
           1100
          ],
          [
           1200
          ],
          [
           1200
          ],
          [
           1200
          ],
          [
           1200
          ],
          [
           1200
          ],
          [
           1200
          ],
          [
           1285
          ],
          [
           1285
          ],
          [
           1285
          ],
          [
           1285
          ],
          [
           1285
          ],
          [
           1285
          ],
          [
           1295
          ],
          [
           1295
          ],
          [
           1295
          ],
          [
           1295
          ],
          [
           1295
          ],
          [
           1295
          ],
          [
           1395
          ],
          [
           1395
          ],
          [
           1395
          ],
          [
           1395
          ],
          [
           1395
          ],
          [
           1395
          ],
          [
           1450
          ],
          [
           1450
          ],
          [
           1450
          ],
          [
           1450
          ],
          [
           1450
          ],
          [
           1450
          ],
          [
           1750
          ],
          [
           1750
          ],
          [
           1750
          ],
          [
           1750
          ],
          [
           1750
          ],
          [
           1750
          ],
          [
           600
          ],
          [
           600
          ],
          [
           600
          ],
          [
           600
          ],
          [
           1850
          ],
          [
           1850
          ],
          [
           1850
          ],
          [
           1850
          ],
          [
           1850
          ],
          [
           1850
          ],
          [
           2000
          ],
          [
           2000
          ],
          [
           2000
          ],
          [
           2000
          ],
          [
           2000
          ],
          [
           2000
          ],
          [
           2900
          ],
          [
           2900
          ],
          [
           2900
          ],
          [
           2900
          ],
          [
           2900
          ],
          [
           2900
          ],
          [
           750
          ],
          [
           750
          ],
          [
           750
          ],
          [
           750
          ],
          [
           750
          ],
          [
           750
          ],
          [
           750
          ],
          [
           750
          ],
          [
           750
          ],
          [
           750
          ],
          [
           750
          ],
          [
           750
          ]
         ],
         "hoverlabel": {
          "namelength": 0
         },
         "hovertemplate": "<b>%{hovertext}</b><br><br>neighborhood=Old West Side<br>price=%{customdata[0]}<br>lat=%{lat}<br>lon=%{lon}",
         "hovertext": [
          "545 Landings Boulevard Ann Arbor, MI 48103",
          "545 Landings Boulevard Ann Arbor, MI 48103",
          "545 Landings Boulevard Ann Arbor, MI 48103",
          "801 Miller Ann Arbor, MI 48103",
          "801 Miller Ann Arbor, MI 48103",
          "801 Miller Ann Arbor, MI 48103",
          "801 Miller Ann Arbor, MI 48103",
          "801 Miller Ann Arbor, MI 48103",
          "810 West Huron Street Ann Arbor, MI 48103",
          "545 N. State Street Ann Arbor, MI 48104",
          "545 N. State Street Ann Arbor, MI 48104",
          "545 N. State Street Ann Arbor, MI 48104",
          "545 N. State Street Ann Arbor, MI 48104",
          "545 N. State Street Ann Arbor, MI 48104",
          "545 N. State Street Ann Arbor, MI 48104",
          "545 N. State Street Ann Arbor, MI 48104",
          "545 N. State Street Ann Arbor, MI 48104",
          "545 N. State Street Ann Arbor, MI 48104",
          "545 N. State Street Ann Arbor, MI 48104",
          "545 N. State Street Ann Arbor, MI 48104",
          "545 N. State Street Ann Arbor, MI 48104",
          "545 N. State Street Ann Arbor, MI 48104",
          "545 N. State Street Ann Arbor, MI 48104",
          "545 N. State Street Ann Arbor, MI 48104",
          "545 N. State Street Ann Arbor, MI 48104",
          "1652 N. Maple Rd Ann Arbor, MI 48103",
          "1652 N. Maple Rd Ann Arbor, MI 48103",
          "1652 N. Maple Rd Ann Arbor, MI 48103",
          "1652 N. Maple Rd Ann Arbor, MI 48103",
          "610 Revena Place Ann Arbor, MI 48103",
          "610 Revena Place Ann Arbor, MI 48103",
          "610 Revena Place Ann Arbor, MI 48103",
          "610 Revena Place Ann Arbor, MI 48103",
          "324 E Jefferson St Ann Arbor, MI 48104",
          "324 E Jefferson St Ann Arbor, MI 48104",
          "324 E Jefferson St Ann Arbor, MI 48104",
          "805 Spring St Ann Arbor, MI 48103",
          "805 Spring St Ann Arbor, MI 48103",
          "805 Spring St Ann Arbor, MI 48103",
          "1000 W Huron St Ann Arbor, MI 48103",
          "1000 W Huron St Ann Arbor, MI 48103",
          "1000 W Huron St Ann Arbor, MI 48103",
          "1000 W Huron St Ann Arbor, MI 48103",
          "1000 W Huron St Ann Arbor, MI 48103",
          "809 W Madison St Ann Arbor, MI 48103",
          "809 W Madison St Ann Arbor, MI 48103",
          "809 W Madison St Ann Arbor, MI 48103",
          "923 S 7th St Ann Arbor, MI 48103",
          "923 S 7th St Ann Arbor, MI 48103",
          "1103 West Huron Street Ann Arbor, MI 48103",
          "1103 West Huron Street Ann Arbor, MI 48103",
          "1103 West Huron Street Ann Arbor, MI 48103",
          "1103 West Huron Street Ann Arbor, MI 48103",
          "1103 West Huron Street Ann Arbor, MI 48103",
          "1103 West Huron Street Ann Arbor, MI 48103",
          "723 W Madison St Ann Arbor, MI 48103",
          "723 W Madison St Ann Arbor, MI 48103",
          "723 W Madison St Ann Arbor, MI 48103",
          "1117 W Huron St Ann Arbor, MI 48103",
          "1117 W Huron St Ann Arbor, MI 48103",
          "1117 W Huron St Ann Arbor, MI 48103",
          "1117 W Huron St Ann Arbor, MI 48103",
          "1734 Abbott Avenue Ann Arbor, MI 48103",
          "1734 Abbott Avenue Ann Arbor, MI 48103",
          "1734 Abbott Avenue Ann Arbor, MI 48103",
          "1734 Abbott Avenue Ann Arbor, MI 48103",
          "1734 Abbott Avenue Ann Arbor, MI 48103",
          "1734 Abbott Avenue Ann Arbor, MI 48103",
          "428 South First St. Apt. 1 Ann Arbor, MI 48103",
          "428 South First St. Apt. 1 Ann Arbor, MI 48103",
          "428 South First St. Apt. 1 Ann Arbor, MI 48103",
          "428 South First St. Apt. 1 Ann Arbor, MI 48103",
          "428 South First St. Apt. 1 Ann Arbor, MI 48103",
          "428 South First St. Apt. 1 Ann Arbor, MI 48103",
          "442 3rd St Ann Arbor, MI 48103",
          "442 3rd St Ann Arbor, MI 48103",
          "442 3rd St Ann Arbor, MI 48103",
          "1421 West Huron Street Ann Arbor, MI 48103",
          "1421 West Huron Street Ann Arbor, MI 48103",
          "1421 West Huron Street Ann Arbor, MI 48103",
          "1421 West Huron Street Ann Arbor, MI 48103",
          "215 Buena Vista Avenue Ann Arbor, MI 48103",
          "215 Buena Vista Avenue Ann Arbor, MI 48103",
          "215 Buena Vista Avenue Ann Arbor, MI 48103",
          "215 Buena Vista Avenue Ann Arbor, MI 48103",
          "215 Buena Vista Avenue Ann Arbor, MI 48103",
          "215 Buena Vista Avenue Ann Arbor, MI 48103",
          "River Birch Circle Ann Arbor, MI 48103",
          "River Birch Circle Ann Arbor, MI 48103",
          "River Birch Circle Ann Arbor, MI 48103",
          "River Birch Circle Ann Arbor, MI 48103",
          "1082 Rabbit Run Circle Ann Arbor, MI 48103",
          "1082 Rabbit Run Circle Ann Arbor, MI 48103",
          "1082 Rabbit Run Circle Ann Arbor, MI 48103",
          "1082 Rabbit Run Circle Ann Arbor, MI 48103",
          "Ann Arbor, MI 48103",
          "Ann Arbor, MI 48103",
          "Ann Arbor, MI 48103",
          "Ann Arbor, MI 48103",
          "Ann Arbor, MI 48103",
          "Ann Arbor, MI 48103",
          "Ann Arbor, MI 48103",
          "Ann Arbor, MI 48103",
          "6655 Jackson Road #270 Ann Arbor, MI 48103",
          "6655 Jackson Road #270 Ann Arbor, MI 48103",
          "6655 Jackson Road #270 Ann Arbor, MI 48103",
          "6655 Jackson Road #270 Ann Arbor, MI 48103",
          "Ann Arbor, MI 48103",
          "Ann Arbor, MI 48103",
          "Ann Arbor, MI 48103",
          "Ann Arbor, MI 48103",
          "341 Payeur Road Ann Arbor, MI 48108",
          "341 Payeur Road Ann Arbor, MI 48108",
          "341 Payeur Road Ann Arbor, MI 48108",
          "341 Payeur Road Ann Arbor, MI 48108",
          "441 South 1st Street Ann Arbor, MI 48103",
          "441 South 1st Street Ann Arbor, MI 48103",
          "441 South 1st Street Ann Arbor, MI 48103",
          "441 South 1st Street Ann Arbor, MI 48103",
          "1113 Elder Boulevard Ann Arbor, MI 48103",
          "1113 Elder Boulevard Ann Arbor, MI 48103",
          "1113 Elder Boulevard Ann Arbor, MI 48103",
          "1113 Elder Boulevard Ann Arbor, MI 48103",
          "1113 Elder Boulevard Ann Arbor, MI 48103",
          "1113 Elder Boulevard Ann Arbor, MI 48103",
          "123 Allen Drive Ann Arbor, MI 48103",
          "123 Allen Drive Ann Arbor, MI 48103",
          "123 Allen Drive Ann Arbor, MI 48103",
          "123 Allen Drive Ann Arbor, MI 48103",
          "123 Allen Drive Ann Arbor, MI 48103",
          "123 Allen Drive Ann Arbor, MI 48103",
          "213 W Mosley St Ann Arbor, MI 48103",
          "213 W Mosley St Ann Arbor, MI 48103",
          "213 W Mosley St Ann Arbor, MI 48103",
          "213 W Mosley St Ann Arbor, MI 48103",
          "213 W Mosley St Ann Arbor, MI 48103",
          "213 W Mosley St Ann Arbor, MI 48103",
          "431 / 433 South 1st Street Ann Arbor, MI 48103",
          "431 / 433 South 1st Street Ann Arbor, MI 48103",
          "431 / 433 South 1st Street Ann Arbor, MI 48103",
          "431 / 433 South 1st Street Ann Arbor, MI 48103",
          "431 / 433 South 1st Street Ann Arbor, MI 48103",
          "431 / 433 South 1st Street Ann Arbor, MI 48103",
          "1109 Elder Boulevard Ann Arbor, MI 48103",
          "1109 Elder Boulevard Ann Arbor, MI 48103",
          "1109 Elder Boulevard Ann Arbor, MI 48103",
          "1109 Elder Boulevard Ann Arbor, MI 48103",
          "1109 Elder Boulevard Ann Arbor, MI 48103",
          "1109 Elder Boulevard Ann Arbor, MI 48103",
          "515 3rd Street Ann Arbor, MI 48103",
          "515 3rd Street Ann Arbor, MI 48103",
          "515 3rd Street Ann Arbor, MI 48103",
          "515 3rd Street Ann Arbor, MI 48103",
          "515 3rd Street Ann Arbor, MI 48103",
          "515 3rd Street Ann Arbor, MI 48103",
          "415 South Revena Boulevard Ann Arbor, MI 48103",
          "415 South Revena Boulevard Ann Arbor, MI 48103",
          "415 South Revena Boulevard Ann Arbor, MI 48103",
          "415 South Revena Boulevard Ann Arbor, MI 48103",
          "415 South Revena Boulevard Ann Arbor, MI 48103",
          "415 South Revena Boulevard Ann Arbor, MI 48103",
          "1007 Fountain Street Ann Arbor, MI 48103",
          "1007 Fountain Street Ann Arbor, MI 48103",
          "1007 Fountain Street Ann Arbor, MI 48103",
          "1007 Fountain Street Ann Arbor, MI 48103",
          "Ann Arbor, MI 48103",
          "Ann Arbor, MI 48103",
          "Ann Arbor, MI 48103",
          "Ann Arbor, MI 48103",
          "Ann Arbor, MI 48103",
          "Ann Arbor, MI 48103",
          "515 3rd Street Ann Arbor, MI 48103",
          "515 3rd Street Ann Arbor, MI 48103",
          "515 3rd Street Ann Arbor, MI 48103",
          "515 3rd Street Ann Arbor, MI 48103",
          "515 3rd Street Ann Arbor, MI 48103",
          "515 3rd Street Ann Arbor, MI 48103",
          "5731 Villa France Avenue Ann Arbor, MI 48103",
          "5731 Villa France Avenue Ann Arbor, MI 48103",
          "5731 Villa France Avenue Ann Arbor, MI 48103",
          "5731 Villa France Avenue Ann Arbor, MI 48103",
          "5731 Villa France Avenue Ann Arbor, MI 48103",
          "5731 Villa France Avenue Ann Arbor, MI 48103",
          "808 Hutchins Avenue Ann Arbor, MI 48103",
          "808 Hutchins Avenue Ann Arbor, MI 48103",
          "808 Hutchins Avenue Ann Arbor, MI 48103",
          "808 Hutchins Avenue Ann Arbor, MI 48103",
          "808 Hutchins Avenue Ann Arbor, MI 48103",
          "808 Hutchins Avenue Ann Arbor, MI 48103",
          "808 Hutchins Avenue Ann Arbor, MI 48103",
          "808 Hutchins Avenue Ann Arbor, MI 48103",
          "808 Hutchins Avenue Ann Arbor, MI 48103",
          "808 Hutchins Avenue Ann Arbor, MI 48103",
          "808 Hutchins Avenue Ann Arbor, MI 48103",
          "808 Hutchins Avenue Ann Arbor, MI 48103"
         ],
         "lat": [
          42.289421439,
          42.289421439,
          42.289421439,
          42.28543,
          42.28543,
          42.28543,
          42.28543,
          42.28543,
          42.2819181,
          42.285684858,
          42.285684858,
          42.285684858,
          42.285684858,
          42.285684858,
          42.285684858,
          42.285684858,
          42.285684858,
          42.285684858,
          42.285684858,
          42.285684858,
          42.285684858,
          42.285684858,
          42.285684858,
          42.285684858,
          42.285684858,
          42.2965271408,
          42.2965271408,
          42.2965271408,
          42.2965271408,
          42.2863163227,
          42.2863163227,
          42.2863163227,
          42.2863163227,
          42.27600075,
          42.27600075,
          42.27600075,
          42.289168794,
          42.289168794,
          42.289168794,
          42.2814717,
          42.2814717,
          42.2814717,
          42.2814717,
          42.2814717,
          42.27363885,
          42.27363885,
          42.27363885,
          42.269207,
          42.269207,
          42.2814717,
          42.2814717,
          42.2814717,
          42.2814717,
          42.2814717,
          42.2814717,
          42.2736558,
          42.2736558,
          42.2736558,
          42.2814717,
          42.2814717,
          42.2814717,
          42.2814717,
          42.2801204242,
          42.2801204242,
          42.2801204242,
          42.2801204242,
          42.2801204242,
          42.2801204242,
          42.2769605,
          42.2769605,
          42.2769605,
          42.2769605,
          42.2769605,
          42.2769605,
          42.27653915,
          42.27653915,
          42.27653915,
          42.281876,
          42.281876,
          42.281876,
          42.281876,
          42.2806483095,
          42.2806483095,
          42.2806483095,
          42.2806483095,
          42.2806483095,
          42.2806483095,
          42.288358,
          42.288358,
          42.288358,
          42.288358,
          42.2702052099,
          42.2702052099,
          42.2702052099,
          42.2702052099,
          42.2681569,
          42.2681569,
          42.2681569,
          42.2681569,
          42.2681569,
          42.2681569,
          42.2681569,
          42.2681569,
          42.2914887807,
          42.2914887807,
          42.2914887807,
          42.2914887807,
          42.2681569,
          42.2681569,
          42.2681569,
          42.2681569,
          42.2072951886,
          42.2072951886,
          42.2072951886,
          42.2072951886,
          42.27660575,
          42.27660575,
          42.27660575,
          42.27660575,
          42.2755171745,
          42.2755171745,
          42.2755171745,
          42.2755171745,
          42.2755171745,
          42.2755171745,
          42.2819152205,
          42.2819152205,
          42.2819152205,
          42.2819152205,
          42.2819152205,
          42.2819152205,
          42.272702661,
          42.272702661,
          42.272702661,
          42.272702661,
          42.272702661,
          42.272702661,
          42.2774169388,
          42.2774169388,
          42.2774169388,
          42.2774169388,
          42.2774169388,
          42.2774169388,
          42.2755173221,
          42.2755173221,
          42.2755173221,
          42.2755173221,
          42.2755173221,
          42.2755173221,
          42.2754825,
          42.2754825,
          42.2754825,
          42.2754825,
          42.2754825,
          42.2754825,
          42.2789908571,
          42.2789908571,
          42.2789908571,
          42.2789908571,
          42.2789908571,
          42.2789908571,
          42.2909968517,
          42.2909968517,
          42.2909968517,
          42.2909968517,
          42.2681569,
          42.2681569,
          42.2681569,
          42.2681569,
          42.2681569,
          42.2681569,
          42.2754825,
          42.2754825,
          42.2754825,
          42.2754825,
          42.2754825,
          42.2754825,
          42.2777075075,
          42.2777075075,
          42.2777075075,
          42.2777075075,
          42.2777075075,
          42.2777075075,
          42.2715328608,
          42.2715328608,
          42.2715328608,
          42.2715328608,
          42.2715328608,
          42.2715328608,
          42.2715328608,
          42.2715328608,
          42.2715328608,
          42.2715328608,
          42.2715328608,
          42.2715328608
         ],
         "legendgroup": "Old West Side",
         "lon": [
          -83.7955349024,
          -83.7955349024,
          -83.7955349024,
          -83.756963,
          -83.756963,
          -83.756963,
          -83.756963,
          -83.756963,
          -83.7570555988,
          -83.7410432463,
          -83.7410432463,
          -83.7410432463,
          -83.7410432463,
          -83.7410432463,
          -83.7410432463,
          -83.7410432463,
          -83.7410432463,
          -83.7410432463,
          -83.7410432463,
          -83.7410432463,
          -83.7410432463,
          -83.7410432463,
          -83.7410432463,
          -83.7410432463,
          -83.7410432463,
          -83.7808641282,
          -83.7808641282,
          -83.7808641282,
          -83.7808641282,
          -83.7658428006,
          -83.7658428006,
          -83.7658428006,
          -83.7658428006,
          -83.74516835,
          -83.74516835,
          -83.74516835,
          -83.7526333367,
          -83.7526333367,
          -83.7526333367,
          -83.7498708,
          -83.7498708,
          -83.7498708,
          -83.7498708,
          -83.7498708,
          -83.7577590244,
          -83.7577590244,
          -83.7577590244,
          -83.758191,
          -83.758191,
          -83.7498708,
          -83.7498708,
          -83.7498708,
          -83.7498708,
          -83.7498708,
          -83.7498708,
          -83.7570255242,
          -83.7570255242,
          -83.7570255242,
          -83.7498708,
          -83.7498708,
          -83.7498708,
          -83.7498708,
          -83.7683518586,
          -83.7683518586,
          -83.7683518586,
          -83.7683518586,
          -83.7683518586,
          -83.7683518586,
          -83.7514003986,
          -83.7514003986,
          -83.7514003986,
          -83.7514003986,
          -83.7514003986,
          -83.7514003986,
          -83.75384065,
          -83.75384065,
          -83.75384065,
          -83.765228,
          -83.765228,
          -83.765228,
          -83.765228,
          -83.7619432019,
          -83.7619432019,
          -83.7619432019,
          -83.7619432019,
          -83.7619432019,
          -83.7619432019,
          -83.859535,
          -83.859535,
          -83.859535,
          -83.859535,
          -83.7890923915,
          -83.7890923915,
          -83.7890923915,
          -83.7890923915,
          -83.7312291,
          -83.7312291,
          -83.7312291,
          -83.7312291,
          -83.7312291,
          -83.7312291,
          -83.7312291,
          -83.7312291,
          -83.8600448922,
          -83.8600448922,
          -83.8600448922,
          -83.8600448922,
          -83.7312291,
          -83.7312291,
          -83.7312291,
          -83.7312291,
          -83.7321751743,
          -83.7321751743,
          -83.7321751743,
          -83.7321751743,
          -83.7508031,
          -83.7508031,
          -83.7508031,
          -83.7508031,
          -83.7611691678,
          -83.7611691678,
          -83.7611691678,
          -83.7611691678,
          -83.7611691678,
          -83.7611691678,
          -83.7720929435,
          -83.7720929435,
          -83.7720929435,
          -83.7720929435,
          -83.7720929435,
          -83.7720929435,
          -83.7508229153,
          -83.7508229153,
          -83.7508229153,
          -83.7508229153,
          -83.7508229153,
          -83.7508229153,
          -83.7509532857,
          -83.7509532857,
          -83.7509532857,
          -83.7509532857,
          -83.7509532857,
          -83.7509532857,
          -83.7611606174,
          -83.7611606174,
          -83.7611606174,
          -83.7611606174,
          -83.7611606174,
          -83.7611606174,
          -83.7532740749,
          -83.7532740749,
          -83.7532740749,
          -83.7532740749,
          -83.7532740749,
          -83.7532740749,
          -83.7654535714,
          -83.7654535714,
          -83.7654535714,
          -83.7654535714,
          -83.7654535714,
          -83.7654535714,
          -83.7542739056,
          -83.7542739056,
          -83.7542739056,
          -83.7542739056,
          -83.7312291,
          -83.7312291,
          -83.7312291,
          -83.7312291,
          -83.7312291,
          -83.7312291,
          -83.7532740749,
          -83.7532740749,
          -83.7532740749,
          -83.7532740749,
          -83.7532740749,
          -83.7532740749,
          -83.8404527971,
          -83.8404527971,
          -83.8404527971,
          -83.8404527971,
          -83.8404527971,
          -83.8404527971,
          -83.7571369792,
          -83.7571369792,
          -83.7571369792,
          -83.7571369792,
          -83.7571369792,
          -83.7571369792,
          -83.7571369792,
          -83.7571369792,
          -83.7571369792,
          -83.7571369792,
          -83.7571369792,
          -83.7571369792
         ],
         "marker": {
          "color": "#782AB6"
         },
         "mode": "markers",
         "name": "Old West Side",
         "showlegend": true,
         "subplot": "mapbox",
         "type": "scattermapbox"
        },
        {
         "customdata": [
          [
           1232.5
          ],
          [
           1470
          ],
          [
           1482.5
          ],
          [
           890
          ],
          [
           1090
          ],
          [
           1090
          ],
          [
           1090
          ],
          [
           1090
          ],
          [
           1090
          ],
          [
           1090
          ],
          [
           1760
          ],
          [
           1760
          ],
          [
           1760
          ],
          [
           1760
          ],
          [
           1760
          ],
          [
           1760
          ],
          [
           1900
          ],
          [
           1900
          ],
          [
           1900
          ],
          [
           1900
          ],
          [
           1900
          ],
          [
           1900
          ],
          [
           3000
          ],
          [
           3000
          ],
          [
           3000
          ],
          [
           3000
          ],
          [
           3000
          ],
          [
           3000
          ],
          [
           336
          ],
          [
           336
          ],
          [
           336
          ],
          [
           336
          ],
          [
           500
          ],
          [
           500
          ],
          [
           500
          ],
          [
           500
          ],
          [
           550
          ],
          [
           550
          ],
          [
           550
          ],
          [
           550
          ],
          [
           650
          ],
          [
           650
          ],
          [
           650
          ],
          [
           650
          ],
          [
           659.5
          ],
          [
           659.5
          ],
          [
           659.5
          ],
          [
           659.5
          ],
          [
           659.5
          ],
          [
           659.5
          ],
          [
           659.5
          ],
          [
           745
          ],
          [
           745
          ],
          [
           745
          ],
          [
           745
          ],
          [
           777
          ],
          [
           777
          ],
          [
           777
          ],
          [
           777
          ],
          [
           850
          ],
          [
           850
          ],
          [
           850
          ],
          [
           850
          ],
          [
           875
          ],
          [
           875
          ],
          [
           875
          ],
          [
           875
          ],
          [
           885
          ],
          [
           885
          ],
          [
           885
          ],
          [
           885
          ],
          [
           900
          ],
          [
           900
          ],
          [
           900
          ],
          [
           900
          ],
          [
           950
          ],
          [
           950
          ],
          [
           950
          ],
          [
           950
          ],
          [
           1000
          ],
          [
           1000
          ],
          [
           1000
          ],
          [
           1000
          ],
          [
           1000
          ],
          [
           1000
          ],
          [
           1150
          ],
          [
           1150
          ],
          [
           1150
          ],
          [
           1150
          ],
          [
           1150
          ],
          [
           1150
          ],
          [
           1358
          ],
          [
           1358
          ],
          [
           1358
          ],
          [
           1358
          ],
          [
           1358
          ],
          [
           1358
          ],
          [
           1369
          ],
          [
           1369
          ],
          [
           1369
          ],
          [
           1369
          ],
          [
           1369
          ],
          [
           1369
          ],
          [
           1549
          ],
          [
           1549
          ],
          [
           1549
          ],
          [
           1549
          ],
          [
           1549
          ],
          [
           1549
          ],
          [
           805
          ],
          [
           805
          ],
          [
           805
          ],
          [
           805
          ],
          [
           1800
          ],
          [
           1800
          ],
          [
           1800
          ],
          [
           1800
          ],
          [
           1800
          ],
          [
           1800
          ],
          [
           725
          ],
          [
           725
          ],
          [
           725
          ],
          [
           725
          ],
          [
           725
          ],
          [
           725
          ],
          [
           725
          ],
          [
           725
          ],
          [
           725
          ],
          [
           725
          ],
          [
           725
          ],
          [
           725
          ],
          [
           879.5
          ],
          [
           879.5
          ],
          [
           879.5
          ],
          [
           879.5
          ],
          [
           879.5
          ],
          [
           879.5
          ],
          [
           879.5
          ],
          [
           879.5
          ],
          [
           879.5
          ],
          [
           879.5
          ],
          [
           879.5
          ],
          [
           879.5
          ]
         ],
         "hoverlabel": {
          "namelength": 0
         },
         "hovertemplate": "<b>%{hovertext}</b><br><br>neighborhood=North Campus<br>price=%{customdata[0]}<br>lat=%{lat}<br>lon=%{lon}",
         "hovertext": [
          "420 Kellogg Street Ann Arbor, MI 48105",
          "420 Kellogg Street Ann Arbor, MI 48105",
          "420 Kellogg Street Ann Arbor, MI 48105",
          "1780 Broadway Ann Arbor, MI 48105",
          "1556a Jones Drive Ann Arbor, MI 48105",
          "1556a Jones Drive Ann Arbor, MI 48105",
          "1556a Jones Drive Ann Arbor, MI 48105",
          "1556a Jones Drive Ann Arbor, MI 48105",
          "1556a Jones Drive Ann Arbor, MI 48105",
          "1556a Jones Drive Ann Arbor, MI 48105",
          "555 East William Street Ann Arbor, MI 48104",
          "555 East William Street Ann Arbor, MI 48104",
          "555 East William Street Ann Arbor, MI 48104",
          "555 East William Street Ann Arbor, MI 48104",
          "555 East William Street Ann Arbor, MI 48104",
          "555 East William Street Ann Arbor, MI 48104",
          "2741 Barclay Way Ann Arbor, MI 48105",
          "2741 Barclay Way Ann Arbor, MI 48105",
          "2741 Barclay Way Ann Arbor, MI 48105",
          "2741 Barclay Way Ann Arbor, MI 48105",
          "2741 Barclay Way Ann Arbor, MI 48105",
          "2741 Barclay Way Ann Arbor, MI 48105",
          "2250 Nixon Road Ann Arbor, MI 48105",
          "2250 Nixon Road Ann Arbor, MI 48105",
          "2250 Nixon Road Ann Arbor, MI 48105",
          "2250 Nixon Road Ann Arbor, MI 48105",
          "2250 Nixon Road Ann Arbor, MI 48105",
          "2250 Nixon Road Ann Arbor, MI 48105",
          "1929 Plymouth Road Ann Arbor, MI 48105",
          "1929 Plymouth Road Ann Arbor, MI 48105",
          "1929 Plymouth Road Ann Arbor, MI 48105",
          "1929 Plymouth Road Ann Arbor, MI 48105",
          "1929 Plymouth Road Ann Arbor, MI 48105",
          "1929 Plymouth Road Ann Arbor, MI 48105",
          "1929 Plymouth Road Ann Arbor, MI 48105",
          "1929 Plymouth Road Ann Arbor, MI 48105",
          "2200 Fuller Court Ann Arbor, MI 48105",
          "2200 Fuller Court Ann Arbor, MI 48105",
          "2200 Fuller Court Ann Arbor, MI 48105",
          "2200 Fuller Court Ann Arbor, MI 48105",
          "3890 Tremont Place Ann Arbor, MI 48105",
          "3890 Tremont Place Ann Arbor, MI 48105",
          "3890 Tremont Place Ann Arbor, MI 48105",
          "3890 Tremont Place Ann Arbor, MI 48105",
          "Ann Arbor, MI 48105",
          "Ann Arbor, MI 48105",
          "Ann Arbor, MI 48105",
          "Ann Arbor, MI 48105",
          "Ann Arbor, MI 48105",
          "Ann Arbor, MI 48105",
          "Ann Arbor, MI 48105",
          "2304 Leslie Circle Ann Arbor, MI 48105",
          "2304 Leslie Circle Ann Arbor, MI 48105",
          "2304 Leslie Circle Ann Arbor, MI 48105",
          "2304 Leslie Circle Ann Arbor, MI 48105",
          "1137 Nielsen Court Ann Arbor, MI 48105",
          "1137 Nielsen Court Ann Arbor, MI 48105",
          "1137 Nielsen Court Ann Arbor, MI 48105",
          "1137 Nielsen Court Ann Arbor, MI 48105",
          "1780 Broadway Street Ann Arbor, MI 48105",
          "1780 Broadway Street Ann Arbor, MI 48105",
          "1780 Broadway Street Ann Arbor, MI 48105",
          "1780 Broadway Street Ann Arbor, MI 48105",
          "1245 Island Drive #104 Ann Arbor, MI 48105",
          "1245 Island Drive #104 Ann Arbor, MI 48105",
          "1245 Island Drive #104 Ann Arbor, MI 48105",
          "1245 Island Drive #104 Ann Arbor, MI 48105",
          "1760 Broadway Street Ann Arbor, MI 48105",
          "1760 Broadway Street Ann Arbor, MI 48105",
          "1760 Broadway Street Ann Arbor, MI 48105",
          "1760 Broadway Street Ann Arbor, MI 48105",
          "1701 David Court Ann Arbor, MI 48105",
          "1701 David Court Ann Arbor, MI 48105",
          "1701 David Court Ann Arbor, MI 48105",
          "1701 David Court Ann Arbor, MI 48105",
          "1770 Broadway Street Ann Arbor, MI 48105",
          "1770 Broadway Street Ann Arbor, MI 48105",
          "1770 Broadway Street Ann Arbor, MI 48105",
          "1770 Broadway Street Ann Arbor, MI 48105",
          "Ridington Road Ann Arbor, MI 48105",
          "Ridington Road Ann Arbor, MI 48105",
          "Ridington Road Ann Arbor, MI 48105",
          "Ridington Road Ann Arbor, MI 48105",
          "Ridington Road Ann Arbor, MI 48105",
          "Ridington Road Ann Arbor, MI 48105",
          "Ann Arbor, MI 48105",
          "Ann Arbor, MI 48105",
          "Ann Arbor, MI 48105",
          "Ann Arbor, MI 48105",
          "Ann Arbor, MI 48105",
          "Ann Arbor, MI 48105",
          "Ann Arbor, MI 48105",
          "Ann Arbor, MI 48105",
          "Ann Arbor, MI 48105",
          "Ann Arbor, MI 48105",
          "Ann Arbor, MI 48105",
          "Ann Arbor, MI 48105",
          "1115 Nielsen Court Ann Arbor, MI 48105",
          "1115 Nielsen Court Ann Arbor, MI 48105",
          "1115 Nielsen Court Ann Arbor, MI 48105",
          "1115 Nielsen Court Ann Arbor, MI 48105",
          "1115 Nielsen Court Ann Arbor, MI 48105",
          "1115 Nielsen Court Ann Arbor, MI 48105",
          "Ann Arbor, MI 48105",
          "Ann Arbor, MI 48105",
          "Ann Arbor, MI 48105",
          "Ann Arbor, MI 48105",
          "Ann Arbor, MI 48105",
          "Ann Arbor, MI 48105",
          "Ann Arbor, MI 48105",
          "Ann Arbor, MI 48105",
          "Ann Arbor, MI 48105",
          "Ann Arbor, MI 48105",
          "3677 East Northfield Church Road Ann Arbor, MI 48105",
          "3677 East Northfield Church Road Ann Arbor, MI 48105",
          "3677 East Northfield Church Road Ann Arbor, MI 48105",
          "3677 East Northfield Church Road Ann Arbor, MI 48105",
          "3677 East Northfield Church Road Ann Arbor, MI 48105",
          "3677 East Northfield Church Road Ann Arbor, MI 48105",
          "3324 Bluett Road Ann Arbor, MI 48105",
          "3324 Bluett Road Ann Arbor, MI 48105",
          "3324 Bluett Road Ann Arbor, MI 48105",
          "3324 Bluett Road Ann Arbor, MI 48105",
          "3324 Bluett Road Ann Arbor, MI 48105",
          "3324 Bluett Road Ann Arbor, MI 48105",
          "3324 Bluett Road Ann Arbor, MI 48105",
          "3324 Bluett Road Ann Arbor, MI 48105",
          "3324 Bluett Road Ann Arbor, MI 48105",
          "3324 Bluett Road Ann Arbor, MI 48105",
          "3324 Bluett Road Ann Arbor, MI 48105",
          "3324 Bluett Road Ann Arbor, MI 48105",
          "1500 Gilbert Court Ann Arbor, MI 48105",
          "1500 Gilbert Court Ann Arbor, MI 48105",
          "1500 Gilbert Court Ann Arbor, MI 48105",
          "1500 Gilbert Court Ann Arbor, MI 48105",
          "1500 Gilbert Court Ann Arbor, MI 48105",
          "1500 Gilbert Court Ann Arbor, MI 48105",
          "1500 Gilbert Court Ann Arbor, MI 48105",
          "1500 Gilbert Court Ann Arbor, MI 48105",
          "1500 Gilbert Court Ann Arbor, MI 48105",
          "1500 Gilbert Court Ann Arbor, MI 48105",
          "1500 Gilbert Court Ann Arbor, MI 48105",
          "1500 Gilbert Court Ann Arbor, MI 48105"
         ],
         "lat": [
          42.293208775,
          42.293208775,
          42.293208775,
          42.2952708,
          42.295023693,
          42.295023693,
          42.295023693,
          42.295023693,
          42.295023693,
          42.295023693,
          42.2780156,
          42.2780156,
          42.2780156,
          42.2780156,
          42.2780156,
          42.2780156,
          42.3200425825,
          42.3200425825,
          42.3200425825,
          42.3200425825,
          42.3200425825,
          42.3200425825,
          42.3055732406,
          42.3055732406,
          42.3055732406,
          42.3055732406,
          42.3055732406,
          42.3055732406,
          42.3005709063,
          42.3005709063,
          42.3005709063,
          42.3005709063,
          42.3005709063,
          42.3005709063,
          42.3005709063,
          42.3005709063,
          42.2855644,
          42.2855644,
          42.2855644,
          42.2855644,
          42.2865893265,
          42.2865893265,
          42.2865893265,
          42.2865893265,
          42.2681569,
          42.2681569,
          42.2681569,
          42.2681569,
          42.2681569,
          42.2681569,
          42.2681569,
          42.3090605573,
          42.3090605573,
          42.3090605573,
          42.3090605573,
          42.2894417822,
          42.2894417822,
          42.2894417822,
          42.2894417822,
          42.2952708,
          42.2952708,
          42.2952708,
          42.2952708,
          42.2908995994,
          42.2908995994,
          42.2908995994,
          42.2908995994,
          42.29690135,
          42.29690135,
          42.29690135,
          42.29690135,
          42.29906,
          42.29906,
          42.29906,
          42.29906,
          42.2960769,
          42.2960769,
          42.2960769,
          42.2960769,
          42.3154682,
          42.3154682,
          42.3154682,
          42.3154682,
          42.3154682,
          42.3154682,
          42.2681569,
          42.2681569,
          42.2681569,
          42.2681569,
          42.2681569,
          42.2681569,
          42.2681569,
          42.2681569,
          42.2681569,
          42.2681569,
          42.2681569,
          42.2681569,
          42.2890716355,
          42.2890716355,
          42.2890716355,
          42.2890716355,
          42.2890716355,
          42.2890716355,
          42.2681569,
          42.2681569,
          42.2681569,
          42.2681569,
          42.2681569,
          42.2681569,
          42.2681569,
          42.2681569,
          42.2681569,
          42.2681569,
          42.3599824732,
          42.3599824732,
          42.3599824732,
          42.3599824732,
          42.3599824732,
          42.3599824732,
          42.312563,
          42.312563,
          42.312563,
          42.312563,
          42.312563,
          42.312563,
          42.312563,
          42.312563,
          42.312563,
          42.312563,
          42.312563,
          42.312563,
          42.294879,
          42.294879,
          42.294879,
          42.294879,
          42.294879,
          42.294879,
          42.294879,
          42.294879,
          42.294879,
          42.294879,
          42.294879,
          42.294879
         ],
         "legendgroup": "North Campus",
         "lon": [
          -83.7412150471,
          -83.7412150471,
          -83.7412150471,
          -83.7213158052,
          -83.7311469183,
          -83.7311469183,
          -83.7311469183,
          -83.7311469183,
          -83.7311469183,
          -83.7311469183,
          -83.7423668957,
          -83.7423668957,
          -83.7423668957,
          -83.7423668957,
          -83.7423668957,
          -83.7423668957,
          -83.7043505371,
          -83.7043505371,
          -83.7043505371,
          -83.7043505371,
          -83.7043505371,
          -83.7043505371,
          -83.7074446529,
          -83.7074446529,
          -83.7074446529,
          -83.7074446529,
          -83.7074446529,
          -83.7074446529,
          -83.7158526761,
          -83.7158526761,
          -83.7158526761,
          -83.7158526761,
          -83.7158526761,
          -83.7158526761,
          -83.7158526761,
          -83.7158526761,
          -83.7176666,
          -83.7176666,
          -83.7176666,
          -83.7176666,
          -83.6860766939,
          -83.6860766939,
          -83.6860766939,
          -83.6860766939,
          -83.7312291,
          -83.7312291,
          -83.7312291,
          -83.7312291,
          -83.7312291,
          -83.7312291,
          -83.7312291,
          -83.7144652437,
          -83.7144652437,
          -83.7144652437,
          -83.7144652437,
          -83.7350741432,
          -83.7350741432,
          -83.7350741432,
          -83.7350741432,
          -83.7213158052,
          -83.7213158052,
          -83.7213158052,
          -83.7213158052,
          -83.7322281443,
          -83.7322281443,
          -83.7322281443,
          -83.7322281443,
          -83.721340119,
          -83.721340119,
          -83.721340119,
          -83.721340119,
          -83.731088,
          -83.731088,
          -83.731088,
          -83.731088,
          -83.7213455911,
          -83.7213455911,
          -83.7213455911,
          -83.7213455911,
          -83.7091094,
          -83.7091094,
          -83.7091094,
          -83.7091094,
          -83.7091094,
          -83.7091094,
          -83.7312291,
          -83.7312291,
          -83.7312291,
          -83.7312291,
          -83.7312291,
          -83.7312291,
          -83.7312291,
          -83.7312291,
          -83.7312291,
          -83.7312291,
          -83.7312291,
          -83.7312291,
          -83.7354210644,
          -83.7354210644,
          -83.7354210644,
          -83.7354210644,
          -83.7354210644,
          -83.7354210644,
          -83.7312291,
          -83.7312291,
          -83.7312291,
          -83.7312291,
          -83.7312291,
          -83.7312291,
          -83.7312291,
          -83.7312291,
          -83.7312291,
          -83.7312291,
          -83.6899277933,
          -83.6899277933,
          -83.6899277933,
          -83.6899277933,
          -83.6899277933,
          -83.6899277933,
          -83.693437,
          -83.693437,
          -83.693437,
          -83.693437,
          -83.693437,
          -83.693437,
          -83.693437,
          -83.693437,
          -83.693437,
          -83.693437,
          -83.693437,
          -83.693437,
          -83.726032,
          -83.726032,
          -83.726032,
          -83.726032,
          -83.726032,
          -83.726032,
          -83.726032,
          -83.726032,
          -83.726032,
          -83.726032,
          -83.726032,
          -83.726032
         ],
         "marker": {
          "color": "#565656"
         },
         "mode": "markers",
         "name": "North Campus",
         "showlegend": true,
         "subplot": "mapbox",
         "type": "scattermapbox"
        },
        {
         "customdata": [
          [
           1488.5
          ],
          [
           1506
          ],
          [
           1631
          ],
          [
           1945.5
          ],
          [
           2045.5
          ],
          [
           2925
          ],
          [
           600
          ],
          [
           600
          ],
          [
           600
          ],
          [
           600
          ],
          [
           979
          ],
          [
           999
          ],
          [
           1318
          ],
          [
           469.5
          ],
          [
           469.5
          ],
          [
           469.5
          ],
          [
           469.5
          ],
          [
           469.5
          ],
          [
           469.5
          ],
          [
           469.5
          ],
          [
           820
          ],
          [
           820
          ],
          [
           820
          ],
          [
           820
          ],
          [
           995
          ],
          [
           995
          ],
          [
           995
          ],
          [
           995
          ],
          [
           445
          ],
          [
           445
          ],
          [
           445
          ],
          [
           445
          ],
          [
           1475
          ],
          [
           1475
          ],
          [
           1475
          ],
          [
           1475
          ],
          [
           1475
          ],
          [
           1475
          ],
          [
           3000
          ],
          [
           3000
          ],
          [
           3000
          ],
          [
           3000
          ],
          [
           3000
          ],
          [
           3000
          ]
         ],
         "hoverlabel": {
          "namelength": 0
         },
         "hovertemplate": "<b>%{hovertext}</b><br><br>neighborhood=West Murfin<br>price=%{customdata[0]}<br>lat=%{lat}<br>lon=%{lon}",
         "hovertext": [
          "3400 Nixon Road Ann Arbor, MI 48105",
          "3400 Nixon Road Ann Arbor, MI 48105",
          "3400 Nixon Road Ann Arbor, MI 48105",
          "3400 Nixon Road Ann Arbor, MI 48105",
          "3400 Nixon Road Ann Arbor, MI 48105",
          "3400 Nixon Road Ann Arbor, MI 48105",
          "3660 Windemere Dr. Ann Arbor, MI 48105",
          "3660 Windemere Dr. Ann Arbor, MI 48105",
          "3660 Windemere Dr. Ann Arbor, MI 48105",
          "3660 Windemere Dr. Ann Arbor, MI 48105",
          "1819 Willowtree Lane Ann Arbor, MI 48105",
          "1819 Willowtree Lane Ann Arbor, MI 48105",
          "1819 Willowtree Lane Ann Arbor, MI 48105",
          "1923 Pointe Lane Ann Arbor, MI 48105",
          "1923 Pointe Lane Ann Arbor, MI 48105",
          "1923 Pointe Lane Ann Arbor, MI 48105",
          "1923 Pointe Lane Ann Arbor, MI 48105",
          "1923 Pointe Lane Ann Arbor, MI 48105",
          "1923 Pointe Lane Ann Arbor, MI 48105",
          "1923 Pointe Lane Ann Arbor, MI 48105",
          "1760 Broadway Street Ann Arbor, MI 48105",
          "1760 Broadway Street Ann Arbor, MI 48105",
          "1760 Broadway Street Ann Arbor, MI 48105",
          "1760 Broadway Street Ann Arbor, MI 48105",
          "Ann Arbor, MI 48105",
          "Ann Arbor, MI 48105",
          "Ann Arbor, MI 48105",
          "Ann Arbor, MI 48105",
          "1770 Broadway Street Ann Arbor, MI 48105",
          "1770 Broadway Street Ann Arbor, MI 48105",
          "1770 Broadway Street Ann Arbor, MI 48105",
          "1770 Broadway Street Ann Arbor, MI 48105",
          "1683 Broadway Street Ann Arbor, MI 48105",
          "1683 Broadway Street Ann Arbor, MI 48105",
          "1683 Broadway Street Ann Arbor, MI 48105",
          "1683 Broadway Street Ann Arbor, MI 48105",
          "1683 Broadway Street Ann Arbor, MI 48105",
          "1683 Broadway Street Ann Arbor, MI 48105",
          "2931 East Joy Road Ann Arbor, MI 48105",
          "2931 East Joy Road Ann Arbor, MI 48105",
          "2931 East Joy Road Ann Arbor, MI 48105",
          "2931 East Joy Road Ann Arbor, MI 48105",
          "2931 East Joy Road Ann Arbor, MI 48105",
          "2931 East Joy Road Ann Arbor, MI 48105"
         ],
         "lat": [
          42.3234075699,
          42.3234075699,
          42.3234075699,
          42.3234075699,
          42.3234075699,
          42.3234075699,
          42.2896656372,
          42.2896656372,
          42.2896656372,
          42.2896656372,
          42.2995747,
          42.2995747,
          42.2995747,
          42.2998642938,
          42.2998642938,
          42.2998642938,
          42.2998642938,
          42.2998642938,
          42.2998642938,
          42.2998642938,
          42.29690135,
          42.29690135,
          42.29690135,
          42.29690135,
          42.2681569,
          42.2681569,
          42.2681569,
          42.2681569,
          42.2960769,
          42.2960769,
          42.2960769,
          42.2960769,
          42.2905851,
          42.2905851,
          42.2905851,
          42.2905851,
          42.2905851,
          42.2905851,
          42.3448343528,
          42.3448343528,
          42.3448343528,
          42.3448343528,
          42.3448343528,
          42.3448343528
         ],
         "legendgroup": "West Murfin",
         "lon": [
          -83.7077361542,
          -83.7077361542,
          -83.7077361542,
          -83.7077361542,
          -83.7077361542,
          -83.7077361542,
          -83.6880580067,
          -83.6880580067,
          -83.6880580067,
          -83.6880580067,
          -83.717127,
          -83.717127,
          -83.717127,
          -83.7237773887,
          -83.7237773887,
          -83.7237773887,
          -83.7237773887,
          -83.7237773887,
          -83.7237773887,
          -83.7237773887,
          -83.721340119,
          -83.721340119,
          -83.721340119,
          -83.721340119,
          -83.7312291,
          -83.7312291,
          -83.7312291,
          -83.7312291,
          -83.7213455911,
          -83.7213455911,
          -83.7213455911,
          -83.7213455911,
          -83.7379483,
          -83.7379483,
          -83.7379483,
          -83.7379483,
          -83.7379483,
          -83.7379483,
          -83.7058231236,
          -83.7058231236,
          -83.7058231236,
          -83.7058231236,
          -83.7058231236,
          -83.7058231236
         ],
         "marker": {
          "color": "#1C8356"
         },
         "mode": "markers",
         "name": "West Murfin",
         "showlegend": true,
         "subplot": "mapbox",
         "type": "scattermapbox"
        },
        {
         "customdata": [
          [
           1885
          ],
          [
           2065
          ],
          [
           2135
          ],
          [
           1200
          ],
          [
           1200
          ],
          [
           1200
          ],
          [
           1200
          ],
          [
           1200
          ],
          [
           1200
          ],
          [
           800
          ],
          [
           800
          ],
          [
           800
          ],
          [
           800
          ],
          [
           800
          ],
          [
           800
          ],
          [
           800
          ],
          [
           800
          ],
          [
           800
          ],
          [
           800
          ],
          [
           800
          ],
          [
           800
          ],
          [
           1695
          ],
          [
           1695
          ],
          [
           1695
          ],
          [
           1695
          ],
          [
           1695
          ],
          [
           1695
          ],
          [
           1695
          ],
          [
           1695
          ],
          [
           1695
          ],
          [
           1695
          ],
          [
           1695
          ],
          [
           1695
          ],
          [
           1695
          ],
          [
           1695
          ],
          [
           1695
          ],
          [
           1695
          ],
          [
           1975
          ],
          [
           1975
          ],
          [
           1975
          ],
          [
           1975
          ],
          [
           1975
          ],
          [
           1975
          ],
          [
           2595
          ],
          [
           2595
          ],
          [
           2595
          ],
          [
           2595
          ],
          [
           2595
          ],
          [
           2595
          ],
          [
           2675
          ],
          [
           2675
          ],
          [
           2675
          ],
          [
           2675
          ],
          [
           2675
          ],
          [
           2675
          ],
          [
           3200
          ],
          [
           3200
          ],
          [
           3200
          ],
          [
           3200
          ],
          [
           3200
          ],
          [
           3200
          ],
          [
           3200
          ],
          [
           3200
          ],
          [
           3200
          ],
          [
           3200
          ],
          [
           3200
          ],
          [
           3200
          ],
          [
           4380
          ],
          [
           4830
          ],
          [
           4950
          ],
          [
           4950
          ],
          [
           4950
          ],
          [
           4950
          ],
          [
           4950
          ],
          [
           4950
          ],
          [
           400
          ],
          [
           400
          ],
          [
           400
          ],
          [
           400
          ],
          [
           550
          ],
          [
           550
          ],
          [
           550
          ],
          [
           550
          ],
          [
           600
          ],
          [
           600
          ],
          [
           600
          ],
          [
           600
          ],
          [
           600
          ],
          [
           600
          ],
          [
           600
          ],
          [
           600
          ],
          [
           600
          ],
          [
           600
          ],
          [
           600
          ],
          [
           600
          ],
          [
           650
          ],
          [
           650
          ],
          [
           650
          ],
          [
           650
          ],
          [
           700
          ],
          [
           700
          ],
          [
           700
          ],
          [
           700
          ],
          [
           750
          ],
          [
           750
          ],
          [
           750
          ],
          [
           750
          ],
          [
           875
          ],
          [
           875
          ],
          [
           875
          ],
          [
           875
          ],
          [
           875
          ],
          [
           875
          ],
          [
           875
          ],
          [
           875
          ],
          [
           875
          ],
          [
           875
          ],
          [
           875
          ],
          [
           875
          ],
          [
           500
          ],
          [
           500
          ],
          [
           500
          ],
          [
           500
          ],
          [
           1250
          ],
          [
           1250
          ],
          [
           1250
          ],
          [
           1250
          ],
          [
           1250
          ],
          [
           1250
          ],
          [
           1300
          ],
          [
           1300
          ],
          [
           1300
          ],
          [
           1300
          ],
          [
           1300
          ],
          [
           1300
          ],
          [
           1300
          ],
          [
           1300
          ],
          [
           1300
          ],
          [
           1300
          ],
          [
           1300
          ],
          [
           1300
          ],
          [
           1895
          ],
          [
           1895
          ],
          [
           1895
          ],
          [
           1895
          ],
          [
           1895
          ],
          [
           1895
          ],
          [
           2400
          ],
          [
           2400
          ],
          [
           2400
          ],
          [
           2400
          ],
          [
           2400
          ],
          [
           2400
          ],
          [
           3500
          ],
          [
           3500
          ],
          [
           3500
          ],
          [
           3500
          ],
          [
           3500
          ],
          [
           3500
          ],
          [
           4400
          ],
          [
           4400
          ],
          [
           4400
          ],
          [
           4400
          ],
          [
           4400
          ],
          [
           4400
          ]
         ],
         "hoverlabel": {
          "namelength": 0
         },
         "hovertemplate": "<b>%{hovertext}</b><br><br>neighborhood=Yost<br>price=%{customdata[0]}<br>lat=%{lat}<br>lon=%{lon}",
         "hovertext": [
          "286 Rolling Meadows Drive Ann Arbor, MI 48103",
          "276 Rolling Meadows Dr. Ann Arbor, MI 48103",
          "296 Rolling Meadows Drive Ann Arbor, MI 48103",
          "1313 South State Street Ann Arbor, MI 48104",
          "1313 South State Street Ann Arbor, MI 48104",
          "1313 South State Street Ann Arbor, MI 48104",
          "1313 South State Street Ann Arbor, MI 48104",
          "1313 South State Street Ann Arbor, MI 48104",
          "1313 South State Street Ann Arbor, MI 48104",
          "2760 Page Ave Ann Arbor, MI 48104",
          "2760 Page Ave Ann Arbor, MI 48104",
          "2760 Page Ave Ann Arbor, MI 48104",
          "2760 Page Ave Ann Arbor, MI 48104",
          "2760 Page Ave Ann Arbor, MI 48104",
          "2760 Page Ave Ann Arbor, MI 48104",
          "2760 Page Ave Ann Arbor, MI 48104",
          "2760 Page Ave Ann Arbor, MI 48104",
          "2760 Page Ave Ann Arbor, MI 48104",
          "2760 Page Ave Ann Arbor, MI 48104",
          "2760 Page Ave Ann Arbor, MI 48104",
          "2760 Page Ave Ann Arbor, MI 48104",
          "1313 South State Street Ann Arbor, MI 48104",
          "1313 South State Street Ann Arbor, MI 48104",
          "1313 South State Street Ann Arbor, MI 48104",
          "1313 South State Street Ann Arbor, MI 48104",
          "1313 South State Street Ann Arbor, MI 48104",
          "1313 South State Street Ann Arbor, MI 48104",
          "1313 South State Street Ann Arbor, MI 48104",
          "1313 South State Street Ann Arbor, MI 48104",
          "1313 South State Street Ann Arbor, MI 48104",
          "1313 South State Street Ann Arbor, MI 48104",
          "1313 South State Street Ann Arbor, MI 48104",
          "1313 South State Street Ann Arbor, MI 48104",
          "1313 South State Street Ann Arbor, MI 48104",
          "1313 South State Street Ann Arbor, MI 48104",
          "1313 South State Street Ann Arbor, MI 48104",
          "1313 South State Street Ann Arbor, MI 48104",
          "117 W Oakbrook Dr Ann Arbor, MI 48103",
          "117 W Oakbrook Dr Ann Arbor, MI 48103",
          "117 W Oakbrook Dr Ann Arbor, MI 48103",
          "117 W Oakbrook Dr Ann Arbor, MI 48103",
          "117 W Oakbrook Dr Ann Arbor, MI 48103",
          "117 W Oakbrook Dr Ann Arbor, MI 48103",
          "2020 Bancroft Drive Ann Arbor, MI 48108",
          "2020 Bancroft Drive Ann Arbor, MI 48108",
          "2020 Bancroft Drive Ann Arbor, MI 48108",
          "2020 Bancroft Drive Ann Arbor, MI 48108",
          "2020 Bancroft Drive Ann Arbor, MI 48108",
          "2020 Bancroft Drive Ann Arbor, MI 48108",
          "2869 E Eisenhower Pkwy Ann Arbor, MI 48108",
          "2869 E Eisenhower Pkwy Ann Arbor, MI 48108",
          "2869 E Eisenhower Pkwy Ann Arbor, MI 48108",
          "2869 E Eisenhower Pkwy Ann Arbor, MI 48108",
          "2869 E Eisenhower Pkwy Ann Arbor, MI 48108",
          "2869 E Eisenhower Pkwy Ann Arbor, MI 48108",
          "1315 Sheehan Avenue Ann Arbor, MI 48104",
          "1315 Sheehan Avenue Ann Arbor, MI 48104",
          "1315 Sheehan Avenue Ann Arbor, MI 48104",
          "1315 Sheehan Avenue Ann Arbor, MI 48104",
          "1315 Sheehan Avenue Ann Arbor, MI 48104",
          "1315 Sheehan Avenue Ann Arbor, MI 48104",
          "909 Woodlawn Avenue Ann Arbor, MI 48104",
          "909 Woodlawn Avenue Ann Arbor, MI 48104",
          "909 Woodlawn Avenue Ann Arbor, MI 48104",
          "909 Woodlawn Avenue Ann Arbor, MI 48104",
          "909 Woodlawn Avenue Ann Arbor, MI 48104",
          "909 Woodlawn Avenue Ann Arbor, MI 48104",
          "903 Dewey Avenue Ann Arbor, MI 48104",
          "1501 South State Street Ann Arbor, MI 48104",
          "1315 South State Street Ann Arbor, MI 48104",
          "1315 South State Street Ann Arbor, MI 48104",
          "1315 South State Street Ann Arbor, MI 48104",
          "1315 South State Street Ann Arbor, MI 48104",
          "1315 South State Street Ann Arbor, MI 48104",
          "1315 South State Street Ann Arbor, MI 48104",
          "827 Sylvan Avenue Ann Arbor, MI 48104",
          "827 Sylvan Avenue Ann Arbor, MI 48104",
          "827 Sylvan Avenue Ann Arbor, MI 48104",
          "827 Sylvan Avenue Ann Arbor, MI 48104",
          "914 Sylvan Avenue Ann Arbor, MI 48104",
          "914 Sylvan Avenue Ann Arbor, MI 48104",
          "914 Sylvan Avenue Ann Arbor, MI 48104",
          "914 Sylvan Avenue Ann Arbor, MI 48104",
          "1915 Woodbury Drive Ann Arbor, MI 48104",
          "1915 Woodbury Drive Ann Arbor, MI 48104",
          "1915 Woodbury Drive Ann Arbor, MI 48104",
          "1915 Woodbury Drive Ann Arbor, MI 48104",
          "Ann Arbor, MI 48104",
          "Ann Arbor, MI 48104",
          "Ann Arbor, MI 48104",
          "Ann Arbor, MI 48104",
          "815 Dewey Avenue Ann Arbor, MI 48104",
          "815 Dewey Avenue Ann Arbor, MI 48104",
          "815 Dewey Avenue Ann Arbor, MI 48104",
          "815 Dewey Avenue Ann Arbor, MI 48104",
          "2123 Stone School Circle Ann Arbor, MI 48108",
          "2123 Stone School Circle Ann Arbor, MI 48108",
          "2123 Stone School Circle Ann Arbor, MI 48108",
          "2123 Stone School Circle Ann Arbor, MI 48108",
          "2123 Stone School Circle Ann Arbor, MI 48108",
          "2123 Stone School Circle Ann Arbor, MI 48108",
          "2123 Stone School Circle Ann Arbor, MI 48108",
          "2123 Stone School Circle Ann Arbor, MI 48108",
          "1018 Granger Avenue Ann Arbor, MI 48104",
          "1018 Granger Avenue Ann Arbor, MI 48104",
          "1018 Granger Avenue Ann Arbor, MI 48104",
          "1018 Granger Avenue Ann Arbor, MI 48104",
          "1220 White Street Ann Arbor, MI 48104",
          "1220 White Street Ann Arbor, MI 48104",
          "1220 White Street Ann Arbor, MI 48104",
          "1220 White Street Ann Arbor, MI 48104",
          "1220 White Street Ann Arbor, MI 48104",
          "1220 White Street Ann Arbor, MI 48104",
          "1220 White Street Ann Arbor, MI 48104",
          "1220 White Street Ann Arbor, MI 48104",
          "1220 White Street Ann Arbor, MI 48104",
          "1220 White Street Ann Arbor, MI 48104",
          "1220 White Street Ann Arbor, MI 48104",
          "1220 White Street Ann Arbor, MI 48104",
          "3 Metroview Court Ann Arbor, MI 48108",
          "3 Metroview Court Ann Arbor, MI 48108",
          "3 Metroview Court Ann Arbor, MI 48108",
          "3 Metroview Court Ann Arbor, MI 48108",
          "933 Dewey Avenue Ann Arbor, MI 48104",
          "933 Dewey Avenue Ann Arbor, MI 48104",
          "933 Dewey Avenue Ann Arbor, MI 48104",
          "933 Dewey Avenue Ann Arbor, MI 48104",
          "933 Dewey Avenue Ann Arbor, MI 48104",
          "933 Dewey Avenue Ann Arbor, MI 48104",
          "939 Dewey Avenue Ann Arbor, MI 48104",
          "939 Dewey Avenue Ann Arbor, MI 48104",
          "939 Dewey Avenue Ann Arbor, MI 48104",
          "939 Dewey Avenue Ann Arbor, MI 48104",
          "939 Dewey Avenue Ann Arbor, MI 48104",
          "939 Dewey Avenue Ann Arbor, MI 48104",
          "824 McKinley Avenue Ann Arbor, MI 48104",
          "824 McKinley Avenue Ann Arbor, MI 48104",
          "824 McKinley Avenue Ann Arbor, MI 48104",
          "824 McKinley Avenue Ann Arbor, MI 48104",
          "824 McKinley Avenue Ann Arbor, MI 48104",
          "824 McKinley Avenue Ann Arbor, MI 48104",
          "1406 White Street Ann Arbor, MI 48104",
          "1406 White Street Ann Arbor, MI 48104",
          "1406 White Street Ann Arbor, MI 48104",
          "1406 White Street Ann Arbor, MI 48104",
          "1406 White Street Ann Arbor, MI 48104",
          "1406 White Street Ann Arbor, MI 48104",
          "1710 South State Street Ann Arbor, MI 48104",
          "1710 South State Street Ann Arbor, MI 48104",
          "1710 South State Street Ann Arbor, MI 48104",
          "1710 South State Street Ann Arbor, MI 48104",
          "1710 South State Street Ann Arbor, MI 48104",
          "1710 South State Street Ann Arbor, MI 48104",
          "1507 White Street Ann Arbor, MI 48104",
          "1507 White Street Ann Arbor, MI 48104",
          "1507 White Street Ann Arbor, MI 48104",
          "1507 White Street Ann Arbor, MI 48104",
          "1507 White Street Ann Arbor, MI 48104",
          "1507 White Street Ann Arbor, MI 48104",
          "1213 S State St Ann Arbor, MI 48104",
          "1213 S State St Ann Arbor, MI 48104",
          "1213 S State St Ann Arbor, MI 48104",
          "1213 S State St Ann Arbor, MI 48104",
          "1213 S State St Ann Arbor, MI 48104",
          "1213 S State St Ann Arbor, MI 48104"
         ],
         "lat": [
          42.2502784414,
          42.2504587463,
          42.2500650836,
          42.2655395321,
          42.2655395321,
          42.2655395321,
          42.2655395321,
          42.2655395321,
          42.2655395321,
          42.2491521469,
          42.2491521469,
          42.2491521469,
          42.2491521469,
          42.2491521469,
          42.2491521469,
          42.2491521469,
          42.2491521469,
          42.2491521469,
          42.2491521469,
          42.2491521469,
          42.2491521469,
          42.2655395321,
          42.2655395321,
          42.2655395321,
          42.2655395321,
          42.2655395321,
          42.2655395321,
          42.2655395321,
          42.2655395321,
          42.2655395321,
          42.2655395321,
          42.2655395321,
          42.2655395321,
          42.2655395321,
          42.2655395321,
          42.2655395321,
          42.2655395321,
          42.250493,
          42.250493,
          42.250493,
          42.250493,
          42.250493,
          42.250493,
          42.2365708636,
          42.2365708636,
          42.2365708636,
          42.2365708636,
          42.2365708636,
          42.2365708636,
          42.2452,
          42.2452,
          42.2452,
          42.2452,
          42.2452,
          42.2452,
          42.2654071667,
          42.2654071667,
          42.2654071667,
          42.2654071667,
          42.2654071667,
          42.2654071667,
          42.2651269697,
          42.2651269697,
          42.2651269697,
          42.2651269697,
          42.2651269697,
          42.2651269697,
          42.2659652449,
          42.26232815,
          42.2655101208,
          42.2655101208,
          42.2655101208,
          42.2655101208,
          42.2655101208,
          42.2655101208,
          42.26663545,
          42.26663545,
          42.26663545,
          42.26663545,
          42.2664439711,
          42.2664439711,
          42.2664439711,
          42.2664439711,
          42.2582384918,
          42.2582384918,
          42.2582384918,
          42.2582384918,
          42.2681569,
          42.2681569,
          42.2681569,
          42.2681569,
          42.2659415714,
          42.2659415714,
          42.2659415714,
          42.2659415714,
          42.2344499,
          42.2344499,
          42.2344499,
          42.2344499,
          42.2344499,
          42.2344499,
          42.2344499,
          42.2344499,
          42.2641725102,
          42.2641725102,
          42.2641725102,
          42.2641725102,
          42.2669442,
          42.2669442,
          42.2669442,
          42.2669442,
          42.2669442,
          42.2669442,
          42.2669442,
          42.2669442,
          42.2669442,
          42.2669442,
          42.2669442,
          42.2669442,
          42.2361386687,
          42.2361386687,
          42.2361386687,
          42.2361386687,
          42.2659839184,
          42.2659839184,
          42.2659839184,
          42.2659839184,
          42.2659839184,
          42.2659839184,
          42.2659876531,
          42.2659876531,
          42.2659876531,
          42.2659876531,
          42.2659876531,
          42.2659876531,
          42.2675658886,
          42.2675658886,
          42.2675658886,
          42.2675658886,
          42.2675658886,
          42.2675658886,
          42.2635946,
          42.2635946,
          42.2635946,
          42.2635946,
          42.2635946,
          42.2635946,
          42.2599459287,
          42.2599459287,
          42.2599459287,
          42.2599459287,
          42.2599459287,
          42.2599459287,
          42.262179551,
          42.262179551,
          42.262179551,
          42.262179551,
          42.262179551,
          42.262179551,
          42.26696255,
          42.26696255,
          42.26696255,
          42.26696255,
          42.26696255,
          42.26696255
         ],
         "legendgroup": "Yost",
         "lon": [
          -83.753296706,
          -83.7533898206,
          -83.7532905607,
          -83.7403439154,
          -83.7403439154,
          -83.7403439154,
          -83.7403439154,
          -83.7403439154,
          -83.7403439154,
          -83.7251584665,
          -83.7251584665,
          -83.7251584665,
          -83.7251584665,
          -83.7251584665,
          -83.7251584665,
          -83.7251584665,
          -83.7251584665,
          -83.7251584665,
          -83.7251584665,
          -83.7251584665,
          -83.7251584665,
          -83.7403439154,
          -83.7403439154,
          -83.7403439154,
          -83.7403439154,
          -83.7403439154,
          -83.7403439154,
          -83.7403439154,
          -83.7403439154,
          -83.7403439154,
          -83.7403439154,
          -83.7403439154,
          -83.7403439154,
          -83.7403439154,
          -83.7403439154,
          -83.7403439154,
          -83.7403439154,
          -83.7565457,
          -83.7565457,
          -83.7565457,
          -83.7565457,
          -83.7565457,
          -83.7565457,
          -83.7692187471,
          -83.7692187471,
          -83.7692187471,
          -83.7692187471,
          -83.7692187471,
          -83.7692187471,
          -83.725299271,
          -83.725299271,
          -83.725299271,
          -83.725299271,
          -83.725299271,
          -83.725299271,
          -83.7378831667,
          -83.7378831667,
          -83.7378831667,
          -83.7378831667,
          -83.7378831667,
          -83.7378831667,
          -83.7376961616,
          -83.7376961616,
          -83.7376961616,
          -83.7376961616,
          -83.7376961616,
          -83.7376961616,
          -83.7377900408,
          -83.7401493546,
          -83.7403419013,
          -83.7403419013,
          -83.7403419013,
          -83.7403419013,
          -83.7403419013,
          -83.7403419013,
          -83.7383354963,
          -83.7383354963,
          -83.7383354963,
          -83.7383354963,
          -83.7374910308,
          -83.7374910308,
          -83.7374910308,
          -83.7374910308,
          -83.7349997197,
          -83.7349997197,
          -83.7349997197,
          -83.7349997197,
          -83.7312291,
          -83.7312291,
          -83.7312291,
          -83.7312291,
          -83.738957,
          -83.738957,
          -83.738957,
          -83.738957,
          -83.7189487,
          -83.7189487,
          -83.7189487,
          -83.7189487,
          -83.7189487,
          -83.7189487,
          -83.7189487,
          -83.7189487,
          -83.7370290408,
          -83.7370290408,
          -83.7370290408,
          -83.7370290408,
          -83.7396059505,
          -83.7396059505,
          -83.7396059505,
          -83.7396059505,
          -83.7396059505,
          -83.7396059505,
          -83.7396059505,
          -83.7396059505,
          -83.7396059505,
          -83.7396059505,
          -83.7396059505,
          -83.7396059505,
          -83.7152986489,
          -83.7152986489,
          -83.7152986489,
          -83.7152986489,
          -83.7370406531,
          -83.7370406531,
          -83.7370406531,
          -83.7370406531,
          -83.7370406531,
          -83.7370406531,
          -83.7368907755,
          -83.7368907755,
          -83.7368907755,
          -83.7368907755,
          -83.7368907755,
          -83.7368907755,
          -83.7387321929,
          -83.7387321929,
          -83.7387321929,
          -83.7387321929,
          -83.7387321929,
          -83.7387321929,
          -83.7394785662,
          -83.7394785662,
          -83.7394785662,
          -83.7394785662,
          -83.7394785662,
          -83.7394785662,
          -83.7404729519,
          -83.7404729519,
          -83.7404729519,
          -83.7404729519,
          -83.7404729519,
          -83.7404729519,
          -83.7390762653,
          -83.7390762653,
          -83.7390762653,
          -83.7390762653,
          -83.7390762653,
          -83.7390762653,
          -83.7402558072,
          -83.7402558072,
          -83.7402558072,
          -83.7402558072,
          -83.7402558072,
          -83.7402558072
         ],
         "marker": {
          "color": "#16FF32"
         },
         "mode": "markers",
         "name": "Yost",
         "showlegend": true,
         "subplot": "mapbox",
         "type": "scattermapbox"
        },
        {
         "customdata": [
          [
           2099
          ],
          [
           1419
          ],
          [
           999
          ],
          [
           515
          ],
          [
           515
          ],
          [
           515
          ],
          [
           515
          ],
          [
           945
          ],
          [
           1012.5
          ],
          [
           1415
          ],
          [
           1627.5
          ],
          [
           990
          ],
          [
           990
          ],
          [
           990
          ],
          [
           990
          ],
          [
           1400
          ],
          [
           1400
          ],
          [
           1645
          ],
          [
           1795
          ],
          [
           1795
          ],
          [
           1725
          ],
          [
           2195
          ],
          [
           2895
          ],
          [
           2395
          ],
          [
           2695
          ],
          [
           1800
          ],
          [
           1800
          ],
          [
           1800
          ],
          [
           1800
          ],
          [
           1800
          ],
          [
           1800
          ],
          [
           1850
          ],
          [
           1850
          ],
          [
           1850
          ],
          [
           1850
          ],
          [
           1850
          ],
          [
           1850
          ],
          [
           2400
          ],
          [
           2400
          ],
          [
           2400
          ],
          [
           2400
          ],
          [
           2400
          ],
          [
           2400
          ],
          [
           2450
          ],
          [
           2450
          ],
          [
           2450
          ],
          [
           2450
          ],
          [
           2450
          ],
          [
           2450
          ],
          [
           450
          ],
          [
           450
          ],
          [
           450
          ],
          [
           450
          ],
          [
           450
          ],
          [
           450
          ],
          [
           450
          ],
          [
           450
          ],
          [
           450
          ],
          [
           450
          ],
          [
           450
          ],
          [
           450
          ],
          [
           600
          ],
          [
           600
          ],
          [
           600
          ],
          [
           600
          ],
          [
           650
          ],
          [
           650
          ],
          [
           650
          ],
          [
           650
          ],
          [
           690
          ],
          [
           690
          ],
          [
           690
          ],
          [
           690
          ],
          [
           700
          ],
          [
           700
          ],
          [
           700
          ],
          [
           700
          ],
          [
           700
          ],
          [
           700
          ],
          [
           700
          ],
          [
           700
          ],
          [
           700
          ],
          [
           700
          ],
          [
           700
          ],
          [
           700
          ],
          [
           800
          ],
          [
           800
          ],
          [
           800
          ],
          [
           800
          ],
          [
           819
          ],
          [
           819
          ],
          [
           819
          ],
          [
           819
          ],
          [
           900
          ],
          [
           900
          ],
          [
           900
          ],
          [
           900
          ],
          [
           935
          ],
          [
           1067.5
          ],
          [
           1087.5
          ],
          [
           1505
          ],
          [
           1475
          ],
          [
           1475
          ],
          [
           1475
          ],
          [
           1475
          ],
          [
           1475
          ],
          [
           1475
          ],
          [
           1500
          ],
          [
           1750
          ],
          [
           1500
          ],
          [
           1500
          ],
          [
           1500
          ],
          [
           1500
          ],
          [
           1500
          ],
          [
           1500
          ],
          [
           867
          ],
          [
           867
          ],
          [
           867
          ],
          [
           867
          ],
          [
           1800
          ],
          [
           1800
          ],
          [
           1800
          ],
          [
           1800
          ],
          [
           1800
          ],
          [
           1800
          ],
          [
           2800
          ],
          [
           2800
          ],
          [
           2800
          ],
          [
           2800
          ],
          [
           2800
          ],
          [
           2800
          ]
         ],
         "hoverlabel": {
          "namelength": 0
         },
         "hovertemplate": "<b>%{hovertext}</b><br><br>neighborhood=Other Surrounding Areas<br>price=%{customdata[0]}<br>lat=%{lat}<br>lon=%{lon}",
         "hovertext": [
          "411 E. Washington St. Ann Arbor, MI 48104",
          "411 E. Washington St. Ann Arbor, MI 48104",
          "411 E. Washington St. Ann Arbor, MI 48104",
          "535 Skydale Drive Ann Arbor, MI 48105",
          "535 Skydale Drive Ann Arbor, MI 48105",
          "535 Skydale Drive Ann Arbor, MI 48105",
          "535 Skydale Drive Ann Arbor, MI 48105",
          "4854 Washtenaw Avenue Ann Arbor, MI 48108",
          "4854 Washtenaw Avenue Ann Arbor, MI 48108",
          "4854 Washtenaw Avenue Ann Arbor, MI 48108",
          "4854 Washtenaw Avenue Ann Arbor, MI 48108",
          "Ann Arbor, MI 48108",
          "Ann Arbor, MI 48108",
          "Ann Arbor, MI 48108",
          "Ann Arbor, MI 48108",
          "800-802 Fuller Street Ann Arbor, MI 48104",
          "800-802 Fuller Street Ann Arbor, MI 48104",
          "727 E Kingsley St Ann Arbor, MI 48104",
          "727 E Kingsley St Ann Arbor, MI 48104",
          "727 E Kingsley St Ann Arbor, MI 48104",
          "3300 Ann Arbor-Saline Road Ann Arbor, MI 48103",
          "3300 Ann Arbor-Saline Road Ann Arbor, MI 48103",
          "3300 Ann Arbor-Saline Road Ann Arbor, MI 48103",
          "3300 Ann Arbor-Saline Road Ann Arbor, MI 48103",
          "3300 Ann Arbor-Saline Road Ann Arbor, MI 48103",
          "Ann Arbor, MI 48103",
          "Ann Arbor, MI 48103",
          "Ann Arbor, MI 48103",
          "Ann Arbor, MI 48103",
          "Ann Arbor, MI 48103",
          "Ann Arbor, MI 48103",
          "1729 Coburn Court Ann Arbor, MI 48108",
          "1729 Coburn Court Ann Arbor, MI 48108",
          "1729 Coburn Court Ann Arbor, MI 48108",
          "1729 Coburn Court Ann Arbor, MI 48108",
          "1729 Coburn Court Ann Arbor, MI 48108",
          "1729 Coburn Court Ann Arbor, MI 48108",
          "8040 Huron Street Dexter, MI 48130",
          "8040 Huron Street Dexter, MI 48130",
          "8040 Huron Street Dexter, MI 48130",
          "8040 Huron Street Dexter, MI 48130",
          "8040 Huron Street Dexter, MI 48130",
          "8040 Huron Street Dexter, MI 48130",
          "1514 Ottawa Road Ann Arbor, MI 48105",
          "1514 Ottawa Road Ann Arbor, MI 48105",
          "1514 Ottawa Road Ann Arbor, MI 48105",
          "1514 Ottawa Road Ann Arbor, MI 48105",
          "1514 Ottawa Road Ann Arbor, MI 48105",
          "1514 Ottawa Road Ann Arbor, MI 48105",
          "4267 Knollcrest Drive Ann Arbor, MI 48108",
          "4267 Knollcrest Drive Ann Arbor, MI 48108",
          "4267 Knollcrest Drive Ann Arbor, MI 48108",
          "4267 Knollcrest Drive Ann Arbor, MI 48108",
          "4267 Knollcrest Drive Ann Arbor, MI 48108",
          "4267 Knollcrest Drive Ann Arbor, MI 48108",
          "4267 Knollcrest Drive Ann Arbor, MI 48108",
          "4267 Knollcrest Drive Ann Arbor, MI 48108",
          "4267 Knollcrest Drive Ann Arbor, MI 48108",
          "4267 Knollcrest Drive Ann Arbor, MI 48108",
          "4267 Knollcrest Drive Ann Arbor, MI 48108",
          "4267 Knollcrest Drive Ann Arbor, MI 48108",
          "6625 Park Road Ann Arbor, MI 48103",
          "6625 Park Road Ann Arbor, MI 48103",
          "6625 Park Road Ann Arbor, MI 48103",
          "6625 Park Road Ann Arbor, MI 48103",
          "415 Manor Dr Ann Arbor, MI 48105",
          "415 Manor Dr Ann Arbor, MI 48105",
          "415 Manor Dr Ann Arbor, MI 48105",
          "415 Manor Dr Ann Arbor, MI 48105",
          "Ann Arbor, MI 48104",
          "Ann Arbor, MI 48104",
          "Ann Arbor, MI 48104",
          "Ann Arbor, MI 48104",
          "Ann Arbor, MI 48103",
          "Ann Arbor, MI 48103",
          "Ann Arbor, MI 48103",
          "Ann Arbor, MI 48103",
          "275 Harbor Way Ann Arbor, MI 48103",
          "275 Harbor Way Ann Arbor, MI 48103",
          "275 Harbor Way Ann Arbor, MI 48103",
          "275 Harbor Way Ann Arbor, MI 48103",
          "1245 Island Drive APT 104 Ann Arbor, MI 48105",
          "1245 Island Drive APT 104 Ann Arbor, MI 48105",
          "1245 Island Drive APT 104 Ann Arbor, MI 48105",
          "1245 Island Drive APT 104 Ann Arbor, MI 48105",
          "7259 Streamwood Drive Ypsilanti, MI 48197",
          "7259 Streamwood Drive Ypsilanti, MI 48197",
          "7259 Streamwood Drive Ypsilanti, MI 48197",
          "7259 Streamwood Drive Ypsilanti, MI 48197",
          "3123 Woodland Hills Drive Ann Arbor, MI 48108",
          "3123 Woodland Hills Drive Ann Arbor, MI 48108",
          "3123 Woodland Hills Drive Ann Arbor, MI 48108",
          "3123 Woodland Hills Drive Ann Arbor, MI 48108",
          "2222 Fuller Court # 912 A Ann Arbor, MI 48105",
          "2222 Fuller Court # 912 A Ann Arbor, MI 48105",
          "2222 Fuller Court # 912 A Ann Arbor, MI 48105",
          "2222 Fuller Court # 912 A Ann Arbor, MI 48105",
          "306 Thompson St Ann Arbor, MI 48104",
          "306 Thompson St Ann Arbor, MI 48104",
          "306 Thompson St Ann Arbor, MI 48104",
          "306 Thompson St Ann Arbor, MI 48104",
          "516 Berkley Avenue Ann Arbor, MI 48103",
          "516 Berkley Avenue Ann Arbor, MI 48103",
          "516 Berkley Avenue Ann Arbor, MI 48103",
          "516 Berkley Avenue Ann Arbor, MI 48103",
          "516 Berkley Avenue Ann Arbor, MI 48103",
          "516 Berkley Avenue Ann Arbor, MI 48103",
          "820 Fuller St Ann Arbor, MI 48104",
          "820 Fuller St Ann Arbor, MI 48104",
          "5126 Green Knolls Lane Ann Arbor, MI 48103",
          "5126 Green Knolls Lane Ann Arbor, MI 48103",
          "5126 Green Knolls Lane Ann Arbor, MI 48103",
          "5126 Green Knolls Lane Ann Arbor, MI 48103",
          "5126 Green Knolls Lane Ann Arbor, MI 48103",
          "5126 Green Knolls Lane Ann Arbor, MI 48103",
          "1118 Nielsen Court Ann Arbor, MI 48105",
          "1118 Nielsen Court Ann Arbor, MI 48105",
          "1118 Nielsen Court Ann Arbor, MI 48105",
          "1118 Nielsen Court Ann Arbor, MI 48105",
          "530 Little Lake Drive Ann Arbor, MI 48103",
          "530 Little Lake Drive Ann Arbor, MI 48103",
          "530 Little Lake Drive Ann Arbor, MI 48103",
          "530 Little Lake Drive Ann Arbor, MI 48103",
          "530 Little Lake Drive Ann Arbor, MI 48103",
          "530 Little Lake Drive Ann Arbor, MI 48103",
          "1145 West Bemis Road Saline, MI 48176",
          "1145 West Bemis Road Saline, MI 48176",
          "1145 West Bemis Road Saline, MI 48176",
          "1145 West Bemis Road Saline, MI 48176",
          "1145 West Bemis Road Saline, MI 48176",
          "1145 West Bemis Road Saline, MI 48176"
         ],
         "lat": [
          42.2804787,
          42.2804787,
          42.2804787,
          42.308428851,
          42.308428851,
          42.308428851,
          42.308428851,
          42.2673828,
          42.2673828,
          42.2673828,
          42.2673828,
          42.2681569,
          42.2681569,
          42.2681569,
          42.2681569,
          42.2862615557,
          42.2862615557,
          42.284972,
          42.284972,
          42.284972,
          42.2389395133,
          42.2389395133,
          42.2389395133,
          42.2389395133,
          42.2389395133,
          42.2681569,
          42.2681569,
          42.2681569,
          42.2681569,
          42.2681569,
          42.2681569,
          42.2383963221,
          42.2383963221,
          42.2383963221,
          42.2383963221,
          42.2383963221,
          42.2383963221,
          42.3407658737,
          42.3407658737,
          42.3407658737,
          42.3407658737,
          42.3407658737,
          42.3407658737,
          42.295596,
          42.295596,
          42.295596,
          42.295596,
          42.295596,
          42.295596,
          42.2394539805,
          42.2394539805,
          42.2394539805,
          42.2394539805,
          42.2394539805,
          42.2394539805,
          42.2394539805,
          42.2394539805,
          42.2394539805,
          42.2394539805,
          42.2394539805,
          42.2394539805,
          42.2798677073,
          42.2798677073,
          42.2798677073,
          42.2798677073,
          42.3051671273,
          42.3051671273,
          42.3051671273,
          42.3051671273,
          42.2681569,
          42.2681569,
          42.2681569,
          42.2681569,
          42.2681569,
          42.2681569,
          42.2681569,
          42.2681569,
          42.2488949,
          42.2488949,
          42.2488949,
          42.2488949,
          42.2908995994,
          42.2908995994,
          42.2908995994,
          42.2908995994,
          42.184536916,
          42.184536916,
          42.184536916,
          42.184536916,
          42.2426447399,
          42.2426447399,
          42.2426447399,
          42.2426447399,
          42.2864742585,
          42.2864742585,
          42.2864742585,
          42.2864742585,
          42.2792184286,
          42.2792184286,
          42.2792184286,
          42.2792184286,
          42.2658679796,
          42.2658679796,
          42.2658679796,
          42.2658679796,
          42.2658679796,
          42.2658679796,
          42.2859364,
          42.2859364,
          42.303076943,
          42.303076943,
          42.303076943,
          42.303076943,
          42.303076943,
          42.303076943,
          42.2892420543,
          42.2892420543,
          42.2892420543,
          42.2892420543,
          42.2798371837,
          42.2798371837,
          42.2798371837,
          42.2798371837,
          42.2798371837,
          42.2798371837,
          42.1701064,
          42.1701064,
          42.1701064,
          42.1701064,
          42.1701064,
          42.1701064
         ],
         "legendgroup": "Other Surrounding Areas",
         "lon": [
          -83.7434586,
          -83.7434586,
          -83.7434586,
          -83.737038367,
          -83.737038367,
          -83.737038367,
          -83.737038367,
          -83.7216294,
          -83.7216294,
          -83.7216294,
          -83.7216294,
          -83.7312291,
          -83.7312291,
          -83.7312291,
          -83.7312291,
          -83.7397572565,
          -83.7397572565,
          -83.739668,
          -83.739668,
          -83.739668,
          -83.7717185703,
          -83.7717185703,
          -83.7717185703,
          -83.7717185703,
          -83.7717185703,
          -83.7312291,
          -83.7312291,
          -83.7312291,
          -83.7312291,
          -83.7312291,
          -83.7312291,
          -83.7636401876,
          -83.7636401876,
          -83.7636401876,
          -83.7636401876,
          -83.7636401876,
          -83.7636401876,
          -83.8813815943,
          -83.8813815943,
          -83.8813815943,
          -83.8813815943,
          -83.8813815943,
          -83.8813815943,
          -83.7400097143,
          -83.7400097143,
          -83.7400097143,
          -83.7400097143,
          -83.7400097143,
          -83.7400097143,
          -83.6750390353,
          -83.6750390353,
          -83.6750390353,
          -83.6750390353,
          -83.6750390353,
          -83.6750390353,
          -83.6750390353,
          -83.6750390353,
          -83.6750390353,
          -83.6750390353,
          -83.6750390353,
          -83.6750390353,
          -83.8643716338,
          -83.8643716338,
          -83.8643716338,
          -83.8643716338,
          -83.739314618,
          -83.739314618,
          -83.739314618,
          -83.739314618,
          -83.7312291,
          -83.7312291,
          -83.7312291,
          -83.7312291,
          -83.7312291,
          -83.7312291,
          -83.7312291,
          -83.7312291,
          -83.7472690373,
          -83.7472690373,
          -83.7472690373,
          -83.7472690373,
          -83.7322281443,
          -83.7322281443,
          -83.7322281443,
          -83.7322281443,
          -83.6094896058,
          -83.6094896058,
          -83.6094896058,
          -83.6094896058,
          -83.6729641662,
          -83.6729641662,
          -83.6729641662,
          -83.6729641662,
          -83.7178504267,
          -83.7178504267,
          -83.7178504267,
          -83.7178504267,
          -83.7433662857,
          -83.7433662857,
          -83.7433662857,
          -83.7433662857,
          -83.7530770612,
          -83.7530770612,
          -83.7530770612,
          -83.7530770612,
          -83.7530770612,
          -83.7530770612,
          -83.7391141409,
          -83.7391141409,
          -83.8302205246,
          -83.8302205246,
          -83.8302205246,
          -83.8302205246,
          -83.8302205246,
          -83.8302205246,
          -83.7355522219,
          -83.7355522219,
          -83.7355522219,
          -83.7355522219,
          -83.816930551,
          -83.816930551,
          -83.816930551,
          -83.816930551,
          -83.816930551,
          -83.816930551,
          -83.7693358,
          -83.7693358,
          -83.7693358,
          -83.7693358,
          -83.7693358,
          -83.7693358
         ],
         "marker": {
          "color": "#F7E1A0"
         },
         "mode": "markers",
         "name": "Other Surrounding Areas",
         "showlegend": true,
         "subplot": "mapbox",
         "type": "scattermapbox"
        },
        {
         "customdata": [
          [
           2184.5
          ],
          [
           1545
          ],
          [
           1417.5
          ],
          [
           1450
          ],
          [
           1199
          ],
          [
           750
          ],
          [
           750
          ],
          [
           750
          ],
          [
           750
          ],
          [
           750
          ],
          [
           750
          ],
          [
           750
          ],
          [
           750
          ],
          [
           750
          ],
          [
           750
          ],
          [
           750
          ],
          [
           750
          ],
          [
           762.5
          ],
          [
           762.5
          ],
          [
           762.5
          ],
          [
           762.5
          ],
          [
           762.5
          ],
          [
           762.5
          ],
          [
           762.5
          ],
          [
           762.5
          ],
          [
           762.5
          ],
          [
           762.5
          ],
          [
           762.5
          ],
          [
           762.5
          ],
          [
           850
          ],
          [
           5100
          ],
          [
           5100
          ],
          [
           995
          ],
          [
           995
          ],
          [
           995
          ],
          [
           995
          ],
          [
           1095
          ],
          [
           1245
          ],
          [
           1325
          ],
          [
           1345
          ],
          [
           1100
          ],
          [
           1100
          ],
          [
           1100
          ],
          [
           1100
          ],
          [
           1100
          ],
          [
           1100
          ],
          [
           1145
          ],
          [
           1195
          ],
          [
           1295
          ],
          [
           1350
          ],
          [
           1350
          ],
          [
           1350
          ],
          [
           1350
          ],
          [
           1350
          ],
          [
           1350
          ],
          [
           1350
          ],
          [
           1350
          ],
          [
           1350
          ],
          [
           1350
          ],
          [
           1350
          ],
          [
           1350
          ],
          [
           1350
          ],
          [
           1350
          ],
          [
           1350
          ],
          [
           1350
          ],
          [
           1425
          ],
          [
           1425
          ],
          [
           1745
          ],
          [
           1450
          ],
          [
           2995
          ],
          [
           2995
          ],
          [
           2995
          ],
          [
           2995
          ],
          [
           2995
          ],
          [
           2995
          ],
          [
           4900
          ],
          [
           5200
          ],
          [
           11500
          ],
          [
           12500
          ],
          [
           14250
          ],
          [
           15000
          ],
          [
           1
          ],
          [
           1
          ],
          [
           350
          ],
          [
           350
          ],
          [
           350
          ],
          [
           350
          ],
          [
           650
          ],
          [
           650
          ],
          [
           650
          ],
          [
           650
          ],
          [
           650
          ],
          [
           650
          ],
          [
           650
          ],
          [
           650
          ],
          [
           650
          ],
          [
           650
          ],
          [
           650
          ],
          [
           650
          ],
          [
           600
          ],
          [
           600
          ],
          [
           600
          ],
          [
           600
          ],
          [
           650
          ],
          [
           650
          ],
          [
           650
          ],
          [
           650
          ],
          [
           660
          ],
          [
           660
          ],
          [
           660
          ],
          [
           660
          ],
          [
           425
          ],
          [
           425
          ],
          [
           425
          ],
          [
           425
          ],
          [
           425
          ],
          [
           425
          ],
          [
           425
          ],
          [
           425
          ],
          [
           425
          ],
          [
           425
          ],
          [
           425
          ],
          [
           425
          ],
          [
           865
          ],
          [
           865
          ],
          [
           865
          ],
          [
           865
          ],
          [
           1025
          ],
          [
           1025
          ],
          [
           1025
          ],
          [
           1025
          ],
          [
           1025
          ],
          [
           1025
          ],
          [
           1045
          ],
          [
           1045
          ],
          [
           1045
          ],
          [
           1045
          ],
          [
           1045
          ],
          [
           1045
          ],
          [
           1120
          ],
          [
           1120
          ],
          [
           1120
          ],
          [
           1120
          ],
          [
           1120
          ],
          [
           1120
          ],
          [
           1125
          ],
          [
           1125
          ],
          [
           1125
          ],
          [
           1125
          ],
          [
           1125
          ],
          [
           1125
          ],
          [
           1425
          ],
          [
           1425
          ],
          [
           1425
          ],
          [
           1425
          ],
          [
           1425
          ],
          [
           1425
          ],
          [
           1950
          ],
          [
           1950
          ],
          [
           1950
          ],
          [
           1950
          ],
          [
           1950
          ],
          [
           1950
          ],
          [
           2000
          ],
          [
           2000
          ],
          [
           2000
          ],
          [
           2000
          ],
          [
           2000
          ],
          [
           2000
          ],
          [
           2475
          ],
          [
           2475
          ],
          [
           2475
          ],
          [
           2475
          ],
          [
           2475
          ],
          [
           2475
          ],
          [
           2700
          ],
          [
           2700
          ],
          [
           2700
          ],
          [
           2700
          ],
          [
           2700
          ],
          [
           2700
          ],
          [
           500
          ],
          [
           500
          ],
          [
           500
          ],
          [
           500
          ],
          [
           4750
          ],
          [
           4750
          ],
          [
           5100
          ],
          [
           5100
          ],
          [
           5100
          ],
          [
           5100
          ],
          [
           5100
          ],
          [
           5100
          ]
         ],
         "hoverlabel": {
          "namelength": 0
         },
         "hovertemplate": "<b>%{hovertext}</b><br><br>neighborhood=East Packard<br>price=%{customdata[0]}<br>lat=%{lat}<br>lon=%{lon}",
         "hovertext": [
          "624 Church Street Ann Arbor, MI 48104",
          "624 Church Street Ann Arbor, MI 48104",
          "624 Church Street Ann Arbor, MI 48104",
          "624 Church Street Ann Arbor, MI 48104",
          "624 Church Street Ann Arbor, MI 48104",
          "620 South State Street Ann Arbor, MI 48104",
          "620 South State Street Ann Arbor, MI 48104",
          "620 South State Street Ann Arbor, MI 48104",
          "620 South State Street Ann Arbor, MI 48104",
          "620 South State Street Ann Arbor, MI 48104",
          "620 South State Street Ann Arbor, MI 48104",
          "620 South State Street Ann Arbor, MI 48104",
          "620 South State Street Ann Arbor, MI 48104",
          "620 South State Street Ann Arbor, MI 48104",
          "620 South State Street Ann Arbor, MI 48104",
          "620 South State Street Ann Arbor, MI 48104",
          "620 South State Street Ann Arbor, MI 48104",
          "604 South State Street Ann Arbor, MI 48104",
          "604 South State Street Ann Arbor, MI 48104",
          "604 South State Street Ann Arbor, MI 48104",
          "604 South State Street Ann Arbor, MI 48104",
          "604 South State Street Ann Arbor, MI 48104",
          "604 South State Street Ann Arbor, MI 48104",
          "604 South State Street Ann Arbor, MI 48104",
          "604 South State Street Ann Arbor, MI 48104",
          "604 South State Street Ann Arbor, MI 48104",
          "604 South State Street Ann Arbor, MI 48104",
          "604 South State Street Ann Arbor, MI 48104",
          "604 South State Street Ann Arbor, MI 48104",
          "741 Packard Street Ann Arbor, MI 48104",
          "741 Packard Street Ann Arbor, MI 48104",
          "741 Packard Street Ann Arbor, MI 48104",
          "904 South State Street Ann Arbor, MI 48104",
          "904 South State Street Ann Arbor, MI 48104",
          "904 South State Street Ann Arbor, MI 48104",
          "904 South State Street Ann Arbor, MI 48104",
          "618 Packard St Ann Arbor, MI 48104",
          "618 Packard St Ann Arbor, MI 48104",
          "618 Packard St Ann Arbor, MI 48104",
          "618 Packard St Ann Arbor, MI 48104",
          "402 Hill Street Ann Arbor, MI 48104",
          "402 Hill Street Ann Arbor, MI 48104",
          "402 Hill Street Ann Arbor, MI 48104",
          "402 Hill Street Ann Arbor, MI 48104",
          "402 Hill Street Ann Arbor, MI 48104",
          "402 Hill Street Ann Arbor, MI 48104",
          "624 Packard St Ann Arbor, MI 48104",
          "624 Packard St Ann Arbor, MI 48104",
          "624 Packard St Ann Arbor, MI 48104",
          "1355 King George Blvd Ann Arbor, MI 48108",
          "1355 King George Blvd Ann Arbor, MI 48108",
          "1355 King George Blvd Ann Arbor, MI 48108",
          "1355 King George Blvd Ann Arbor, MI 48108",
          "1355 King George Blvd Ann Arbor, MI 48108",
          "1355 King George Blvd Ann Arbor, MI 48108",
          "1355 King George Blvd Ann Arbor, MI 48108",
          "1355 King George Blvd Ann Arbor, MI 48108",
          "1355 King George Blvd Ann Arbor, MI 48108",
          "1355 King George Blvd Ann Arbor, MI 48108",
          "1355 King George Blvd Ann Arbor, MI 48108",
          "1355 King George Blvd Ann Arbor, MI 48108",
          "1355 King George Blvd Ann Arbor, MI 48108",
          "1355 King George Blvd Ann Arbor, MI 48108",
          "1355 King George Blvd Ann Arbor, MI 48108",
          "1355 King George Blvd Ann Arbor, MI 48108",
          "817 Arch St Ann Arbor, MI 48104",
          "817 Arch St Ann Arbor, MI 48104",
          "817 Arch St Ann Arbor, MI 48104",
          "701 S. MAIN ST. ANN ARBOR, MI 48104",
          "602 Mary Ct. Ann Arbor, MI 48104",
          "602 Mary Ct. Ann Arbor, MI 48104",
          "602 Mary Ct. Ann Arbor, MI 48104",
          "602 Mary Ct. Ann Arbor, MI 48104",
          "602 Mary Ct. Ann Arbor, MI 48104",
          "602 Mary Ct. Ann Arbor, MI 48104",
          "818 Hill Street Ann Arbor, MI 48104",
          "1109 White Street Ann Arbor, MI 48104",
          "809 Hill Street Ann Arbor, MI 48104",
          "723 Oakland Avenue Ann Arbor, MI 48104",
          "814 Hill Street Ann Arbor, MI 48104",
          "808 Tappan Avenue Ann Arbor, MI 48104",
          "608 Monroe Street Ann Arbor, MI 48104",
          "608 Monroe Street Ann Arbor, MI 48104",
          "706 Arch Street Ann Arbor, MI 48104",
          "706 Arch Street Ann Arbor, MI 48104",
          "706 Arch Street Ann Arbor, MI 48104",
          "706 Arch Street Ann Arbor, MI 48104",
          "720 South State Street Ann Arbor, MI 48104",
          "720 South State Street Ann Arbor, MI 48104",
          "720 South State Street Ann Arbor, MI 48104",
          "720 South State Street Ann Arbor, MI 48104",
          "720 South State Street Ann Arbor, MI 48104",
          "720 South State Street Ann Arbor, MI 48104",
          "720 South State Street Ann Arbor, MI 48104",
          "720 South State Street Ann Arbor, MI 48104",
          "720 South State Street Ann Arbor, MI 48104",
          "720 South State Street Ann Arbor, MI 48104",
          "720 South State Street Ann Arbor, MI 48104",
          "720 South State Street Ann Arbor, MI 48104",
          "815 South State Street Ann Arbor, MI 48104",
          "815 South State Street Ann Arbor, MI 48104",
          "815 South State Street Ann Arbor, MI 48104",
          "815 South State Street Ann Arbor, MI 48104",
          "Ann Arbor, MI 48108",
          "Ann Arbor, MI 48108",
          "Ann Arbor, MI 48108",
          "Ann Arbor, MI 48108",
          "701 South State Street Ann Arbor, MI 48109",
          "701 South State Street Ann Arbor, MI 48109",
          "701 South State Street Ann Arbor, MI 48109",
          "701 South State Street Ann Arbor, MI 48109",
          "726 South State Street Ann Arbor, MI 48104",
          "726 South State Street Ann Arbor, MI 48104",
          "726 South State Street Ann Arbor, MI 48104",
          "726 South State Street Ann Arbor, MI 48104",
          "726 South State Street Ann Arbor, MI 48104",
          "726 South State Street Ann Arbor, MI 48104",
          "726 South State Street Ann Arbor, MI 48104",
          "726 South State Street Ann Arbor, MI 48104",
          "726 South State Street Ann Arbor, MI 48104",
          "726 South State Street Ann Arbor, MI 48104",
          "726 South State Street Ann Arbor, MI 48104",
          "726 South State Street Ann Arbor, MI 48104",
          "720 South State Street Ann Arbor, MI 48104",
          "720 South State Street Ann Arbor, MI 48104",
          "720 South State Street Ann Arbor, MI 48104",
          "720 South State Street Ann Arbor, MI 48104",
          "816 South State Street Ann Arbor, MI 48104",
          "816 South State Street Ann Arbor, MI 48104",
          "816 South State Street Ann Arbor, MI 48104",
          "816 South State Street Ann Arbor, MI 48104",
          "816 South State Street Ann Arbor, MI 48104",
          "816 South State Street Ann Arbor, MI 48104",
          "931 South State Street Ann Arbor, MI 48104",
          "931 South State Street Ann Arbor, MI 48104",
          "931 South State Street Ann Arbor, MI 48104",
          "931 South State Street Ann Arbor, MI 48104",
          "931 South State Street Ann Arbor, MI 48104",
          "931 South State Street Ann Arbor, MI 48104",
          "Ann Arbor, MI 48104",
          "Ann Arbor, MI 48104",
          "Ann Arbor, MI 48104",
          "Ann Arbor, MI 48104",
          "Ann Arbor, MI 48104",
          "Ann Arbor, MI 48104",
          "816 South State Street Ann Arbor, MI 48104",
          "816 South State Street Ann Arbor, MI 48104",
          "816 South State Street Ann Arbor, MI 48104",
          "816 South State Street Ann Arbor, MI 48104",
          "816 South State Street Ann Arbor, MI 48104",
          "816 South State Street Ann Arbor, MI 48104",
          "921 Mary Street Ann Arbor, MI 48104",
          "921 Mary Street Ann Arbor, MI 48104",
          "921 Mary Street Ann Arbor, MI 48104",
          "921 Mary Street Ann Arbor, MI 48104",
          "921 Mary Street Ann Arbor, MI 48104",
          "921 Mary Street Ann Arbor, MI 48104",
          "711 Packard Street Ann Arbor, MI 48104",
          "711 Packard Street Ann Arbor, MI 48104",
          "711 Packard Street Ann Arbor, MI 48104",
          "711 Packard Street Ann Arbor, MI 48104",
          "711 Packard Street Ann Arbor, MI 48104",
          "711 Packard Street Ann Arbor, MI 48104",
          "186 Carriage Way Ypsilanti, MI 48197",
          "186 Carriage Way Ypsilanti, MI 48197",
          "186 Carriage Way Ypsilanti, MI 48197",
          "186 Carriage Way Ypsilanti, MI 48197",
          "186 Carriage Way Ypsilanti, MI 48197",
          "186 Carriage Way Ypsilanti, MI 48197",
          "1412 Geddes Apt 8. Ann Arbor, MI 48104",
          "1412 Geddes Apt 8. Ann Arbor, MI 48104",
          "1412 Geddes Apt 8. Ann Arbor, MI 48104",
          "1412 Geddes Apt 8. Ann Arbor, MI 48104",
          "1412 Geddes Apt 8. Ann Arbor, MI 48104",
          "1412 Geddes Apt 8. Ann Arbor, MI 48104",
          "Ann Arbor, MI 48104",
          "Ann Arbor, MI 48104",
          "Ann Arbor, MI 48104",
          "Ann Arbor, MI 48104",
          "Ann Arbor, MI 48104",
          "Ann Arbor, MI 48104",
          "745 Packard Street Ann Arbor, MI 48104",
          "745 Packard Street Ann Arbor, MI 48104",
          "745 Packard Street Ann Arbor, MI 48104",
          "745 Packard Street Ann Arbor, MI 48104",
          "702 Tappan Ann Arbor, MI 48104",
          "702 Tappan Ann Arbor, MI 48104",
          "902 Packard Street Ann Arbor, MI 48104",
          "902 Packard Street Ann Arbor, MI 48104",
          "902 Packard Street Ann Arbor, MI 48104",
          "902 Packard Street Ann Arbor, MI 48104",
          "902 Packard Street Ann Arbor, MI 48104",
          "902 Packard Street Ann Arbor, MI 48104"
         ],
         "lat": [
          42.27400215,
          42.27400215,
          42.27400215,
          42.27400215,
          42.27400215,
          42.27356665,
          42.27356665,
          42.27356665,
          42.27356665,
          42.27356665,
          42.27356665,
          42.27356665,
          42.27356665,
          42.27356665,
          42.27356665,
          42.27356665,
          42.27356665,
          42.27390515,
          42.27390515,
          42.27390515,
          42.27390515,
          42.27390515,
          42.27390515,
          42.27390515,
          42.27390515,
          42.27390515,
          42.27390515,
          42.27390515,
          42.27390515,
          42.26999415,
          42.26999415,
          42.26999415,
          42.2706884,
          42.2706884,
          42.2706884,
          42.2706884,
          42.2712012,
          42.2712012,
          42.2712012,
          42.2712012,
          42.2716189,
          42.2716189,
          42.2716189,
          42.2716189,
          42.2716189,
          42.2716189,
          42.27109635,
          42.27109635,
          42.27109635,
          42.2434531067,
          42.2434531067,
          42.2434531067,
          42.2434531067,
          42.2434531067,
          42.2434531067,
          42.2434531067,
          42.2434531067,
          42.2434531067,
          42.2434531067,
          42.2434531067,
          42.2434531067,
          42.2434531067,
          42.2434531067,
          42.2434531067,
          42.2434531067,
          42.26999525,
          42.26999525,
          42.26999525,
          42.272673,
          42.27002055,
          42.27002055,
          42.27002055,
          42.27002055,
          42.27002055,
          42.27002055,
          42.271884,
          42.26868285,
          42.27213785,
          42.2724353,
          42.2717205,
          42.2717009022,
          42.2729544,
          42.2729544,
          42.26889735,
          42.26889735,
          42.26889735,
          42.26889735,
          42.2727108333,
          42.2727108333,
          42.2727108333,
          42.2727108333,
          42.2727108333,
          42.2727108333,
          42.2727108333,
          42.2727108333,
          42.2727108333,
          42.2727108333,
          42.2727108333,
          42.2727108333,
          42.2716708571,
          42.2716708571,
          42.2716708571,
          42.2716708571,
          42.2681569,
          42.2681569,
          42.2681569,
          42.2681569,
          42.2728692,
          42.2728692,
          42.2728692,
          42.2728692,
          42.2724034,
          42.2724034,
          42.2724034,
          42.2724034,
          42.2724034,
          42.2724034,
          42.2724034,
          42.2724034,
          42.2724034,
          42.2724034,
          42.2724034,
          42.2724034,
          42.2727108333,
          42.2727108333,
          42.2727108333,
          42.2727108333,
          42.2714613,
          42.2714613,
          42.2714613,
          42.2714613,
          42.2714613,
          42.2714613,
          42.269811,
          42.269811,
          42.269811,
          42.269811,
          42.269811,
          42.269811,
          42.2681569,
          42.2681569,
          42.2681569,
          42.2681569,
          42.2681569,
          42.2681569,
          42.2714613,
          42.2714613,
          42.2714613,
          42.2714613,
          42.2714613,
          42.2714613,
          42.2703972,
          42.2703972,
          42.2703972,
          42.2703972,
          42.2703972,
          42.2703972,
          42.2707889824,
          42.2707889824,
          42.2707889824,
          42.2707889824,
          42.2707889824,
          42.2707889824,
          42.2335250764,
          42.2335250764,
          42.2335250764,
          42.2335250764,
          42.2335250764,
          42.2335250764,
          42.2669827,
          42.2669827,
          42.2669827,
          42.2669827,
          42.2669827,
          42.2669827,
          42.2681569,
          42.2681569,
          42.2681569,
          42.2681569,
          42.2681569,
          42.2681569,
          42.2697883,
          42.2697883,
          42.2697883,
          42.2697883,
          42.27095,
          42.27095,
          42.2684022222,
          42.2684022222,
          42.2684022222,
          42.2684022222,
          42.2684022222,
          42.2684022222
         ],
         "legendgroup": "East Packard",
         "lon": [
          -83.7348212252,
          -83.7348212252,
          -83.7348212252,
          -83.7348212252,
          -83.7348212252,
          -83.7410658584,
          -83.7410658584,
          -83.7410658584,
          -83.7410658584,
          -83.7410658584,
          -83.7410658584,
          -83.7410658584,
          -83.7410658584,
          -83.7410658584,
          -83.7410658584,
          -83.7410658584,
          -83.7410658584,
          -83.7410415544,
          -83.7410415544,
          -83.7410415544,
          -83.7410415544,
          -83.7410415544,
          -83.7410415544,
          -83.7410415544,
          -83.7410415544,
          -83.7410415544,
          -83.7410415544,
          -83.7410415544,
          -83.7410415544,
          -83.7392745094,
          -83.7392745094,
          -83.7392745094,
          -83.7408620513,
          -83.7408620513,
          -83.7408620513,
          -83.7408620513,
          -83.741279575,
          -83.741279575,
          -83.741279575,
          -83.741279575,
          -83.744174,
          -83.744174,
          -83.744174,
          -83.744174,
          -83.744174,
          -83.744174,
          -83.7411768791,
          -83.7411768791,
          -83.7411768791,
          -83.7250997116,
          -83.7250997116,
          -83.7250997116,
          -83.7250997116,
          -83.7250997116,
          -83.7250997116,
          -83.7250997116,
          -83.7250997116,
          -83.7250997116,
          -83.7250997116,
          -83.7250997116,
          -83.7250997116,
          -83.7250997116,
          -83.7250997116,
          -83.7250997116,
          -83.7250997116,
          -83.738633799,
          -83.738633799,
          -83.738633799,
          -83.749319,
          -83.7416143,
          -83.7416143,
          -83.7416143,
          -83.7416143,
          -83.7416143,
          -83.7416143,
          -83.738322,
          -83.7390794927,
          -83.7388560539,
          -83.739098228,
          -83.7385528017,
          -83.7378066036,
          -83.7416300221,
          -83.7416300221,
          -83.7401788777,
          -83.7401788777,
          -83.7401788777,
          -83.7401788777,
          -83.7407561667,
          -83.7407561667,
          -83.7407561667,
          -83.7407561667,
          -83.7407561667,
          -83.7407561667,
          -83.7407561667,
          -83.7407561667,
          -83.7407561667,
          -83.7407561667,
          -83.7407561667,
          -83.7407561667,
          -83.7405251429,
          -83.7405251429,
          -83.7405251429,
          -83.7405251429,
          -83.7312291,
          -83.7312291,
          -83.7312291,
          -83.7312291,
          -83.7400626,
          -83.7400626,
          -83.7400626,
          -83.7400626,
          -83.7410483,
          -83.7410483,
          -83.7410483,
          -83.7410483,
          -83.7410483,
          -83.7410483,
          -83.7410483,
          -83.7410483,
          -83.7410483,
          -83.7410483,
          -83.7410483,
          -83.7410483,
          -83.7407561667,
          -83.7407561667,
          -83.7407561667,
          -83.7407561667,
          -83.7407624,
          -83.7407624,
          -83.7407624,
          -83.7407624,
          -83.7407624,
          -83.7407624,
          -83.740392,
          -83.740392,
          -83.740392,
          -83.740392,
          -83.740392,
          -83.740392,
          -83.7312291,
          -83.7312291,
          -83.7312291,
          -83.7312291,
          -83.7312291,
          -83.7312291,
          -83.7407624,
          -83.7407624,
          -83.7407624,
          -83.7407624,
          -83.7407624,
          -83.7407624,
          -83.7415352746,
          -83.7415352746,
          -83.7415352746,
          -83.7415352746,
          -83.7415352746,
          -83.7415352746,
          -83.7403217168,
          -83.7403217168,
          -83.7403217168,
          -83.7403217168,
          -83.7403217168,
          -83.7403217168,
          -83.6488895984,
          -83.6488895984,
          -83.6488895984,
          -83.6488895984,
          -83.6488895984,
          -83.6488895984,
          -83.6677172,
          -83.6677172,
          -83.6677172,
          -83.6677172,
          -83.6677172,
          -83.6677172,
          -83.7312291,
          -83.7312291,
          -83.7312291,
          -83.7312291,
          -83.7312291,
          -83.7312291,
          -83.73910519,
          -83.73910519,
          -83.73910519,
          -83.73910519,
          -83.73689,
          -83.73689,
          -83.7380392222,
          -83.7380392222,
          -83.7380392222,
          -83.7380392222,
          -83.7380392222,
          -83.7380392222
         ],
         "marker": {
          "color": "#E2E2E2"
         },
         "mode": "markers",
         "name": "East Packard",
         "showlegend": true,
         "subplot": "mapbox",
         "type": "scattermapbox"
        },
        {
         "customdata": [
          [
           5000
          ],
          [
           5000
          ],
          [
           5000
          ],
          [
           5000
          ],
          [
           5000
          ],
          [
           5000
          ],
          [
           1700
          ],
          [
           1700
          ],
          [
           1700
          ],
          [
           1700
          ],
          [
           1700
          ],
          [
           1700
          ],
          [
           1900
          ],
          [
           1900
          ],
          [
           1900
          ],
          [
           1900
          ],
          [
           1900
          ],
          [
           1900
          ],
          [
           4300
          ],
          [
           5600
          ],
          [
           8000
          ],
          [
           650
          ],
          [
           650
          ],
          [
           650
          ],
          [
           650
          ],
          [
           900
          ],
          [
           900
          ],
          [
           900
          ],
          [
           900
          ],
          [
           1000
          ],
          [
           1000
          ],
          [
           1000
          ],
          [
           1000
          ],
          [
           1000
          ],
          [
           1000
          ],
          [
           1100
          ],
          [
           1100
          ],
          [
           1100
          ],
          [
           1100
          ],
          [
           1100
          ],
          [
           1100
          ],
          [
           1400
          ],
          [
           1400
          ],
          [
           1400
          ],
          [
           1400
          ],
          [
           1400
          ],
          [
           1400
          ],
          [
           435
          ],
          [
           435
          ],
          [
           435
          ],
          [
           435
          ],
          [
           435
          ],
          [
           435
          ],
          [
           435
          ],
          [
           435
          ],
          [
           435
          ],
          [
           435
          ],
          [
           435
          ],
          [
           435
          ],
          [
           1150
          ],
          [
           1150
          ],
          [
           1150
          ],
          [
           1150
          ],
          [
           1150
          ],
          [
           1150
          ],
          [
           5850
          ],
          [
           5850
          ],
          [
           5850
          ],
          [
           5850
          ],
          [
           5850
          ],
          [
           5850
          ]
         ],
         "hoverlabel": {
          "namelength": 0
         },
         "hovertemplate": "<b>%{hovertext}</b><br><br>neighborhood=Oxbridge<br>price=%{customdata[0]}<br>lat=%{lat}<br>lon=%{lon}",
         "hovertext": [
          "1616 Washtenaw Avenue Ann Arbor, MI 48104",
          "1616 Washtenaw Avenue Ann Arbor, MI 48104",
          "1616 Washtenaw Avenue Ann Arbor, MI 48104",
          "1616 Washtenaw Avenue Ann Arbor, MI 48104",
          "1616 Washtenaw Avenue Ann Arbor, MI 48104",
          "1616 Washtenaw Avenue Ann Arbor, MI 48104",
          "2234 Pittsfield Blvd Ann Arbor, MI 48104",
          "2234 Pittsfield Blvd Ann Arbor, MI 48104",
          "2234 Pittsfield Blvd Ann Arbor, MI 48104",
          "2234 Pittsfield Blvd Ann Arbor, MI 48104",
          "2234 Pittsfield Blvd Ann Arbor, MI 48104",
          "2234 Pittsfield Blvd Ann Arbor, MI 48104",
          "470 Rock Creek Drive Ann Arbor, MI 48104",
          "470 Rock Creek Drive Ann Arbor, MI 48104",
          "470 Rock Creek Drive Ann Arbor, MI 48104",
          "470 Rock Creek Drive Ann Arbor, MI 48104",
          "470 Rock Creek Drive Ann Arbor, MI 48104",
          "470 Rock Creek Drive Ann Arbor, MI 48104",
          "509 Linden Street Ann Arbor, MI 48104",
          "1619 South University Avenue Ann Arbor, MI 48104",
          "541 Elm Street Ann Arbor, MI 48104",
          "1700 Geddes Avenue Ann Arbor, MI 48104",
          "1700 Geddes Avenue Ann Arbor, MI 48104",
          "1700 Geddes Avenue Ann Arbor, MI 48104",
          "1700 Geddes Avenue Ann Arbor, MI 48104",
          "1700 Geddes Avenue Ann Arbor, MI 48104",
          "1700 Geddes Avenue Ann Arbor, MI 48104",
          "1700 Geddes Avenue Ann Arbor, MI 48104",
          "1700 Geddes Avenue Ann Arbor, MI 48104",
          "305 Awixa Road Ann Arbor, MI 48104",
          "305 Awixa Road Ann Arbor, MI 48104",
          "305 Awixa Road Ann Arbor, MI 48104",
          "305 Awixa Road Ann Arbor, MI 48104",
          "305 Awixa Road Ann Arbor, MI 48104",
          "305 Awixa Road Ann Arbor, MI 48104",
          "2253 Glencoe Hills Drive Apt. 9 Ann Arbor, MI 48108",
          "2253 Glencoe Hills Drive Apt. 9 Ann Arbor, MI 48108",
          "2253 Glencoe Hills Drive Apt. 9 Ann Arbor, MI 48108",
          "2253 Glencoe Hills Drive Apt. 9 Ann Arbor, MI 48108",
          "2253 Glencoe Hills Drive Apt. 9 Ann Arbor, MI 48108",
          "2253 Glencoe Hills Drive Apt. 9 Ann Arbor, MI 48108",
          "125 Carriage Way Ypsilanti, MI 48197",
          "125 Carriage Way Ypsilanti, MI 48197",
          "125 Carriage Way Ypsilanti, MI 48197",
          "125 Carriage Way Ypsilanti, MI 48197",
          "125 Carriage Way Ypsilanti, MI 48197",
          "125 Carriage Way Ypsilanti, MI 48197",
          "615 Oswego Street Ann Arbor, MI 48104",
          "615 Oswego Street Ann Arbor, MI 48104",
          "615 Oswego Street Ann Arbor, MI 48104",
          "615 Oswego Street Ann Arbor, MI 48104",
          "615 Oswego Street Ann Arbor, MI 48104",
          "615 Oswego Street Ann Arbor, MI 48104",
          "615 Oswego Street Ann Arbor, MI 48104",
          "615 Oswego Street Ann Arbor, MI 48104",
          "615 Oswego Street Ann Arbor, MI 48104",
          "615 Oswego Street Ann Arbor, MI 48104",
          "615 Oswego Street Ann Arbor, MI 48104",
          "615 Oswego Street Ann Arbor, MI 48104",
          "930 Church St Ann Arbor, MI 48104",
          "930 Church St Ann Arbor, MI 48104",
          "930 Church St Ann Arbor, MI 48104",
          "930 Church St Ann Arbor, MI 48104",
          "930 Church St Ann Arbor, MI 48104",
          "930 Church St Ann Arbor, MI 48104",
          "Ann Arbor, MI 48104",
          "Ann Arbor, MI 48104",
          "Ann Arbor, MI 48104",
          "Ann Arbor, MI 48104",
          "Ann Arbor, MI 48104",
          "Ann Arbor, MI 48104"
         ],
         "lat": [
          42.2718566,
          42.2718566,
          42.2718566,
          42.2718566,
          42.2718566,
          42.2718566,
          42.2548173723,
          42.2548173723,
          42.2548173723,
          42.2548173723,
          42.2548173723,
          42.2548173723,
          42.2753627712,
          42.2753627712,
          42.2753627712,
          42.2753627712,
          42.2753627712,
          42.2753627712,
          42.2761563737,
          42.2751928286,
          42.275595,
          42.2760346246,
          42.2760346246,
          42.2760346246,
          42.2760346246,
          42.2760346246,
          42.2760346246,
          42.2760346246,
          42.2760346246,
          42.2764859742,
          42.2764859742,
          42.2764859742,
          42.2764859742,
          42.2764859742,
          42.2764859742,
          42.2538400866,
          42.2538400866,
          42.2538400866,
          42.2538400866,
          42.2538400866,
          42.2538400866,
          42.2340746422,
          42.2340746422,
          42.2340746422,
          42.2340746422,
          42.2340746422,
          42.2340746422,
          42.2742698571,
          42.2742698571,
          42.2742698571,
          42.2742698571,
          42.2742698571,
          42.2742698571,
          42.2742698571,
          42.2742698571,
          42.2742698571,
          42.2742698571,
          42.2742698571,
          42.2742698571,
          42.27047565,
          42.27047565,
          42.27047565,
          42.27047565,
          42.27047565,
          42.27047565,
          42.2681569,
          42.2681569,
          42.2681569,
          42.2681569,
          42.2681569,
          42.2681569
         ],
         "legendgroup": "Oxbridge",
         "lon": [
          -83.7277366,
          -83.7277366,
          -83.7277366,
          -83.7277366,
          -83.7277366,
          -83.7277366,
          -83.6907705624,
          -83.6907705624,
          -83.6907705624,
          -83.6907705624,
          -83.6907705624,
          -83.6907705624,
          -83.713224035,
          -83.713224035,
          -83.713224035,
          -83.713224035,
          -83.713224035,
          -83.713224035,
          -83.7278835106,
          -83.7281514409,
          -83.730556,
          -83.7270628691,
          -83.7270628691,
          -83.7270628691,
          -83.7270628691,
          -83.7270628691,
          -83.7270628691,
          -83.7270628691,
          -83.7270628691,
          -83.7173828246,
          -83.7173828246,
          -83.7173828246,
          -83.7173828246,
          -83.7173828246,
          -83.7173828246,
          -83.6735869667,
          -83.6735869667,
          -83.6735869667,
          -83.6735869667,
          -83.6735869667,
          -83.6735869667,
          -83.6489076835,
          -83.6489076835,
          -83.6489076835,
          -83.6489076835,
          -83.6489076835,
          -83.6489076835,
          -83.7231884286,
          -83.7231884286,
          -83.7231884286,
          -83.7231884286,
          -83.7231884286,
          -83.7231884286,
          -83.7231884286,
          -83.7231884286,
          -83.7231884286,
          -83.7231884286,
          -83.7231884286,
          -83.7231884286,
          -83.7348049,
          -83.7348049,
          -83.7348049,
          -83.7348049,
          -83.7348049,
          -83.7348049,
          -83.7312291,
          -83.7312291,
          -83.7312291,
          -83.7312291,
          -83.7312291,
          -83.7312291
         ],
         "marker": {
          "color": "#1CBE4F"
         },
         "mode": "markers",
         "name": "Oxbridge",
         "showlegend": true,
         "subplot": "mapbox",
         "type": "scattermapbox"
        },
        {
         "customdata": [
          [
           666
          ],
          [
           666
          ],
          [
           666
          ],
          [
           666
          ],
          [
           725
          ],
          [
           725
          ],
          [
           725
          ],
          [
           800
          ],
          [
           800
          ],
          [
           800
          ],
          [
           800
          ],
          [
           1085
          ],
          [
           1085
          ],
          [
           1085
          ],
          [
           1085
          ],
          [
           1085
          ],
          [
           1085
          ],
          [
           1099
          ],
          [
           1245
          ],
          [
           1245
          ],
          [
           1349
          ],
          [
           1545
          ],
          [
           1625
          ],
          [
           1545
          ],
          [
           1115
          ],
          [
           1115
          ],
          [
           1115
          ],
          [
           1115
          ],
          [
           1115
          ],
          [
           1115
          ],
          [
           1145
          ],
          [
           1145
          ],
          [
           1145
          ],
          [
           1145
          ],
          [
           1145
          ],
          [
           1145
          ],
          [
           1325
          ],
          [
           1475
          ],
          [
           4599
          ],
          [
           1395
          ],
          [
           1395
          ],
          [
           1645
          ],
          [
           1555
          ],
          [
           1245
          ],
          [
           1129
          ],
          [
           750
          ],
          [
           1055
          ],
          [
           959
          ],
          [
           1595
          ],
          [
           1595
          ],
          [
           1625
          ],
          [
           1725
          ],
          [
           1725
          ],
          [
           1725
          ],
          [
           1725
          ],
          [
           1725
          ],
          [
           1725
          ],
          [
           1725
          ],
          [
           1725
          ],
          [
           1725
          ],
          [
           1725
          ],
          [
           1725
          ],
          [
           1725
          ],
          [
           1725
          ],
          [
           1725
          ],
          [
           1725
          ],
          [
           1725
          ],
          [
           3345
          ],
          [
           3345
          ],
          [
           3345
          ],
          [
           3345
          ],
          [
           3345
          ],
          [
           3345
          ],
          [
           4100
          ],
          [
           4100
          ],
          [
           4100
          ],
          [
           4100
          ],
          [
           4100
          ],
          [
           4100
          ],
          [
           4900
          ],
          [
           890
          ],
          [
           890
          ],
          [
           890
          ],
          [
           5700
          ],
          [
           5700
          ],
          [
           5700
          ],
          [
           5700
          ],
          [
           5700
          ],
          [
           5700
          ],
          [
           650
          ],
          [
           650
          ],
          [
           650
          ],
          [
           650
          ],
          [
           650
          ],
          [
           650
          ],
          [
           650
          ],
          [
           650
          ],
          [
           650
          ],
          [
           650
          ],
          [
           650
          ],
          [
           650
          ],
          [
           650
          ],
          [
           650
          ],
          [
           400
          ],
          [
           400
          ],
          [
           400
          ],
          [
           400
          ],
          [
           550
          ],
          [
           550
          ],
          [
           550
          ],
          [
           550
          ],
          [
           550
          ],
          [
           550
          ],
          [
           550
          ],
          [
           550
          ],
          [
           555
          ],
          [
           555
          ],
          [
           555
          ],
          [
           555
          ],
          [
           450
          ],
          [
           450
          ],
          [
           450
          ],
          [
           450
          ],
          [
           450
          ],
          [
           450
          ],
          [
           450
          ],
          [
           450
          ],
          [
           450
          ],
          [
           450
          ],
          [
           450
          ],
          [
           450
          ],
          [
           750
          ],
          [
           750
          ],
          [
           750
          ],
          [
           750
          ],
          [
           815
          ],
          [
           815
          ],
          [
           815
          ],
          [
           815
          ],
          [
           999
          ],
          [
           999
          ],
          [
           999
          ],
          [
           999
          ],
          [
           1550
          ],
          [
           1550
          ],
          [
           1550
          ],
          [
           1550
          ],
          [
           1550
          ],
          [
           1550
          ],
          [
           1700
          ],
          [
           450
          ],
          [
           450
          ],
          [
           450
          ],
          [
           450
          ],
          [
           785
          ],
          [
           785
          ],
          [
           785
          ],
          [
           785
          ],
          [
           3150
          ],
          [
           3150
          ],
          [
           3150
          ],
          [
           3150
          ],
          [
           3150
          ],
          [
           3150
          ],
          [
           4500
          ],
          [
           4500
          ],
          [
           4500
          ],
          [
           4500
          ],
          [
           4500
          ],
          [
           4500
          ],
          [
           4860
          ],
          [
           4860
          ],
          [
           4860
          ],
          [
           4860
          ],
          [
           4860
          ],
          [
           4860
          ]
         ],
         "hoverlabel": {
          "namelength": 0
         },
         "hovertemplate": "<b>%{hovertext}</b><br><br>neighborhood=Elbel<br>price=%{customdata[0]}<br>lat=%{lat}<br>lon=%{lon}",
         "hovertext": [
          "818 Brown St Ann Arbor, MI 48104",
          "818 Brown St Ann Arbor, MI 48104",
          "818 Brown St Ann Arbor, MI 48104",
          "818 Brown St Ann Arbor, MI 48104",
          "402 BENJAMIN ANN ARBOR, MI 48104",
          "402 BENJAMIN ANN ARBOR, MI 48104",
          "402 BENJAMIN ANN ARBOR, MI 48104",
          "615 South Main Street Ann Arbor, MI 48104",
          "615 South Main Street Ann Arbor, MI 48104",
          "615 South Main Street Ann Arbor, MI 48104",
          "615 South Main Street Ann Arbor, MI 48104",
          "125 West Hoover Avenue Ann Arbor, MI 48103",
          "125 West Hoover Avenue Ann Arbor, MI 48103",
          "125 West Hoover Avenue Ann Arbor, MI 48103",
          "125 West Hoover Avenue Ann Arbor, MI 48103",
          "125 West Hoover Avenue Ann Arbor, MI 48103",
          "125 West Hoover Avenue Ann Arbor, MI 48103",
          "1036 S Main St Ann Arbor, MI 48104",
          "1036 S Main St Ann Arbor, MI 48104",
          "1036 S Main St Ann Arbor, MI 48104",
          "1036 S Main St Ann Arbor, MI 48104",
          "1036 S Main St Ann Arbor, MI 48104",
          "1036 S Main St Ann Arbor, MI 48104",
          "1036 S Main St Ann Arbor, MI 48104",
          "125 West Hoover Avenue Ann Arbor, MI 48103",
          "125 West Hoover Avenue Ann Arbor, MI 48103",
          "125 West Hoover Avenue Ann Arbor, MI 48103",
          "125 West Hoover Avenue Ann Arbor, MI 48103",
          "125 West Hoover Avenue Ann Arbor, MI 48103",
          "125 West Hoover Avenue Ann Arbor, MI 48103",
          "912 Sybil St Ann Arbor, MI 48104",
          "912 Sybil St Ann Arbor, MI 48104",
          "912 Sybil St Ann Arbor, MI 48104",
          "912 Sybil St Ann Arbor, MI 48104",
          "912 Sybil St Ann Arbor, MI 48104",
          "912 Sybil St Ann Arbor, MI 48104",
          "508 Hill St Ann Arbor, MI 48104",
          "508 Hill St Ann Arbor, MI 48104",
          "508 Hill St Ann Arbor, MI 48104",
          "728 S Main St Ann Arbor, MI 48104",
          "728 S Main St Ann Arbor, MI 48104",
          "728 S Main St Ann Arbor, MI 48104",
          "615 South Main Street Ann Arbor, MI 48104",
          "615 South Main Street Ann Arbor, MI 48104",
          "615 South Main Street Ann Arbor, MI 48104",
          "615 South Main Street Ann Arbor, MI 48104",
          "615 South Main Street Ann Arbor, MI 48104",
          "615 South Main Street Ann Arbor, MI 48104",
          "318 John St. Ann Arbor, MI 48104",
          "908 Sybil St Ann Arbor, MI 48104",
          "908 Sybil St Ann Arbor, MI 48104",
          "921 South Division Street Ann Arbor, MI 48104",
          "921 South Division Street Ann Arbor, MI 48104",
          "921 South Division Street Ann Arbor, MI 48104",
          "921 South Division Street Ann Arbor, MI 48104",
          "921 South Division Street Ann Arbor, MI 48104",
          "921 South Division Street Ann Arbor, MI 48104",
          "921 South Division Street Ann Arbor, MI 48104",
          "921 South Division Street Ann Arbor, MI 48104",
          "921 South Division Street Ann Arbor, MI 48104",
          "921 South Division Street Ann Arbor, MI 48104",
          "921 South Division Street Ann Arbor, MI 48104",
          "921 South Division Street Ann Arbor, MI 48104",
          "921 South Division Street Ann Arbor, MI 48104",
          "921 South Division Street Ann Arbor, MI 48104",
          "921 South Division Street Ann Arbor, MI 48104",
          "921 South Division Street Ann Arbor, MI 48104",
          "201 E Madison St Ann Arbor, MI 48104",
          "201 E Madison St Ann Arbor, MI 48104",
          "201 E Madison St Ann Arbor, MI 48104",
          "201 E Madison St Ann Arbor, MI 48104",
          "201 E Madison St Ann Arbor, MI 48104",
          "201 E Madison St Ann Arbor, MI 48104",
          "808 Greene Street Ann Arbor, MI 48104",
          "808 Greene Street Ann Arbor, MI 48104",
          "808 Greene Street Ann Arbor, MI 48104",
          "808 Greene Street Ann Arbor, MI 48104",
          "808 Greene Street Ann Arbor, MI 48104",
          "808 Greene Street Ann Arbor, MI 48104",
          "505 East Hoover Avenue Ann Arbor, MI 48104",
          "828 Greene St Ann Arbor, MI 48104",
          "828 Greene St Ann Arbor, MI 48104",
          "828 Greene St Ann Arbor, MI 48104",
          "145 Hill Street Ann Arbor, MI 48104",
          "145 Hill Street Ann Arbor, MI 48104",
          "145 Hill Street Ann Arbor, MI 48104",
          "145 Hill Street Ann Arbor, MI 48104",
          "145 Hill Street Ann Arbor, MI 48104",
          "145 Hill Street Ann Arbor, MI 48104",
          "615 South Main Street Ann Arbor, MI 48104",
          "615 South Main Street Ann Arbor, MI 48104",
          "615 South Main Street Ann Arbor, MI 48104",
          "615 South Main Street Ann Arbor, MI 48104",
          "615 South Main Street Ann Arbor, MI 48104",
          "615 South Main Street Ann Arbor, MI 48104",
          "615 South Main Street Ann Arbor, MI 48104",
          "615 South Main Street Ann Arbor, MI 48104",
          "615 South Main Street Ann Arbor, MI 48104",
          "615 South Main Street Ann Arbor, MI 48104",
          "615 South Main Street Ann Arbor, MI 48104",
          "615 South Main Street Ann Arbor, MI 48104",
          "615 South Main Street Ann Arbor, MI 48104",
          "615 South Main Street Ann Arbor, MI 48104",
          "912 Brown Street Ann Arbor, MI 48104",
          "912 Brown Street Ann Arbor, MI 48104",
          "912 Brown Street Ann Arbor, MI 48104",
          "912 Brown Street Ann Arbor, MI 48104",
          "615 South Main Street Ann Arbor, MI 48104",
          "615 South Main Street Ann Arbor, MI 48104",
          "615 South Main Street Ann Arbor, MI 48104",
          "615 South Main Street Ann Arbor, MI 48104",
          "915 South Division Street Ann Arbor, MI 48104",
          "915 South Division Street Ann Arbor, MI 48104",
          "915 South Division Street Ann Arbor, MI 48104",
          "915 South Division Street Ann Arbor, MI 48104",
          "629 South Division Street Ann Arbor, MI 48104",
          "629 South Division Street Ann Arbor, MI 48104",
          "629 South Division Street Ann Arbor, MI 48104",
          "629 South Division Street Ann Arbor, MI 48104",
          "212 Koch Avenue Ann Arbor, MI 48103",
          "212 Koch Avenue Ann Arbor, MI 48103",
          "212 Koch Avenue Ann Arbor, MI 48103",
          "212 Koch Avenue Ann Arbor, MI 48103",
          "212 Koch Avenue Ann Arbor, MI 48103",
          "212 Koch Avenue Ann Arbor, MI 48103",
          "212 Koch Avenue Ann Arbor, MI 48103",
          "212 Koch Avenue Ann Arbor, MI 48103",
          "212 Koch Avenue Ann Arbor, MI 48103",
          "212 Koch Avenue Ann Arbor, MI 48103",
          "212 Koch Avenue Ann Arbor, MI 48103",
          "212 Koch Avenue Ann Arbor, MI 48103",
          "126 Hill Street Ann Arbor, MI 48104",
          "126 Hill Street Ann Arbor, MI 48104",
          "126 Hill Street Ann Arbor, MI 48104",
          "126 Hill Street Ann Arbor, MI 48104",
          "121 East Hoover Avenue Ann Arbor, MI 48104",
          "121 East Hoover Avenue Ann Arbor, MI 48104",
          "121 East Hoover Avenue Ann Arbor, MI 48104",
          "121 East Hoover Avenue Ann Arbor, MI 48104",
          "615 South Main Street Ann Arbor, MI 48104",
          "615 South Main Street Ann Arbor, MI 48104",
          "615 South Main Street Ann Arbor, MI 48104",
          "615 South Main Street Ann Arbor, MI 48104",
          "823 Brown Street Ann Arbor MI United States Ann Arbor, MI 48104",
          "823 Brown Street Ann Arbor MI United States Ann Arbor, MI 48104",
          "823 Brown Street Ann Arbor MI United States Ann Arbor, MI 48104",
          "823 Brown Street Ann Arbor MI United States Ann Arbor, MI 48104",
          "823 Brown Street Ann Arbor MI United States Ann Arbor, MI 48104",
          "823 Brown Street Ann Arbor MI United States Ann Arbor, MI 48104",
          "915 S Division St Ann Arbor, MI 48104",
          "615 South Main Street Ann Arbor, MI 48104",
          "615 South Main Street Ann Arbor, MI 48104",
          "615 South Main Street Ann Arbor, MI 48104",
          "615 South Main Street Ann Arbor, MI 48104",
          "1211 S 7th St Ann Arbor, MI 48103",
          "1211 S 7th St Ann Arbor, MI 48103",
          "1211 S 7th St Ann Arbor, MI 48103",
          "1211 S 7th St Ann Arbor, MI 48103",
          "1310 South 7th Street Ann Arbor, MI 48103",
          "1310 South 7th Street Ann Arbor, MI 48103",
          "1310 South 7th Street Ann Arbor, MI 48103",
          "1310 South 7th Street Ann Arbor, MI 48103",
          "1310 South 7th Street Ann Arbor, MI 48103",
          "1310 South 7th Street Ann Arbor, MI 48103",
          "426 Hill Street Ann Arbor, MI 48104",
          "426 Hill Street Ann Arbor, MI 48104",
          "426 Hill Street Ann Arbor, MI 48104",
          "426 Hill Street Ann Arbor, MI 48104",
          "426 Hill Street Ann Arbor, MI 48104",
          "426 Hill Street Ann Arbor, MI 48104",
          "Ann Arbor, MI 48104",
          "Ann Arbor, MI 48104",
          "Ann Arbor, MI 48104",
          "Ann Arbor, MI 48104",
          "Ann Arbor, MI 48104",
          "Ann Arbor, MI 48104"
         ],
         "lat": [
          42.2710413,
          42.2710413,
          42.2710413,
          42.2710413,
          42.27073085,
          42.27073085,
          42.27073085,
          42.27344145,
          42.27344145,
          42.27344145,
          42.27344145,
          42.26924285,
          42.26924285,
          42.26924285,
          42.26924285,
          42.26924285,
          42.26924285,
          42.26792465,
          42.26792465,
          42.26792465,
          42.26792465,
          42.26792465,
          42.26792465,
          42.26792465,
          42.26924285,
          42.26924285,
          42.26924285,
          42.26924285,
          42.26924285,
          42.26924285,
          42.2704052,
          42.2704052,
          42.2704052,
          42.2704052,
          42.2704052,
          42.2704052,
          42.27162025,
          42.27162025,
          42.27162025,
          42.2717444,
          42.2717444,
          42.2717444,
          42.27344145,
          42.27344145,
          42.27344145,
          42.27344145,
          42.27344145,
          42.27344145,
          42.2729286,
          42.27052135,
          42.27052135,
          42.2701553,
          42.2701553,
          42.2701553,
          42.2701553,
          42.2701553,
          42.2701553,
          42.2701553,
          42.2701553,
          42.2701553,
          42.2701553,
          42.2701553,
          42.2701553,
          42.2701553,
          42.2701553,
          42.2701553,
          42.2701553,
          42.2742766,
          42.2742766,
          42.2742766,
          42.2742766,
          42.2742766,
          42.2742766,
          42.27130265,
          42.27130265,
          42.27130265,
          42.27130265,
          42.27130265,
          42.27130265,
          42.2698422,
          42.2707862,
          42.2707862,
          42.2707862,
          42.271785,
          42.271785,
          42.271785,
          42.271785,
          42.271785,
          42.271785,
          42.27344145,
          42.27344145,
          42.27344145,
          42.27344145,
          42.27344145,
          42.27344145,
          42.27344145,
          42.27344145,
          42.27344145,
          42.27344145,
          42.27344145,
          42.27344145,
          42.27344145,
          42.27344145,
          42.2698437,
          42.2698437,
          42.2698437,
          42.2698437,
          42.27344145,
          42.27344145,
          42.27344145,
          42.27344145,
          42.2706011429,
          42.2706011429,
          42.2706011429,
          42.2706011429,
          42.27315925,
          42.27315925,
          42.27315925,
          42.27315925,
          42.27213825,
          42.27213825,
          42.27213825,
          42.27213825,
          42.27213825,
          42.27213825,
          42.27213825,
          42.27213825,
          42.27213825,
          42.27213825,
          42.27213825,
          42.27213825,
          42.2714679,
          42.2714679,
          42.2714679,
          42.2714679,
          42.2695914,
          42.2695914,
          42.2695914,
          42.2695914,
          42.27344145,
          42.27344145,
          42.27344145,
          42.27344145,
          42.27085115,
          42.27085115,
          42.27085115,
          42.27085115,
          42.27085115,
          42.27085115,
          42.2706011429,
          42.27344145,
          42.27344145,
          42.27344145,
          42.27344145,
          42.26603745,
          42.26603745,
          42.26603745,
          42.26603745,
          42.2650135854,
          42.2650135854,
          42.2650135854,
          42.2650135854,
          42.2650135854,
          42.2650135854,
          42.2716111,
          42.2716111,
          42.2716111,
          42.2716111,
          42.2716111,
          42.2716111,
          42.2681569,
          42.2681569,
          42.2681569,
          42.2681569,
          42.2681569,
          42.2681569
         ],
         "legendgroup": "Elbel",
         "lon": [
          -83.74896435,
          -83.74896435,
          -83.74896435,
          -83.74896435,
          -83.7441297716,
          -83.7441297716,
          -83.7441297716,
          -83.7486558355,
          -83.7486558355,
          -83.7486558355,
          -83.7486558355,
          -83.751492449,
          -83.751492449,
          -83.751492449,
          -83.751492449,
          -83.751492449,
          -83.751492449,
          -83.7505913532,
          -83.7505913532,
          -83.7505913532,
          -83.7505913532,
          -83.7505913532,
          -83.7505913532,
          -83.7505913532,
          -83.751492449,
          -83.751492449,
          -83.751492449,
          -83.751492449,
          -83.751492449,
          -83.751492449,
          -83.7433931868,
          -83.7433931868,
          -83.7433931868,
          -83.7433931868,
          -83.7433931868,
          -83.7433931868,
          -83.7429202253,
          -83.7429202253,
          -83.7429202253,
          -83.7501264225,
          -83.7501264225,
          -83.7501264225,
          -83.7486558355,
          -83.7486558355,
          -83.7486558355,
          -83.7486558355,
          -83.7486558355,
          -83.7486558355,
          -83.7456555614,
          -83.7434066502,
          -83.7434066502,
          -83.74410045,
          -83.74410045,
          -83.74410045,
          -83.74410045,
          -83.74410045,
          -83.74410045,
          -83.74410045,
          -83.74410045,
          -83.74410045,
          -83.74410045,
          -83.74410045,
          -83.74410045,
          -83.74410045,
          -83.74410045,
          -83.74410045,
          -83.74410045,
          -83.7473706707,
          -83.7473706707,
          -83.7473706707,
          -83.7473706707,
          -83.7473706707,
          -83.7473706707,
          -83.747741505,
          -83.747741505,
          -83.747741505,
          -83.747741505,
          -83.747741505,
          -83.747741505,
          -83.74287105,
          -83.74781095,
          -83.74781095,
          -83.74781095,
          -83.747724,
          -83.747724,
          -83.747724,
          -83.747724,
          -83.747724,
          -83.747724,
          -83.7486558355,
          -83.7486558355,
          -83.7486558355,
          -83.7486558355,
          -83.7486558355,
          -83.7486558355,
          -83.7486558355,
          -83.7486558355,
          -83.7486558355,
          -83.7486558355,
          -83.7486558355,
          -83.7486558355,
          -83.7486558355,
          -83.7486558355,
          -83.7489586215,
          -83.7489586215,
          -83.7489586215,
          -83.7489586215,
          -83.7486558355,
          -83.7486558355,
          -83.7486558355,
          -83.7486558355,
          -83.7442822857,
          -83.7442822857,
          -83.7442822857,
          -83.7442822857,
          -83.74412705,
          -83.74412705,
          -83.74412705,
          -83.74412705,
          -83.75094115,
          -83.75094115,
          -83.75094115,
          -83.75094115,
          -83.75094115,
          -83.75094115,
          -83.75094115,
          -83.75094115,
          -83.75094115,
          -83.75094115,
          -83.75094115,
          -83.75094115,
          -83.7485058596,
          -83.7485058596,
          -83.7485058596,
          -83.7485058596,
          -83.7491213928,
          -83.7491213928,
          -83.7491213928,
          -83.7491213928,
          -83.7486558355,
          -83.7486558355,
          -83.7486558355,
          -83.7486558355,
          -83.7484231,
          -83.7484231,
          -83.7484231,
          -83.7484231,
          -83.7484231,
          -83.7484231,
          -83.7442822857,
          -83.7486558355,
          -83.7486558355,
          -83.7486558355,
          -83.7486558355,
          -83.7579725954,
          -83.7579725954,
          -83.7579725954,
          -83.7579725954,
          -83.7582959486,
          -83.7582959486,
          -83.7582959486,
          -83.7582959486,
          -83.7582959486,
          -83.7582959486,
          -83.7433733399,
          -83.7433733399,
          -83.7433733399,
          -83.7433733399,
          -83.7433733399,
          -83.7433733399,
          -83.7312291,
          -83.7312291,
          -83.7312291,
          -83.7312291,
          -83.7312291,
          -83.7312291
         ],
         "marker": {
          "color": "#C4451C"
         },
         "mode": "markers",
         "name": "Elbel",
         "showlegend": true,
         "subplot": "mapbox",
         "type": "scattermapbox"
        },
        {
         "customdata": [
          [
           1195
          ],
          [
           2245
          ],
          [
           1095
          ],
          [
           2995
          ],
          [
           845
          ],
          [
           795
          ],
          [
           1100
          ],
          [
           1100
          ],
          [
           1100
          ],
          [
           1100
          ],
          [
           1100
          ],
          [
           1100
          ],
          [
           1150
          ],
          [
           1745
          ],
          [
           1745
          ],
          [
           1745
          ],
          [
           1745
          ],
          [
           1745
          ],
          [
           1745
          ],
          [
           1745
          ],
          [
           1745
          ],
          [
           1745
          ],
          [
           1745
          ],
          [
           1745
          ],
          [
           1745
          ],
          [
           1745
          ],
          [
           1745
          ],
          [
           1745
          ],
          [
           1745
          ],
          [
           700
          ],
          [
           700
          ],
          [
           700
          ],
          [
           700
          ],
          [
           350
          ],
          [
           350
          ],
          [
           350
          ],
          [
           350
          ],
          [
           350
          ],
          [
           350
          ],
          [
           350
          ],
          [
           350
          ],
          [
           350
          ],
          [
           350
          ],
          [
           350
          ],
          [
           350
          ],
          [
           700
          ],
          [
           700
          ],
          [
           700
          ],
          [
           700
          ],
          [
           725
          ],
          [
           725
          ],
          [
           725
          ],
          [
           725
          ],
          [
           790
          ],
          [
           790
          ],
          [
           790
          ],
          [
           790
          ],
          [
           875
          ],
          [
           875
          ],
          [
           875
          ],
          [
           875
          ],
          [
           1024
          ],
          [
           1024
          ],
          [
           1024
          ],
          [
           1024
          ],
          [
           1024
          ],
          [
           1024
          ],
          [
           1024
          ],
          [
           1024
          ],
          [
           1024
          ],
          [
           1024
          ],
          [
           1024
          ],
          [
           1024
          ],
          [
           1024
          ],
          [
           1024
          ],
          [
           905
          ],
          [
           905
          ],
          [
           955
          ],
          [
           990
          ],
          [
           992.5
          ],
          [
           1040
          ],
          [
           1107.5
          ],
          [
           2300
          ],
          [
           2300
          ],
          [
           2300
          ],
          [
           2300
          ],
          [
           2300
          ],
          [
           2300
          ],
          [
           2390
          ],
          [
           2390
          ],
          [
           2390
          ],
          [
           2390
          ],
          [
           2390
          ],
          [
           2390
          ],
          [
           4500
          ],
          [
           4500
          ],
          [
           4500
          ],
          [
           4500
          ],
          [
           4500
          ],
          [
           4500
          ]
         ],
         "hoverlabel": {
          "namelength": 0
         },
         "hovertemplate": "<b>%{hovertext}</b><br><br>neighborhood=North Ingalls<br>price=%{customdata[0]}<br>lat=%{lat}<br>lon=%{lon}",
         "hovertext": [
          "205 S State St Ann Arbor, MI 48104",
          "205 S State St Ann Arbor, MI 48104",
          "205 S State St Ann Arbor, MI 48104",
          "205 S State St Ann Arbor, MI 48104",
          "205 S State St Ann Arbor, MI 48104",
          "205 S State St Ann Arbor, MI 48104",
          "1261 Island Drive Apt #104 Ann Arbor, MI 48105",
          "1261 Island Drive Apt #104 Ann Arbor, MI 48105",
          "1261 Island Drive Apt #104 Ann Arbor, MI 48105",
          "1261 Island Drive Apt #104 Ann Arbor, MI 48105",
          "1261 Island Drive Apt #104 Ann Arbor, MI 48105",
          "1261 Island Drive Apt #104 Ann Arbor, MI 48105",
          "1016 East Ann Street Ann Arbor, MI 48104",
          "411 High Street Ann Arbor, MI 48104",
          "411 High Street Ann Arbor, MI 48104",
          "411 High Street Ann Arbor, MI 48104",
          "411 High Street Ann Arbor, MI 48104",
          "411 High Street Ann Arbor, MI 48104",
          "411 High Street Ann Arbor, MI 48104",
          "411 High Street Ann Arbor, MI 48104",
          "411 High Street Ann Arbor, MI 48104",
          "411 High Street Ann Arbor, MI 48104",
          "411 High Street Ann Arbor, MI 48104",
          "411 High Street Ann Arbor, MI 48104",
          "411 High Street Ann Arbor, MI 48104",
          "411 High Street Ann Arbor, MI 48104",
          "411 High Street Ann Arbor, MI 48104",
          "411 High Street Ann Arbor, MI 48104",
          "411 High Street Ann Arbor, MI 48104",
          "801 East Catherine Ann Arbor, MI 48104",
          "801 East Catherine Ann Arbor, MI 48104",
          "801 East Catherine Ann Arbor, MI 48104",
          "801 East Catherine Ann Arbor, MI 48104",
          "1105 Maiden Lane Court Ann Arbor, MI 48105",
          "1105 Maiden Lane Court Ann Arbor, MI 48105",
          "1105 Maiden Lane Court Ann Arbor, MI 48105",
          "1105 Maiden Lane Court Ann Arbor, MI 48105",
          "1105 Maiden Lane Court Ann Arbor, MI 48105",
          "1105 Maiden Lane Court Ann Arbor, MI 48105",
          "1105 Maiden Lane Court Ann Arbor, MI 48105",
          "1105 Maiden Lane Court Ann Arbor, MI 48105",
          "1105 Maiden Lane Court Ann Arbor, MI 48105",
          "1105 Maiden Lane Court Ann Arbor, MI 48105",
          "1105 Maiden Lane Court Ann Arbor, MI 48105",
          "1105 Maiden Lane Court Ann Arbor, MI 48105",
          "310 North Thayer Street Ann Arbor, MI 48104",
          "310 North Thayer Street Ann Arbor, MI 48104",
          "310 North Thayer Street Ann Arbor, MI 48104",
          "310 North Thayer Street Ann Arbor, MI 48104",
          "820 Fuller Street Ann Arbor, MI 48104",
          "820 Fuller Street Ann Arbor, MI 48104",
          "820 Fuller Street Ann Arbor, MI 48104",
          "820 Fuller Street Ann Arbor, MI 48104",
          "Ann Arbor, MI 48104",
          "Ann Arbor, MI 48104",
          "Ann Arbor, MI 48104",
          "Ann Arbor, MI 48104",
          "Ann Arbor, MI 48104",
          "Ann Arbor, MI 48104",
          "Ann Arbor, MI 48104",
          "Ann Arbor, MI 48104",
          "411 East Washington Street Ann Arbor, MI 48104",
          "411 East Washington Street Ann Arbor, MI 48104",
          "411 East Washington Street Ann Arbor, MI 48104",
          "411 East Washington Street Ann Arbor, MI 48104",
          "411 East Washington Street Ann Arbor, MI 48104",
          "411 East Washington Street Ann Arbor, MI 48104",
          "411 East Washington Street Ann Arbor, MI 48104",
          "411 East Washington Street Ann Arbor, MI 48104",
          "411 East Washington Street Ann Arbor, MI 48104",
          "411 East Washington Street Ann Arbor, MI 48104",
          "411 East Washington Street Ann Arbor, MI 48104",
          "411 East Washington Street Ann Arbor, MI 48104",
          "411 East Washington Street Ann Arbor, MI 48104",
          "411 East Washington Street Ann Arbor, MI 48104",
          "311 Thompson St Ann Arbor, MI 48104",
          "311 Thompson St Ann Arbor, MI 48104",
          "311 Thompson St Ann Arbor, MI 48104",
          "311 Thompson St Ann Arbor, MI 48104",
          "311 Thompson St Ann Arbor, MI 48104",
          "311 Thompson St Ann Arbor, MI 48104",
          "311 Thompson St Ann Arbor, MI 48104",
          "306 Beakes St. #1 Ann Arbor, MI 48104",
          "306 Beakes St. #1 Ann Arbor, MI 48104",
          "306 Beakes St. #1 Ann Arbor, MI 48104",
          "306 Beakes St. #1 Ann Arbor, MI 48104",
          "306 Beakes St. #1 Ann Arbor, MI 48104",
          "306 Beakes St. #1 Ann Arbor, MI 48104",
          "205 South State Street Ann Arbor, MI 48104",
          "205 South State Street Ann Arbor, MI 48104",
          "205 South State Street Ann Arbor, MI 48104",
          "205 South State Street Ann Arbor, MI 48104",
          "205 South State Street Ann Arbor, MI 48104",
          "205 South State Street Ann Arbor, MI 48104",
          "210 North Thayer Street Ann Arbor, MI 48104",
          "210 North Thayer Street Ann Arbor, MI 48104",
          "210 North Thayer Street Ann Arbor, MI 48104",
          "210 North Thayer Street Ann Arbor, MI 48104",
          "210 North Thayer Street Ann Arbor, MI 48104",
          "210 North Thayer Street Ann Arbor, MI 48104"
         ],
         "lat": [
          42.2801081,
          42.2801081,
          42.2801081,
          42.2801081,
          42.2801081,
          42.2801081,
          42.2909443942,
          42.2909443942,
          42.2909443942,
          42.2909443942,
          42.2909443942,
          42.2909443942,
          42.2820228,
          42.2866292489,
          42.2866292489,
          42.2866292489,
          42.2866292489,
          42.2866292489,
          42.2866292489,
          42.2866292489,
          42.2866292489,
          42.2866292489,
          42.2866292489,
          42.2866292489,
          42.2866292489,
          42.2866292489,
          42.2866292489,
          42.2866292489,
          42.2866292489,
          42.283149,
          42.283149,
          42.283149,
          42.283149,
          42.2881074033,
          42.2881074033,
          42.2881074033,
          42.2881074033,
          42.2881074033,
          42.2881074033,
          42.2881074033,
          42.2881074033,
          42.2881074033,
          42.2881074033,
          42.2881074033,
          42.2881074033,
          42.2834658,
          42.2834658,
          42.2834658,
          42.2834658,
          42.2859364,
          42.2859364,
          42.2859364,
          42.2859364,
          42.2681569,
          42.2681569,
          42.2681569,
          42.2681569,
          42.2681569,
          42.2681569,
          42.2681569,
          42.2681569,
          42.2804787,
          42.2804787,
          42.2804787,
          42.2804787,
          42.2804787,
          42.2804787,
          42.2804787,
          42.2804787,
          42.2804787,
          42.2804787,
          42.2804787,
          42.2804787,
          42.2804787,
          42.2804787,
          42.2791677143,
          42.2791677143,
          42.2791677143,
          42.2791677143,
          42.2791677143,
          42.2791677143,
          42.2791677143,
          42.2860678619,
          42.2860678619,
          42.2860678619,
          42.2860678619,
          42.2860678619,
          42.2860678619,
          42.2801081,
          42.2801081,
          42.2801081,
          42.2801081,
          42.2801081,
          42.2801081,
          42.2823347755,
          42.2823347755,
          42.2823347755,
          42.2823347755,
          42.2823347755,
          42.2823347755
         ],
         "legendgroup": "North Ingalls",
         "lon": [
          -83.7406625,
          -83.7406625,
          -83.7406625,
          -83.7406625,
          -83.7406625,
          -83.7406625,
          -83.7322052989,
          -83.7322052989,
          -83.7322052989,
          -83.7322052989,
          -83.7322052989,
          -83.7322052989,
          -83.7362443,
          -83.7432413532,
          -83.7432413532,
          -83.7432413532,
          -83.7432413532,
          -83.7432413532,
          -83.7432413532,
          -83.7432413532,
          -83.7432413532,
          -83.7432413532,
          -83.7432413532,
          -83.7432413532,
          -83.7432413532,
          -83.7432413532,
          -83.7432413532,
          -83.7432413532,
          -83.7432413532,
          -83.739538,
          -83.739538,
          -83.739538,
          -83.739538,
          -83.7337397791,
          -83.7337397791,
          -83.7337397791,
          -83.7337397791,
          -83.7337397791,
          -83.7337397791,
          -83.7337397791,
          -83.7337397791,
          -83.7337397791,
          -83.7337397791,
          -83.7337397791,
          -83.7337397791,
          -83.73951965,
          -83.73951965,
          -83.73951965,
          -83.73951965,
          -83.7391141409,
          -83.7391141409,
          -83.7391141409,
          -83.7391141409,
          -83.7312291,
          -83.7312291,
          -83.7312291,
          -83.7312291,
          -83.7312291,
          -83.7312291,
          -83.7312291,
          -83.7312291,
          -83.7434586,
          -83.7434586,
          -83.7434586,
          -83.7434586,
          -83.7434586,
          -83.7434586,
          -83.7434586,
          -83.7434586,
          -83.7434586,
          -83.7434586,
          -83.7434586,
          -83.7434586,
          -83.7434586,
          -83.7434586,
          -83.7431431429,
          -83.7431431429,
          -83.7431431429,
          -83.7431431429,
          -83.7431431429,
          -83.7431431429,
          -83.7431431429,
          -83.7454138158,
          -83.7454138158,
          -83.7454138158,
          -83.7454138158,
          -83.7454138158,
          -83.7454138158,
          -83.7406625,
          -83.7406625,
          -83.7406625,
          -83.7406625,
          -83.7406625,
          -83.7406625,
          -83.7395689388,
          -83.7395689388,
          -83.7395689388,
          -83.7395689388,
          -83.7395689388,
          -83.7395689388
         ],
         "marker": {
          "color": "#DEA0FD"
         },
         "mode": "markers",
         "name": "North Ingalls",
         "showlegend": true,
         "subplot": "mapbox",
         "type": "scattermapbox"
        },
        {
         "customdata": [
          [
           1045
          ],
          [
           1045
          ],
          [
           1345
          ],
          [
           1495
          ],
          [
           1595
          ],
          [
           1595
          ],
          [
           1595
          ],
          [
           1595
          ],
          [
           1270
          ],
          [
           1295
          ],
          [
           1395
          ],
          [
           1595
          ],
          [
           1695
          ],
          [
           1517.5
          ],
          [
           1517.5
          ],
          [
           1517.5
          ],
          [
           1517.5
          ],
          [
           1517.5
          ],
          [
           1517.5
          ],
          [
           1517.5
          ],
          [
           1517.5
          ],
          [
           1517.5
          ],
          [
           1517.5
          ],
          [
           1517.5
          ],
          [
           1517.5
          ],
          [
           1517.5
          ],
          [
           1517.5
          ],
          [
           1517.5
          ],
          [
           1517.5
          ],
          [
           1595
          ],
          [
           1595
          ],
          [
           1595
          ],
          [
           1595
          ],
          [
           1595
          ],
          [
           1595
          ],
          [
           1595
          ],
          [
           1595
          ],
          [
           1595
          ],
          [
           1595
          ],
          [
           1595
          ],
          [
           1595
          ],
          [
           1595
          ],
          [
           1595
          ],
          [
           1595
          ],
          [
           1595
          ],
          [
           1830
          ],
          [
           1165
          ],
          [
           1165
          ],
          [
           1165
          ],
          [
           1165
          ],
          [
           1165
          ],
          [
           1165
          ],
          [
           1165
          ],
          [
           1165
          ],
          [
           1165
          ],
          [
           1165
          ],
          [
           1165
          ],
          [
           1165
          ],
          [
           1165
          ],
          [
           1165
          ],
          [
           1165
          ],
          [
           1165
          ],
          [
           865
          ],
          [
           865
          ],
          [
           865
          ],
          [
           865
          ],
          [
           865
          ],
          [
           865
          ],
          [
           865
          ],
          [
           865
          ],
          [
           865
          ],
          [
           865
          ],
          [
           865
          ],
          [
           865
          ],
          [
           4150
          ],
          [
           4150
          ],
          [
           4150
          ],
          [
           4150
          ],
          [
           4150
          ],
          [
           4150
          ],
          [
           4150
          ],
          [
           4150
          ],
          [
           4150
          ],
          [
           4150
          ],
          [
           4150
          ],
          [
           4150
          ],
          [
           4150
          ],
          [
           4150
          ],
          [
           4150
          ],
          [
           4150
          ],
          [
           5250
          ],
          [
           6000
          ],
          [
           6000
          ],
          [
           6000
          ],
          [
           6000
          ],
          [
           6000
          ],
          [
           6000
          ],
          [
           1400
          ],
          [
           1400
          ],
          [
           1400
          ],
          [
           1400
          ],
          [
           1400
          ],
          [
           1400
          ],
          [
           1400
          ],
          [
           1400
          ],
          [
           1400
          ],
          [
           1400
          ],
          [
           1400
          ],
          [
           1400
          ],
          [
           15000
          ],
          [
           500
          ],
          [
           500
          ],
          [
           500
          ],
          [
           500
          ],
          [
           600
          ],
          [
           600
          ],
          [
           600
          ],
          [
           600
          ],
          [
           1050
          ],
          [
           1050
          ],
          [
           1050
          ],
          [
           1050
          ],
          [
           1050
          ],
          [
           1050
          ],
          [
           1050
          ],
          [
           1050
          ],
          [
           1050
          ],
          [
           1050
          ],
          [
           1050
          ],
          [
           1050
          ],
          [
           1050
          ],
          [
           1050
          ],
          [
           840
          ],
          [
           840
          ],
          [
           840
          ],
          [
           840
          ],
          [
           850
          ],
          [
           850
          ],
          [
           850
          ],
          [
           850
          ],
          [
           850
          ],
          [
           850
          ],
          [
           850
          ],
          [
           850
          ],
          [
           858
          ],
          [
           858
          ],
          [
           858
          ],
          [
           858
          ],
          [
           1000
          ],
          [
           1000
          ],
          [
           1000
          ],
          [
           1000
          ],
          [
           1000
          ],
          [
           1000
          ],
          [
           712.5
          ],
          [
           712.5
          ],
          [
           712.5
          ],
          [
           712.5
          ],
          [
           712.5
          ],
          [
           712.5
          ],
          [
           712.5
          ],
          [
           712.5
          ],
          [
           712.5
          ],
          [
           712.5
          ],
          [
           712.5
          ],
          [
           712.5
          ],
          [
           1200
          ],
          [
           1200
          ],
          [
           1200
          ],
          [
           1200
          ],
          [
           1200
          ],
          [
           1200
          ],
          [
           5850
          ],
          [
           5850
          ],
          [
           5850
          ],
          [
           5850
          ],
          [
           5850
          ],
          [
           5850
          ],
          [
           662
          ],
          [
           662
          ],
          [
           662
          ],
          [
           662
          ],
          [
           800
          ],
          [
           800
          ],
          [
           800
          ],
          [
           800
          ]
         ],
         "hoverlabel": {
          "namelength": 0
         },
         "hovertemplate": "<b>%{hovertext}</b><br><br>neighborhood=Tappan<br>price=%{customdata[0]}<br>lat=%{lat}<br>lon=%{lon}",
         "hovertext": [
          "825 Tappan Ave Ann Arbor, MI 48104",
          "825 Tappan Ave Ann Arbor, MI 48104",
          "825 Tappan Ave Ann Arbor, MI 48104",
          "825 Tappan Ave Ann Arbor, MI 48104",
          "825 Tappan Ave Ann Arbor, MI 48104",
          "825 Tappan Ave Ann Arbor, MI 48104",
          "825 Tappan Ave Ann Arbor, MI 48104",
          "825 Tappan Ave Ann Arbor, MI 48104",
          "925 Church Street #6 Ann Arbor, MI 48104",
          "1014 Church St Ann Arbor, MI 48104",
          "1014 Church St Ann Arbor, MI 48104",
          "1014 Church St Ann Arbor, MI 48104",
          "1014 Church St Ann Arbor, MI 48104",
          "921 Church St Ann Arbor, MI 48104-3436",
          "921 Church St Ann Arbor, MI 48104-3436",
          "921 Church St Ann Arbor, MI 48104-3436",
          "921 Church St Ann Arbor, MI 48104-3436",
          "921 Church St Ann Arbor, MI 48104-3436",
          "921 Church St Ann Arbor, MI 48104-3436",
          "921 Church St Ann Arbor, MI 48104-3436",
          "921 Church St Ann Arbor, MI 48104-3436",
          "921 Church St Ann Arbor, MI 48104-3436",
          "921 Church St Ann Arbor, MI 48104-3436",
          "921 Church St Ann Arbor, MI 48104-3436",
          "921 Church St Ann Arbor, MI 48104-3436",
          "921 Church St Ann Arbor, MI 48104-3436",
          "921 Church St Ann Arbor, MI 48104-3436",
          "921 Church St Ann Arbor, MI 48104-3436",
          "921 Church St Ann Arbor, MI 48104-3436",
          "402 Hill Street Ann Arbor, MI 48104",
          "402 Hill Street Ann Arbor, MI 48104",
          "402 Hill Street Ann Arbor, MI 48104",
          "402 Hill Street Ann Arbor, MI 48104",
          "402 Hill Street Ann Arbor, MI 48104",
          "402 Hill Street Ann Arbor, MI 48104",
          "402 Hill Street Ann Arbor, MI 48104",
          "402 Hill Street Ann Arbor, MI 48104",
          "402 Hill Street Ann Arbor, MI 48104",
          "402 Hill Street Ann Arbor, MI 48104",
          "402 Hill Street Ann Arbor, MI 48104",
          "402 Hill Street Ann Arbor, MI 48104",
          "402 Hill Street Ann Arbor, MI 48104",
          "402 Hill Street Ann Arbor, MI 48104",
          "402 Hill Street Ann Arbor, MI 48104",
          "402 Hill Street Ann Arbor, MI 48104",
          "Hill Street Ann Arbor, MI 48104",
          "921 Church St Ann Arbor, MI 48104-3436",
          "921 Church St Ann Arbor, MI 48104-3436",
          "921 Church St Ann Arbor, MI 48104-3436",
          "921 Church St Ann Arbor, MI 48104-3436",
          "921 Church St Ann Arbor, MI 48104-3436",
          "921 Church St Ann Arbor, MI 48104-3436",
          "921 Church St Ann Arbor, MI 48104-3436",
          "921 Church St Ann Arbor, MI 48104-3436",
          "921 Church St Ann Arbor, MI 48104-3436",
          "921 Church St Ann Arbor, MI 48104-3436",
          "921 Church St Ann Arbor, MI 48104-3436",
          "921 Church St Ann Arbor, MI 48104-3436",
          "921 Church St Ann Arbor, MI 48104-3436",
          "921 Church St Ann Arbor, MI 48104-3436",
          "921 Church St Ann Arbor, MI 48104-3436",
          "921 Church St Ann Arbor, MI 48104-3436",
          "921 Church St Ann Arbor, MI 48104-3436",
          "921 Church St Ann Arbor, MI 48104-3436",
          "921 Church St Ann Arbor, MI 48104-3436",
          "921 Church St Ann Arbor, MI 48104-3436",
          "921 Church St Ann Arbor, MI 48104-3436",
          "921 Church St Ann Arbor, MI 48104-3436",
          "921 Church St Ann Arbor, MI 48104-3436",
          "921 Church St Ann Arbor, MI 48104-3436",
          "921 Church St Ann Arbor, MI 48104-3436",
          "921 Church St Ann Arbor, MI 48104-3436",
          "921 Church St Ann Arbor, MI 48104-3436",
          "921 Church St Ann Arbor, MI 48104-3436",
          "923 Greenwood Ave Ann Arbor, MI 48104",
          "923 Greenwood Ave Ann Arbor, MI 48104",
          "923 Greenwood Ave Ann Arbor, MI 48104",
          "923 Greenwood Ave Ann Arbor, MI 48104",
          "923 Greenwood Ave Ann Arbor, MI 48104",
          "923 Greenwood Ave Ann Arbor, MI 48104",
          "923 Greenwood Ave Ann Arbor, MI 48104",
          "923 Greenwood Ave Ann Arbor, MI 48104",
          "923 Greenwood Ave Ann Arbor, MI 48104",
          "923 Greenwood Ave Ann Arbor, MI 48104",
          "923 Greenwood Ave Ann Arbor, MI 48104",
          "923 Greenwood Ave Ann Arbor, MI 48104",
          "923 Greenwood Ave Ann Arbor, MI 48104",
          "923 Greenwood Ave Ann Arbor, MI 48104",
          "923 Greenwood Ave Ann Arbor, MI 48104",
          "923 Greenwood Ave Ann Arbor, MI 48104",
          "1117 White Street Ann Arbor, MI 48104",
          "1004 East University Avenue Ann Arbor, MI 48104",
          "1004 East University Avenue Ann Arbor, MI 48104",
          "1004 East University Avenue Ann Arbor, MI 48104",
          "1004 East University Avenue Ann Arbor, MI 48104",
          "1004 East University Avenue Ann Arbor, MI 48104",
          "1004 East University Avenue Ann Arbor, MI 48104",
          "922 Church St Ann Arbor, MI 48104",
          "922 Church St Ann Arbor, MI 48104",
          "922 Church St Ann Arbor, MI 48104",
          "922 Church St Ann Arbor, MI 48104",
          "922 Church St Ann Arbor, MI 48104",
          "922 Church St Ann Arbor, MI 48104",
          "818 S Forest Ave Ann Arbor, MI 48104",
          "818 S Forest Ave Ann Arbor, MI 48104",
          "818 S Forest Ave Ann Arbor, MI 48104",
          "818 S Forest Ave Ann Arbor, MI 48104",
          "818 S Forest Ave Ann Arbor, MI 48104",
          "818 S Forest Ave Ann Arbor, MI 48104",
          "1012 Hill Street Ann Arbor, MI 48104",
          "818 Church Street Ann Arbor, MI 48104",
          "818 Church Street Ann Arbor, MI 48104",
          "818 Church Street Ann Arbor, MI 48104",
          "818 Church Street Ann Arbor, MI 48104",
          "1016 East University Avenue Ann Arbor, MI 48104",
          "1016 East University Avenue Ann Arbor, MI 48104",
          "1016 East University Avenue Ann Arbor, MI 48104",
          "1016 East University Avenue Ann Arbor, MI 48104",
          "922 Church Street Ann Arbor, MI 48104",
          "922 Church Street Ann Arbor, MI 48104",
          "922 Church Street Ann Arbor, MI 48104",
          "922 Church Street Ann Arbor, MI 48104",
          "922 Church Street Ann Arbor, MI 48104",
          "922 Church Street Ann Arbor, MI 48104",
          "922 Church Street Ann Arbor, MI 48104",
          "922 Church Street Ann Arbor, MI 48104",
          "922 Church Street Ann Arbor, MI 48104",
          "922 Church Street Ann Arbor, MI 48104",
          "922 Church Street Ann Arbor, MI 48104",
          "922 Church Street Ann Arbor, MI 48104",
          "922 Church Street Ann Arbor, MI 48104",
          "922 Church Street Ann Arbor, MI 48104",
          "1109 White Street Ann Arbor, MI 48104",
          "1109 White Street Ann Arbor, MI 48104",
          "1109 White Street Ann Arbor, MI 48104",
          "1109 White Street Ann Arbor, MI 48104",
          "Ann Arbor, MI 48104",
          "Ann Arbor, MI 48104",
          "Ann Arbor, MI 48104",
          "Ann Arbor, MI 48104",
          "816 Tappan Avenue Ann Arbor, MI 48104",
          "816 Tappan Avenue Ann Arbor, MI 48104",
          "816 Tappan Avenue Ann Arbor, MI 48104",
          "816 Tappan Avenue Ann Arbor, MI 48104",
          "2119 Highland Road Ann Arbor, MI 48104",
          "2119 Highland Road Ann Arbor, MI 48104",
          "2119 Highland Road Ann Arbor, MI 48104",
          "2119 Highland Road Ann Arbor, MI 48104",
          "1015 Vaughn Street Ann Arbor, MI 48104",
          "1015 Vaughn Street Ann Arbor, MI 48104",
          "1015 Vaughn Street Ann Arbor, MI 48104",
          "1015 Vaughn Street Ann Arbor, MI 48104",
          "1015 Vaughn Street Ann Arbor, MI 48104",
          "1015 Vaughn Street Ann Arbor, MI 48104",
          "1001 South Forest Avenue Ann Arbor, MI 48104",
          "1001 South Forest Avenue Ann Arbor, MI 48104",
          "1001 South Forest Avenue Ann Arbor, MI 48104",
          "1001 South Forest Avenue Ann Arbor, MI 48104",
          "1001 South Forest Avenue Ann Arbor, MI 48104",
          "1001 South Forest Avenue Ann Arbor, MI 48104",
          "1001 South Forest Avenue Ann Arbor, MI 48104",
          "1001 South Forest Avenue Ann Arbor, MI 48104",
          "1001 South Forest Avenue Ann Arbor, MI 48104",
          "1001 South Forest Avenue Ann Arbor, MI 48104",
          "1001 South Forest Avenue Ann Arbor, MI 48104",
          "1001 South Forest Avenue Ann Arbor, MI 48104",
          "824 Packard Street Ann Arbor, MI 48104",
          "824 Packard Street Ann Arbor, MI 48104",
          "824 Packard Street Ann Arbor, MI 48104",
          "824 Packard Street Ann Arbor, MI 48104",
          "824 Packard Street Ann Arbor, MI 48104",
          "824 Packard Street Ann Arbor, MI 48104",
          "1022 Vaughn Street Ann Arbor, MI 48104",
          "1022 Vaughn Street Ann Arbor, MI 48104",
          "1022 Vaughn Street Ann Arbor, MI 48104",
          "1022 Vaughn Street Ann Arbor, MI 48104",
          "1022 Vaughn Street Ann Arbor, MI 48104",
          "1022 Vaughn Street Ann Arbor, MI 48104",
          "900 Oakland Avenue Ann Arbor, MI 48104",
          "900 Oakland Avenue Ann Arbor, MI 48104",
          "900 Oakland Avenue Ann Arbor, MI 48104",
          "900 Oakland Avenue Ann Arbor, MI 48104",
          "1120 Oakland Avenue Ann Arbor, MI 48104",
          "1120 Oakland Avenue Ann Arbor, MI 48104",
          "1120 Oakland Avenue Ann Arbor, MI 48104",
          "1120 Oakland Avenue Ann Arbor, MI 48104"
         ],
         "lat": [
          42.27143305,
          42.27143305,
          42.27143305,
          42.27143305,
          42.27143305,
          42.27143305,
          42.27143305,
          42.27143305,
          42.27066465,
          42.2695552,
          42.2695552,
          42.2695552,
          42.2695552,
          42.2708315,
          42.2708315,
          42.2708315,
          42.2708315,
          42.2708315,
          42.2708315,
          42.2708315,
          42.2708315,
          42.2708315,
          42.2708315,
          42.2708315,
          42.2708315,
          42.2708315,
          42.2708315,
          42.2708315,
          42.2708315,
          42.2716189,
          42.2716189,
          42.2716189,
          42.2716189,
          42.2716189,
          42.2716189,
          42.2716189,
          42.2716189,
          42.2716189,
          42.2716189,
          42.2716189,
          42.2716189,
          42.2716189,
          42.2716189,
          42.2716189,
          42.2716189,
          42.2721812,
          42.2708315,
          42.2708315,
          42.2708315,
          42.2708315,
          42.2708315,
          42.2708315,
          42.2708315,
          42.2708315,
          42.2708315,
          42.2708315,
          42.2708315,
          42.2708315,
          42.2708315,
          42.2708315,
          42.2708315,
          42.2708315,
          42.2708315,
          42.2708315,
          42.2708315,
          42.2708315,
          42.2708315,
          42.2708315,
          42.2708315,
          42.2708315,
          42.2708315,
          42.2708315,
          42.2708315,
          42.2708315,
          42.2695705,
          42.2695705,
          42.2695705,
          42.2695705,
          42.2695705,
          42.2695705,
          42.2695705,
          42.2695705,
          42.2695705,
          42.2695705,
          42.2695705,
          42.2695705,
          42.2695705,
          42.2695705,
          42.2695705,
          42.2695705,
          42.26833665,
          42.26971775,
          42.26971775,
          42.26971775,
          42.26971775,
          42.26971775,
          42.26971775,
          42.27081465,
          42.27081465,
          42.27081465,
          42.27081465,
          42.27081465,
          42.27081465,
          42.27141985,
          42.27141985,
          42.27141985,
          42.27141985,
          42.27141985,
          42.27141985,
          42.27178445,
          42.2714201,
          42.2714201,
          42.2714201,
          42.2714201,
          42.2693287,
          42.2693287,
          42.2693287,
          42.2693287,
          42.27081465,
          42.27081465,
          42.27081465,
          42.27081465,
          42.27081465,
          42.27081465,
          42.27081465,
          42.27081465,
          42.27081465,
          42.27081465,
          42.27081465,
          42.27081465,
          42.27081465,
          42.27081465,
          42.26868285,
          42.26868285,
          42.26868285,
          42.26868285,
          42.2681569,
          42.2681569,
          42.2681569,
          42.2681569,
          42.27134095,
          42.27134095,
          42.27134095,
          42.27134095,
          42.2757956784,
          42.2757956784,
          42.2757956784,
          42.2757956784,
          42.2690653008,
          42.2690653008,
          42.2690653008,
          42.2690653008,
          42.2690653008,
          42.2690653008,
          42.2702573,
          42.2702573,
          42.2702573,
          42.2702573,
          42.2702573,
          42.2702573,
          42.2702573,
          42.2702573,
          42.2702573,
          42.2702573,
          42.2702573,
          42.2702573,
          42.26881205,
          42.26881205,
          42.26881205,
          42.26881205,
          42.26881205,
          42.26881205,
          42.2689015864,
          42.2689015864,
          42.2689015864,
          42.2689015864,
          42.2689015864,
          42.2689015864,
          42.2708298,
          42.2708298,
          42.2708298,
          42.2708298,
          42.2700711,
          42.2700711,
          42.2700711,
          42.2700711
         ],
         "legendgroup": "Tappan",
         "lon": [
          -83.7369479573,
          -83.7369479573,
          -83.7369479573,
          -83.7369479573,
          -83.7369479573,
          -83.7369479573,
          -83.7369479573,
          -83.7369479573,
          -83.73412175,
          -83.734748172,
          -83.734748172,
          -83.734748172,
          -83.734748172,
          -83.7341342022,
          -83.7341342022,
          -83.7341342022,
          -83.7341342022,
          -83.7341342022,
          -83.7341342022,
          -83.7341342022,
          -83.7341342022,
          -83.7341342022,
          -83.7341342022,
          -83.7341342022,
          -83.7341342022,
          -83.7341342022,
          -83.7341342022,
          -83.7341342022,
          -83.7341342022,
          -83.744174,
          -83.744174,
          -83.744174,
          -83.744174,
          -83.744174,
          -83.744174,
          -83.744174,
          -83.744174,
          -83.744174,
          -83.744174,
          -83.744174,
          -83.744174,
          -83.744174,
          -83.744174,
          -83.744174,
          -83.744174,
          -83.7332127,
          -83.7341342022,
          -83.7341342022,
          -83.7341342022,
          -83.7341342022,
          -83.7341342022,
          -83.7341342022,
          -83.7341342022,
          -83.7341342022,
          -83.7341342022,
          -83.7341342022,
          -83.7341342022,
          -83.7341342022,
          -83.7341342022,
          -83.7341342022,
          -83.7341342022,
          -83.7341342022,
          -83.7341342022,
          -83.7341342022,
          -83.7341342022,
          -83.7341342022,
          -83.7341342022,
          -83.7341342022,
          -83.7341342022,
          -83.7341342022,
          -83.7341342022,
          -83.7341342022,
          -83.7341342022,
          -83.7341342022,
          -83.7378098011,
          -83.7378098011,
          -83.7378098011,
          -83.7378098011,
          -83.7378098011,
          -83.7378098011,
          -83.7378098011,
          -83.7378098011,
          -83.7378098011,
          -83.7378098011,
          -83.7378098011,
          -83.7378098011,
          -83.7378098011,
          -83.7378098011,
          -83.7378098011,
          -83.7378098011,
          -83.7391164994,
          -83.7359970173,
          -83.7359970173,
          -83.7359970173,
          -83.7359970173,
          -83.7359970173,
          -83.7359970173,
          -83.7348229787,
          -83.7348229787,
          -83.7348229787,
          -83.7348229787,
          -83.7348229787,
          -83.7348229787,
          -83.7335468289,
          -83.7335468289,
          -83.7335468289,
          -83.7335468289,
          -83.7335468289,
          -83.7335468289,
          -83.736471535,
          -83.7348102763,
          -83.7348102763,
          -83.7348102763,
          -83.7348102763,
          -83.7359667084,
          -83.7359667084,
          -83.7359667084,
          -83.7359667084,
          -83.7348229787,
          -83.7348229787,
          -83.7348229787,
          -83.7348229787,
          -83.7348229787,
          -83.7348229787,
          -83.7348229787,
          -83.7348229787,
          -83.7348229787,
          -83.7348229787,
          -83.7348229787,
          -83.7348229787,
          -83.7348229787,
          -83.7348229787,
          -83.7390794927,
          -83.7390794927,
          -83.7390794927,
          -83.7390794927,
          -83.7312291,
          -83.7312291,
          -83.7312291,
          -83.7312291,
          -83.7377798442,
          -83.7377798442,
          -83.7377798442,
          -83.7377798442,
          -83.7200763084,
          -83.7200763084,
          -83.7200763084,
          -83.7200763084,
          -83.736805223,
          -83.736805223,
          -83.736805223,
          -83.736805223,
          -83.736805223,
          -83.736805223,
          -83.7327919504,
          -83.7327919504,
          -83.7327919504,
          -83.7327919504,
          -83.7327919504,
          -83.7327919504,
          -83.7327919504,
          -83.7327919504,
          -83.7327919504,
          -83.7327919504,
          -83.7327919504,
          -83.7327919504,
          -83.73846045,
          -83.73846045,
          -83.73846045,
          -83.73846045,
          -83.73846045,
          -83.73846045,
          -83.7366445223,
          -83.7366445223,
          -83.7366445223,
          -83.7366445223,
          -83.7366445223,
          -83.7366445223,
          -83.7390934836,
          -83.7390934836,
          -83.7390934836,
          -83.7390934836,
          -83.7348105038,
          -83.7348105038,
          -83.7348105038,
          -83.7348105038
         ],
         "marker": {
          "color": "#FE00FA"
         },
         "mode": "markers",
         "name": "Tappan",
         "showlegend": true,
         "subplot": "mapbox",
         "type": "scattermapbox"
        },
        {
         "customdata": [
          [
           1150
          ],
          [
           1150
          ],
          [
           1150
          ],
          [
           1150
          ],
          [
           1150
          ],
          [
           1150
          ],
          [
           1250
          ],
          [
           1250
          ],
          [
           1250
          ],
          [
           1650
          ],
          [
           1250
          ],
          [
           1250
          ],
          [
           1250
          ],
          [
           1250
          ],
          [
           1250
          ],
          [
           1250
          ],
          [
           1250
          ],
          [
           1250
          ],
          [
           1250
          ],
          [
           1250
          ],
          [
           2100
          ],
          [
           2100
          ],
          [
           2100
          ],
          [
           2100
          ],
          [
           2100
          ],
          [
           2100
          ],
          [
           2700
          ],
          [
           2700
          ],
          [
           2700
          ],
          [
           2700
          ],
          [
           2700
          ],
          [
           2700
          ],
          [
           3800
          ],
          [
           4195
          ],
          [
           4350
          ],
          [
           4200
          ],
          [
           4200
          ],
          [
           4200
          ],
          [
           4200
          ],
          [
           4200
          ],
          [
           4200
          ],
          [
           4400
          ],
          [
           4400
          ],
          [
           4400
          ],
          [
           4400
          ],
          [
           4400
          ],
          [
           4400
          ],
          [
           4950
          ],
          [
           4950
          ],
          [
           4950
          ],
          [
           4950
          ],
          [
           4950
          ],
          [
           4950
          ],
          [
           5200
          ],
          [
           1000
          ],
          [
           1000
          ],
          [
           1000
          ],
          [
           1000
          ],
          [
           1000
          ],
          [
           1000
          ],
          [
           550
          ],
          [
           550
          ],
          [
           550
          ],
          [
           550
          ],
          [
           550
          ],
          [
           550
          ],
          [
           550
          ],
          [
           550
          ],
          [
           600
          ],
          [
           600
          ],
          [
           600
          ],
          [
           600
          ],
          [
           650
          ],
          [
           650
          ],
          [
           650
          ],
          [
           650
          ],
          [
           675
          ],
          [
           675
          ],
          [
           675
          ],
          [
           675
          ],
          [
           675
          ],
          [
           675
          ],
          [
           675
          ],
          [
           675
          ],
          [
           675
          ],
          [
           675
          ],
          [
           675
          ],
          [
           675
          ],
          [
           675
          ],
          [
           675
          ],
          [
           675
          ],
          [
           675
          ],
          [
           710
          ],
          [
           710
          ],
          [
           710
          ],
          [
           710
          ],
          [
           755
          ],
          [
           755
          ],
          [
           755
          ],
          [
           755
          ],
          [
           772
          ],
          [
           772
          ],
          [
           772
          ],
          [
           772
          ],
          [
           800
          ],
          [
           800
          ],
          [
           800
          ],
          [
           800
          ],
          [
           800
          ],
          [
           800
          ],
          [
           800
          ],
          [
           800
          ],
          [
           915
          ],
          [
           915
          ],
          [
           915
          ],
          [
           915
          ],
          [
           525
          ],
          [
           525
          ],
          [
           525
          ],
          [
           525
          ],
          [
           525
          ],
          [
           525
          ],
          [
           525
          ],
          [
           525
          ],
          [
           525
          ],
          [
           525
          ],
          [
           525
          ],
          [
           525
          ],
          [
           1100
          ],
          [
           1280
          ],
          [
           1280
          ],
          [
           1280
          ],
          [
           1280
          ],
          [
           1280
          ],
          [
           1280
          ],
          [
           650
          ],
          [
           650
          ],
          [
           650
          ],
          [
           650
          ],
          [
           500
          ],
          [
           500
          ],
          [
           500
          ],
          [
           500
          ],
          [
           750
          ],
          [
           750
          ],
          [
           750
          ],
          [
           750
          ],
          [
           1750
          ],
          [
           1750
          ],
          [
           1750
          ],
          [
           1750
          ],
          [
           1750
          ],
          [
           1750
          ],
          [
           1800
          ],
          [
           1800
          ],
          [
           1800
          ],
          [
           1800
          ],
          [
           1800
          ],
          [
           1800
          ],
          [
           800
          ],
          [
           800
          ],
          [
           800
          ],
          [
           800
          ],
          [
           3500
          ],
          [
           3500
          ],
          [
           3500
          ],
          [
           3500
          ],
          [
           3500
          ],
          [
           3500
          ],
          [
           3685
          ],
          [
           3685
          ],
          [
           3685
          ],
          [
           3685
          ],
          [
           3685
          ],
          [
           3685
          ],
          [
           3850
          ],
          [
           3850
          ],
          [
           3850
          ],
          [
           3850
          ],
          [
           3850
          ],
          [
           3850
          ],
          [
           4140
          ],
          [
           4140
          ],
          [
           4140
          ],
          [
           4140
          ],
          [
           4140
          ],
          [
           4140
          ],
          [
           4850
          ],
          [
           4850
          ],
          [
           4850
          ],
          [
           4850
          ],
          [
           4850
          ],
          [
           4850
          ],
          [
           825
          ],
          [
           5800
          ],
          [
           5800
          ],
          [
           5800
          ],
          [
           5800
          ],
          [
           5800
          ],
          [
           5800
          ]
         ],
         "hoverlabel": {
          "namelength": 0
         },
         "hovertemplate": "<b>%{hovertext}</b><br><br>neighborhood=North Burns Park<br>price=%{customdata[0]}<br>lat=%{lat}<br>lon=%{lon}",
         "hovertext": [
          "2405 Packard Street Ann Arbor, MI 48108",
          "2405 Packard Street Ann Arbor, MI 48108",
          "2405 Packard Street Ann Arbor, MI 48108",
          "2405 Packard Street Ann Arbor, MI 48108",
          "2405 Packard Street Ann Arbor, MI 48108",
          "2405 Packard Street Ann Arbor, MI 48108",
          "1221 Brooklyn Avenue Ann Arbor, MI 48104",
          "1221 Brooklyn Avenue Ann Arbor, MI 48104",
          "1221 Brooklyn Avenue Ann Arbor, MI 48104",
          "1221 Brooklyn Avenue Ann Arbor, MI 48104",
          "845 Brookwood Place Ann Arbor, MI 48104",
          "845 Brookwood Place Ann Arbor, MI 48104",
          "845 Brookwood Place Ann Arbor, MI 48104",
          "845 Brookwood Place Ann Arbor, MI 48104",
          "2003 Anderson Avenue Ann Arbor, MI 48104",
          "2003 Anderson Avenue Ann Arbor, MI 48104",
          "2003 Anderson Avenue Ann Arbor, MI 48104",
          "2003 Anderson Avenue Ann Arbor, MI 48104",
          "2003 Anderson Avenue Ann Arbor, MI 48104",
          "2003 Anderson Avenue Ann Arbor, MI 48104",
          "1003 Packard Street Ann Arbor, MI 48104",
          "1003 Packard Street Ann Arbor, MI 48104",
          "1003 Packard Street Ann Arbor, MI 48104",
          "1003 Packard Street Ann Arbor, MI 48104",
          "1003 Packard Street Ann Arbor, MI 48104",
          "1003 Packard Street Ann Arbor, MI 48104",
          "1110 Michigan Ave Ann Arbor, MI 48104",
          "1110 Michigan Ave Ann Arbor, MI 48104",
          "1110 Michigan Ave Ann Arbor, MI 48104",
          "1110 Michigan Ave Ann Arbor, MI 48104",
          "1110 Michigan Ave Ann Arbor, MI 48104",
          "1110 Michigan Ave Ann Arbor, MI 48104",
          "1015 Michigan Avenue Ann Arbor, MI 48104",
          "1537 Packard Street Ann Arbor, MI 48104",
          "1537 Packard Street Ann Arbor, MI 48104",
          "1228 White Street Ann Arbor, MI 48104",
          "1228 White Street Ann Arbor, MI 48104",
          "1228 White Street Ann Arbor, MI 48104",
          "1228 White Street Ann Arbor, MI 48104",
          "1228 White Street Ann Arbor, MI 48104",
          "1228 White Street Ann Arbor, MI 48104",
          "827 McKinley Avenue Ann Arbor, MI 48104",
          "827 McKinley Avenue Ann Arbor, MI 48104",
          "827 McKinley Avenue Ann Arbor, MI 48104",
          "827 McKinley Avenue Ann Arbor, MI 48104",
          "827 McKinley Avenue Ann Arbor, MI 48104",
          "827 McKinley Avenue Ann Arbor, MI 48104",
          "1020 South Forest Avenue Ann Arbor, MI 48104",
          "1020 South Forest Avenue Ann Arbor, MI 48104",
          "1020 South Forest Avenue Ann Arbor, MI 48104",
          "1020 South Forest Avenue Ann Arbor, MI 48104",
          "1020 South Forest Avenue Ann Arbor, MI 48104",
          "1020 South Forest Avenue Ann Arbor, MI 48104",
          "1030 Church Street Ann Arbor, MI 48104",
          "1320 Cambridge Road Ann Arbor, MI 48104",
          "1320 Cambridge Road Ann Arbor, MI 48104",
          "1320 Cambridge Road Ann Arbor, MI 48104",
          "1320 Cambridge Road Ann Arbor, MI 48104",
          "1320 Cambridge Road Ann Arbor, MI 48104",
          "1320 Cambridge Road Ann Arbor, MI 48104",
          "Ann Arbor, MI 48104",
          "Ann Arbor, MI 48104",
          "Ann Arbor, MI 48104",
          "Ann Arbor, MI 48104",
          "1204 East University Avenue Ann Arbor, MI 48104",
          "1204 East University Avenue Ann Arbor, MI 48104",
          "1204 East University Avenue Ann Arbor, MI 48104",
          "1204 East University Avenue Ann Arbor, MI 48104",
          "1137 South Forest Avenue Ann Arbor, MI 48104",
          "1137 South Forest Avenue Ann Arbor, MI 48104",
          "1137 South Forest Avenue Ann Arbor, MI 48104",
          "1137 South Forest Avenue Ann Arbor, MI 48104",
          "Ann Arbor, MI 48104",
          "Ann Arbor, MI 48104",
          "Ann Arbor, MI 48104",
          "Ann Arbor, MI 48104",
          "1070 Ferdon Road Ann Arbor, MI 48104",
          "1070 Ferdon Road Ann Arbor, MI 48104",
          "1070 Ferdon Road Ann Arbor, MI 48104",
          "1070 Ferdon Road Ann Arbor, MI 48104",
          "1070 Ferdon Road Ann Arbor, MI 48104",
          "1070 Ferdon Road Ann Arbor, MI 48104",
          "1070 Ferdon Road Ann Arbor, MI 48104",
          "1070 Ferdon Road Ann Arbor, MI 48104",
          "1070 Ferdon Road Ann Arbor, MI 48104",
          "1070 Ferdon Road Ann Arbor, MI 48104",
          "1070 Ferdon Road Ann Arbor, MI 48104",
          "1070 Ferdon Road Ann Arbor, MI 48104",
          "1131 Church St Ann Arbor, MI 48104",
          "1131 Church St Ann Arbor, MI 48104",
          "1131 Church St Ann Arbor, MI 48104",
          "1131 Church St Ann Arbor, MI 48104",
          "930 Dewey Avenue Ann Arbor, MI 48104",
          "930 Dewey Avenue Ann Arbor, MI 48104",
          "930 Dewey Avenue Ann Arbor, MI 48104",
          "930 Dewey Avenue Ann Arbor, MI 48104",
          "Ann Arbor, MI 48104",
          "Ann Arbor, MI 48104",
          "Ann Arbor, MI 48104",
          "Ann Arbor, MI 48104",
          "Ann Arbor, MI 48104",
          "Ann Arbor, MI 48104",
          "Ann Arbor, MI 48104",
          "Ann Arbor, MI 48104",
          "Ann Arbor, MI 48104",
          "Ann Arbor, MI 48104",
          "Ann Arbor, MI 48104",
          "Ann Arbor, MI 48104",
          "1003 Packard Street Ann Arbor, MI 48104",
          "1003 Packard Street Ann Arbor, MI 48104",
          "1003 Packard Street Ann Arbor, MI 48104",
          "1003 Packard Street Ann Arbor, MI 48104",
          "1131 Church Street Ann Arbor, MI 48104",
          "1131 Church Street Ann Arbor, MI 48104",
          "1131 Church Street Ann Arbor, MI 48104",
          "1131 Church Street Ann Arbor, MI 48104",
          "2955 Roundtree Boulevard Ypsilanti, MI 48197",
          "2955 Roundtree Boulevard Ypsilanti, MI 48197",
          "2955 Roundtree Boulevard Ypsilanti, MI 48197",
          "2955 Roundtree Boulevard Ypsilanti, MI 48197",
          "2955 Roundtree Boulevard Ypsilanti, MI 48197",
          "2955 Roundtree Boulevard Ypsilanti, MI 48197",
          "2955 Roundtree Boulevard Ypsilanti, MI 48197",
          "2955 Roundtree Boulevard Ypsilanti, MI 48197",
          "2955 Roundtree Boulevard Ypsilanti, MI 48197",
          "2955 Roundtree Boulevard Ypsilanti, MI 48197",
          "2955 Roundtree Boulevard Ypsilanti, MI 48197",
          "2955 Roundtree Boulevard Ypsilanti, MI 48197",
          "1006 Packard Street Ann Arbor, MI 48104",
          "1228 Prospect Street Ann Arbor, MI 48104",
          "1228 Prospect Street Ann Arbor, MI 48104",
          "1228 Prospect Street Ann Arbor, MI 48104",
          "1228 Prospect Street Ann Arbor, MI 48104",
          "1228 Prospect Street Ann Arbor, MI 48104",
          "1228 Prospect Street Ann Arbor, MI 48104",
          "1001 South Forest Avenue Ann Arbor, MI 48104",
          "1001 South Forest Avenue Ann Arbor, MI 48104",
          "1001 South Forest Avenue Ann Arbor, MI 48104",
          "1001 South Forest Avenue Ann Arbor, MI 48104",
          "1119 Granger Avenue Ann Arbor, MI 48104",
          "1119 Granger Avenue Ann Arbor, MI 48104",
          "1119 Granger Avenue Ann Arbor, MI 48104",
          "1119 Granger Avenue Ann Arbor, MI 48104",
          "1424 Golden Avenue Ann Arbor, MI 48104",
          "1424 Golden Avenue Ann Arbor, MI 48104",
          "1424 Golden Avenue Ann Arbor, MI 48104",
          "1424 Golden Avenue Ann Arbor, MI 48104",
          "1905 Packard Street Ann Arbor, MI 48104",
          "1905 Packard Street Ann Arbor, MI 48104",
          "1905 Packard Street Ann Arbor, MI 48104",
          "1905 Packard Street Ann Arbor, MI 48104",
          "1905 Packard Street Ann Arbor, MI 48104",
          "1905 Packard Street Ann Arbor, MI 48104",
          "3029 Charing Cross Road Ann Arbor, MI 48108",
          "3029 Charing Cross Road Ann Arbor, MI 48108",
          "3029 Charing Cross Road Ann Arbor, MI 48108",
          "3029 Charing Cross Road Ann Arbor, MI 48108",
          "3029 Charing Cross Road Ann Arbor, MI 48108",
          "3029 Charing Cross Road Ann Arbor, MI 48108",
          "931 Dewey Avenue Ann Arbor, MI 48104",
          "931 Dewey Avenue Ann Arbor, MI 48104",
          "931 Dewey Avenue Ann Arbor, MI 48104",
          "931 Dewey Avenue Ann Arbor, MI 48104",
          "1532 Packard St. Ann Arbor, MI 48104",
          "1532 Packard St. Ann Arbor, MI 48104",
          "1532 Packard St. Ann Arbor, MI 48104",
          "1532 Packard St. Ann Arbor, MI 48104",
          "1532 Packard St. Ann Arbor, MI 48104",
          "1532 Packard St. Ann Arbor, MI 48104",
          "1308 Olivia Avenue Ann Arbor, MI 48104",
          "1308 Olivia Avenue Ann Arbor, MI 48104",
          "1308 Olivia Avenue Ann Arbor, MI 48104",
          "1308 Olivia Avenue Ann Arbor, MI 48104",
          "1308 Olivia Avenue Ann Arbor, MI 48104",
          "1308 Olivia Avenue Ann Arbor, MI 48104",
          "1114 Prospect Street Ann Arbor, MI 48104",
          "1114 Prospect Street Ann Arbor, MI 48104",
          "1114 Prospect Street Ann Arbor, MI 48104",
          "1114 Prospect Street Ann Arbor, MI 48104",
          "1114 Prospect Street Ann Arbor, MI 48104",
          "1114 Prospect Street Ann Arbor, MI 48104",
          "1209 Packard Street Ann Arbor, MI 48104",
          "1209 Packard Street Ann Arbor, MI 48104",
          "1209 Packard Street Ann Arbor, MI 48104",
          "1209 Packard Street Ann Arbor, MI 48104",
          "1209 Packard Street Ann Arbor, MI 48104",
          "1209 Packard Street Ann Arbor, MI 48104",
          "926 Packard St Ann Arbor, MI 48104",
          "926 Packard St Ann Arbor, MI 48104",
          "926 Packard St Ann Arbor, MI 48104",
          "926 Packard St Ann Arbor, MI 48104",
          "926 Packard St Ann Arbor, MI 48104",
          "926 Packard St Ann Arbor, MI 48104",
          "1006 Packard Street Ann Arbor, MI 48104",
          "1116 South Forest Avenue Ann Arbor, MI 48104",
          "1116 South Forest Avenue Ann Arbor, MI 48104",
          "1116 South Forest Avenue Ann Arbor, MI 48104",
          "1116 South Forest Avenue Ann Arbor, MI 48104",
          "1116 South Forest Avenue Ann Arbor, MI 48104",
          "1116 South Forest Avenue Ann Arbor, MI 48104"
         ],
         "lat": [
          42.2532598667,
          42.2532598667,
          42.2532598667,
          42.2532598667,
          42.2532598667,
          42.2532598667,
          42.2636812041,
          42.2636812041,
          42.2636812041,
          42.2636812041,
          42.267098541,
          42.267098541,
          42.267098541,
          42.267098541,
          42.2571126352,
          42.2571126352,
          42.2571126352,
          42.2571126352,
          42.2571126352,
          42.2571126352,
          42.267774,
          42.267774,
          42.267774,
          42.267774,
          42.267774,
          42.267774,
          42.2671593144,
          42.2671593144,
          42.2671593144,
          42.2671593144,
          42.2671593144,
          42.2671593144,
          42.2679428,
          42.2629466327,
          42.2629466327,
          42.26673915,
          42.26673915,
          42.26673915,
          42.26673915,
          42.26673915,
          42.26673915,
          42.267735585,
          42.267735585,
          42.267735585,
          42.267735585,
          42.267735585,
          42.267735585,
          42.269397,
          42.269397,
          42.269397,
          42.269397,
          42.269397,
          42.269397,
          42.2687191,
          42.269818,
          42.269818,
          42.269818,
          42.269818,
          42.269818,
          42.269818,
          42.2681569,
          42.2681569,
          42.2681569,
          42.2681569,
          42.2683457,
          42.2683457,
          42.2683457,
          42.2683457,
          42.267644,
          42.267644,
          42.267644,
          42.267644,
          42.2681569,
          42.2681569,
          42.2681569,
          42.2681569,
          42.268017,
          42.268017,
          42.268017,
          42.268017,
          42.268017,
          42.268017,
          42.268017,
          42.268017,
          42.268017,
          42.268017,
          42.268017,
          42.268017,
          42.2682222,
          42.2682222,
          42.2682222,
          42.2682222,
          42.2658186735,
          42.2658186735,
          42.2658186735,
          42.2658186735,
          42.2681569,
          42.2681569,
          42.2681569,
          42.2681569,
          42.2681569,
          42.2681569,
          42.2681569,
          42.2681569,
          42.2681569,
          42.2681569,
          42.2681569,
          42.2681569,
          42.267774,
          42.267774,
          42.267774,
          42.267774,
          42.2682222,
          42.2682222,
          42.2682222,
          42.2682222,
          42.2286905714,
          42.2286905714,
          42.2286905714,
          42.2286905714,
          42.2286905714,
          42.2286905714,
          42.2286905714,
          42.2286905714,
          42.2286905714,
          42.2286905714,
          42.2286905714,
          42.2286905714,
          42.26734385,
          42.2675817143,
          42.2675817143,
          42.2675817143,
          42.2675817143,
          42.2675817143,
          42.2675817143,
          42.2702573,
          42.2702573,
          42.2702573,
          42.2702573,
          42.2643804545,
          42.2643804545,
          42.2643804545,
          42.2643804545,
          42.263449,
          42.263449,
          42.263449,
          42.263449,
          42.2587724139,
          42.2587724139,
          42.2587724139,
          42.2587724139,
          42.2587724139,
          42.2587724139,
          42.2447275366,
          42.2447275366,
          42.2447275366,
          42.2447275366,
          42.2447275366,
          42.2447275366,
          42.2659826735,
          42.2659826735,
          42.2659826735,
          42.2659826735,
          42.26303775,
          42.26303775,
          42.26303775,
          42.26303775,
          42.26303775,
          42.26303775,
          42.2655903636,
          42.2655903636,
          42.2655903636,
          42.2655903636,
          42.2655903636,
          42.2655903636,
          42.2681623,
          42.2681623,
          42.2681623,
          42.2681623,
          42.2681623,
          42.2681623,
          42.2655023,
          42.2655023,
          42.2655023,
          42.2655023,
          42.2655023,
          42.2655023,
          42.2678677692,
          42.2678677692,
          42.2678677692,
          42.2678677692,
          42.2678677692,
          42.2678677692,
          42.26734385,
          42.26824,
          42.26824,
          42.26824,
          42.26824,
          42.26824,
          42.26824
         ],
         "legendgroup": "North Burns Park",
         "lon": [
          -83.72432868,
          -83.72432868,
          -83.72432868,
          -83.72432868,
          -83.72432868,
          -83.72432868,
          -83.734498,
          -83.734498,
          -83.734498,
          -83.734498,
          -83.7381128998,
          -83.7381128998,
          -83.7381128998,
          -83.7381128998,
          -83.7214918743,
          -83.7214918743,
          -83.7214918743,
          -83.7214918743,
          -83.7214918743,
          -83.7214918743,
          -83.7367795675,
          -83.7367795675,
          -83.7367795675,
          -83.7367795675,
          -83.7367795675,
          -83.7367795675,
          -83.7351197557,
          -83.7351197557,
          -83.7351197557,
          -83.7351197557,
          -83.7351197557,
          -83.7351197557,
          -83.7354788,
          -83.7318699592,
          -83.7318699592,
          -83.7395725507,
          -83.7395725507,
          -83.7395725507,
          -83.7395725507,
          -83.7395725507,
          -83.7395725507,
          -83.7387431071,
          -83.7387431071,
          -83.7387431071,
          -83.7387431071,
          -83.7387431071,
          -83.7387431071,
          -83.733224825,
          -83.733224825,
          -83.733224825,
          -83.733224825,
          -83.733224825,
          -83.733224825,
          -83.7346463323,
          -83.732097,
          -83.732097,
          -83.732097,
          -83.732097,
          -83.732097,
          -83.732097,
          -83.7312291,
          -83.7312291,
          -83.7312291,
          -83.7312291,
          -83.7366784973,
          -83.7366784973,
          -83.7366784973,
          -83.7366784973,
          -83.732978,
          -83.732978,
          -83.732978,
          -83.732978,
          -83.7312291,
          -83.7312291,
          -83.7312291,
          -83.7312291,
          -83.725579,
          -83.725579,
          -83.725579,
          -83.725579,
          -83.725579,
          -83.725579,
          -83.725579,
          -83.725579,
          -83.725579,
          -83.725579,
          -83.725579,
          -83.725579,
          -83.734027419,
          -83.734027419,
          -83.734027419,
          -83.734027419,
          -83.7370826122,
          -83.7370826122,
          -83.7370826122,
          -83.7370826122,
          -83.7312291,
          -83.7312291,
          -83.7312291,
          -83.7312291,
          -83.7312291,
          -83.7312291,
          -83.7312291,
          -83.7312291,
          -83.7312291,
          -83.7312291,
          -83.7312291,
          -83.7312291,
          -83.7367795675,
          -83.7367795675,
          -83.7367795675,
          -83.7367795675,
          -83.734027419,
          -83.734027419,
          -83.734027419,
          -83.734027419,
          -83.6551216429,
          -83.6551216429,
          -83.6551216429,
          -83.6551216429,
          -83.6551216429,
          -83.6551216429,
          -83.6551216429,
          -83.6551216429,
          -83.6551216429,
          -83.6551216429,
          -83.6551216429,
          -83.6551216429,
          -83.7371027388,
          -83.7340347143,
          -83.7340347143,
          -83.7340347143,
          -83.7340347143,
          -83.7340347143,
          -83.7340347143,
          -83.7327919504,
          -83.7327919504,
          -83.7327919504,
          -83.7327919504,
          -83.7357980909,
          -83.7357980909,
          -83.7357980909,
          -83.7357980909,
          -83.736276,
          -83.736276,
          -83.736276,
          -83.736276,
          -83.7282782755,
          -83.7282782755,
          -83.7282782755,
          -83.7282782755,
          -83.7282782755,
          -83.7282782755,
          -83.6893325787,
          -83.6893325787,
          -83.6893325787,
          -83.6893325787,
          -83.6893325787,
          -83.6893325787,
          -83.7370906122,
          -83.7370906122,
          -83.7370906122,
          -83.7370906122,
          -83.7322548333,
          -83.7322548333,
          -83.7322548333,
          -83.7322548333,
          -83.7322548333,
          -83.7322548333,
          -83.731465,
          -83.731465,
          -83.731465,
          -83.731465,
          -83.731465,
          -83.731465,
          -83.7348695523,
          -83.7348695523,
          -83.7348695523,
          -83.7348695523,
          -83.7348695523,
          -83.7348695523,
          -83.7345142,
          -83.7345142,
          -83.7345142,
          -83.7345142,
          -83.7345142,
          -83.7345142,
          -83.7374896923,
          -83.7374896923,
          -83.7374896923,
          -83.7374896923,
          -83.7374896923,
          -83.7374896923,
          -83.7371027388,
          -83.733199,
          -83.733199,
          -83.733199,
          -83.733199,
          -83.733199,
          -83.733199
         ],
         "marker": {
          "color": "#325A9B"
         },
         "mode": "markers",
         "name": "North Burns Park",
         "showlegend": true,
         "subplot": "mapbox",
         "type": "scattermapbox"
        }
       ],
       "layout": {
        "legend": {
         "title": {
          "text": "neighborhood"
         },
         "tracegroupgap": 0
        },
        "mapbox": {
         "center": {
          "lat": 42.27387389608035,
          "lon": -83.73743804727238
         },
         "domain": {
          "x": [
           0,
           1
          ],
          "y": [
           0,
           1
          ]
         },
         "style": "carto-positron",
         "zoom": 12
        },
        "margin": {
         "b": 0,
         "l": 0,
         "r": 0,
         "t": 0
        },
        "template": {
         "data": {
          "bar": [
           {
            "error_x": {
             "color": "#2a3f5f"
            },
            "error_y": {
             "color": "#2a3f5f"
            },
            "marker": {
             "line": {
              "color": "#E5ECF6",
              "width": 0.5
             }
            },
            "type": "bar"
           }
          ],
          "barpolar": [
           {
            "marker": {
             "line": {
              "color": "#E5ECF6",
              "width": 0.5
             }
            },
            "type": "barpolar"
           }
          ],
          "carpet": [
           {
            "aaxis": {
             "endlinecolor": "#2a3f5f",
             "gridcolor": "white",
             "linecolor": "white",
             "minorgridcolor": "white",
             "startlinecolor": "#2a3f5f"
            },
            "baxis": {
             "endlinecolor": "#2a3f5f",
             "gridcolor": "white",
             "linecolor": "white",
             "minorgridcolor": "white",
             "startlinecolor": "#2a3f5f"
            },
            "type": "carpet"
           }
          ],
          "choropleth": [
           {
            "colorbar": {
             "outlinewidth": 0,
             "ticks": ""
            },
            "type": "choropleth"
           }
          ],
          "contour": [
           {
            "colorbar": {
             "outlinewidth": 0,
             "ticks": ""
            },
            "colorscale": [
             [
              0,
              "#0d0887"
             ],
             [
              0.1111111111111111,
              "#46039f"
             ],
             [
              0.2222222222222222,
              "#7201a8"
             ],
             [
              0.3333333333333333,
              "#9c179e"
             ],
             [
              0.4444444444444444,
              "#bd3786"
             ],
             [
              0.5555555555555556,
              "#d8576b"
             ],
             [
              0.6666666666666666,
              "#ed7953"
             ],
             [
              0.7777777777777778,
              "#fb9f3a"
             ],
             [
              0.8888888888888888,
              "#fdca26"
             ],
             [
              1,
              "#f0f921"
             ]
            ],
            "type": "contour"
           }
          ],
          "contourcarpet": [
           {
            "colorbar": {
             "outlinewidth": 0,
             "ticks": ""
            },
            "type": "contourcarpet"
           }
          ],
          "heatmap": [
           {
            "colorbar": {
             "outlinewidth": 0,
             "ticks": ""
            },
            "colorscale": [
             [
              0,
              "#0d0887"
             ],
             [
              0.1111111111111111,
              "#46039f"
             ],
             [
              0.2222222222222222,
              "#7201a8"
             ],
             [
              0.3333333333333333,
              "#9c179e"
             ],
             [
              0.4444444444444444,
              "#bd3786"
             ],
             [
              0.5555555555555556,
              "#d8576b"
             ],
             [
              0.6666666666666666,
              "#ed7953"
             ],
             [
              0.7777777777777778,
              "#fb9f3a"
             ],
             [
              0.8888888888888888,
              "#fdca26"
             ],
             [
              1,
              "#f0f921"
             ]
            ],
            "type": "heatmap"
           }
          ],
          "heatmapgl": [
           {
            "colorbar": {
             "outlinewidth": 0,
             "ticks": ""
            },
            "colorscale": [
             [
              0,
              "#0d0887"
             ],
             [
              0.1111111111111111,
              "#46039f"
             ],
             [
              0.2222222222222222,
              "#7201a8"
             ],
             [
              0.3333333333333333,
              "#9c179e"
             ],
             [
              0.4444444444444444,
              "#bd3786"
             ],
             [
              0.5555555555555556,
              "#d8576b"
             ],
             [
              0.6666666666666666,
              "#ed7953"
             ],
             [
              0.7777777777777778,
              "#fb9f3a"
             ],
             [
              0.8888888888888888,
              "#fdca26"
             ],
             [
              1,
              "#f0f921"
             ]
            ],
            "type": "heatmapgl"
           }
          ],
          "histogram": [
           {
            "marker": {
             "colorbar": {
              "outlinewidth": 0,
              "ticks": ""
             }
            },
            "type": "histogram"
           }
          ],
          "histogram2d": [
           {
            "colorbar": {
             "outlinewidth": 0,
             "ticks": ""
            },
            "colorscale": [
             [
              0,
              "#0d0887"
             ],
             [
              0.1111111111111111,
              "#46039f"
             ],
             [
              0.2222222222222222,
              "#7201a8"
             ],
             [
              0.3333333333333333,
              "#9c179e"
             ],
             [
              0.4444444444444444,
              "#bd3786"
             ],
             [
              0.5555555555555556,
              "#d8576b"
             ],
             [
              0.6666666666666666,
              "#ed7953"
             ],
             [
              0.7777777777777778,
              "#fb9f3a"
             ],
             [
              0.8888888888888888,
              "#fdca26"
             ],
             [
              1,
              "#f0f921"
             ]
            ],
            "type": "histogram2d"
           }
          ],
          "histogram2dcontour": [
           {
            "colorbar": {
             "outlinewidth": 0,
             "ticks": ""
            },
            "colorscale": [
             [
              0,
              "#0d0887"
             ],
             [
              0.1111111111111111,
              "#46039f"
             ],
             [
              0.2222222222222222,
              "#7201a8"
             ],
             [
              0.3333333333333333,
              "#9c179e"
             ],
             [
              0.4444444444444444,
              "#bd3786"
             ],
             [
              0.5555555555555556,
              "#d8576b"
             ],
             [
              0.6666666666666666,
              "#ed7953"
             ],
             [
              0.7777777777777778,
              "#fb9f3a"
             ],
             [
              0.8888888888888888,
              "#fdca26"
             ],
             [
              1,
              "#f0f921"
             ]
            ],
            "type": "histogram2dcontour"
           }
          ],
          "mesh3d": [
           {
            "colorbar": {
             "outlinewidth": 0,
             "ticks": ""
            },
            "type": "mesh3d"
           }
          ],
          "parcoords": [
           {
            "line": {
             "colorbar": {
              "outlinewidth": 0,
              "ticks": ""
             }
            },
            "type": "parcoords"
           }
          ],
          "pie": [
           {
            "automargin": true,
            "type": "pie"
           }
          ],
          "scatter": [
           {
            "marker": {
             "colorbar": {
              "outlinewidth": 0,
              "ticks": ""
             }
            },
            "type": "scatter"
           }
          ],
          "scatter3d": [
           {
            "line": {
             "colorbar": {
              "outlinewidth": 0,
              "ticks": ""
             }
            },
            "marker": {
             "colorbar": {
              "outlinewidth": 0,
              "ticks": ""
             }
            },
            "type": "scatter3d"
           }
          ],
          "scattercarpet": [
           {
            "marker": {
             "colorbar": {
              "outlinewidth": 0,
              "ticks": ""
             }
            },
            "type": "scattercarpet"
           }
          ],
          "scattergeo": [
           {
            "marker": {
             "colorbar": {
              "outlinewidth": 0,
              "ticks": ""
             }
            },
            "type": "scattergeo"
           }
          ],
          "scattergl": [
           {
            "marker": {
             "colorbar": {
              "outlinewidth": 0,
              "ticks": ""
             }
            },
            "type": "scattergl"
           }
          ],
          "scattermapbox": [
           {
            "marker": {
             "colorbar": {
              "outlinewidth": 0,
              "ticks": ""
             }
            },
            "type": "scattermapbox"
           }
          ],
          "scatterpolar": [
           {
            "marker": {
             "colorbar": {
              "outlinewidth": 0,
              "ticks": ""
             }
            },
            "type": "scatterpolar"
           }
          ],
          "scatterpolargl": [
           {
            "marker": {
             "colorbar": {
              "outlinewidth": 0,
              "ticks": ""
             }
            },
            "type": "scatterpolargl"
           }
          ],
          "scatterternary": [
           {
            "marker": {
             "colorbar": {
              "outlinewidth": 0,
              "ticks": ""
             }
            },
            "type": "scatterternary"
           }
          ],
          "surface": [
           {
            "colorbar": {
             "outlinewidth": 0,
             "ticks": ""
            },
            "colorscale": [
             [
              0,
              "#0d0887"
             ],
             [
              0.1111111111111111,
              "#46039f"
             ],
             [
              0.2222222222222222,
              "#7201a8"
             ],
             [
              0.3333333333333333,
              "#9c179e"
             ],
             [
              0.4444444444444444,
              "#bd3786"
             ],
             [
              0.5555555555555556,
              "#d8576b"
             ],
             [
              0.6666666666666666,
              "#ed7953"
             ],
             [
              0.7777777777777778,
              "#fb9f3a"
             ],
             [
              0.8888888888888888,
              "#fdca26"
             ],
             [
              1,
              "#f0f921"
             ]
            ],
            "type": "surface"
           }
          ],
          "table": [
           {
            "cells": {
             "fill": {
              "color": "#EBF0F8"
             },
             "line": {
              "color": "white"
             }
            },
            "header": {
             "fill": {
              "color": "#C8D4E3"
             },
             "line": {
              "color": "white"
             }
            },
            "type": "table"
           }
          ]
         },
         "layout": {
          "annotationdefaults": {
           "arrowcolor": "#2a3f5f",
           "arrowhead": 0,
           "arrowwidth": 1
          },
          "coloraxis": {
           "colorbar": {
            "outlinewidth": 0,
            "ticks": ""
           }
          },
          "colorscale": {
           "diverging": [
            [
             0,
             "#8e0152"
            ],
            [
             0.1,
             "#c51b7d"
            ],
            [
             0.2,
             "#de77ae"
            ],
            [
             0.3,
             "#f1b6da"
            ],
            [
             0.4,
             "#fde0ef"
            ],
            [
             0.5,
             "#f7f7f7"
            ],
            [
             0.6,
             "#e6f5d0"
            ],
            [
             0.7,
             "#b8e186"
            ],
            [
             0.8,
             "#7fbc41"
            ],
            [
             0.9,
             "#4d9221"
            ],
            [
             1,
             "#276419"
            ]
           ],
           "sequential": [
            [
             0,
             "#0d0887"
            ],
            [
             0.1111111111111111,
             "#46039f"
            ],
            [
             0.2222222222222222,
             "#7201a8"
            ],
            [
             0.3333333333333333,
             "#9c179e"
            ],
            [
             0.4444444444444444,
             "#bd3786"
            ],
            [
             0.5555555555555556,
             "#d8576b"
            ],
            [
             0.6666666666666666,
             "#ed7953"
            ],
            [
             0.7777777777777778,
             "#fb9f3a"
            ],
            [
             0.8888888888888888,
             "#fdca26"
            ],
            [
             1,
             "#f0f921"
            ]
           ],
           "sequentialminus": [
            [
             0,
             "#0d0887"
            ],
            [
             0.1111111111111111,
             "#46039f"
            ],
            [
             0.2222222222222222,
             "#7201a8"
            ],
            [
             0.3333333333333333,
             "#9c179e"
            ],
            [
             0.4444444444444444,
             "#bd3786"
            ],
            [
             0.5555555555555556,
             "#d8576b"
            ],
            [
             0.6666666666666666,
             "#ed7953"
            ],
            [
             0.7777777777777778,
             "#fb9f3a"
            ],
            [
             0.8888888888888888,
             "#fdca26"
            ],
            [
             1,
             "#f0f921"
            ]
           ]
          },
          "colorway": [
           "#636efa",
           "#EF553B",
           "#00cc96",
           "#ab63fa",
           "#FFA15A",
           "#19d3f3",
           "#FF6692",
           "#B6E880",
           "#FF97FF",
           "#FECB52"
          ],
          "font": {
           "color": "#2a3f5f"
          },
          "geo": {
           "bgcolor": "white",
           "lakecolor": "white",
           "landcolor": "#E5ECF6",
           "showlakes": true,
           "showland": true,
           "subunitcolor": "white"
          },
          "hoverlabel": {
           "align": "left"
          },
          "hovermode": "closest",
          "mapbox": {
           "style": "light"
          },
          "paper_bgcolor": "white",
          "plot_bgcolor": "#E5ECF6",
          "polar": {
           "angularaxis": {
            "gridcolor": "white",
            "linecolor": "white",
            "ticks": ""
           },
           "bgcolor": "#E5ECF6",
           "radialaxis": {
            "gridcolor": "white",
            "linecolor": "white",
            "ticks": ""
           }
          },
          "scene": {
           "xaxis": {
            "backgroundcolor": "#E5ECF6",
            "gridcolor": "white",
            "gridwidth": 2,
            "linecolor": "white",
            "showbackground": true,
            "ticks": "",
            "zerolinecolor": "white"
           },
           "yaxis": {
            "backgroundcolor": "#E5ECF6",
            "gridcolor": "white",
            "gridwidth": 2,
            "linecolor": "white",
            "showbackground": true,
            "ticks": "",
            "zerolinecolor": "white"
           },
           "zaxis": {
            "backgroundcolor": "#E5ECF6",
            "gridcolor": "white",
            "gridwidth": 2,
            "linecolor": "white",
            "showbackground": true,
            "ticks": "",
            "zerolinecolor": "white"
           }
          },
          "shapedefaults": {
           "line": {
            "color": "#2a3f5f"
           }
          },
          "ternary": {
           "aaxis": {
            "gridcolor": "white",
            "linecolor": "white",
            "ticks": ""
           },
           "baxis": {
            "gridcolor": "white",
            "linecolor": "white",
            "ticks": ""
           },
           "bgcolor": "#E5ECF6",
           "caxis": {
            "gridcolor": "white",
            "linecolor": "white",
            "ticks": ""
           }
          },
          "title": {
           "x": 0.05
          },
          "xaxis": {
           "automargin": true,
           "gridcolor": "white",
           "linecolor": "white",
           "ticks": "",
           "title": {
            "standoff": 15
           },
           "zerolinecolor": "white",
           "zerolinewidth": 2
          },
          "yaxis": {
           "automargin": true,
           "gridcolor": "white",
           "linecolor": "white",
           "ticks": "",
           "title": {
            "standoff": 15
           },
           "zerolinecolor": "white",
           "zerolinewidth": 2
          }
         }
        }
       }
      },
      "text/html": [
       "<div>\n",
       "        \n",
       "        \n",
       "            <div id=\"a91ad891-eeb8-4c5c-a8cb-3e78bbaa7d7f\" class=\"plotly-graph-div\" style=\"height:525px; width:100%;\"></div>\n",
       "            <script type=\"text/javascript\">\n",
       "                require([\"plotly\"], function(Plotly) {\n",
       "                    window.PLOTLYENV=window.PLOTLYENV || {};\n",
       "                    \n",
       "                if (document.getElementById(\"a91ad891-eeb8-4c5c-a8cb-3e78bbaa7d7f\")) {\n",
       "                    Plotly.newPlot(\n",
       "                        'a91ad891-eeb8-4c5c-a8cb-3e78bbaa7d7f',\n",
       "                        [{\"customdata\": [[965.0], [965.0], [965.0], [965.0], [1699.0], [1449.0], [1209.0], [1249.0], [1344.0], [1374.0], [1314.0], [1434.0], [1299.0], [1349.0], [1599.0], [1349.0], [1599.0], [1629.0], [1699.0], [1799.0], [1849.0], [1099.0], [1114.0], [2229.0], [919.0], [1129.0], [4199.0], [4199.0], [4199.0], [4199.0], [4199.0], [4199.0], [850.0], [850.0], [850.0], [850.0], [800.0], [800.0], [800.0], [800.0], [1065.0], [1967.5], [999.0], [999.0], [999.0], [999.0], [1395.0], [1400.0], [1400.0], [1400.0], [1400.0], [1400.0], [1400.0], [2199.0], [799.0], [1415.0], [1397.5], [1640.0], [5550.0], [5550.0], [5550.0], [5550.0], [5550.0], [5550.0], [null], [null], [null], [1310.0], [1099.0], [1199.0], [6875.0], [7800.0], [12000.0], [450.0], [450.0], [450.0], [450.0], [500.0], [500.0], [500.0], [500.0], [500.0], [500.0], [500.0], [500.0], [590.0], [590.0], [590.0], [590.0], [590.0], [590.0], [590.0], [590.0], [590.0], [590.0], [590.0], [590.0], [700.0], [700.0], [700.0], [700.0], [726.0], [726.0], [726.0], [726.0], [750.0], [750.0], [750.0], [750.0], [800.0], [800.0], [800.0], [800.0], [1050.0], [1050.0], [1050.0], [1050.0], [1050.0], [1050.0], [1050.0], [1050.0], [1050.0], [1050.0], [1050.0], [1050.0], [1050.0], [1050.0], [800.0], [800.0], [800.0], [800.0], [850.0], [850.0], [850.0], [850.0], [850.0], [850.0], [850.0], [850.0], [900.0], [900.0], [900.0], [900.0], [900.0], [900.0], [900.0], [900.0], [925.0], [985.0], [985.0], [985.0], [985.0], [985.0], [1000.0], [1000.0], [1000.0], [1000.0], [1000.0], [1000.0], [1055.0], [1217.5], [550.0], [550.0], [550.0], [550.0], [1200.0], [1200.0], [1200.0], [1200.0], [1200.0], [1200.0], [1250.0], [1250.0], [1250.0], [1250.0], [1250.0], [1250.0], [1250.0], [1250.0], [1250.0], [1250.0], [1250.0], [1250.0], [1250.0], [1250.0], [1250.0], [1250.0], [1350.0], [1350.0], [1350.0], [1350.0], [1350.0], [1350.0], [1747.5], [1857.5], [1900.0], [1920.0], [900.0], [900.0], [900.0], [900.0], [715.0], [715.0], [715.0], [715.0], [715.0], [715.0], [715.0], [715.0], [715.0], [715.0], [715.0], [715.0], [670.0], [670.0], [670.0], [670.0], [700.0], [700.0], [700.0], [700.0], [2950.0], [2950.0], [2950.0], [2950.0], [1150.0], [1150.0], [1150.0], [1150.0], [1150.0], [1150.0], [1200.0], [1200.0], [1200.0], [1200.0], [1200.0], [1200.0]], \"hoverlabel\": {\"namelength\": 0}, \"hovertemplate\": \"<b>%{hovertext}</b><br><br>neighborhood=South University<br>price=%{customdata[0]}<br>lat=%{lat}<br>lon=%{lon}\", \"hovertext\": [\"514 South Forest Avenue Ann Arbor, MI 48104\", \"514 South Forest Avenue Ann Arbor, MI 48104\", \"514 South Forest Avenue Ann Arbor, MI 48104\", \"514 South Forest Avenue Ann Arbor, MI 48104\", \"1300 S University Ave Ann Arbor, MI 48104\", \"1300 S University Ave Ann Arbor, MI 48104\", \"1300 S University Ave Ann Arbor, MI 48104\", \"1300 S University Ave Ann Arbor, MI 48104\", \"1300 S University Ave Ann Arbor, MI 48104\", \"1300 S University Ave Ann Arbor, MI 48104\", \"1300 S University Ave Ann Arbor, MI 48104\", \"1300 S University Ave Ann Arbor, MI 48104\", \"1300 S University Ave Ann Arbor, MI 48104\", \"1300 S University Ave Ann Arbor, MI 48104\", \"1300 S University Ave Ann Arbor, MI 48104\", \"1300 S University Ave Ann Arbor, MI 48104\", \"536 S. Forest Ave Ann Arbor, MI 48104\", \"536 S. Forest Ave Ann Arbor, MI 48104\", \"536 S. Forest Ave Ann Arbor, MI 48104\", \"536 S. Forest Ave Ann Arbor, MI 48104\", \"536 S. Forest Ave Ann Arbor, MI 48104\", \"536 S. Forest Ave Ann Arbor, MI 48104\", \"536 S. Forest Ave Ann Arbor, MI 48104\", \"536 S. Forest Ave Ann Arbor, MI 48104\", \"536 S. Forest Ave Ann Arbor, MI 48104\", \"536 S. Forest Ave Ann Arbor, MI 48104\", \"727 South Forest Avenue Ann Arbor, MI 48104\", \"727 South Forest Avenue Ann Arbor, MI 48104\", \"727 South Forest Avenue Ann Arbor, MI 48104\", \"727 South Forest Avenue Ann Arbor, MI 48104\", \"727 South Forest Avenue Ann Arbor, MI 48104\", \"727 South Forest Avenue Ann Arbor, MI 48104\", \"1348 Wilmot Court Ann Arbor, MI 48104\", \"1348 Wilmot Court Ann Arbor, MI 48104\", \"1348 Wilmot Court Ann Arbor, MI 48104\", \"1348 Wilmot Court Ann Arbor, MI 48104\", \"1223 Hill Street Apt 5 Ann Arbor, MI 48104\", \"1223 Hill Street Apt 5 Ann Arbor, MI 48104\", \"1223 Hill Street Apt 5 Ann Arbor, MI 48104\", \"1223 Hill Street Apt 5 Ann Arbor, MI 48104\", \"503 Church Street Ann Arbor, MI 48109\", \"503 Church Street Ann Arbor, MI 48109\", \"1107 South University Avenue Ann Arbor, MI 48104\", \"1107 South University Avenue Ann Arbor, MI 48104\", \"1107 South University Avenue Ann Arbor, MI 48104\", \"1107 South University Avenue Ann Arbor, MI 48104\", \"1338 Washtenaw Ave Apt #6 Ann Arbor, MI 48104\", \"1311 Wilmot St. Apt 3 Ann Arbor, MI 48104\", \"1311 Wilmot St. Apt 3 Ann Arbor, MI 48104\", \"1311 Wilmot St. Apt 3 Ann Arbor, MI 48104\", \"1311 Wilmot St. Apt 3 Ann Arbor, MI 48104\", \"1311 Wilmot St. Apt 3 Ann Arbor, MI 48104\", \"1311 Wilmot St. Apt 3 Ann Arbor, MI 48104\", \"611 East University Avenue Ann Arbor, MI 48104\", \"611 East University Avenue Ann Arbor, MI 48104\", \"611 East University Avenue Ann Arbor, MI 48104\", \"611 East University Avenue Ann Arbor, MI 48104\", \"611 East University Avenue Ann Arbor, MI 48104\", \"523 Packard Street Ann Arbor, MI 48104\", \"523 Packard Street Ann Arbor, MI 48104\", \"523 Packard Street Ann Arbor, MI 48104\", \"523 Packard Street Ann Arbor, MI 48104\", \"523 Packard Street Ann Arbor, MI 48104\", \"523 Packard Street Ann Arbor, MI 48104\", \"1112 South University Avenue Ann Arbor, MI 48104\", \"1112 South University Avenue Ann Arbor, MI 48104\", \"1112 South University Avenue Ann Arbor, MI 48104\", \"1112 South University Avenue Ann Arbor, MI 48104\", \"1112 South University Avenue Ann Arbor, MI 48104\", \"1112 South University Avenue Ann Arbor, MI 48104\", \"1207 Willard Street Ann Arbor, MI 48104\", \"547 Elm Street Ann Arbor, MI 48104\", \"1208 Willard Street Ann Arbor, MI 48104\", \"1330 North University Court Ann Arbor, MI 48104\", \"1330 North University Court Ann Arbor, MI 48104\", \"1330 North University Court Ann Arbor, MI 48104\", \"1330 North University Court Ann Arbor, MI 48104\", \"731 Packard Street Ann Arbor, MI 48104\", \"731 Packard Street Ann Arbor, MI 48104\", \"731 Packard Street Ann Arbor, MI 48104\", \"731 Packard Street Ann Arbor, MI 48104\", \"Ann Arbor, MI 48104\", \"Ann Arbor, MI 48104\", \"Ann Arbor, MI 48104\", \"Ann Arbor, MI 48104\", \"1335 Geddes Avenue #9 Ann Arbor, MI 48104\", \"1335 Geddes Avenue #9 Ann Arbor, MI 48104\", \"1335 Geddes Avenue #9 Ann Arbor, MI 48104\", \"1335 Geddes Avenue #9 Ann Arbor, MI 48104\", \"1335 Geddes Avenue #9 Ann Arbor, MI 48104\", \"1335 Geddes Avenue #9 Ann Arbor, MI 48104\", \"1335 Geddes Avenue #9 Ann Arbor, MI 48104\", \"1335 Geddes Avenue #9 Ann Arbor, MI 48104\", \"1335 Geddes Avenue #9 Ann Arbor, MI 48104\", \"1335 Geddes Avenue #9 Ann Arbor, MI 48104\", \"1335 Geddes Avenue #9 Ann Arbor, MI 48104\", \"1335 Geddes Avenue #9 Ann Arbor, MI 48104\", \"316 West Stadium Boulevard Ann Arbor, MI 48103\", \"316 West Stadium Boulevard Ann Arbor, MI 48103\", \"316 West Stadium Boulevard Ann Arbor, MI 48103\", \"316 West Stadium Boulevard Ann Arbor, MI 48103\", \"1327 Wilmot Street Ann Arbor, MI 48104\", \"1327 Wilmot Street Ann Arbor, MI 48104\", \"1327 Wilmot Street Ann Arbor, MI 48104\", \"1327 Wilmot Street Ann Arbor, MI 48104\", \"Ann Arbor, MI 48104\", \"Ann Arbor, MI 48104\", \"Ann Arbor, MI 48104\", \"Ann Arbor, MI 48104\", \"536 South Forest Avenue Ann Arbor, MI 48104\", \"536 South Forest Avenue Ann Arbor, MI 48104\", \"536 South Forest Avenue Ann Arbor, MI 48104\", \"536 South Forest Avenue Ann Arbor, MI 48104\", \"1300 South University Avenue Ann Arbor, MI 48104\", \"1300 South University Avenue Ann Arbor, MI 48104\", \"1300 South University Avenue Ann Arbor, MI 48104\", \"1300 South University Avenue Ann Arbor, MI 48104\", \"1300 South University Avenue Ann Arbor, MI 48104\", \"1300 South University Avenue Ann Arbor, MI 48104\", \"1300 South University Avenue Ann Arbor, MI 48104\", \"1300 South University Avenue Ann Arbor, MI 48104\", \"1300 South University Avenue Ann Arbor, MI 48104\", \"1300 South University Avenue Ann Arbor, MI 48104\", \"1300 South University Avenue Ann Arbor, MI 48104\", \"1300 South University Avenue Ann Arbor, MI 48104\", \"1300 South University Avenue Ann Arbor, MI 48104\", \"1300 South University Avenue Ann Arbor, MI 48104\", \"1321 Wilmot Street Ann Arbor, MI 48104\", \"1321 Wilmot Street Ann Arbor, MI 48104\", \"1321 Wilmot Street Ann Arbor, MI 48104\", \"1321 Wilmot Street Ann Arbor, MI 48104\", \"925 Church St Apt 2 Ann Arbor, MI 48104\", \"925 Church St Apt 2 Ann Arbor, MI 48104\", \"925 Church St Apt 2 Ann Arbor, MI 48104\", \"925 Church St Apt 2 Ann Arbor, MI 48104\", \"1107 South University Avenue Ann Arbor, MI 48104\", \"1107 South University Avenue Ann Arbor, MI 48104\", \"1107 South University Avenue Ann Arbor, MI 48104\", \"1107 South University Avenue Ann Arbor, MI 48104\", \"1107 South University Avenue Ann Arbor, MI 48104\", \"1107 South University Avenue Ann Arbor, MI 48104\", \"1107 South University Avenue Ann Arbor, MI 48104\", \"1107 South University Avenue Ann Arbor, MI 48104\", \"1300 South University Avenue Ann Arbor, MI 48104\", \"1300 South University Avenue Ann Arbor, MI 48104\", \"1300 South University Avenue Ann Arbor, MI 48104\", \"1300 South University Avenue Ann Arbor, MI 48104\", \"1352 Wilmot Ct. Ann Arbor, MI 48104\", \"1352 Wilmot Ct. Ann Arbor, MI 48104\", \"1352 Wilmot Ct. Ann Arbor, MI 48104\", \"1352 Wilmot Ct. Ann Arbor, MI 48104\", \"1352 Wilmot Ct. Ann Arbor, MI 48104\", \"1352 Wilmot Ct. Ann Arbor, MI 48104\", \"1107 South University Avenue Ann Arbor, MI 48104\", \"1107 South University Avenue Ann Arbor, MI 48104\", \"1107 South University Avenue Ann Arbor, MI 48104\", \"1107 South University Avenue Ann Arbor, MI 48104\", \"1107 South University Avenue Ann Arbor, MI 48104\", \"1107 South University Avenue Ann Arbor, MI 48104\", \"732 S Forest Ave Ann Arbor, MI 48104\", \"732 S Forest Ave Ann Arbor, MI 48104\", \"Ann Arbor, MI 48104\", \"Ann Arbor, MI 48104\", \"Ann Arbor, MI 48104\", \"Ann Arbor, MI 48104\", \"1107 S University Ave Ann Arbor, MI 48104\", \"1107 S University Ave Ann Arbor, MI 48104\", \"1107 S University Ave Ann Arbor, MI 48104\", \"1107 S University Ave Ann Arbor, MI 48104\", \"1107 S University Ave Ann Arbor, MI 48104\", \"1107 S University Ave Ann Arbor, MI 48104\", \"1107 South University Avenue Ann Arbor, MI 48104\", \"1107 South University Avenue Ann Arbor, MI 48104\", \"1107 South University Avenue Ann Arbor, MI 48104\", \"1107 South University Avenue Ann Arbor, MI 48104\", \"1107 South University Avenue Ann Arbor, MI 48104\", \"1107 South University Avenue Ann Arbor, MI 48104\", \"1107 South University Avenue Ann Arbor, MI 48104\", \"1107 South University Avenue Ann Arbor, MI 48104\", \"1107 South University Avenue Ann Arbor, MI 48104\", \"1107 South University Avenue Ann Arbor, MI 48104\", \"1107 South University Avenue Ann Arbor, MI 48104\", \"1107 South University Avenue Ann Arbor, MI 48104\", \"1107 South University Avenue Ann Arbor, MI 48104\", \"1107 South University Avenue Ann Arbor, MI 48104\", \"1107 South University Avenue Ann Arbor, MI 48104\", \"1107 South University Avenue Ann Arbor, MI 48104\", \"611 East University Avenue Ann Arbor, MI 48104\", \"611 East University Avenue Ann Arbor, MI 48104\", \"611 East University Avenue Ann Arbor, MI 48104\", \"611 East University Avenue Ann Arbor, MI 48104\", \"611 East University Avenue Ann Arbor, MI 48104\", \"611 East University Avenue Ann Arbor, MI 48104\", \"1317 Wilmot St Ann Arbor, MI 48104\", \"1317 Wilmot St Ann Arbor, MI 48104\", \"1317 Wilmot St Ann Arbor, MI 48104\", \"1317 Wilmot St Ann Arbor, MI 48104\", \"555 South Forest Avenue Ann Arbor, MI 48104\", \"555 South Forest Avenue Ann Arbor, MI 48104\", \"555 South Forest Avenue Ann Arbor, MI 48104\", \"555 South Forest Avenue Ann Arbor, MI 48104\", \"1315 Hill Street Ann Arbor, MI 48104\", \"1315 Hill Street Ann Arbor, MI 48104\", \"1315 Hill Street Ann Arbor, MI 48104\", \"1315 Hill Street Ann Arbor, MI 48104\", \"1315 Hill Street Ann Arbor, MI 48104\", \"1315 Hill Street Ann Arbor, MI 48104\", \"1315 Hill Street Ann Arbor, MI 48104\", \"1315 Hill Street Ann Arbor, MI 48104\", \"1315 Hill Street Ann Arbor, MI 48104\", \"1315 Hill Street Ann Arbor, MI 48104\", \"1315 Hill Street Ann Arbor, MI 48104\", \"1315 Hill Street Ann Arbor, MI 48104\", \"1520 Hill Street Ann Arbor, MI 48104\", \"1520 Hill Street Ann Arbor, MI 48104\", \"1520 Hill Street Ann Arbor, MI 48104\", \"1520 Hill Street Ann Arbor, MI 48104\", \"1300 South University Avenue Ann Arbor, MI 48104\", \"1300 South University Avenue Ann Arbor, MI 48104\", \"1300 South University Avenue Ann Arbor, MI 48104\", \"1300 South University Avenue Ann Arbor, MI 48104\", \"520 Linden Ann Arbor, MI 48104\", \"520 Linden Ann Arbor, MI 48104\", \"520 Linden Ann Arbor, MI 48104\", \"520 Linden Ann Arbor, MI 48104\", \"611 East University Avenue Ann Arbor, MI 48104\", \"611 East University Avenue Ann Arbor, MI 48104\", \"611 East University Avenue Ann Arbor, MI 48104\", \"611 East University Avenue Ann Arbor, MI 48104\", \"611 East University Avenue Ann Arbor, MI 48104\", \"611 East University Avenue Ann Arbor, MI 48104\", \"1107 South University Avenue Ann Arbor, MI 48104\", \"1107 South University Avenue Ann Arbor, MI 48104\", \"1107 South University Avenue Ann Arbor, MI 48104\", \"1107 South University Avenue Ann Arbor, MI 48104\", \"1107 South University Avenue Ann Arbor, MI 48104\", \"1107 South University Avenue Ann Arbor, MI 48104\"], \"lat\": [42.27594065, 42.27594065, 42.27594065, 42.27594065, 42.2748415, 42.2748415, 42.2748415, 42.2748415, 42.2748415, 42.2748415, 42.2748415, 42.2748415, 42.2748415, 42.2748415, 42.2748415, 42.2748415, 42.27525705, 42.27525705, 42.27525705, 42.27525705, 42.27525705, 42.27525705, 42.27525705, 42.27525705, 42.27525705, 42.27525705, 42.27267985, 42.27267985, 42.27267985, 42.27267985, 42.27267985, 42.27267985, 42.276346102, 42.276346102, 42.276346102, 42.276346102, 42.27236155, 42.27236155, 42.27236155, 42.27236155, 42.27668955, 42.27668955, 42.2750725306, 42.2750725306, 42.2750725306, 42.2750725306, 42.2594158, 42.2765551031, 42.2765551031, 42.2765551031, 42.2765551031, 42.2765551031, 42.2765551031, 42.274170396, 42.274170396, 42.274170396, 42.274170396, 42.274170396, 42.27277565, 42.27277565, 42.27277565, 42.27277565, 42.27277565, 42.27277565, 42.2749100612, 42.2749100612, 42.2749100612, 42.2749100612, 42.2749100612, 42.2749100612, 42.2739616, 42.2755502069, 42.2736347, 42.2782836735, 42.2782836735, 42.2782836735, 42.2782836735, 42.27025225, 42.27025225, 42.27025225, 42.27025225, 42.2681569, 42.2681569, 42.2681569, 42.2681569, 42.27769485, 42.27769485, 42.27769485, 42.27769485, 42.27769485, 42.27769485, 42.27769485, 42.27769485, 42.27769485, 42.27769485, 42.27769485, 42.27769485, 42.26440855, 42.26440855, 42.26440855, 42.26440855, 42.2767144171, 42.2767144171, 42.2767144171, 42.2767144171, 42.2681569, 42.2681569, 42.2681569, 42.2681569, 42.27525705, 42.27525705, 42.27525705, 42.27525705, 42.2748415, 42.2748415, 42.2748415, 42.2748415, 42.2748415, 42.2748415, 42.2748415, 42.2748415, 42.2748415, 42.2748415, 42.2748415, 42.2748415, 42.2748415, 42.2748415, 42.2766612063, 42.2766612063, 42.2766612063, 42.2766612063, 42.27066465, 42.27066465, 42.27066465, 42.27066465, 42.2750725306, 42.2750725306, 42.2750725306, 42.2750725306, 42.2750725306, 42.2750725306, 42.2750725306, 42.2750725306, 42.2748415, 42.2748415, 42.2748415, 42.2748415, 42.2763456939, 42.2763456939, 42.2763456939, 42.2763456939, 42.2763456939, 42.2763456939, 42.2750725306, 42.2750725306, 42.2750725306, 42.2750725306, 42.2750725306, 42.2750725306, 42.27256705, 42.27256705, 42.2681569, 42.2681569, 42.2681569, 42.2681569, 42.2750725306, 42.2750725306, 42.2750725306, 42.2750725306, 42.2750725306, 42.2750725306, 42.2750725306, 42.2750725306, 42.2750725306, 42.2750725306, 42.2750725306, 42.2750725306, 42.2750725306, 42.2750725306, 42.2750725306, 42.2750725306, 42.2750725306, 42.2750725306, 42.2750725306, 42.2750725306, 42.2750725306, 42.2750725306, 42.274170396, 42.274170396, 42.274170396, 42.274170396, 42.274170396, 42.274170396, 42.276618765, 42.276618765, 42.276618765, 42.276618765, 42.2753108, 42.2753108, 42.2753108, 42.2753108, 42.27246205, 42.27246205, 42.27246205, 42.27246205, 42.27246205, 42.27246205, 42.27246205, 42.27246205, 42.27246205, 42.27246205, 42.27246205, 42.27246205, 42.27206605, 42.27206605, 42.27206605, 42.27206605, 42.2748415, 42.2748415, 42.2748415, 42.2748415, 42.2760612886, 42.2760612886, 42.2760612886, 42.2760612886, 42.274170396, 42.274170396, 42.274170396, 42.274170396, 42.274170396, 42.274170396, 42.2750725306, 42.2750725306, 42.2750725306, 42.2750725306, 42.2750725306, 42.2750725306], \"legendgroup\": \"South University\", \"lon\": [-83.7334425942, -83.7334425942, -83.7334425942, -83.7334425942, -83.7329255, -83.7329255, -83.7329255, -83.7329255, -83.7329255, -83.7329255, -83.7329255, -83.7329255, -83.7329255, -83.7329255, -83.7329255, -83.7329255, -83.7334912339, -83.7334912339, -83.7334912339, -83.7334912339, -83.7334912339, -83.7334912339, -83.7334912339, -83.7334912339, -83.7334912339, -83.7334912339, -83.7327025, -83.7327025, -83.7327025, -83.7327025, -83.7327025, -83.7327025, -83.7306270816, -83.7306270816, -83.7306270816, -83.7306270816, -83.7334878752, -83.7334878752, -83.7334878752, -83.7334878752, -83.7344249195, -83.7344249195, -83.735550898, -83.735550898, -83.735550898, -83.735550898, -83.7108296, -83.732866352, -83.732866352, -83.732866352, -83.732866352, -83.732866352, -83.732866352, -83.7356511812, -83.7356511812, -83.7356511812, -83.7356511812, -83.7356511812, -83.7420926997, -83.7420926997, -83.7420926997, -83.7420926997, -83.7420926997, -83.7420926997, -83.7354897959, -83.7354897959, -83.7354897959, -83.7354897959, -83.7354897959, -83.7354897959, -83.7341632257, -83.7305717241, -83.7340268541, -83.731833551, -83.731833551, -83.731833551, -83.731833551, -83.73942575, -83.73942575, -83.73942575, -83.73942575, -83.7312291, -83.7312291, -83.7312291, -83.7312291, -83.7317954994, -83.7317954994, -83.7317954994, -83.7317954994, -83.7317954994, -83.7317954994, -83.7317954994, -83.7317954994, -83.7317954994, -83.7317954994, -83.7317954994, -83.7317954994, -83.7512254833, -83.7512254833, -83.7512254833, -83.7512254833, -83.7326437006, -83.7326437006, -83.7326437006, -83.7326437006, -83.7312291, -83.7312291, -83.7312291, -83.7312291, -83.7334912339, -83.7334912339, -83.7334912339, -83.7334912339, -83.7329255, -83.7329255, -83.7329255, -83.7329255, -83.7329255, -83.7329255, -83.7329255, -83.7329255, -83.7329255, -83.7329255, -83.7329255, -83.7329255, -83.7329255, -83.7329255, -83.7327297041, -83.7327297041, -83.7327297041, -83.7327297041, -83.73412175, -83.73412175, -83.73412175, -83.73412175, -83.735550898, -83.735550898, -83.735550898, -83.735550898, -83.735550898, -83.735550898, -83.735550898, -83.735550898, -83.7329255, -83.7329255, -83.7329255, -83.7329255, -83.7306207551, -83.7306207551, -83.7306207551, -83.7306207551, -83.7306207551, -83.7306207551, -83.735550898, -83.735550898, -83.735550898, -83.735550898, -83.735550898, -83.735550898, -83.7334646727, -83.7334646727, -83.7312291, -83.7312291, -83.7312291, -83.7312291, -83.735550898, -83.735550898, -83.735550898, -83.735550898, -83.735550898, -83.735550898, -83.735550898, -83.735550898, -83.735550898, -83.735550898, -83.735550898, -83.735550898, -83.735550898, -83.735550898, -83.735550898, -83.735550898, -83.735550898, -83.735550898, -83.735550898, -83.735550898, -83.735550898, -83.735550898, -83.7356511812, -83.7356511812, -83.7356511812, -83.7356511812, -83.7356511812, -83.7356511812, -83.7327843633, -83.7327843633, -83.7327843633, -83.7327843633, -83.7328370239, -83.7328370239, -83.7328370239, -83.7328370239, -83.7327004731, -83.7327004731, -83.7327004731, -83.7327004731, -83.7327004731, -83.7327004731, -83.7327004731, -83.7327004731, -83.7327004731, -83.7327004731, -83.7327004731, -83.7327004731, -83.7289110585, -83.7289110585, -83.7289110585, -83.7289110585, -83.7329255, -83.7329255, -83.7329255, -83.7329255, -83.7281458812, -83.7281458812, -83.7281458812, -83.7281458812, -83.7356511812, -83.7356511812, -83.7356511812, -83.7356511812, -83.7356511812, -83.7356511812, -83.735550898, -83.735550898, -83.735550898, -83.735550898, -83.735550898, -83.735550898], \"marker\": {\"color\": \"#AA0DFE\"}, \"mode\": \"markers\", \"name\": \"South University\", \"showlegend\": true, \"subplot\": \"mapbox\", \"type\": \"scattermapbox\"}, {\"customdata\": [[1659.0], [1489.0], [1559.0], [1309.0], [1424.0], [1304.0], [1346.5], [1545.0], [2099.0], [2139.0], [1389.0], [1249.0], [1269.0], [2149.0], [2289.0], [1475.0], [1349.0], [1275.0], [1122.5], [1200.0], [1232.5], [1295.0], [1325.0], [1395.0], [1295.0], [1295.0], [1295.0], [1525.0], [1475.0], [1475.0], [1475.0], [1475.0], [1475.0], [1475.0], [1900.0], [1900.0], [1900.0], [1900.0], [1900.0], [1900.0], [2400.0], [2400.0], [2400.0], [2400.0], [2400.0], [2400.0], [2745.0], [2745.0], [2745.0], [2745.0], [2745.0], [2745.0], [3250.0], [3250.0], [3250.0], [3250.0], [3250.0], [3250.0], [4100.0], [4100.0], [4100.0], [4100.0], [4100.0], [4100.0], [4170.0], [4600.0], [4600.0], [4600.0], [4600.0], [4600.0], [4600.0], [500.0], [500.0], [500.0], [500.0], [560.0], [560.0], [560.0], [560.0], [600.0], [600.0], [600.0], [600.0], [600.0], [600.0], [600.0], [600.0], [680.0], [680.0], [680.0], [680.0], [699.0], [699.0], [699.0], [699.0], [700.0], [700.0], [700.0], [700.0], [700.0], [700.0], [700.0], [700.0], [700.0], [700.0], [700.0], [700.0], [700.0], [700.0], [700.0], [700.0], [750.0], [750.0], [750.0], [750.0], [750.0], [750.0], [750.0], [750.0], [776.0], [776.0], [776.0], [776.0], [800.0], [800.0], [800.0], [800.0], [800.0], [800.0], [800.0], [800.0], [825.0], [825.0], [825.0], [825.0], [875.0], [875.0], [875.0], [875.0], [900.0], [900.0], [900.0], [900.0], [900.0], [900.0], [900.0], [900.0], [1000.0], [1000.0], [1000.0], [1000.0], [1000.0], [1000.0], [1259.0], [1259.0], [1259.0], [1259.0], [1259.0], [1259.0], [1320.0], [1320.0], [1320.0], [1320.0], [1320.0], [1320.0], [675.0], [675.0], [675.0], [675.0], [750.0], [750.0], [750.0], [750.0], [1800.0], [1800.0], [1800.0], [1800.0], [1800.0], [1800.0], [1990.0], [1990.0], [1990.0], [1990.0], [1990.0], [1990.0], [782.5], [782.5], [782.5], [782.5], [782.5], [782.5], [782.5], [782.5], [782.5], [782.5], [782.5], [782.5], [782.5], [782.5], [1449.0], [1449.0], [1449.0], [1449.0], [1449.0], [1449.0], [1480.0], [1480.0], [1480.0], [1480.0], [1480.0], [1480.0], [4350.0], [4350.0], [4350.0], [4350.0], [4350.0], [4350.0], [4500.0], [4500.0], [4500.0], [4500.0], [4500.0], [4500.0]], \"hoverlabel\": {\"namelength\": 0}, \"hovertemplate\": \"<b>%{hovertext}</b><br><br>neighborhood=Old Fourth Ward<br>price=%{customdata[0]}<br>lat=%{lat}<br>lon=%{lon}\", \"hovertext\": [\"603 E Huron St Ann Arbor, MI 48104\", \"603 E Huron St Ann Arbor, MI 48104\", \"603 E Huron St Ann Arbor, MI 48104\", \"603 E Huron St Ann Arbor, MI 48104\", \"603 E Huron St Ann Arbor, MI 48104\", \"603 E Huron St Ann Arbor, MI 48104\", \"603 E Huron St Ann Arbor, MI 48104\", \"220 N. First Ann Arbor, MI 48104\", \"425 E. Washington Street Ann Arbor, MI 48104\", \"425 E. Washington Street Ann Arbor, MI 48104\", \"425 E. Washington Street Ann Arbor, MI 48104\", \"425 E. Washington Street Ann Arbor, MI 48104\", \"425 E. Washington Street Ann Arbor, MI 48104\", \"413 E Huron St Ann Arbor, MI 48104\", \"413 E Huron St Ann Arbor, MI 48104\", \"413 E Huron St Ann Arbor, MI 48104\", \"413 E Huron St Ann Arbor, MI 48104\", \"413 E Huron St Ann Arbor, MI 48104\", \"501 East Ann Street Ann Arbor, MI 48104\", \"216 North State Street Ann Arbor, MI 48104\", \"322 North State Street Ann Arbor, MI 48104\", \"520 N Ashley St Ann Arbor, MI 48103\", \"520 N Ashley St Ann Arbor, MI 48103\", \"520 N Ashley St Ann Arbor, MI 48103\", \"512 N Ashley St Ann Arbor, MI 48103\", \"512 N Ashley St Ann Arbor, MI 48103\", \"512 N Ashley St Ann Arbor, MI 48103\", \"118 East Kingsley Street Ann Arbor, MI 48104\", \"208 North Division Street Ann Arbor, MI 48104\", \"208 North Division Street Ann Arbor, MI 48104\", \"208 North Division Street Ann Arbor, MI 48104\", \"208 North Division Street Ann Arbor, MI 48104\", \"208 North Division Street Ann Arbor, MI 48104\", \"208 North Division Street Ann Arbor, MI 48104\", \"499 East Ann Street Ann Arbor, MI 48104\", \"499 East Ann Street Ann Arbor, MI 48104\", \"499 East Ann Street Ann Arbor, MI 48104\", \"499 East Ann Street Ann Arbor, MI 48104\", \"499 East Ann Street Ann Arbor, MI 48104\", \"499 East Ann Street Ann Arbor, MI 48104\", \"310 East Summit Street Apt. 2 Ann Arbor, MI 48104\", \"310 East Summit Street Apt. 2 Ann Arbor, MI 48104\", \"310 East Summit Street Apt. 2 Ann Arbor, MI 48104\", \"310 East Summit Street Apt. 2 Ann Arbor, MI 48104\", \"310 East Summit Street Apt. 2 Ann Arbor, MI 48104\", \"310 East Summit Street Apt. 2 Ann Arbor, MI 48104\", \"211 E Kingsley St Ann Arbor, MI 48104\", \"211 E Kingsley St Ann Arbor, MI 48104\", \"211 E Kingsley St Ann Arbor, MI 48104\", \"211 E Kingsley St Ann Arbor, MI 48104\", \"211 E Kingsley St Ann Arbor, MI 48104\", \"211 E Kingsley St Ann Arbor, MI 48104\", \"212 North 5th Avenue Ann Arbor, MI 48104\", \"212 North 5th Avenue Ann Arbor, MI 48104\", \"212 North 5th Avenue Ann Arbor, MI 48104\", \"212 North 5th Avenue Ann Arbor, MI 48104\", \"212 North 5th Avenue Ann Arbor, MI 48104\", \"212 North 5th Avenue Ann Arbor, MI 48104\", \"214 North 5th Avenue Ann Arbor, MI 48104\", \"214 North 5th Avenue Ann Arbor, MI 48104\", \"214 North 5th Avenue Ann Arbor, MI 48104\", \"214 North 5th Avenue Ann Arbor, MI 48104\", \"214 North 5th Avenue Ann Arbor, MI 48104\", \"214 North 5th Avenue Ann Arbor, MI 48104\", \"411 North State Street #2 Ann Arbor, MI 48104\", \"714 Lawrence Street Ann Arbor, MI 48104\", \"714 Lawrence Street Ann Arbor, MI 48104\", \"714 Lawrence Street Ann Arbor, MI 48104\", \"714 Lawrence Street Ann Arbor, MI 48104\", \"714 Lawrence Street Ann Arbor, MI 48104\", \"714 Lawrence Street Ann Arbor, MI 48104\", \"289 Hiscock Street Ann Arbor, MI 48103\", \"289 Hiscock Street Ann Arbor, MI 48103\", \"289 Hiscock Street Ann Arbor, MI 48103\", \"289 Hiscock Street Ann Arbor, MI 48103\", \"528 North State Street Ann Arbor, MI 48104\", \"528 North State Street Ann Arbor, MI 48104\", \"528 North State Street Ann Arbor, MI 48104\", \"528 North State Street Ann Arbor, MI 48104\", \"820 Fuller Street Ann Arbor, MI 48104\", \"820 Fuller Street Ann Arbor, MI 48104\", \"820 Fuller Street Ann Arbor, MI 48104\", \"820 Fuller Street Ann Arbor, MI 48104\", \"411 East Washington Street Ann Arbor, MI 48104\", \"411 East Washington Street Ann Arbor, MI 48104\", \"411 East Washington Street Ann Arbor, MI 48104\", \"411 East Washington Street Ann Arbor, MI 48104\", \"205 North Division Street Unit 3 Ann Arbor, MI 48104\", \"205 North Division Street Unit 3 Ann Arbor, MI 48104\", \"205 North Division Street Unit 3 Ann Arbor, MI 48104\", \"205 North Division Street Unit 3 Ann Arbor, MI 48104\", \"413 East Huron Street Ann Arbor, MI 48104\", \"413 East Huron Street Ann Arbor, MI 48104\", \"413 East Huron Street Ann Arbor, MI 48104\", \"413 East Huron Street Ann Arbor, MI 48104\", \"800 Fuller Street Ann Arbor, MI 48104\", \"800 Fuller Street Ann Arbor, MI 48104\", \"800 Fuller Street Ann Arbor, MI 48104\", \"800 Fuller Street Ann Arbor, MI 48104\", \"411 East Washington Street Ann Arbor, MI 48104\", \"411 East Washington Street Ann Arbor, MI 48104\", \"411 East Washington Street Ann Arbor, MI 48104\", \"411 East Washington Street Ann Arbor, MI 48104\", \"Ann Arbor, MI 48104\", \"Ann Arbor, MI 48104\", \"Ann Arbor, MI 48104\", \"Ann Arbor, MI 48104\", \"321 North Ingalls Street Ann Arbor, MI 48104\", \"321 North Ingalls Street Ann Arbor, MI 48104\", \"321 North Ingalls Street Ann Arbor, MI 48104\", \"321 North Ingalls Street Ann Arbor, MI 48104\", \"Ann Arbor, MI 48104\", \"Ann Arbor, MI 48104\", \"Ann Arbor, MI 48104\", \"Ann Arbor, MI 48104\", \"Ann Arbor, MI 48104\", \"Ann Arbor, MI 48104\", \"Ann Arbor, MI 48104\", \"Ann Arbor, MI 48104\", \"119 North Ingalls Street Ann Arbor, MI 48104\", \"119 North Ingalls Street Ann Arbor, MI 48104\", \"119 North Ingalls Street Ann Arbor, MI 48104\", \"119 North Ingalls Street Ann Arbor, MI 48104\", \"114 East Kingsley Street Ann Arbor, MI 48104\", \"114 East Kingsley Street Ann Arbor, MI 48104\", \"114 East Kingsley Street Ann Arbor, MI 48104\", \"114 East Kingsley Street Ann Arbor, MI 48104\", \"425 East Washington Street Ann Arbor, MI 48104\", \"425 East Washington Street Ann Arbor, MI 48104\", \"425 East Washington Street Ann Arbor, MI 48104\", \"425 East Washington Street Ann Arbor, MI 48104\", \"411 East Washington Street Ann Arbor, MI 48104\", \"411 East Washington Street Ann Arbor, MI 48104\", \"411 East Washington Street Ann Arbor, MI 48104\", \"411 East Washington Street Ann Arbor, MI 48104\", \"502 North State Street Ann Arbor, MI 48104\", \"502 North State Street Ann Arbor, MI 48104\", \"502 North State Street Ann Arbor, MI 48104\", \"502 North State Street Ann Arbor, MI 48104\", \"411 East Washington Street Ann Arbor, MI 48104\", \"411 East Washington Street Ann Arbor, MI 48104\", \"411 East Washington Street Ann Arbor, MI 48104\", \"411 East Washington Street Ann Arbor, MI 48104\", \"210 North State Street Ann Arbor, MI 48104\", \"210 North State Street Ann Arbor, MI 48104\", \"210 North State Street Ann Arbor, MI 48104\", \"210 North State Street Ann Arbor, MI 48104\", \"425 East Washington Street Ann Arbor, MI 48104\", \"425 East Washington Street Ann Arbor, MI 48104\", \"425 East Washington Street Ann Arbor, MI 48104\", \"425 East Washington Street Ann Arbor, MI 48104\", \"425 East Washington Street Ann Arbor, MI 48104\", \"425 East Washington Street Ann Arbor, MI 48104\", \"603 E Huron St Ann Arbor, MI 48104\", \"603 E Huron St Ann Arbor, MI 48104\", \"603 E Huron St Ann Arbor, MI 48104\", \"603 E Huron St Ann Arbor, MI 48104\", \"603 E Huron St Ann Arbor, MI 48104\", \"603 E Huron St Ann Arbor, MI 48104\", \"Ann Arbor, MI 48104\", \"Ann Arbor, MI 48104\", \"Ann Arbor, MI 48104\", \"Ann Arbor, MI 48104\", \"Ann Arbor, MI 48104\", \"Ann Arbor, MI 48104\", \"813 East Kingsley Street Ann Arbor, MI 48104\", \"813 East Kingsley Street Ann Arbor, MI 48104\", \"813 East Kingsley Street Ann Arbor, MI 48104\", \"813 East Kingsley Street Ann Arbor, MI 48104\", \"Ann Arbor, MI 48104\", \"Ann Arbor, MI 48104\", \"Ann Arbor, MI 48104\", \"Ann Arbor, MI 48104\", \"413 East Huron Street Ann Arbor, MI 48104\", \"413 East Huron Street Ann Arbor, MI 48104\", \"413 East Huron Street Ann Arbor, MI 48104\", \"413 East Huron Street Ann Arbor, MI 48104\", \"413 East Huron Street Ann Arbor, MI 48104\", \"413 East Huron Street Ann Arbor, MI 48104\", \"425 East Washington Street Ann Arbor, MI 48104\", \"425 East Washington Street Ann Arbor, MI 48104\", \"425 East Washington Street Ann Arbor, MI 48104\", \"425 East Washington Street Ann Arbor, MI 48104\", \"425 East Washington Street Ann Arbor, MI 48104\", \"425 East Washington Street Ann Arbor, MI 48104\", \"540 Detroit Street Ann Arbor, MI 48104\", \"540 Detroit Street Ann Arbor, MI 48104\", \"540 Detroit Street Ann Arbor, MI 48104\", \"540 Detroit Street Ann Arbor, MI 48104\", \"540 Detroit Street Ann Arbor, MI 48104\", \"540 Detroit Street Ann Arbor, MI 48104\", \"540 Detroit Street Ann Arbor, MI 48104\", \"540 Detroit Street Ann Arbor, MI 48104\", \"540 Detroit Street Ann Arbor, MI 48104\", \"540 Detroit Street Ann Arbor, MI 48104\", \"540 Detroit Street Ann Arbor, MI 48104\", \"540 Detroit Street Ann Arbor, MI 48104\", \"540 Detroit Street Ann Arbor, MI 48104\", \"540 Detroit Street Ann Arbor, MI 48104\", \"603 East Huron Street Ann Arbor, MI 48104\", \"603 East Huron Street Ann Arbor, MI 48104\", \"603 East Huron Street Ann Arbor, MI 48104\", \"603 East Huron Street Ann Arbor, MI 48104\", \"603 East Huron Street Ann Arbor, MI 48104\", \"603 East Huron Street Ann Arbor, MI 48104\", \"413 East Huron Street Ann Arbor, MI 48104\", \"413 East Huron Street Ann Arbor, MI 48104\", \"413 East Huron Street Ann Arbor, MI 48104\", \"413 East Huron Street Ann Arbor, MI 48104\", \"413 East Huron Street Ann Arbor, MI 48104\", \"413 East Huron Street Ann Arbor, MI 48104\", \"544 North State Street Ann Arbor, MI 48104\", \"544 North State Street Ann Arbor, MI 48104\", \"544 North State Street Ann Arbor, MI 48104\", \"544 North State Street Ann Arbor, MI 48104\", \"544 North State Street Ann Arbor, MI 48104\", \"544 North State Street Ann Arbor, MI 48104\", \"719 North 4th Avenue Ann Arbor, MI 48104\", \"719 North 4th Avenue Ann Arbor, MI 48104\", \"719 North 4th Avenue Ann Arbor, MI 48104\", \"719 North 4th Avenue Ann Arbor, MI 48104\", \"719 North 4th Avenue Ann Arbor, MI 48104\", \"719 North 4th Avenue Ann Arbor, MI 48104\"], \"lat\": [42.2812782626, 42.2812782626, 42.2812782626, 42.2812782626, 42.2812782626, 42.2812782626, 42.2812782626, 42.2826902653, 42.2806341, 42.2806341, 42.2806341, 42.2806341, 42.2806341, 42.2814235, 42.2814235, 42.2814235, 42.2814235, 42.2814235, 42.2823642854, 42.2824433265, 42.2832735306, 42.2853217551, 42.2853217551, 42.2853217551, 42.2852226531, 42.2852226531, 42.2852226531, 42.2848064898, 42.2824653469, 42.2824653469, 42.2824653469, 42.2824653469, 42.2824653469, 42.2824653469, 42.2823646797, 42.2823646797, 42.2823646797, 42.2823646797, 42.2823646797, 42.2823646797, 42.2873812213, 42.2873812213, 42.2873812213, 42.2873812213, 42.2873812213, 42.2873812213, 42.2849348571, 42.2849348571, 42.2849348571, 42.2849348571, 42.2849348571, 42.2849348571, 42.2824842245, 42.2824842245, 42.2824842245, 42.2824842245, 42.2824842245, 42.2824842245, 42.2824974286, 42.2824974286, 42.2824974286, 42.2824974286, 42.2824974286, 42.2824974286, 42.28430925, 42.2838542857, 42.2838542857, 42.2838542857, 42.2838542857, 42.2838542857, 42.2838542857, 42.2877585833, 42.2877585833, 42.2877585833, 42.2877585833, 42.2854203482, 42.2854203482, 42.2854203482, 42.2854203482, 42.2859364, 42.2859364, 42.2859364, 42.2859364, 42.2804787, 42.2804787, 42.2804787, 42.2804787, 42.2824526735, 42.2824526735, 42.2824526735, 42.2824526735, 42.2814235, 42.2814235, 42.2814235, 42.2814235, 42.2862615557, 42.2862615557, 42.2862615557, 42.2862615557, 42.2804787, 42.2804787, 42.2804787, 42.2804787, 42.2681569, 42.2681569, 42.2681569, 42.2681569, 42.28377665, 42.28377665, 42.28377665, 42.28377665, 42.2681569, 42.2681569, 42.2681569, 42.2681569, 42.2681569, 42.2681569, 42.2681569, 42.2681569, 42.2815064898, 42.2815064898, 42.2815064898, 42.2815064898, 42.2848077143, 42.2848077143, 42.2848077143, 42.2848077143, 42.2806341, 42.2806341, 42.2806341, 42.2806341, 42.2804787, 42.2804787, 42.2804787, 42.2804787, 42.2850050216, 42.2850050216, 42.2850050216, 42.2850050216, 42.2804787, 42.2804787, 42.2804787, 42.2804787, 42.2824102041, 42.2824102041, 42.2824102041, 42.2824102041, 42.2806341, 42.2806341, 42.2806341, 42.2806341, 42.2806341, 42.2806341, 42.2812782626, 42.2812782626, 42.2812782626, 42.2812782626, 42.2812782626, 42.2812782626, 42.2681569, 42.2681569, 42.2681569, 42.2681569, 42.2681569, 42.2681569, 42.284977, 42.284977, 42.284977, 42.284977, 42.2681569, 42.2681569, 42.2681569, 42.2681569, 42.2814235, 42.2814235, 42.2814235, 42.2814235, 42.2814235, 42.2814235, 42.2806341, 42.2806341, 42.2806341, 42.2806341, 42.2806341, 42.2806341, 42.2854781937, 42.2854781937, 42.2854781937, 42.2854781937, 42.2854781937, 42.2854781937, 42.2854781937, 42.2854781937, 42.2854781937, 42.2854781937, 42.2854781937, 42.2854781937, 42.2854781937, 42.2854781937, 42.2812782626, 42.2812782626, 42.2812782626, 42.2812782626, 42.2812782626, 42.2812782626, 42.2814235, 42.2814235, 42.2814235, 42.2814235, 42.2814235, 42.2814235, 42.285667621, 42.285667621, 42.285667621, 42.285667621, 42.285667621, 42.285667621, 42.287008592, 42.287008592, 42.287008592, 42.287008592, 42.287008592, 42.287008592], \"legendgroup\": \"Old Fourth Ward\", \"lon\": [-83.7406910202, -83.7406910202, -83.7406910202, -83.7406910202, -83.7406910202, -83.7406910202, -83.7406910202, -83.7507644286, -83.7430253445, -83.7430253445, -83.7430253445, -83.7430253445, -83.7430253445, -83.7343719, -83.7343719, -83.7343719, -83.7343719, -83.7343719, -83.7427453151, -83.7408169592, -83.7408416122, -83.7494035714, -83.7494035714, -83.7494035714, -83.7494081429, -83.7494081429, -83.7494081429, -83.7479795102, -83.743635551, -83.743635551, -83.743635551, -83.743635551, -83.743635551, -83.743635551, -83.7427621288, -83.7427621288, -83.7427621288, -83.7427621288, -83.7427621288, -83.7427621288, -83.744603926, -83.744603926, -83.744603926, -83.744603926, -83.744603926, -83.744603926, -83.7467733061, -83.7467733061, -83.7467733061, -83.7467733061, -83.7467733061, -83.7467733061, -83.7458197143, -83.7458197143, -83.7458197143, -83.7458197143, -83.7458197143, -83.7458197143, -83.745819, -83.745819, -83.745819, -83.745819, -83.745819, -83.745819, -83.7407064694, -83.740681, -83.740681, -83.740681, -83.740681, -83.740681, -83.740681, -83.7505667324, -83.7505667324, -83.7505667324, -83.7505667324, -83.7408813722, -83.7408813722, -83.7408813722, -83.7408813722, -83.7391141409, -83.7391141409, -83.7391141409, -83.7391141409, -83.7434586, -83.7434586, -83.7434586, -83.7434586, -83.7438577755, -83.7438577755, -83.7438577755, -83.7438577755, -83.7343719, -83.7343719, -83.7343719, -83.7343719, -83.7397572565, -83.7397572565, -83.7397572565, -83.7397572565, -83.7434586, -83.7434586, -83.7434586, -83.7434586, -83.7312291, -83.7312291, -83.7312291, -83.7312291, -83.7388695539, -83.7388695539, -83.7388695539, -83.7388695539, -83.7312291, -83.7312291, -83.7312291, -83.7312291, -83.7312291, -83.7312291, -83.7312291, -83.7312291, -83.7385142653, -83.7385142653, -83.7385142653, -83.7385142653, -83.7480182857, -83.7480182857, -83.7480182857, -83.7480182857, -83.7430253445, -83.7430253445, -83.7430253445, -83.7430253445, -83.7434586, -83.7434586, -83.7434586, -83.7434586, -83.740893, -83.740893, -83.740893, -83.740893, -83.7434586, -83.7434586, -83.7434586, -83.7434586, -83.7408162245, -83.7408162245, -83.7408162245, -83.7408162245, -83.7430253445, -83.7430253445, -83.7430253445, -83.7430253445, -83.7430253445, -83.7430253445, -83.7406910202, -83.7406910202, -83.7406910202, -83.7406910202, -83.7406910202, -83.7406910202, -83.7312291, -83.7312291, -83.7312291, -83.7312291, -83.7312291, -83.7312291, -83.739296, -83.739296, -83.739296, -83.739296, -83.7312291, -83.7312291, -83.7312291, -83.7312291, -83.7343719, -83.7343719, -83.7343719, -83.7343719, -83.7343719, -83.7343719, -83.7430253445, -83.7430253445, -83.7430253445, -83.7430253445, -83.7430253445, -83.7430253445, -83.7443824857, -83.7443824857, -83.7443824857, -83.7443824857, -83.7443824857, -83.7443824857, -83.7443824857, -83.7443824857, -83.7443824857, -83.7443824857, -83.7443824857, -83.7443824857, -83.7443824857, -83.7443824857, -83.7406910202, -83.7406910202, -83.7406910202, -83.7406910202, -83.7406910202, -83.7406910202, -83.7343719, -83.7343719, -83.7343719, -83.7343719, -83.7343719, -83.7343719, -83.7408155797, -83.7408155797, -83.7408155797, -83.7408155797, -83.7408155797, -83.7408155797, -83.7467269807, -83.7467269807, -83.7467269807, -83.7467269807, -83.7467269807, -83.7467269807], \"marker\": {\"color\": \"#3283FE\"}, \"mode\": \"markers\", \"name\": \"Old Fourth Ward\", \"showlegend\": true, \"subplot\": \"mapbox\", \"type\": \"scattermapbox\"}, {\"customdata\": [[2200.0], [1570.0], [1175.0], [1447.5], [897.5], [900.0], [900.0], [900.0], [900.0], [900.0], [900.0], [900.0], [900.0], [977.5], [1000.0], [1000.0], [1000.0], [1000.0], [1000.0], [1000.0], [1045.0], [1499.0], [1095.0], [1895.0], [1125.0], [1125.0], [1125.0], [1145.0], [1145.0], [1195.0], [1295.0], [1295.0], [1295.0], [1295.0], [1295.0], [1295.0], [1295.0], [1625.0], [1845.0], [1525.0], [1675.0], [1825.0], [1850.0], [1600.0], [1649.0], [1762.5], [3795.0], [3995.0], [1740.0], [1865.0], [2495.0], [2696.0], [2895.0], [1760.0], [1760.0], [1760.0], [1760.0], [1760.0], [1760.0], [2150.0], [2150.0], [2150.0], [2150.0], [2150.0], [2150.0], [2150.0], [2150.0], [2150.0], [2900.0], [2900.0], [2900.0], [2900.0], [2900.0], [2900.0], [3600.0], [3600.0], [3600.0], [3600.0], [3600.0], [3600.0], [830.0], [830.0], [830.0], [830.0], [830.0], [830.0], [830.0], [830.0], [830.0], [830.0], [830.0], [830.0], [6400.0], [7600.0], [450.0], [450.0], [450.0], [450.0], [475.0], [475.0], [475.0], [475.0], [540.0], [540.0], [540.0], [540.0], [600.0], [600.0], [600.0], [600.0], [600.0], [600.0], [600.0], [600.0], [600.0], [600.0], [600.0], [600.0], [700.0], [700.0], [700.0], [700.0], [750.0], [750.0], [750.0], [750.0], [900.0], [900.0], [900.0], [900.0], [900.0], [900.0], [900.0], [900.0], [925.0], [925.0], [925.0], [925.0], [950.0], [950.0], [950.0], [950.0], [950.0], [950.0], [950.0], [950.0], [950.0], [950.0], [950.0], [950.0], [960.0], [960.0], [960.0], [960.0], [1100.0], [1100.0], [1100.0], [1100.0], [1100.0], [1100.0], [1350.0], [1350.0], [1350.0], [1350.0], [1350.0], [1350.0], [1400.0], [1400.0], [1400.0], [1400.0], [1400.0], [1400.0], [1450.0], [1450.0], [1450.0], [1450.0], [1450.0], [1450.0], [1950.0], [1950.0], [1950.0], [1950.0], [1950.0], [1950.0]], \"hoverlabel\": {\"namelength\": 0}, \"hovertemplate\": \"<b>%{hovertext}</b><br><br>neighborhood=Germantown<br>price=%{customdata[0]}<br>lat=%{lat}<br>lon=%{lon}\", \"hovertext\": [\"401 Thompson Street Ann Arbor, MI 48104\", \"401 Thompson Street Ann Arbor, MI 48104\", \"401 Thompson Street Ann Arbor, MI 48104\", \"350 Thompson Ann Arbor, MI 48104\", \"226 Packard Street Ann Arbor, MI 48104\", \"538 South 5th Avenue Ann Arbor, MI 48104\", \"538 South 5th Avenue Ann Arbor, MI 48104\", \"538 South 5th Avenue Ann Arbor, MI 48104\", \"538 South 5th Avenue Ann Arbor, MI 48104\", \"538 South 5th Avenue Ann Arbor, MI 48104\", \"538 South 5th Avenue Ann Arbor, MI 48104\", \"538 South 5th Avenue Ann Arbor, MI 48104\", \"538 South 5th Avenue Ann Arbor, MI 48104\", \"320 South Division Street #10 Ann Arbor, MI 48104\", \"328 East Jefferson Street Ann Arbor, MI 48104\", \"328 East Jefferson Street Ann Arbor, MI 48104\", \"328 East Jefferson Street Ann Arbor, MI 48104\", \"328 East Jefferson Street Ann Arbor, MI 48104\", \"328 East Jefferson Street Ann Arbor, MI 48104\", \"328 East Jefferson Street Ann Arbor, MI 48104\", \"554 S 5th Ave Ann Arbor, MI 48104\", \"554 S 5th Ave Ann Arbor, MI 48104\", \"536 S 4th Ave Ann Arbor, MI 48104\", \"536 S 4th Ave Ann Arbor, MI 48104\", \"551 S 4th Ave Ann Arbor, MI 48104\", \"551 S 4th Ave Ann Arbor, MI 48104\", \"551 S 4th Ave Ann Arbor, MI 48104\", \"553 S 4th Ave Ann Arbor, MI 48104\", \"553 S 4th Ave Ann Arbor, MI 48104\", \"553 S 4th Ave Ann Arbor, MI 48104\", \"414 S Division St Ann Arbor, MI 48104\", \"414 S Division St Ann Arbor, MI 48104\", \"414 S Division St Ann Arbor, MI 48104\", \"414 S Division St Ann Arbor, MI 48104\", \"414 S Division St Ann Arbor, MI 48104\", \"414 S Division St Ann Arbor, MI 48104\", \"527 S 4th Ave Ann Arbor, MI 48104\", \"527 S 4th Ave Ann Arbor, MI 48104\", \"527 S 4th Ave Ann Arbor, MI 48104\", \"555 East William Street Ann Arbor, MI 48104\", \"555 East William Street Ann Arbor, MI 48104\", \"555 East William Street Ann Arbor, MI 48104\", \"555 East William Street Ann Arbor, MI 48104\", \"400 Maynard Street Ann Arbor, MI 48103\", \"400 Maynard Street Ann Arbor, MI 48103\", \"400 Maynard Street Ann Arbor, MI 48103\", \"400 Maynard Street Ann Arbor, MI 48103\", \"400 Maynard Street Ann Arbor, MI 48103\", \"518 E William St Ann Arbor, MI 48104\", \"518 E William St Ann Arbor, MI 48104\", \"518 E William St Ann Arbor, MI 48104\", \"518 E William St Ann Arbor, MI 48104\", \"518 E William St Ann Arbor, MI 48104\", \"555 East William Street Ann Arbor, MI 48104-2426\", \"555 East William Street Ann Arbor, MI 48104-2426\", \"555 East William Street Ann Arbor, MI 48104-2426\", \"555 East William Street Ann Arbor, MI 48104-2426\", \"555 East William Street Ann Arbor, MI 48104-2426\", \"555 East William Street Ann Arbor, MI 48104-2426\", \"403 5th Ave Ann Arbor, MI 48104\", \"403 5th Ave Ann Arbor, MI 48104\", \"403 5th Ave Ann Arbor, MI 48104\", \"403 South 5th Avenue Ann Arbor, MI 48104\", \"403 South 5th Avenue Ann Arbor, MI 48104\", \"403 South 5th Avenue Ann Arbor, MI 48104\", \"403 South 5th Avenue Ann Arbor, MI 48104\", \"403 South 5th Avenue Ann Arbor, MI 48104\", \"403 South 5th Avenue Ann Arbor, MI 48104\", \"555 East William Street Apt 26 H-I Ann Arbor, MI 48104\", \"555 East William Street Apt 26 H-I Ann Arbor, MI 48104\", \"555 East William Street Apt 26 H-I Ann Arbor, MI 48104\", \"555 East William Street Apt 26 H-I Ann Arbor, MI 48104\", \"555 East William Street Apt 26 H-I Ann Arbor, MI 48104\", \"555 East William Street Apt 26 H-I Ann Arbor, MI 48104\", \"524 South 4th Avenue Ann Arbor, MI 48104\", \"524 South 4th Avenue Ann Arbor, MI 48104\", \"524 South 4th Avenue Ann Arbor, MI 48104\", \"524 South 4th Avenue Ann Arbor, MI 48104\", \"524 South 4th Avenue Ann Arbor, MI 48104\", \"524 South 4th Avenue Ann Arbor, MI 48104\", \"402 East Jefferson Street Ann Arbor, MI 48104\", \"402 East Jefferson Street Ann Arbor, MI 48104\", \"402 East Jefferson Street Ann Arbor, MI 48104\", \"402 East Jefferson Street Ann Arbor, MI 48104\", \"402 East Jefferson Street Ann Arbor, MI 48104\", \"402 East Jefferson Street Ann Arbor, MI 48104\", \"402 East Jefferson Street Ann Arbor, MI 48104\", \"402 East Jefferson Street Ann Arbor, MI 48104\", \"402 East Jefferson Street Ann Arbor, MI 48104\", \"402 East Jefferson Street Ann Arbor, MI 48104\", \"402 East Jefferson Street Ann Arbor, MI 48104\", \"402 East Jefferson Street Ann Arbor, MI 48104\", \"410 E William St Ann Arbor, MI 48104\", \"319 East Jefferson Street Ann Arbor, MI 48104\", \"512 South Division Street Ann Arbor, MI 48104\", \"512 South Division Street Ann Arbor, MI 48104\", \"512 South Division Street Ann Arbor, MI 48104\", \"512 South Division Street Ann Arbor, MI 48104\", \"321 South Division Street Ann Arbor, MI 48104\", \"321 South Division Street Ann Arbor, MI 48104\", \"321 South Division Street Ann Arbor, MI 48104\", \"321 South Division Street Ann Arbor, MI 48104\", \"401 Thompson Street Ann Arbor, MI 48104\", \"401 Thompson Street Ann Arbor, MI 48104\", \"401 Thompson Street Ann Arbor, MI 48104\", \"401 Thompson Street Ann Arbor, MI 48104\", \"Ann Arbor, MI 48104\", \"Ann Arbor, MI 48104\", \"Ann Arbor, MI 48104\", \"Ann Arbor, MI 48104\", \"Ann Arbor, MI 48104\", \"Ann Arbor, MI 48104\", \"Ann Arbor, MI 48104\", \"Ann Arbor, MI 48104\", \"Ann Arbor, MI 48104\", \"Ann Arbor, MI 48104\", \"Ann Arbor, MI 48104\", \"Ann Arbor, MI 48104\", \"350 Thompson Street Ann Arbor, MI 48104\", \"350 Thompson Street Ann Arbor, MI 48104\", \"350 Thompson Street Ann Arbor, MI 48104\", \"350 Thompson Street Ann Arbor, MI 48104\", \"307 Thompson Street Ann Arbor, MI 48104\", \"307 Thompson Street Ann Arbor, MI 48104\", \"307 Thompson Street Ann Arbor, MI 48104\", \"307 Thompson Street Ann Arbor, MI 48104\", \"401 Thompson Street Ann Arbor, MI 48104\", \"401 Thompson Street Ann Arbor, MI 48104\", \"401 Thompson Street Ann Arbor, MI 48104\", \"401 Thompson Street Ann Arbor, MI 48104\", \"Ann Arbor, MI 48104\", \"Ann Arbor, MI 48104\", \"Ann Arbor, MI 48104\", \"Ann Arbor, MI 48104\", \"401 South Division Street Ann Arbor, MI 48104\", \"401 South Division Street Ann Arbor, MI 48104\", \"401 South Division Street Ann Arbor, MI 48104\", \"401 South Division Street Ann Arbor, MI 48104\", \"317 East Jefferson Street Ann Arbor, MI 48104\", \"317 East Jefferson Street Ann Arbor, MI 48104\", \"317 East Jefferson Street Ann Arbor, MI 48104\", \"317 East Jefferson Street Ann Arbor, MI 48104\", \"Ann Arbor, MI 48104\", \"Ann Arbor, MI 48104\", \"Ann Arbor, MI 48104\", \"Ann Arbor, MI 48104\", \"508 South Division Street Ann Arbor, MI 48104\", \"508 South Division Street Ann Arbor, MI 48104\", \"508 South Division Street Ann Arbor, MI 48104\", \"508 South Division Street Ann Arbor, MI 48104\", \"311 Thompson Street Ann Arbor, MI 48104\", \"311 Thompson Street Ann Arbor, MI 48104\", \"311 Thompson Street Ann Arbor, MI 48104\", \"311 Thompson Street Ann Arbor, MI 48104\", \"220 Packard Street Ann Arbor, MI 48104\", \"220 Packard Street Ann Arbor, MI 48104\", \"220 Packard Street Ann Arbor, MI 48104\", \"220 Packard Street Ann Arbor, MI 48104\", \"220 Packard Street Ann Arbor, MI 48104\", \"220 Packard Street Ann Arbor, MI 48104\", \"555 East William Street Apt. 12B Ann Arbor, MI 48104\", \"555 East William Street Apt. 12B Ann Arbor, MI 48104\", \"555 East William Street Apt. 12B Ann Arbor, MI 48104\", \"555 East William Street Apt. 12B Ann Arbor, MI 48104\", \"555 East William Street Apt. 12B Ann Arbor, MI 48104\", \"555 East William Street Apt. 12B Ann Arbor, MI 48104\", \"332 South Division Street Ann Arbor, MI 48104\", \"332 South Division Street Ann Arbor, MI 48104\", \"332 South Division Street Ann Arbor, MI 48104\", \"332 South Division Street Ann Arbor, MI 48104\", \"332 South Division Street Ann Arbor, MI 48104\", \"332 South Division Street Ann Arbor, MI 48104\", \"555 East William Street Ann Arbor, MI 48104\", \"555 East William Street Ann Arbor, MI 48104\", \"555 East William Street Ann Arbor, MI 48104\", \"555 East William Street Ann Arbor, MI 48104\", \"555 East William Street Ann Arbor, MI 48104\", \"555 East William Street Ann Arbor, MI 48104\", \"332 South Division Street Ann Arbor, MI 48104\", \"332 South Division Street Ann Arbor, MI 48104\", \"332 South Division Street Ann Arbor, MI 48104\", \"332 South Division Street Ann Arbor, MI 48104\", \"332 South Division Street Ann Arbor, MI 48104\", \"332 South Division Street Ann Arbor, MI 48104\"], \"lat\": [42.27763425, 42.27763425, 42.27763425, 42.27818315, 42.2759186122, 42.27496695, 42.27496695, 42.27496695, 42.27496695, 42.27496695, 42.27496695, 42.27496695, 42.27496695, 42.27875505, 42.27598235, 42.27598235, 42.27598235, 42.27598235, 42.27598235, 42.27598235, 42.2744802, 42.2744802, 42.2749744, 42.2749744, 42.27446795, 42.27446795, 42.27446795, 42.27437705, 42.27437705, 42.27437705, 42.27728135, 42.27728135, 42.27728135, 42.27728135, 42.27728135, 42.27728135, 42.275148, 42.275148, 42.275148, 42.2780156, 42.2780156, 42.2780156, 42.2780156, 42.2776215, 42.2776215, 42.2776215, 42.2776215, 42.2776215, 42.2777291, 42.2777291, 42.2777291, 42.2777291, 42.2777291, 42.2780156, 42.2780156, 42.2780156, 42.2780156, 42.2780156, 42.2780156, 42.2834285, 42.2834285, 42.2834285, 42.2777207143, 42.2777207143, 42.2777207143, 42.2777207143, 42.2777207143, 42.2777207143, 42.2780156, 42.2780156, 42.2780156, 42.2780156, 42.2780156, 42.2780156, 42.27525635, 42.27525635, 42.27525635, 42.27525635, 42.27525635, 42.27525635, 42.2759991, 42.2759991, 42.2759991, 42.2759991, 42.2759991, 42.2759991, 42.2759991, 42.2759991, 42.2759991, 42.2759991, 42.2759991, 42.2759991, 42.2776451, 42.27646555, 42.27570685, 42.27570685, 42.27570685, 42.27570685, 42.2786804, 42.2786804, 42.2786804, 42.2786804, 42.27763425, 42.27763425, 42.27763425, 42.27763425, 42.2681569, 42.2681569, 42.2681569, 42.2681569, 42.2681569, 42.2681569, 42.2681569, 42.2681569, 42.2681569, 42.2681569, 42.2681569, 42.2681569, 42.27818315, 42.27818315, 42.27818315, 42.27818315, 42.2792214286, 42.2792214286, 42.2792214286, 42.2792214286, 42.27763425, 42.27763425, 42.27763425, 42.27763425, 42.2681569, 42.2681569, 42.2681569, 42.2681569, 42.277698, 42.277698, 42.277698, 42.277698, 42.2764317, 42.2764317, 42.2764317, 42.2764317, 42.2681569, 42.2681569, 42.2681569, 42.2681569, 42.27582215, 42.27582215, 42.27582215, 42.27582215, 42.2791677143, 42.2791677143, 42.2791677143, 42.2791677143, 42.2755723, 42.2755723, 42.2755723, 42.2755723, 42.2755723, 42.2755723, 42.2780156, 42.2780156, 42.2780156, 42.2780156, 42.2780156, 42.2780156, 42.2783781, 42.2783781, 42.2783781, 42.2783781, 42.2783781, 42.2783781, 42.2780156, 42.2780156, 42.2780156, 42.2780156, 42.2780156, 42.2780156, 42.2783781, 42.2783781, 42.2783781, 42.2783781, 42.2783781, 42.2783781], \"legendgroup\": \"Germantown\", \"lon\": [-83.7429352602, -83.7429352602, -83.7429352602, -83.7434466361, -83.7472002857, -83.7465825157, -83.7465825157, -83.7465825157, -83.7465825157, -83.7465825157, -83.7465825157, -83.7465825157, -83.7465825157, -83.7444522088, -83.7449858004, -83.7449858004, -83.7449858004, -83.7449858004, -83.7449858004, -83.7449858004, -83.7466344, -83.7466344, -83.7478372, -83.7478372, -83.7472366839, -83.7472366839, -83.7472366839, -83.7473452515, -83.7473452515, -83.7473452515, -83.7444433108, -83.7444433108, -83.7444433108, -83.7444433108, -83.7444433108, -83.7444433108, -83.7472926247, -83.7472926247, -83.7472926247, -83.7423668957, -83.7423668957, -83.7423668957, -83.7423668957, -83.742253763, -83.742253763, -83.742253763, -83.742253763, -83.742253763, -83.7423622, -83.7423622, -83.7423622, -83.7423622, -83.7423622, -83.7423668957, -83.7423668957, -83.7423668957, -83.7423668957, -83.7423668957, -83.7423668957, -83.5179413, -83.5179413, -83.5179413, -83.7460804286, -83.7460804286, -83.7460804286, -83.7460804286, -83.7460804286, -83.7460804286, -83.7423668957, -83.7423668957, -83.7423668957, -83.7423668957, -83.7423668957, -83.7423668957, -83.7478206732, -83.7478206732, -83.7478206732, -83.7478206732, -83.7478206732, -83.7478206732, -83.74402375, -83.74402375, -83.74402375, -83.74402375, -83.74402375, -83.74402375, -83.74402375, -83.74402375, -83.74402375, -83.74402375, -83.74402375, -83.74402375, -83.7437300246, -83.7453838331, -83.7445470857, -83.7445470857, -83.7445470857, -83.7445470857, -83.7437447249, -83.7437447249, -83.7437447249, -83.7437447249, -83.7429352602, -83.7429352602, -83.7429352602, -83.7429352602, -83.7312291, -83.7312291, -83.7312291, -83.7312291, -83.7312291, -83.7312291, -83.7312291, -83.7312291, -83.7312291, -83.7312291, -83.7312291, -83.7312291, -83.7434466361, -83.7434466361, -83.7434466361, -83.7434466361, -83.7431442857, -83.7431442857, -83.7431442857, -83.7431442857, -83.7429352602, -83.7429352602, -83.7429352602, -83.7429352602, -83.7312291, -83.7312291, -83.7312291, -83.7312291, -83.744002, -83.744002, -83.744002, -83.744002, -83.7455542663, -83.7455542663, -83.7455542663, -83.7455542663, -83.7312291, -83.7312291, -83.7312291, -83.7312291, -83.7445171983, -83.7445171983, -83.7445171983, -83.7445171983, -83.7431431429, -83.7431431429, -83.7431431429, -83.7431431429, -83.7469095464, -83.7469095464, -83.7469095464, -83.7469095464, -83.7469095464, -83.7469095464, -83.7423668957, -83.7423668957, -83.7423668957, -83.7423668957, -83.7423668957, -83.7423668957, -83.7443992739, -83.7443992739, -83.7443992739, -83.7443992739, -83.7443992739, -83.7443992739, -83.7423668957, -83.7423668957, -83.7423668957, -83.7423668957, -83.7423668957, -83.7423668957, -83.7443992739, -83.7443992739, -83.7443992739, -83.7443992739, -83.7443992739, -83.7443992739], \"marker\": {\"color\": \"#85660D\"}, \"mode\": \"markers\", \"name\": \"Germantown\", \"showlegend\": true, \"subplot\": \"mapbox\", \"type\": \"scattermapbox\"}, {\"customdata\": [[1305.0], [1567.5], [1642.5], [1500.0], [1500.0], [1500.0], [1500.0], [1500.0], [1575.0], [1650.0], [1650.0], [1650.0], [1650.0], [1650.0], [1650.0], [1650.0], [1650.0], [1650.0], [1650.0], [1650.0], [1650.0], [1650.0], [1650.0], [1650.0], [1650.0], [500.0], [500.0], [500.0], [500.0], [675.0], [675.0], [675.0], [675.0], [1025.0], [1295.0], [1695.0], [1045.0], [1195.0], [1245.0], [1175.0], [1250.0], [1250.0], [1425.0], [1450.0], [1325.0], [1695.0], [1795.0], [1345.0], [1550.0], [1365.0], [1365.0], [1365.0], [1365.0], [1365.0], [1365.0], [1395.0], [1565.0], [1595.0], [1475.0], [1525.0], [1575.0], [1575.0], [1550.0], [1550.0], [1550.0], [1550.0], [1550.0], [1550.0], [1675.0], [1675.0], [1675.0], [1675.0], [1675.0], [1675.0], [1695.0], [1749.0], [1895.0], [945.0], [945.0], [945.0], [945.0], [2500.0], [2500.0], [2500.0], [2500.0], [2500.0], [2500.0], [650.0], [650.0], [650.0], [650.0], [650.0], [650.0], [650.0], [650.0], [675.0], [675.0], [675.0], [675.0], [752.0], [752.0], [752.0], [752.0], [760.0], [760.0], [760.0], [760.0], [800.0], [800.0], [800.0], [800.0], [850.0], [850.0], [850.0], [850.0], [500.0], [500.0], [500.0], [500.0], [1100.0], [1100.0], [1100.0], [1100.0], [1100.0], [1100.0], [1200.0], [1200.0], [1200.0], [1200.0], [1200.0], [1200.0], [1285.0], [1285.0], [1285.0], [1285.0], [1285.0], [1285.0], [1295.0], [1295.0], [1295.0], [1295.0], [1295.0], [1295.0], [1395.0], [1395.0], [1395.0], [1395.0], [1395.0], [1395.0], [1450.0], [1450.0], [1450.0], [1450.0], [1450.0], [1450.0], [1750.0], [1750.0], [1750.0], [1750.0], [1750.0], [1750.0], [600.0], [600.0], [600.0], [600.0], [1850.0], [1850.0], [1850.0], [1850.0], [1850.0], [1850.0], [2000.0], [2000.0], [2000.0], [2000.0], [2000.0], [2000.0], [2900.0], [2900.0], [2900.0], [2900.0], [2900.0], [2900.0], [750.0], [750.0], [750.0], [750.0], [750.0], [750.0], [750.0], [750.0], [750.0], [750.0], [750.0], [750.0]], \"hoverlabel\": {\"namelength\": 0}, \"hovertemplate\": \"<b>%{hovertext}</b><br><br>neighborhood=Old West Side<br>price=%{customdata[0]}<br>lat=%{lat}<br>lon=%{lon}\", \"hovertext\": [\"545 Landings Boulevard Ann Arbor, MI 48103\", \"545 Landings Boulevard Ann Arbor, MI 48103\", \"545 Landings Boulevard Ann Arbor, MI 48103\", \"801 Miller Ann Arbor, MI 48103\", \"801 Miller Ann Arbor, MI 48103\", \"801 Miller Ann Arbor, MI 48103\", \"801 Miller Ann Arbor, MI 48103\", \"801 Miller Ann Arbor, MI 48103\", \"810 West Huron Street Ann Arbor, MI 48103\", \"545 N. State Street Ann Arbor, MI 48104\", \"545 N. State Street Ann Arbor, MI 48104\", \"545 N. State Street Ann Arbor, MI 48104\", \"545 N. State Street Ann Arbor, MI 48104\", \"545 N. State Street Ann Arbor, MI 48104\", \"545 N. State Street Ann Arbor, MI 48104\", \"545 N. State Street Ann Arbor, MI 48104\", \"545 N. State Street Ann Arbor, MI 48104\", \"545 N. State Street Ann Arbor, MI 48104\", \"545 N. State Street Ann Arbor, MI 48104\", \"545 N. State Street Ann Arbor, MI 48104\", \"545 N. State Street Ann Arbor, MI 48104\", \"545 N. State Street Ann Arbor, MI 48104\", \"545 N. State Street Ann Arbor, MI 48104\", \"545 N. State Street Ann Arbor, MI 48104\", \"545 N. State Street Ann Arbor, MI 48104\", \"1652 N. Maple Rd Ann Arbor, MI 48103\", \"1652 N. Maple Rd Ann Arbor, MI 48103\", \"1652 N. Maple Rd Ann Arbor, MI 48103\", \"1652 N. Maple Rd Ann Arbor, MI 48103\", \"610 Revena Place Ann Arbor, MI 48103\", \"610 Revena Place Ann Arbor, MI 48103\", \"610 Revena Place Ann Arbor, MI 48103\", \"610 Revena Place Ann Arbor, MI 48103\", \"324 E Jefferson St Ann Arbor, MI 48104\", \"324 E Jefferson St Ann Arbor, MI 48104\", \"324 E Jefferson St Ann Arbor, MI 48104\", \"805 Spring St Ann Arbor, MI 48103\", \"805 Spring St Ann Arbor, MI 48103\", \"805 Spring St Ann Arbor, MI 48103\", \"1000 W Huron St Ann Arbor, MI 48103\", \"1000 W Huron St Ann Arbor, MI 48103\", \"1000 W Huron St Ann Arbor, MI 48103\", \"1000 W Huron St Ann Arbor, MI 48103\", \"1000 W Huron St Ann Arbor, MI 48103\", \"809 W Madison St Ann Arbor, MI 48103\", \"809 W Madison St Ann Arbor, MI 48103\", \"809 W Madison St Ann Arbor, MI 48103\", \"923 S 7th St Ann Arbor, MI 48103\", \"923 S 7th St Ann Arbor, MI 48103\", \"1103 West Huron Street Ann Arbor, MI 48103\", \"1103 West Huron Street Ann Arbor, MI 48103\", \"1103 West Huron Street Ann Arbor, MI 48103\", \"1103 West Huron Street Ann Arbor, MI 48103\", \"1103 West Huron Street Ann Arbor, MI 48103\", \"1103 West Huron Street Ann Arbor, MI 48103\", \"723 W Madison St Ann Arbor, MI 48103\", \"723 W Madison St Ann Arbor, MI 48103\", \"723 W Madison St Ann Arbor, MI 48103\", \"1117 W Huron St Ann Arbor, MI 48103\", \"1117 W Huron St Ann Arbor, MI 48103\", \"1117 W Huron St Ann Arbor, MI 48103\", \"1117 W Huron St Ann Arbor, MI 48103\", \"1734 Abbott Avenue Ann Arbor, MI 48103\", \"1734 Abbott Avenue Ann Arbor, MI 48103\", \"1734 Abbott Avenue Ann Arbor, MI 48103\", \"1734 Abbott Avenue Ann Arbor, MI 48103\", \"1734 Abbott Avenue Ann Arbor, MI 48103\", \"1734 Abbott Avenue Ann Arbor, MI 48103\", \"428 South First St. Apt. 1 Ann Arbor, MI 48103\", \"428 South First St. Apt. 1 Ann Arbor, MI 48103\", \"428 South First St. Apt. 1 Ann Arbor, MI 48103\", \"428 South First St. Apt. 1 Ann Arbor, MI 48103\", \"428 South First St. Apt. 1 Ann Arbor, MI 48103\", \"428 South First St. Apt. 1 Ann Arbor, MI 48103\", \"442 3rd St Ann Arbor, MI 48103\", \"442 3rd St Ann Arbor, MI 48103\", \"442 3rd St Ann Arbor, MI 48103\", \"1421 West Huron Street Ann Arbor, MI 48103\", \"1421 West Huron Street Ann Arbor, MI 48103\", \"1421 West Huron Street Ann Arbor, MI 48103\", \"1421 West Huron Street Ann Arbor, MI 48103\", \"215 Buena Vista Avenue Ann Arbor, MI 48103\", \"215 Buena Vista Avenue Ann Arbor, MI 48103\", \"215 Buena Vista Avenue Ann Arbor, MI 48103\", \"215 Buena Vista Avenue Ann Arbor, MI 48103\", \"215 Buena Vista Avenue Ann Arbor, MI 48103\", \"215 Buena Vista Avenue Ann Arbor, MI 48103\", \"River Birch Circle Ann Arbor, MI 48103\", \"River Birch Circle Ann Arbor, MI 48103\", \"River Birch Circle Ann Arbor, MI 48103\", \"River Birch Circle Ann Arbor, MI 48103\", \"1082 Rabbit Run Circle Ann Arbor, MI 48103\", \"1082 Rabbit Run Circle Ann Arbor, MI 48103\", \"1082 Rabbit Run Circle Ann Arbor, MI 48103\", \"1082 Rabbit Run Circle Ann Arbor, MI 48103\", \"Ann Arbor, MI 48103\", \"Ann Arbor, MI 48103\", \"Ann Arbor, MI 48103\", \"Ann Arbor, MI 48103\", \"Ann Arbor, MI 48103\", \"Ann Arbor, MI 48103\", \"Ann Arbor, MI 48103\", \"Ann Arbor, MI 48103\", \"6655 Jackson Road #270 Ann Arbor, MI 48103\", \"6655 Jackson Road #270 Ann Arbor, MI 48103\", \"6655 Jackson Road #270 Ann Arbor, MI 48103\", \"6655 Jackson Road #270 Ann Arbor, MI 48103\", \"Ann Arbor, MI 48103\", \"Ann Arbor, MI 48103\", \"Ann Arbor, MI 48103\", \"Ann Arbor, MI 48103\", \"341 Payeur Road Ann Arbor, MI 48108\", \"341 Payeur Road Ann Arbor, MI 48108\", \"341 Payeur Road Ann Arbor, MI 48108\", \"341 Payeur Road Ann Arbor, MI 48108\", \"441 South 1st Street Ann Arbor, MI 48103\", \"441 South 1st Street Ann Arbor, MI 48103\", \"441 South 1st Street Ann Arbor, MI 48103\", \"441 South 1st Street Ann Arbor, MI 48103\", \"1113 Elder Boulevard Ann Arbor, MI 48103\", \"1113 Elder Boulevard Ann Arbor, MI 48103\", \"1113 Elder Boulevard Ann Arbor, MI 48103\", \"1113 Elder Boulevard Ann Arbor, MI 48103\", \"1113 Elder Boulevard Ann Arbor, MI 48103\", \"1113 Elder Boulevard Ann Arbor, MI 48103\", \"123 Allen Drive Ann Arbor, MI 48103\", \"123 Allen Drive Ann Arbor, MI 48103\", \"123 Allen Drive Ann Arbor, MI 48103\", \"123 Allen Drive Ann Arbor, MI 48103\", \"123 Allen Drive Ann Arbor, MI 48103\", \"123 Allen Drive Ann Arbor, MI 48103\", \"213 W Mosley St Ann Arbor, MI 48103\", \"213 W Mosley St Ann Arbor, MI 48103\", \"213 W Mosley St Ann Arbor, MI 48103\", \"213 W Mosley St Ann Arbor, MI 48103\", \"213 W Mosley St Ann Arbor, MI 48103\", \"213 W Mosley St Ann Arbor, MI 48103\", \"431 / 433 South 1st Street Ann Arbor, MI 48103\", \"431 / 433 South 1st Street Ann Arbor, MI 48103\", \"431 / 433 South 1st Street Ann Arbor, MI 48103\", \"431 / 433 South 1st Street Ann Arbor, MI 48103\", \"431 / 433 South 1st Street Ann Arbor, MI 48103\", \"431 / 433 South 1st Street Ann Arbor, MI 48103\", \"1109 Elder Boulevard Ann Arbor, MI 48103\", \"1109 Elder Boulevard Ann Arbor, MI 48103\", \"1109 Elder Boulevard Ann Arbor, MI 48103\", \"1109 Elder Boulevard Ann Arbor, MI 48103\", \"1109 Elder Boulevard Ann Arbor, MI 48103\", \"1109 Elder Boulevard Ann Arbor, MI 48103\", \"515 3rd Street Ann Arbor, MI 48103\", \"515 3rd Street Ann Arbor, MI 48103\", \"515 3rd Street Ann Arbor, MI 48103\", \"515 3rd Street Ann Arbor, MI 48103\", \"515 3rd Street Ann Arbor, MI 48103\", \"515 3rd Street Ann Arbor, MI 48103\", \"415 South Revena Boulevard Ann Arbor, MI 48103\", \"415 South Revena Boulevard Ann Arbor, MI 48103\", \"415 South Revena Boulevard Ann Arbor, MI 48103\", \"415 South Revena Boulevard Ann Arbor, MI 48103\", \"415 South Revena Boulevard Ann Arbor, MI 48103\", \"415 South Revena Boulevard Ann Arbor, MI 48103\", \"1007 Fountain Street Ann Arbor, MI 48103\", \"1007 Fountain Street Ann Arbor, MI 48103\", \"1007 Fountain Street Ann Arbor, MI 48103\", \"1007 Fountain Street Ann Arbor, MI 48103\", \"Ann Arbor, MI 48103\", \"Ann Arbor, MI 48103\", \"Ann Arbor, MI 48103\", \"Ann Arbor, MI 48103\", \"Ann Arbor, MI 48103\", \"Ann Arbor, MI 48103\", \"515 3rd Street Ann Arbor, MI 48103\", \"515 3rd Street Ann Arbor, MI 48103\", \"515 3rd Street Ann Arbor, MI 48103\", \"515 3rd Street Ann Arbor, MI 48103\", \"515 3rd Street Ann Arbor, MI 48103\", \"515 3rd Street Ann Arbor, MI 48103\", \"5731 Villa France Avenue Ann Arbor, MI 48103\", \"5731 Villa France Avenue Ann Arbor, MI 48103\", \"5731 Villa France Avenue Ann Arbor, MI 48103\", \"5731 Villa France Avenue Ann Arbor, MI 48103\", \"5731 Villa France Avenue Ann Arbor, MI 48103\", \"5731 Villa France Avenue Ann Arbor, MI 48103\", \"808 Hutchins Avenue Ann Arbor, MI 48103\", \"808 Hutchins Avenue Ann Arbor, MI 48103\", \"808 Hutchins Avenue Ann Arbor, MI 48103\", \"808 Hutchins Avenue Ann Arbor, MI 48103\", \"808 Hutchins Avenue Ann Arbor, MI 48103\", \"808 Hutchins Avenue Ann Arbor, MI 48103\", \"808 Hutchins Avenue Ann Arbor, MI 48103\", \"808 Hutchins Avenue Ann Arbor, MI 48103\", \"808 Hutchins Avenue Ann Arbor, MI 48103\", \"808 Hutchins Avenue Ann Arbor, MI 48103\", \"808 Hutchins Avenue Ann Arbor, MI 48103\", \"808 Hutchins Avenue Ann Arbor, MI 48103\"], \"lat\": [42.289421439, 42.289421439, 42.289421439, 42.28543, 42.28543, 42.28543, 42.28543, 42.28543, 42.2819181, 42.285684858, 42.285684858, 42.285684858, 42.285684858, 42.285684858, 42.285684858, 42.285684858, 42.285684858, 42.285684858, 42.285684858, 42.285684858, 42.285684858, 42.285684858, 42.285684858, 42.285684858, 42.285684858, 42.2965271408, 42.2965271408, 42.2965271408, 42.2965271408, 42.2863163227, 42.2863163227, 42.2863163227, 42.2863163227, 42.27600075, 42.27600075, 42.27600075, 42.289168794, 42.289168794, 42.289168794, 42.2814717, 42.2814717, 42.2814717, 42.2814717, 42.2814717, 42.27363885, 42.27363885, 42.27363885, 42.269207, 42.269207, 42.2814717, 42.2814717, 42.2814717, 42.2814717, 42.2814717, 42.2814717, 42.2736558, 42.2736558, 42.2736558, 42.2814717, 42.2814717, 42.2814717, 42.2814717, 42.2801204242, 42.2801204242, 42.2801204242, 42.2801204242, 42.2801204242, 42.2801204242, 42.2769605, 42.2769605, 42.2769605, 42.2769605, 42.2769605, 42.2769605, 42.27653915, 42.27653915, 42.27653915, 42.281876, 42.281876, 42.281876, 42.281876, 42.2806483095, 42.2806483095, 42.2806483095, 42.2806483095, 42.2806483095, 42.2806483095, 42.288358, 42.288358, 42.288358, 42.288358, 42.2702052099, 42.2702052099, 42.2702052099, 42.2702052099, 42.2681569, 42.2681569, 42.2681569, 42.2681569, 42.2681569, 42.2681569, 42.2681569, 42.2681569, 42.2914887807, 42.2914887807, 42.2914887807, 42.2914887807, 42.2681569, 42.2681569, 42.2681569, 42.2681569, 42.2072951886, 42.2072951886, 42.2072951886, 42.2072951886, 42.27660575, 42.27660575, 42.27660575, 42.27660575, 42.2755171745, 42.2755171745, 42.2755171745, 42.2755171745, 42.2755171745, 42.2755171745, 42.2819152205, 42.2819152205, 42.2819152205, 42.2819152205, 42.2819152205, 42.2819152205, 42.272702661, 42.272702661, 42.272702661, 42.272702661, 42.272702661, 42.272702661, 42.2774169388, 42.2774169388, 42.2774169388, 42.2774169388, 42.2774169388, 42.2774169388, 42.2755173221, 42.2755173221, 42.2755173221, 42.2755173221, 42.2755173221, 42.2755173221, 42.2754825, 42.2754825, 42.2754825, 42.2754825, 42.2754825, 42.2754825, 42.2789908571, 42.2789908571, 42.2789908571, 42.2789908571, 42.2789908571, 42.2789908571, 42.2909968517, 42.2909968517, 42.2909968517, 42.2909968517, 42.2681569, 42.2681569, 42.2681569, 42.2681569, 42.2681569, 42.2681569, 42.2754825, 42.2754825, 42.2754825, 42.2754825, 42.2754825, 42.2754825, 42.2777075075, 42.2777075075, 42.2777075075, 42.2777075075, 42.2777075075, 42.2777075075, 42.2715328608, 42.2715328608, 42.2715328608, 42.2715328608, 42.2715328608, 42.2715328608, 42.2715328608, 42.2715328608, 42.2715328608, 42.2715328608, 42.2715328608, 42.2715328608], \"legendgroup\": \"Old West Side\", \"lon\": [-83.7955349024, -83.7955349024, -83.7955349024, -83.756963, -83.756963, -83.756963, -83.756963, -83.756963, -83.7570555988, -83.7410432463, -83.7410432463, -83.7410432463, -83.7410432463, -83.7410432463, -83.7410432463, -83.7410432463, -83.7410432463, -83.7410432463, -83.7410432463, -83.7410432463, -83.7410432463, -83.7410432463, -83.7410432463, -83.7410432463, -83.7410432463, -83.7808641282, -83.7808641282, -83.7808641282, -83.7808641282, -83.7658428006, -83.7658428006, -83.7658428006, -83.7658428006, -83.74516835, -83.74516835, -83.74516835, -83.7526333367, -83.7526333367, -83.7526333367, -83.7498708, -83.7498708, -83.7498708, -83.7498708, -83.7498708, -83.7577590244, -83.7577590244, -83.7577590244, -83.758191, -83.758191, -83.7498708, -83.7498708, -83.7498708, -83.7498708, -83.7498708, -83.7498708, -83.7570255242, -83.7570255242, -83.7570255242, -83.7498708, -83.7498708, -83.7498708, -83.7498708, -83.7683518586, -83.7683518586, -83.7683518586, -83.7683518586, -83.7683518586, -83.7683518586, -83.7514003986, -83.7514003986, -83.7514003986, -83.7514003986, -83.7514003986, -83.7514003986, -83.75384065, -83.75384065, -83.75384065, -83.765228, -83.765228, -83.765228, -83.765228, -83.7619432019, -83.7619432019, -83.7619432019, -83.7619432019, -83.7619432019, -83.7619432019, -83.859535, -83.859535, -83.859535, -83.859535, -83.7890923915, -83.7890923915, -83.7890923915, -83.7890923915, -83.7312291, -83.7312291, -83.7312291, -83.7312291, -83.7312291, -83.7312291, -83.7312291, -83.7312291, -83.8600448922, -83.8600448922, -83.8600448922, -83.8600448922, -83.7312291, -83.7312291, -83.7312291, -83.7312291, -83.7321751743, -83.7321751743, -83.7321751743, -83.7321751743, -83.7508031, -83.7508031, -83.7508031, -83.7508031, -83.7611691678, -83.7611691678, -83.7611691678, -83.7611691678, -83.7611691678, -83.7611691678, -83.7720929435, -83.7720929435, -83.7720929435, -83.7720929435, -83.7720929435, -83.7720929435, -83.7508229153, -83.7508229153, -83.7508229153, -83.7508229153, -83.7508229153, -83.7508229153, -83.7509532857, -83.7509532857, -83.7509532857, -83.7509532857, -83.7509532857, -83.7509532857, -83.7611606174, -83.7611606174, -83.7611606174, -83.7611606174, -83.7611606174, -83.7611606174, -83.7532740749, -83.7532740749, -83.7532740749, -83.7532740749, -83.7532740749, -83.7532740749, -83.7654535714, -83.7654535714, -83.7654535714, -83.7654535714, -83.7654535714, -83.7654535714, -83.7542739056, -83.7542739056, -83.7542739056, -83.7542739056, -83.7312291, -83.7312291, -83.7312291, -83.7312291, -83.7312291, -83.7312291, -83.7532740749, -83.7532740749, -83.7532740749, -83.7532740749, -83.7532740749, -83.7532740749, -83.8404527971, -83.8404527971, -83.8404527971, -83.8404527971, -83.8404527971, -83.8404527971, -83.7571369792, -83.7571369792, -83.7571369792, -83.7571369792, -83.7571369792, -83.7571369792, -83.7571369792, -83.7571369792, -83.7571369792, -83.7571369792, -83.7571369792, -83.7571369792], \"marker\": {\"color\": \"#782AB6\"}, \"mode\": \"markers\", \"name\": \"Old West Side\", \"showlegend\": true, \"subplot\": \"mapbox\", \"type\": \"scattermapbox\"}, {\"customdata\": [[1232.5], [1470.0], [1482.5], [890.0], [1090.0], [1090.0], [1090.0], [1090.0], [1090.0], [1090.0], [1760.0], [1760.0], [1760.0], [1760.0], [1760.0], [1760.0], [1900.0], [1900.0], [1900.0], [1900.0], [1900.0], [1900.0], [3000.0], [3000.0], [3000.0], [3000.0], [3000.0], [3000.0], [336.0], [336.0], [336.0], [336.0], [500.0], [500.0], [500.0], [500.0], [550.0], [550.0], [550.0], [550.0], [650.0], [650.0], [650.0], [650.0], [659.5], [659.5], [659.5], [659.5], [659.5], [659.5], [659.5], [745.0], [745.0], [745.0], [745.0], [777.0], [777.0], [777.0], [777.0], [850.0], [850.0], [850.0], [850.0], [875.0], [875.0], [875.0], [875.0], [885.0], [885.0], [885.0], [885.0], [900.0], [900.0], [900.0], [900.0], [950.0], [950.0], [950.0], [950.0], [1000.0], [1000.0], [1000.0], [1000.0], [1000.0], [1000.0], [1150.0], [1150.0], [1150.0], [1150.0], [1150.0], [1150.0], [1358.0], [1358.0], [1358.0], [1358.0], [1358.0], [1358.0], [1369.0], [1369.0], [1369.0], [1369.0], [1369.0], [1369.0], [1549.0], [1549.0], [1549.0], [1549.0], [1549.0], [1549.0], [805.0], [805.0], [805.0], [805.0], [1800.0], [1800.0], [1800.0], [1800.0], [1800.0], [1800.0], [725.0], [725.0], [725.0], [725.0], [725.0], [725.0], [725.0], [725.0], [725.0], [725.0], [725.0], [725.0], [879.5], [879.5], [879.5], [879.5], [879.5], [879.5], [879.5], [879.5], [879.5], [879.5], [879.5], [879.5]], \"hoverlabel\": {\"namelength\": 0}, \"hovertemplate\": \"<b>%{hovertext}</b><br><br>neighborhood=North Campus<br>price=%{customdata[0]}<br>lat=%{lat}<br>lon=%{lon}\", \"hovertext\": [\"420 Kellogg Street Ann Arbor, MI 48105\", \"420 Kellogg Street Ann Arbor, MI 48105\", \"420 Kellogg Street Ann Arbor, MI 48105\", \"1780 Broadway Ann Arbor, MI 48105\", \"1556a Jones Drive Ann Arbor, MI 48105\", \"1556a Jones Drive Ann Arbor, MI 48105\", \"1556a Jones Drive Ann Arbor, MI 48105\", \"1556a Jones Drive Ann Arbor, MI 48105\", \"1556a Jones Drive Ann Arbor, MI 48105\", \"1556a Jones Drive Ann Arbor, MI 48105\", \"555 East William Street Ann Arbor, MI 48104\", \"555 East William Street Ann Arbor, MI 48104\", \"555 East William Street Ann Arbor, MI 48104\", \"555 East William Street Ann Arbor, MI 48104\", \"555 East William Street Ann Arbor, MI 48104\", \"555 East William Street Ann Arbor, MI 48104\", \"2741 Barclay Way Ann Arbor, MI 48105\", \"2741 Barclay Way Ann Arbor, MI 48105\", \"2741 Barclay Way Ann Arbor, MI 48105\", \"2741 Barclay Way Ann Arbor, MI 48105\", \"2741 Barclay Way Ann Arbor, MI 48105\", \"2741 Barclay Way Ann Arbor, MI 48105\", \"2250 Nixon Road Ann Arbor, MI 48105\", \"2250 Nixon Road Ann Arbor, MI 48105\", \"2250 Nixon Road Ann Arbor, MI 48105\", \"2250 Nixon Road Ann Arbor, MI 48105\", \"2250 Nixon Road Ann Arbor, MI 48105\", \"2250 Nixon Road Ann Arbor, MI 48105\", \"1929 Plymouth Road Ann Arbor, MI 48105\", \"1929 Plymouth Road Ann Arbor, MI 48105\", \"1929 Plymouth Road Ann Arbor, MI 48105\", \"1929 Plymouth Road Ann Arbor, MI 48105\", \"1929 Plymouth Road Ann Arbor, MI 48105\", \"1929 Plymouth Road Ann Arbor, MI 48105\", \"1929 Plymouth Road Ann Arbor, MI 48105\", \"1929 Plymouth Road Ann Arbor, MI 48105\", \"2200 Fuller Court Ann Arbor, MI 48105\", \"2200 Fuller Court Ann Arbor, MI 48105\", \"2200 Fuller Court Ann Arbor, MI 48105\", \"2200 Fuller Court Ann Arbor, MI 48105\", \"3890 Tremont Place Ann Arbor, MI 48105\", \"3890 Tremont Place Ann Arbor, MI 48105\", \"3890 Tremont Place Ann Arbor, MI 48105\", \"3890 Tremont Place Ann Arbor, MI 48105\", \"Ann Arbor, MI 48105\", \"Ann Arbor, MI 48105\", \"Ann Arbor, MI 48105\", \"Ann Arbor, MI 48105\", \"Ann Arbor, MI 48105\", \"Ann Arbor, MI 48105\", \"Ann Arbor, MI 48105\", \"2304 Leslie Circle Ann Arbor, MI 48105\", \"2304 Leslie Circle Ann Arbor, MI 48105\", \"2304 Leslie Circle Ann Arbor, MI 48105\", \"2304 Leslie Circle Ann Arbor, MI 48105\", \"1137 Nielsen Court Ann Arbor, MI 48105\", \"1137 Nielsen Court Ann Arbor, MI 48105\", \"1137 Nielsen Court Ann Arbor, MI 48105\", \"1137 Nielsen Court Ann Arbor, MI 48105\", \"1780 Broadway Street Ann Arbor, MI 48105\", \"1780 Broadway Street Ann Arbor, MI 48105\", \"1780 Broadway Street Ann Arbor, MI 48105\", \"1780 Broadway Street Ann Arbor, MI 48105\", \"1245 Island Drive #104 Ann Arbor, MI 48105\", \"1245 Island Drive #104 Ann Arbor, MI 48105\", \"1245 Island Drive #104 Ann Arbor, MI 48105\", \"1245 Island Drive #104 Ann Arbor, MI 48105\", \"1760 Broadway Street Ann Arbor, MI 48105\", \"1760 Broadway Street Ann Arbor, MI 48105\", \"1760 Broadway Street Ann Arbor, MI 48105\", \"1760 Broadway Street Ann Arbor, MI 48105\", \"1701 David Court Ann Arbor, MI 48105\", \"1701 David Court Ann Arbor, MI 48105\", \"1701 David Court Ann Arbor, MI 48105\", \"1701 David Court Ann Arbor, MI 48105\", \"1770 Broadway Street Ann Arbor, MI 48105\", \"1770 Broadway Street Ann Arbor, MI 48105\", \"1770 Broadway Street Ann Arbor, MI 48105\", \"1770 Broadway Street Ann Arbor, MI 48105\", \"Ridington Road Ann Arbor, MI 48105\", \"Ridington Road Ann Arbor, MI 48105\", \"Ridington Road Ann Arbor, MI 48105\", \"Ridington Road Ann Arbor, MI 48105\", \"Ridington Road Ann Arbor, MI 48105\", \"Ridington Road Ann Arbor, MI 48105\", \"Ann Arbor, MI 48105\", \"Ann Arbor, MI 48105\", \"Ann Arbor, MI 48105\", \"Ann Arbor, MI 48105\", \"Ann Arbor, MI 48105\", \"Ann Arbor, MI 48105\", \"Ann Arbor, MI 48105\", \"Ann Arbor, MI 48105\", \"Ann Arbor, MI 48105\", \"Ann Arbor, MI 48105\", \"Ann Arbor, MI 48105\", \"Ann Arbor, MI 48105\", \"1115 Nielsen Court Ann Arbor, MI 48105\", \"1115 Nielsen Court Ann Arbor, MI 48105\", \"1115 Nielsen Court Ann Arbor, MI 48105\", \"1115 Nielsen Court Ann Arbor, MI 48105\", \"1115 Nielsen Court Ann Arbor, MI 48105\", \"1115 Nielsen Court Ann Arbor, MI 48105\", \"Ann Arbor, MI 48105\", \"Ann Arbor, MI 48105\", \"Ann Arbor, MI 48105\", \"Ann Arbor, MI 48105\", \"Ann Arbor, MI 48105\", \"Ann Arbor, MI 48105\", \"Ann Arbor, MI 48105\", \"Ann Arbor, MI 48105\", \"Ann Arbor, MI 48105\", \"Ann Arbor, MI 48105\", \"3677 East Northfield Church Road Ann Arbor, MI 48105\", \"3677 East Northfield Church Road Ann Arbor, MI 48105\", \"3677 East Northfield Church Road Ann Arbor, MI 48105\", \"3677 East Northfield Church Road Ann Arbor, MI 48105\", \"3677 East Northfield Church Road Ann Arbor, MI 48105\", \"3677 East Northfield Church Road Ann Arbor, MI 48105\", \"3324 Bluett Road Ann Arbor, MI 48105\", \"3324 Bluett Road Ann Arbor, MI 48105\", \"3324 Bluett Road Ann Arbor, MI 48105\", \"3324 Bluett Road Ann Arbor, MI 48105\", \"3324 Bluett Road Ann Arbor, MI 48105\", \"3324 Bluett Road Ann Arbor, MI 48105\", \"3324 Bluett Road Ann Arbor, MI 48105\", \"3324 Bluett Road Ann Arbor, MI 48105\", \"3324 Bluett Road Ann Arbor, MI 48105\", \"3324 Bluett Road Ann Arbor, MI 48105\", \"3324 Bluett Road Ann Arbor, MI 48105\", \"3324 Bluett Road Ann Arbor, MI 48105\", \"1500 Gilbert Court Ann Arbor, MI 48105\", \"1500 Gilbert Court Ann Arbor, MI 48105\", \"1500 Gilbert Court Ann Arbor, MI 48105\", \"1500 Gilbert Court Ann Arbor, MI 48105\", \"1500 Gilbert Court Ann Arbor, MI 48105\", \"1500 Gilbert Court Ann Arbor, MI 48105\", \"1500 Gilbert Court Ann Arbor, MI 48105\", \"1500 Gilbert Court Ann Arbor, MI 48105\", \"1500 Gilbert Court Ann Arbor, MI 48105\", \"1500 Gilbert Court Ann Arbor, MI 48105\", \"1500 Gilbert Court Ann Arbor, MI 48105\", \"1500 Gilbert Court Ann Arbor, MI 48105\"], \"lat\": [42.293208775, 42.293208775, 42.293208775, 42.2952708, 42.295023693, 42.295023693, 42.295023693, 42.295023693, 42.295023693, 42.295023693, 42.2780156, 42.2780156, 42.2780156, 42.2780156, 42.2780156, 42.2780156, 42.3200425825, 42.3200425825, 42.3200425825, 42.3200425825, 42.3200425825, 42.3200425825, 42.3055732406, 42.3055732406, 42.3055732406, 42.3055732406, 42.3055732406, 42.3055732406, 42.3005709063, 42.3005709063, 42.3005709063, 42.3005709063, 42.3005709063, 42.3005709063, 42.3005709063, 42.3005709063, 42.2855644, 42.2855644, 42.2855644, 42.2855644, 42.2865893265, 42.2865893265, 42.2865893265, 42.2865893265, 42.2681569, 42.2681569, 42.2681569, 42.2681569, 42.2681569, 42.2681569, 42.2681569, 42.3090605573, 42.3090605573, 42.3090605573, 42.3090605573, 42.2894417822, 42.2894417822, 42.2894417822, 42.2894417822, 42.2952708, 42.2952708, 42.2952708, 42.2952708, 42.2908995994, 42.2908995994, 42.2908995994, 42.2908995994, 42.29690135, 42.29690135, 42.29690135, 42.29690135, 42.29906, 42.29906, 42.29906, 42.29906, 42.2960769, 42.2960769, 42.2960769, 42.2960769, 42.3154682, 42.3154682, 42.3154682, 42.3154682, 42.3154682, 42.3154682, 42.2681569, 42.2681569, 42.2681569, 42.2681569, 42.2681569, 42.2681569, 42.2681569, 42.2681569, 42.2681569, 42.2681569, 42.2681569, 42.2681569, 42.2890716355, 42.2890716355, 42.2890716355, 42.2890716355, 42.2890716355, 42.2890716355, 42.2681569, 42.2681569, 42.2681569, 42.2681569, 42.2681569, 42.2681569, 42.2681569, 42.2681569, 42.2681569, 42.2681569, 42.3599824732, 42.3599824732, 42.3599824732, 42.3599824732, 42.3599824732, 42.3599824732, 42.312563, 42.312563, 42.312563, 42.312563, 42.312563, 42.312563, 42.312563, 42.312563, 42.312563, 42.312563, 42.312563, 42.312563, 42.294879, 42.294879, 42.294879, 42.294879, 42.294879, 42.294879, 42.294879, 42.294879, 42.294879, 42.294879, 42.294879, 42.294879], \"legendgroup\": \"North Campus\", \"lon\": [-83.7412150471, -83.7412150471, -83.7412150471, -83.7213158052, -83.7311469183, -83.7311469183, -83.7311469183, -83.7311469183, -83.7311469183, -83.7311469183, -83.7423668957, -83.7423668957, -83.7423668957, -83.7423668957, -83.7423668957, -83.7423668957, -83.7043505371, -83.7043505371, -83.7043505371, -83.7043505371, -83.7043505371, -83.7043505371, -83.7074446529, -83.7074446529, -83.7074446529, -83.7074446529, -83.7074446529, -83.7074446529, -83.7158526761, -83.7158526761, -83.7158526761, -83.7158526761, -83.7158526761, -83.7158526761, -83.7158526761, -83.7158526761, -83.7176666, -83.7176666, -83.7176666, -83.7176666, -83.6860766939, -83.6860766939, -83.6860766939, -83.6860766939, -83.7312291, -83.7312291, -83.7312291, -83.7312291, -83.7312291, -83.7312291, -83.7312291, -83.7144652437, -83.7144652437, -83.7144652437, -83.7144652437, -83.7350741432, -83.7350741432, -83.7350741432, -83.7350741432, -83.7213158052, -83.7213158052, -83.7213158052, -83.7213158052, -83.7322281443, -83.7322281443, -83.7322281443, -83.7322281443, -83.721340119, -83.721340119, -83.721340119, -83.721340119, -83.731088, -83.731088, -83.731088, -83.731088, -83.7213455911, -83.7213455911, -83.7213455911, -83.7213455911, -83.7091094, -83.7091094, -83.7091094, -83.7091094, -83.7091094, -83.7091094, -83.7312291, -83.7312291, -83.7312291, -83.7312291, -83.7312291, -83.7312291, -83.7312291, -83.7312291, -83.7312291, -83.7312291, -83.7312291, -83.7312291, -83.7354210644, -83.7354210644, -83.7354210644, -83.7354210644, -83.7354210644, -83.7354210644, -83.7312291, -83.7312291, -83.7312291, -83.7312291, -83.7312291, -83.7312291, -83.7312291, -83.7312291, -83.7312291, -83.7312291, -83.6899277933, -83.6899277933, -83.6899277933, -83.6899277933, -83.6899277933, -83.6899277933, -83.693437, -83.693437, -83.693437, -83.693437, -83.693437, -83.693437, -83.693437, -83.693437, -83.693437, -83.693437, -83.693437, -83.693437, -83.726032, -83.726032, -83.726032, -83.726032, -83.726032, -83.726032, -83.726032, -83.726032, -83.726032, -83.726032, -83.726032, -83.726032], \"marker\": {\"color\": \"#565656\"}, \"mode\": \"markers\", \"name\": \"North Campus\", \"showlegend\": true, \"subplot\": \"mapbox\", \"type\": \"scattermapbox\"}, {\"customdata\": [[1488.5], [1506.0], [1631.0], [1945.5], [2045.5], [2925.0], [600.0], [600.0], [600.0], [600.0], [979.0], [999.0], [1318.0], [469.5], [469.5], [469.5], [469.5], [469.5], [469.5], [469.5], [820.0], [820.0], [820.0], [820.0], [995.0], [995.0], [995.0], [995.0], [445.0], [445.0], [445.0], [445.0], [1475.0], [1475.0], [1475.0], [1475.0], [1475.0], [1475.0], [3000.0], [3000.0], [3000.0], [3000.0], [3000.0], [3000.0]], \"hoverlabel\": {\"namelength\": 0}, \"hovertemplate\": \"<b>%{hovertext}</b><br><br>neighborhood=West Murfin<br>price=%{customdata[0]}<br>lat=%{lat}<br>lon=%{lon}\", \"hovertext\": [\"3400 Nixon Road Ann Arbor, MI 48105\", \"3400 Nixon Road Ann Arbor, MI 48105\", \"3400 Nixon Road Ann Arbor, MI 48105\", \"3400 Nixon Road Ann Arbor, MI 48105\", \"3400 Nixon Road Ann Arbor, MI 48105\", \"3400 Nixon Road Ann Arbor, MI 48105\", \"3660 Windemere Dr. Ann Arbor, MI 48105\", \"3660 Windemere Dr. Ann Arbor, MI 48105\", \"3660 Windemere Dr. Ann Arbor, MI 48105\", \"3660 Windemere Dr. Ann Arbor, MI 48105\", \"1819 Willowtree Lane Ann Arbor, MI 48105\", \"1819 Willowtree Lane Ann Arbor, MI 48105\", \"1819 Willowtree Lane Ann Arbor, MI 48105\", \"1923 Pointe Lane Ann Arbor, MI 48105\", \"1923 Pointe Lane Ann Arbor, MI 48105\", \"1923 Pointe Lane Ann Arbor, MI 48105\", \"1923 Pointe Lane Ann Arbor, MI 48105\", \"1923 Pointe Lane Ann Arbor, MI 48105\", \"1923 Pointe Lane Ann Arbor, MI 48105\", \"1923 Pointe Lane Ann Arbor, MI 48105\", \"1760 Broadway Street Ann Arbor, MI 48105\", \"1760 Broadway Street Ann Arbor, MI 48105\", \"1760 Broadway Street Ann Arbor, MI 48105\", \"1760 Broadway Street Ann Arbor, MI 48105\", \"Ann Arbor, MI 48105\", \"Ann Arbor, MI 48105\", \"Ann Arbor, MI 48105\", \"Ann Arbor, MI 48105\", \"1770 Broadway Street Ann Arbor, MI 48105\", \"1770 Broadway Street Ann Arbor, MI 48105\", \"1770 Broadway Street Ann Arbor, MI 48105\", \"1770 Broadway Street Ann Arbor, MI 48105\", \"1683 Broadway Street Ann Arbor, MI 48105\", \"1683 Broadway Street Ann Arbor, MI 48105\", \"1683 Broadway Street Ann Arbor, MI 48105\", \"1683 Broadway Street Ann Arbor, MI 48105\", \"1683 Broadway Street Ann Arbor, MI 48105\", \"1683 Broadway Street Ann Arbor, MI 48105\", \"2931 East Joy Road Ann Arbor, MI 48105\", \"2931 East Joy Road Ann Arbor, MI 48105\", \"2931 East Joy Road Ann Arbor, MI 48105\", \"2931 East Joy Road Ann Arbor, MI 48105\", \"2931 East Joy Road Ann Arbor, MI 48105\", \"2931 East Joy Road Ann Arbor, MI 48105\"], \"lat\": [42.3234075699, 42.3234075699, 42.3234075699, 42.3234075699, 42.3234075699, 42.3234075699, 42.2896656372, 42.2896656372, 42.2896656372, 42.2896656372, 42.2995747, 42.2995747, 42.2995747, 42.2998642938, 42.2998642938, 42.2998642938, 42.2998642938, 42.2998642938, 42.2998642938, 42.2998642938, 42.29690135, 42.29690135, 42.29690135, 42.29690135, 42.2681569, 42.2681569, 42.2681569, 42.2681569, 42.2960769, 42.2960769, 42.2960769, 42.2960769, 42.2905851, 42.2905851, 42.2905851, 42.2905851, 42.2905851, 42.2905851, 42.3448343528, 42.3448343528, 42.3448343528, 42.3448343528, 42.3448343528, 42.3448343528], \"legendgroup\": \"West Murfin\", \"lon\": [-83.7077361542, -83.7077361542, -83.7077361542, -83.7077361542, -83.7077361542, -83.7077361542, -83.6880580067, -83.6880580067, -83.6880580067, -83.6880580067, -83.717127, -83.717127, -83.717127, -83.7237773887, -83.7237773887, -83.7237773887, -83.7237773887, -83.7237773887, -83.7237773887, -83.7237773887, -83.721340119, -83.721340119, -83.721340119, -83.721340119, -83.7312291, -83.7312291, -83.7312291, -83.7312291, -83.7213455911, -83.7213455911, -83.7213455911, -83.7213455911, -83.7379483, -83.7379483, -83.7379483, -83.7379483, -83.7379483, -83.7379483, -83.7058231236, -83.7058231236, -83.7058231236, -83.7058231236, -83.7058231236, -83.7058231236], \"marker\": {\"color\": \"#1C8356\"}, \"mode\": \"markers\", \"name\": \"West Murfin\", \"showlegend\": true, \"subplot\": \"mapbox\", \"type\": \"scattermapbox\"}, {\"customdata\": [[1885.0], [2065.0], [2135.0], [1200.0], [1200.0], [1200.0], [1200.0], [1200.0], [1200.0], [800.0], [800.0], [800.0], [800.0], [800.0], [800.0], [800.0], [800.0], [800.0], [800.0], [800.0], [800.0], [1695.0], [1695.0], [1695.0], [1695.0], [1695.0], [1695.0], [1695.0], [1695.0], [1695.0], [1695.0], [1695.0], [1695.0], [1695.0], [1695.0], [1695.0], [1695.0], [1975.0], [1975.0], [1975.0], [1975.0], [1975.0], [1975.0], [2595.0], [2595.0], [2595.0], [2595.0], [2595.0], [2595.0], [2675.0], [2675.0], [2675.0], [2675.0], [2675.0], [2675.0], [3200.0], [3200.0], [3200.0], [3200.0], [3200.0], [3200.0], [3200.0], [3200.0], [3200.0], [3200.0], [3200.0], [3200.0], [4380.0], [4830.0], [4950.0], [4950.0], [4950.0], [4950.0], [4950.0], [4950.0], [400.0], [400.0], [400.0], [400.0], [550.0], [550.0], [550.0], [550.0], [600.0], [600.0], [600.0], [600.0], [600.0], [600.0], [600.0], [600.0], [600.0], [600.0], [600.0], [600.0], [650.0], [650.0], [650.0], [650.0], [700.0], [700.0], [700.0], [700.0], [750.0], [750.0], [750.0], [750.0], [875.0], [875.0], [875.0], [875.0], [875.0], [875.0], [875.0], [875.0], [875.0], [875.0], [875.0], [875.0], [500.0], [500.0], [500.0], [500.0], [1250.0], [1250.0], [1250.0], [1250.0], [1250.0], [1250.0], [1300.0], [1300.0], [1300.0], [1300.0], [1300.0], [1300.0], [1300.0], [1300.0], [1300.0], [1300.0], [1300.0], [1300.0], [1895.0], [1895.0], [1895.0], [1895.0], [1895.0], [1895.0], [2400.0], [2400.0], [2400.0], [2400.0], [2400.0], [2400.0], [3500.0], [3500.0], [3500.0], [3500.0], [3500.0], [3500.0], [4400.0], [4400.0], [4400.0], [4400.0], [4400.0], [4400.0]], \"hoverlabel\": {\"namelength\": 0}, \"hovertemplate\": \"<b>%{hovertext}</b><br><br>neighborhood=Yost<br>price=%{customdata[0]}<br>lat=%{lat}<br>lon=%{lon}\", \"hovertext\": [\"286 Rolling Meadows Drive Ann Arbor, MI 48103\", \"276 Rolling Meadows Dr. Ann Arbor, MI 48103\", \"296 Rolling Meadows Drive Ann Arbor, MI 48103\", \"1313 South State Street Ann Arbor, MI 48104\", \"1313 South State Street Ann Arbor, MI 48104\", \"1313 South State Street Ann Arbor, MI 48104\", \"1313 South State Street Ann Arbor, MI 48104\", \"1313 South State Street Ann Arbor, MI 48104\", \"1313 South State Street Ann Arbor, MI 48104\", \"2760 Page Ave Ann Arbor, MI 48104\", \"2760 Page Ave Ann Arbor, MI 48104\", \"2760 Page Ave Ann Arbor, MI 48104\", \"2760 Page Ave Ann Arbor, MI 48104\", \"2760 Page Ave Ann Arbor, MI 48104\", \"2760 Page Ave Ann Arbor, MI 48104\", \"2760 Page Ave Ann Arbor, MI 48104\", \"2760 Page Ave Ann Arbor, MI 48104\", \"2760 Page Ave Ann Arbor, MI 48104\", \"2760 Page Ave Ann Arbor, MI 48104\", \"2760 Page Ave Ann Arbor, MI 48104\", \"2760 Page Ave Ann Arbor, MI 48104\", \"1313 South State Street Ann Arbor, MI 48104\", \"1313 South State Street Ann Arbor, MI 48104\", \"1313 South State Street Ann Arbor, MI 48104\", \"1313 South State Street Ann Arbor, MI 48104\", \"1313 South State Street Ann Arbor, MI 48104\", \"1313 South State Street Ann Arbor, MI 48104\", \"1313 South State Street Ann Arbor, MI 48104\", \"1313 South State Street Ann Arbor, MI 48104\", \"1313 South State Street Ann Arbor, MI 48104\", \"1313 South State Street Ann Arbor, MI 48104\", \"1313 South State Street Ann Arbor, MI 48104\", \"1313 South State Street Ann Arbor, MI 48104\", \"1313 South State Street Ann Arbor, MI 48104\", \"1313 South State Street Ann Arbor, MI 48104\", \"1313 South State Street Ann Arbor, MI 48104\", \"1313 South State Street Ann Arbor, MI 48104\", \"117 W Oakbrook Dr Ann Arbor, MI 48103\", \"117 W Oakbrook Dr Ann Arbor, MI 48103\", \"117 W Oakbrook Dr Ann Arbor, MI 48103\", \"117 W Oakbrook Dr Ann Arbor, MI 48103\", \"117 W Oakbrook Dr Ann Arbor, MI 48103\", \"117 W Oakbrook Dr Ann Arbor, MI 48103\", \"2020 Bancroft Drive Ann Arbor, MI 48108\", \"2020 Bancroft Drive Ann Arbor, MI 48108\", \"2020 Bancroft Drive Ann Arbor, MI 48108\", \"2020 Bancroft Drive Ann Arbor, MI 48108\", \"2020 Bancroft Drive Ann Arbor, MI 48108\", \"2020 Bancroft Drive Ann Arbor, MI 48108\", \"2869 E Eisenhower Pkwy Ann Arbor, MI 48108\", \"2869 E Eisenhower Pkwy Ann Arbor, MI 48108\", \"2869 E Eisenhower Pkwy Ann Arbor, MI 48108\", \"2869 E Eisenhower Pkwy Ann Arbor, MI 48108\", \"2869 E Eisenhower Pkwy Ann Arbor, MI 48108\", \"2869 E Eisenhower Pkwy Ann Arbor, MI 48108\", \"1315 Sheehan Avenue Ann Arbor, MI 48104\", \"1315 Sheehan Avenue Ann Arbor, MI 48104\", \"1315 Sheehan Avenue Ann Arbor, MI 48104\", \"1315 Sheehan Avenue Ann Arbor, MI 48104\", \"1315 Sheehan Avenue Ann Arbor, MI 48104\", \"1315 Sheehan Avenue Ann Arbor, MI 48104\", \"909 Woodlawn Avenue Ann Arbor, MI 48104\", \"909 Woodlawn Avenue Ann Arbor, MI 48104\", \"909 Woodlawn Avenue Ann Arbor, MI 48104\", \"909 Woodlawn Avenue Ann Arbor, MI 48104\", \"909 Woodlawn Avenue Ann Arbor, MI 48104\", \"909 Woodlawn Avenue Ann Arbor, MI 48104\", \"903 Dewey Avenue Ann Arbor, MI 48104\", \"1501 South State Street Ann Arbor, MI 48104\", \"1315 South State Street Ann Arbor, MI 48104\", \"1315 South State Street Ann Arbor, MI 48104\", \"1315 South State Street Ann Arbor, MI 48104\", \"1315 South State Street Ann Arbor, MI 48104\", \"1315 South State Street Ann Arbor, MI 48104\", \"1315 South State Street Ann Arbor, MI 48104\", \"827 Sylvan Avenue Ann Arbor, MI 48104\", \"827 Sylvan Avenue Ann Arbor, MI 48104\", \"827 Sylvan Avenue Ann Arbor, MI 48104\", \"827 Sylvan Avenue Ann Arbor, MI 48104\", \"914 Sylvan Avenue Ann Arbor, MI 48104\", \"914 Sylvan Avenue Ann Arbor, MI 48104\", \"914 Sylvan Avenue Ann Arbor, MI 48104\", \"914 Sylvan Avenue Ann Arbor, MI 48104\", \"1915 Woodbury Drive Ann Arbor, MI 48104\", \"1915 Woodbury Drive Ann Arbor, MI 48104\", \"1915 Woodbury Drive Ann Arbor, MI 48104\", \"1915 Woodbury Drive Ann Arbor, MI 48104\", \"Ann Arbor, MI 48104\", \"Ann Arbor, MI 48104\", \"Ann Arbor, MI 48104\", \"Ann Arbor, MI 48104\", \"815 Dewey Avenue Ann Arbor, MI 48104\", \"815 Dewey Avenue Ann Arbor, MI 48104\", \"815 Dewey Avenue Ann Arbor, MI 48104\", \"815 Dewey Avenue Ann Arbor, MI 48104\", \"2123 Stone School Circle Ann Arbor, MI 48108\", \"2123 Stone School Circle Ann Arbor, MI 48108\", \"2123 Stone School Circle Ann Arbor, MI 48108\", \"2123 Stone School Circle Ann Arbor, MI 48108\", \"2123 Stone School Circle Ann Arbor, MI 48108\", \"2123 Stone School Circle Ann Arbor, MI 48108\", \"2123 Stone School Circle Ann Arbor, MI 48108\", \"2123 Stone School Circle Ann Arbor, MI 48108\", \"1018 Granger Avenue Ann Arbor, MI 48104\", \"1018 Granger Avenue Ann Arbor, MI 48104\", \"1018 Granger Avenue Ann Arbor, MI 48104\", \"1018 Granger Avenue Ann Arbor, MI 48104\", \"1220 White Street Ann Arbor, MI 48104\", \"1220 White Street Ann Arbor, MI 48104\", \"1220 White Street Ann Arbor, MI 48104\", \"1220 White Street Ann Arbor, MI 48104\", \"1220 White Street Ann Arbor, MI 48104\", \"1220 White Street Ann Arbor, MI 48104\", \"1220 White Street Ann Arbor, MI 48104\", \"1220 White Street Ann Arbor, MI 48104\", \"1220 White Street Ann Arbor, MI 48104\", \"1220 White Street Ann Arbor, MI 48104\", \"1220 White Street Ann Arbor, MI 48104\", \"1220 White Street Ann Arbor, MI 48104\", \"3 Metroview Court Ann Arbor, MI 48108\", \"3 Metroview Court Ann Arbor, MI 48108\", \"3 Metroview Court Ann Arbor, MI 48108\", \"3 Metroview Court Ann Arbor, MI 48108\", \"933 Dewey Avenue Ann Arbor, MI 48104\", \"933 Dewey Avenue Ann Arbor, MI 48104\", \"933 Dewey Avenue Ann Arbor, MI 48104\", \"933 Dewey Avenue Ann Arbor, MI 48104\", \"933 Dewey Avenue Ann Arbor, MI 48104\", \"933 Dewey Avenue Ann Arbor, MI 48104\", \"939 Dewey Avenue Ann Arbor, MI 48104\", \"939 Dewey Avenue Ann Arbor, MI 48104\", \"939 Dewey Avenue Ann Arbor, MI 48104\", \"939 Dewey Avenue Ann Arbor, MI 48104\", \"939 Dewey Avenue Ann Arbor, MI 48104\", \"939 Dewey Avenue Ann Arbor, MI 48104\", \"824 McKinley Avenue Ann Arbor, MI 48104\", \"824 McKinley Avenue Ann Arbor, MI 48104\", \"824 McKinley Avenue Ann Arbor, MI 48104\", \"824 McKinley Avenue Ann Arbor, MI 48104\", \"824 McKinley Avenue Ann Arbor, MI 48104\", \"824 McKinley Avenue Ann Arbor, MI 48104\", \"1406 White Street Ann Arbor, MI 48104\", \"1406 White Street Ann Arbor, MI 48104\", \"1406 White Street Ann Arbor, MI 48104\", \"1406 White Street Ann Arbor, MI 48104\", \"1406 White Street Ann Arbor, MI 48104\", \"1406 White Street Ann Arbor, MI 48104\", \"1710 South State Street Ann Arbor, MI 48104\", \"1710 South State Street Ann Arbor, MI 48104\", \"1710 South State Street Ann Arbor, MI 48104\", \"1710 South State Street Ann Arbor, MI 48104\", \"1710 South State Street Ann Arbor, MI 48104\", \"1710 South State Street Ann Arbor, MI 48104\", \"1507 White Street Ann Arbor, MI 48104\", \"1507 White Street Ann Arbor, MI 48104\", \"1507 White Street Ann Arbor, MI 48104\", \"1507 White Street Ann Arbor, MI 48104\", \"1507 White Street Ann Arbor, MI 48104\", \"1507 White Street Ann Arbor, MI 48104\", \"1213 S State St Ann Arbor, MI 48104\", \"1213 S State St Ann Arbor, MI 48104\", \"1213 S State St Ann Arbor, MI 48104\", \"1213 S State St Ann Arbor, MI 48104\", \"1213 S State St Ann Arbor, MI 48104\", \"1213 S State St Ann Arbor, MI 48104\"], \"lat\": [42.2502784414, 42.2504587463, 42.2500650836, 42.2655395321, 42.2655395321, 42.2655395321, 42.2655395321, 42.2655395321, 42.2655395321, 42.2491521469, 42.2491521469, 42.2491521469, 42.2491521469, 42.2491521469, 42.2491521469, 42.2491521469, 42.2491521469, 42.2491521469, 42.2491521469, 42.2491521469, 42.2491521469, 42.2655395321, 42.2655395321, 42.2655395321, 42.2655395321, 42.2655395321, 42.2655395321, 42.2655395321, 42.2655395321, 42.2655395321, 42.2655395321, 42.2655395321, 42.2655395321, 42.2655395321, 42.2655395321, 42.2655395321, 42.2655395321, 42.250493, 42.250493, 42.250493, 42.250493, 42.250493, 42.250493, 42.2365708636, 42.2365708636, 42.2365708636, 42.2365708636, 42.2365708636, 42.2365708636, 42.2452, 42.2452, 42.2452, 42.2452, 42.2452, 42.2452, 42.2654071667, 42.2654071667, 42.2654071667, 42.2654071667, 42.2654071667, 42.2654071667, 42.2651269697, 42.2651269697, 42.2651269697, 42.2651269697, 42.2651269697, 42.2651269697, 42.2659652449, 42.26232815, 42.2655101208, 42.2655101208, 42.2655101208, 42.2655101208, 42.2655101208, 42.2655101208, 42.26663545, 42.26663545, 42.26663545, 42.26663545, 42.2664439711, 42.2664439711, 42.2664439711, 42.2664439711, 42.2582384918, 42.2582384918, 42.2582384918, 42.2582384918, 42.2681569, 42.2681569, 42.2681569, 42.2681569, 42.2659415714, 42.2659415714, 42.2659415714, 42.2659415714, 42.2344499, 42.2344499, 42.2344499, 42.2344499, 42.2344499, 42.2344499, 42.2344499, 42.2344499, 42.2641725102, 42.2641725102, 42.2641725102, 42.2641725102, 42.2669442, 42.2669442, 42.2669442, 42.2669442, 42.2669442, 42.2669442, 42.2669442, 42.2669442, 42.2669442, 42.2669442, 42.2669442, 42.2669442, 42.2361386687, 42.2361386687, 42.2361386687, 42.2361386687, 42.2659839184, 42.2659839184, 42.2659839184, 42.2659839184, 42.2659839184, 42.2659839184, 42.2659876531, 42.2659876531, 42.2659876531, 42.2659876531, 42.2659876531, 42.2659876531, 42.2675658886, 42.2675658886, 42.2675658886, 42.2675658886, 42.2675658886, 42.2675658886, 42.2635946, 42.2635946, 42.2635946, 42.2635946, 42.2635946, 42.2635946, 42.2599459287, 42.2599459287, 42.2599459287, 42.2599459287, 42.2599459287, 42.2599459287, 42.262179551, 42.262179551, 42.262179551, 42.262179551, 42.262179551, 42.262179551, 42.26696255, 42.26696255, 42.26696255, 42.26696255, 42.26696255, 42.26696255], \"legendgroup\": \"Yost\", \"lon\": [-83.753296706, -83.7533898206, -83.7532905607, -83.7403439154, -83.7403439154, -83.7403439154, -83.7403439154, -83.7403439154, -83.7403439154, -83.7251584665, -83.7251584665, -83.7251584665, -83.7251584665, -83.7251584665, -83.7251584665, -83.7251584665, -83.7251584665, -83.7251584665, -83.7251584665, -83.7251584665, -83.7251584665, -83.7403439154, -83.7403439154, -83.7403439154, -83.7403439154, -83.7403439154, -83.7403439154, -83.7403439154, -83.7403439154, -83.7403439154, -83.7403439154, -83.7403439154, -83.7403439154, -83.7403439154, -83.7403439154, -83.7403439154, -83.7403439154, -83.7565457, -83.7565457, -83.7565457, -83.7565457, -83.7565457, -83.7565457, -83.7692187471, -83.7692187471, -83.7692187471, -83.7692187471, -83.7692187471, -83.7692187471, -83.725299271, -83.725299271, -83.725299271, -83.725299271, -83.725299271, -83.725299271, -83.7378831667, -83.7378831667, -83.7378831667, -83.7378831667, -83.7378831667, -83.7378831667, -83.7376961616, -83.7376961616, -83.7376961616, -83.7376961616, -83.7376961616, -83.7376961616, -83.7377900408, -83.7401493546, -83.7403419013, -83.7403419013, -83.7403419013, -83.7403419013, -83.7403419013, -83.7403419013, -83.7383354963, -83.7383354963, -83.7383354963, -83.7383354963, -83.7374910308, -83.7374910308, -83.7374910308, -83.7374910308, -83.7349997197, -83.7349997197, -83.7349997197, -83.7349997197, -83.7312291, -83.7312291, -83.7312291, -83.7312291, -83.738957, -83.738957, -83.738957, -83.738957, -83.7189487, -83.7189487, -83.7189487, -83.7189487, -83.7189487, -83.7189487, -83.7189487, -83.7189487, -83.7370290408, -83.7370290408, -83.7370290408, -83.7370290408, -83.7396059505, -83.7396059505, -83.7396059505, -83.7396059505, -83.7396059505, -83.7396059505, -83.7396059505, -83.7396059505, -83.7396059505, -83.7396059505, -83.7396059505, -83.7396059505, -83.7152986489, -83.7152986489, -83.7152986489, -83.7152986489, -83.7370406531, -83.7370406531, -83.7370406531, -83.7370406531, -83.7370406531, -83.7370406531, -83.7368907755, -83.7368907755, -83.7368907755, -83.7368907755, -83.7368907755, -83.7368907755, -83.7387321929, -83.7387321929, -83.7387321929, -83.7387321929, -83.7387321929, -83.7387321929, -83.7394785662, -83.7394785662, -83.7394785662, -83.7394785662, -83.7394785662, -83.7394785662, -83.7404729519, -83.7404729519, -83.7404729519, -83.7404729519, -83.7404729519, -83.7404729519, -83.7390762653, -83.7390762653, -83.7390762653, -83.7390762653, -83.7390762653, -83.7390762653, -83.7402558072, -83.7402558072, -83.7402558072, -83.7402558072, -83.7402558072, -83.7402558072], \"marker\": {\"color\": \"#16FF32\"}, \"mode\": \"markers\", \"name\": \"Yost\", \"showlegend\": true, \"subplot\": \"mapbox\", \"type\": \"scattermapbox\"}, {\"customdata\": [[2099.0], [1419.0], [999.0], [515.0], [515.0], [515.0], [515.0], [945.0], [1012.5], [1415.0], [1627.5], [990.0], [990.0], [990.0], [990.0], [1400.0], [1400.0], [1645.0], [1795.0], [1795.0], [1725.0], [2195.0], [2895.0], [2395.0], [2695.0], [1800.0], [1800.0], [1800.0], [1800.0], [1800.0], [1800.0], [1850.0], [1850.0], [1850.0], [1850.0], [1850.0], [1850.0], [2400.0], [2400.0], [2400.0], [2400.0], [2400.0], [2400.0], [2450.0], [2450.0], [2450.0], [2450.0], [2450.0], [2450.0], [450.0], [450.0], [450.0], [450.0], [450.0], [450.0], [450.0], [450.0], [450.0], [450.0], [450.0], [450.0], [600.0], [600.0], [600.0], [600.0], [650.0], [650.0], [650.0], [650.0], [690.0], [690.0], [690.0], [690.0], [700.0], [700.0], [700.0], [700.0], [700.0], [700.0], [700.0], [700.0], [700.0], [700.0], [700.0], [700.0], [800.0], [800.0], [800.0], [800.0], [819.0], [819.0], [819.0], [819.0], [900.0], [900.0], [900.0], [900.0], [935.0], [1067.5], [1087.5], [1505.0], [1475.0], [1475.0], [1475.0], [1475.0], [1475.0], [1475.0], [1500.0], [1750.0], [1500.0], [1500.0], [1500.0], [1500.0], [1500.0], [1500.0], [867.0], [867.0], [867.0], [867.0], [1800.0], [1800.0], [1800.0], [1800.0], [1800.0], [1800.0], [2800.0], [2800.0], [2800.0], [2800.0], [2800.0], [2800.0]], \"hoverlabel\": {\"namelength\": 0}, \"hovertemplate\": \"<b>%{hovertext}</b><br><br>neighborhood=Other Surrounding Areas<br>price=%{customdata[0]}<br>lat=%{lat}<br>lon=%{lon}\", \"hovertext\": [\"411 E. Washington St. Ann Arbor, MI 48104\", \"411 E. Washington St. Ann Arbor, MI 48104\", \"411 E. Washington St. Ann Arbor, MI 48104\", \"535 Skydale Drive Ann Arbor, MI 48105\", \"535 Skydale Drive Ann Arbor, MI 48105\", \"535 Skydale Drive Ann Arbor, MI 48105\", \"535 Skydale Drive Ann Arbor, MI 48105\", \"4854 Washtenaw Avenue Ann Arbor, MI 48108\", \"4854 Washtenaw Avenue Ann Arbor, MI 48108\", \"4854 Washtenaw Avenue Ann Arbor, MI 48108\", \"4854 Washtenaw Avenue Ann Arbor, MI 48108\", \"Ann Arbor, MI 48108\", \"Ann Arbor, MI 48108\", \"Ann Arbor, MI 48108\", \"Ann Arbor, MI 48108\", \"800-802 Fuller Street Ann Arbor, MI 48104\", \"800-802 Fuller Street Ann Arbor, MI 48104\", \"727 E Kingsley St Ann Arbor, MI 48104\", \"727 E Kingsley St Ann Arbor, MI 48104\", \"727 E Kingsley St Ann Arbor, MI 48104\", \"3300 Ann Arbor-Saline Road Ann Arbor, MI 48103\", \"3300 Ann Arbor-Saline Road Ann Arbor, MI 48103\", \"3300 Ann Arbor-Saline Road Ann Arbor, MI 48103\", \"3300 Ann Arbor-Saline Road Ann Arbor, MI 48103\", \"3300 Ann Arbor-Saline Road Ann Arbor, MI 48103\", \"Ann Arbor, MI 48103\", \"Ann Arbor, MI 48103\", \"Ann Arbor, MI 48103\", \"Ann Arbor, MI 48103\", \"Ann Arbor, MI 48103\", \"Ann Arbor, MI 48103\", \"1729 Coburn Court Ann Arbor, MI 48108\", \"1729 Coburn Court Ann Arbor, MI 48108\", \"1729 Coburn Court Ann Arbor, MI 48108\", \"1729 Coburn Court Ann Arbor, MI 48108\", \"1729 Coburn Court Ann Arbor, MI 48108\", \"1729 Coburn Court Ann Arbor, MI 48108\", \"8040 Huron Street Dexter, MI 48130\", \"8040 Huron Street Dexter, MI 48130\", \"8040 Huron Street Dexter, MI 48130\", \"8040 Huron Street Dexter, MI 48130\", \"8040 Huron Street Dexter, MI 48130\", \"8040 Huron Street Dexter, MI 48130\", \"1514 Ottawa Road Ann Arbor, MI 48105\", \"1514 Ottawa Road Ann Arbor, MI 48105\", \"1514 Ottawa Road Ann Arbor, MI 48105\", \"1514 Ottawa Road Ann Arbor, MI 48105\", \"1514 Ottawa Road Ann Arbor, MI 48105\", \"1514 Ottawa Road Ann Arbor, MI 48105\", \"4267 Knollcrest Drive Ann Arbor, MI 48108\", \"4267 Knollcrest Drive Ann Arbor, MI 48108\", \"4267 Knollcrest Drive Ann Arbor, MI 48108\", \"4267 Knollcrest Drive Ann Arbor, MI 48108\", \"4267 Knollcrest Drive Ann Arbor, MI 48108\", \"4267 Knollcrest Drive Ann Arbor, MI 48108\", \"4267 Knollcrest Drive Ann Arbor, MI 48108\", \"4267 Knollcrest Drive Ann Arbor, MI 48108\", \"4267 Knollcrest Drive Ann Arbor, MI 48108\", \"4267 Knollcrest Drive Ann Arbor, MI 48108\", \"4267 Knollcrest Drive Ann Arbor, MI 48108\", \"4267 Knollcrest Drive Ann Arbor, MI 48108\", \"6625 Park Road Ann Arbor, MI 48103\", \"6625 Park Road Ann Arbor, MI 48103\", \"6625 Park Road Ann Arbor, MI 48103\", \"6625 Park Road Ann Arbor, MI 48103\", \"415 Manor Dr Ann Arbor, MI 48105\", \"415 Manor Dr Ann Arbor, MI 48105\", \"415 Manor Dr Ann Arbor, MI 48105\", \"415 Manor Dr Ann Arbor, MI 48105\", \"Ann Arbor, MI 48104\", \"Ann Arbor, MI 48104\", \"Ann Arbor, MI 48104\", \"Ann Arbor, MI 48104\", \"Ann Arbor, MI 48103\", \"Ann Arbor, MI 48103\", \"Ann Arbor, MI 48103\", \"Ann Arbor, MI 48103\", \"275 Harbor Way Ann Arbor, MI 48103\", \"275 Harbor Way Ann Arbor, MI 48103\", \"275 Harbor Way Ann Arbor, MI 48103\", \"275 Harbor Way Ann Arbor, MI 48103\", \"1245 Island Drive APT 104 Ann Arbor, MI 48105\", \"1245 Island Drive APT 104 Ann Arbor, MI 48105\", \"1245 Island Drive APT 104 Ann Arbor, MI 48105\", \"1245 Island Drive APT 104 Ann Arbor, MI 48105\", \"7259 Streamwood Drive Ypsilanti, MI 48197\", \"7259 Streamwood Drive Ypsilanti, MI 48197\", \"7259 Streamwood Drive Ypsilanti, MI 48197\", \"7259 Streamwood Drive Ypsilanti, MI 48197\", \"3123 Woodland Hills Drive Ann Arbor, MI 48108\", \"3123 Woodland Hills Drive Ann Arbor, MI 48108\", \"3123 Woodland Hills Drive Ann Arbor, MI 48108\", \"3123 Woodland Hills Drive Ann Arbor, MI 48108\", \"2222 Fuller Court # 912 A Ann Arbor, MI 48105\", \"2222 Fuller Court # 912 A Ann Arbor, MI 48105\", \"2222 Fuller Court # 912 A Ann Arbor, MI 48105\", \"2222 Fuller Court # 912 A Ann Arbor, MI 48105\", \"306 Thompson St Ann Arbor, MI 48104\", \"306 Thompson St Ann Arbor, MI 48104\", \"306 Thompson St Ann Arbor, MI 48104\", \"306 Thompson St Ann Arbor, MI 48104\", \"516 Berkley Avenue Ann Arbor, MI 48103\", \"516 Berkley Avenue Ann Arbor, MI 48103\", \"516 Berkley Avenue Ann Arbor, MI 48103\", \"516 Berkley Avenue Ann Arbor, MI 48103\", \"516 Berkley Avenue Ann Arbor, MI 48103\", \"516 Berkley Avenue Ann Arbor, MI 48103\", \"820 Fuller St Ann Arbor, MI 48104\", \"820 Fuller St Ann Arbor, MI 48104\", \"5126 Green Knolls Lane Ann Arbor, MI 48103\", \"5126 Green Knolls Lane Ann Arbor, MI 48103\", \"5126 Green Knolls Lane Ann Arbor, MI 48103\", \"5126 Green Knolls Lane Ann Arbor, MI 48103\", \"5126 Green Knolls Lane Ann Arbor, MI 48103\", \"5126 Green Knolls Lane Ann Arbor, MI 48103\", \"1118 Nielsen Court Ann Arbor, MI 48105\", \"1118 Nielsen Court Ann Arbor, MI 48105\", \"1118 Nielsen Court Ann Arbor, MI 48105\", \"1118 Nielsen Court Ann Arbor, MI 48105\", \"530 Little Lake Drive Ann Arbor, MI 48103\", \"530 Little Lake Drive Ann Arbor, MI 48103\", \"530 Little Lake Drive Ann Arbor, MI 48103\", \"530 Little Lake Drive Ann Arbor, MI 48103\", \"530 Little Lake Drive Ann Arbor, MI 48103\", \"530 Little Lake Drive Ann Arbor, MI 48103\", \"1145 West Bemis Road Saline, MI 48176\", \"1145 West Bemis Road Saline, MI 48176\", \"1145 West Bemis Road Saline, MI 48176\", \"1145 West Bemis Road Saline, MI 48176\", \"1145 West Bemis Road Saline, MI 48176\", \"1145 West Bemis Road Saline, MI 48176\"], \"lat\": [42.2804787, 42.2804787, 42.2804787, 42.308428851, 42.308428851, 42.308428851, 42.308428851, 42.2673828, 42.2673828, 42.2673828, 42.2673828, 42.2681569, 42.2681569, 42.2681569, 42.2681569, 42.2862615557, 42.2862615557, 42.284972, 42.284972, 42.284972, 42.2389395133, 42.2389395133, 42.2389395133, 42.2389395133, 42.2389395133, 42.2681569, 42.2681569, 42.2681569, 42.2681569, 42.2681569, 42.2681569, 42.2383963221, 42.2383963221, 42.2383963221, 42.2383963221, 42.2383963221, 42.2383963221, 42.3407658737, 42.3407658737, 42.3407658737, 42.3407658737, 42.3407658737, 42.3407658737, 42.295596, 42.295596, 42.295596, 42.295596, 42.295596, 42.295596, 42.2394539805, 42.2394539805, 42.2394539805, 42.2394539805, 42.2394539805, 42.2394539805, 42.2394539805, 42.2394539805, 42.2394539805, 42.2394539805, 42.2394539805, 42.2394539805, 42.2798677073, 42.2798677073, 42.2798677073, 42.2798677073, 42.3051671273, 42.3051671273, 42.3051671273, 42.3051671273, 42.2681569, 42.2681569, 42.2681569, 42.2681569, 42.2681569, 42.2681569, 42.2681569, 42.2681569, 42.2488949, 42.2488949, 42.2488949, 42.2488949, 42.2908995994, 42.2908995994, 42.2908995994, 42.2908995994, 42.184536916, 42.184536916, 42.184536916, 42.184536916, 42.2426447399, 42.2426447399, 42.2426447399, 42.2426447399, 42.2864742585, 42.2864742585, 42.2864742585, 42.2864742585, 42.2792184286, 42.2792184286, 42.2792184286, 42.2792184286, 42.2658679796, 42.2658679796, 42.2658679796, 42.2658679796, 42.2658679796, 42.2658679796, 42.2859364, 42.2859364, 42.303076943, 42.303076943, 42.303076943, 42.303076943, 42.303076943, 42.303076943, 42.2892420543, 42.2892420543, 42.2892420543, 42.2892420543, 42.2798371837, 42.2798371837, 42.2798371837, 42.2798371837, 42.2798371837, 42.2798371837, 42.1701064, 42.1701064, 42.1701064, 42.1701064, 42.1701064, 42.1701064], \"legendgroup\": \"Other Surrounding Areas\", \"lon\": [-83.7434586, -83.7434586, -83.7434586, -83.737038367, -83.737038367, -83.737038367, -83.737038367, -83.7216294, -83.7216294, -83.7216294, -83.7216294, -83.7312291, -83.7312291, -83.7312291, -83.7312291, -83.7397572565, -83.7397572565, -83.739668, -83.739668, -83.739668, -83.7717185703, -83.7717185703, -83.7717185703, -83.7717185703, -83.7717185703, -83.7312291, -83.7312291, -83.7312291, -83.7312291, -83.7312291, -83.7312291, -83.7636401876, -83.7636401876, -83.7636401876, -83.7636401876, -83.7636401876, -83.7636401876, -83.8813815943, -83.8813815943, -83.8813815943, -83.8813815943, -83.8813815943, -83.8813815943, -83.7400097143, -83.7400097143, -83.7400097143, -83.7400097143, -83.7400097143, -83.7400097143, -83.6750390353, -83.6750390353, -83.6750390353, -83.6750390353, -83.6750390353, -83.6750390353, -83.6750390353, -83.6750390353, -83.6750390353, -83.6750390353, -83.6750390353, -83.6750390353, -83.8643716338, -83.8643716338, -83.8643716338, -83.8643716338, -83.739314618, -83.739314618, -83.739314618, -83.739314618, -83.7312291, -83.7312291, -83.7312291, -83.7312291, -83.7312291, -83.7312291, -83.7312291, -83.7312291, -83.7472690373, -83.7472690373, -83.7472690373, -83.7472690373, -83.7322281443, -83.7322281443, -83.7322281443, -83.7322281443, -83.6094896058, -83.6094896058, -83.6094896058, -83.6094896058, -83.6729641662, -83.6729641662, -83.6729641662, -83.6729641662, -83.7178504267, -83.7178504267, -83.7178504267, -83.7178504267, -83.7433662857, -83.7433662857, -83.7433662857, -83.7433662857, -83.7530770612, -83.7530770612, -83.7530770612, -83.7530770612, -83.7530770612, -83.7530770612, -83.7391141409, -83.7391141409, -83.8302205246, -83.8302205246, -83.8302205246, -83.8302205246, -83.8302205246, -83.8302205246, -83.7355522219, -83.7355522219, -83.7355522219, -83.7355522219, -83.816930551, -83.816930551, -83.816930551, -83.816930551, -83.816930551, -83.816930551, -83.7693358, -83.7693358, -83.7693358, -83.7693358, -83.7693358, -83.7693358], \"marker\": {\"color\": \"#F7E1A0\"}, \"mode\": \"markers\", \"name\": \"Other Surrounding Areas\", \"showlegend\": true, \"subplot\": \"mapbox\", \"type\": \"scattermapbox\"}, {\"customdata\": [[2184.5], [1545.0], [1417.5], [1450.0], [1199.0], [750.0], [750.0], [750.0], [750.0], [750.0], [750.0], [750.0], [750.0], [750.0], [750.0], [750.0], [750.0], [762.5], [762.5], [762.5], [762.5], [762.5], [762.5], [762.5], [762.5], [762.5], [762.5], [762.5], [762.5], [850.0], [5100.0], [5100.0], [995.0], [995.0], [995.0], [995.0], [1095.0], [1245.0], [1325.0], [1345.0], [1100.0], [1100.0], [1100.0], [1100.0], [1100.0], [1100.0], [1145.0], [1195.0], [1295.0], [1350.0], [1350.0], [1350.0], [1350.0], [1350.0], [1350.0], [1350.0], [1350.0], [1350.0], [1350.0], [1350.0], [1350.0], [1350.0], [1350.0], [1350.0], [1350.0], [1425.0], [1425.0], [1745.0], [1450.0], [2995.0], [2995.0], [2995.0], [2995.0], [2995.0], [2995.0], [4900.0], [5200.0], [11500.0], [12500.0], [14250.0], [15000.0], [1.0], [1.0], [350.0], [350.0], [350.0], [350.0], [650.0], [650.0], [650.0], [650.0], [650.0], [650.0], [650.0], [650.0], [650.0], [650.0], [650.0], [650.0], [600.0], [600.0], [600.0], [600.0], [650.0], [650.0], [650.0], [650.0], [660.0], [660.0], [660.0], [660.0], [425.0], [425.0], [425.0], [425.0], [425.0], [425.0], [425.0], [425.0], [425.0], [425.0], [425.0], [425.0], [865.0], [865.0], [865.0], [865.0], [1025.0], [1025.0], [1025.0], [1025.0], [1025.0], [1025.0], [1045.0], [1045.0], [1045.0], [1045.0], [1045.0], [1045.0], [1120.0], [1120.0], [1120.0], [1120.0], [1120.0], [1120.0], [1125.0], [1125.0], [1125.0], [1125.0], [1125.0], [1125.0], [1425.0], [1425.0], [1425.0], [1425.0], [1425.0], [1425.0], [1950.0], [1950.0], [1950.0], [1950.0], [1950.0], [1950.0], [2000.0], [2000.0], [2000.0], [2000.0], [2000.0], [2000.0], [2475.0], [2475.0], [2475.0], [2475.0], [2475.0], [2475.0], [2700.0], [2700.0], [2700.0], [2700.0], [2700.0], [2700.0], [500.0], [500.0], [500.0], [500.0], [4750.0], [4750.0], [5100.0], [5100.0], [5100.0], [5100.0], [5100.0], [5100.0]], \"hoverlabel\": {\"namelength\": 0}, \"hovertemplate\": \"<b>%{hovertext}</b><br><br>neighborhood=East Packard<br>price=%{customdata[0]}<br>lat=%{lat}<br>lon=%{lon}\", \"hovertext\": [\"624 Church Street Ann Arbor, MI 48104\", \"624 Church Street Ann Arbor, MI 48104\", \"624 Church Street Ann Arbor, MI 48104\", \"624 Church Street Ann Arbor, MI 48104\", \"624 Church Street Ann Arbor, MI 48104\", \"620 South State Street Ann Arbor, MI 48104\", \"620 South State Street Ann Arbor, MI 48104\", \"620 South State Street Ann Arbor, MI 48104\", \"620 South State Street Ann Arbor, MI 48104\", \"620 South State Street Ann Arbor, MI 48104\", \"620 South State Street Ann Arbor, MI 48104\", \"620 South State Street Ann Arbor, MI 48104\", \"620 South State Street Ann Arbor, MI 48104\", \"620 South State Street Ann Arbor, MI 48104\", \"620 South State Street Ann Arbor, MI 48104\", \"620 South State Street Ann Arbor, MI 48104\", \"620 South State Street Ann Arbor, MI 48104\", \"604 South State Street Ann Arbor, MI 48104\", \"604 South State Street Ann Arbor, MI 48104\", \"604 South State Street Ann Arbor, MI 48104\", \"604 South State Street Ann Arbor, MI 48104\", \"604 South State Street Ann Arbor, MI 48104\", \"604 South State Street Ann Arbor, MI 48104\", \"604 South State Street Ann Arbor, MI 48104\", \"604 South State Street Ann Arbor, MI 48104\", \"604 South State Street Ann Arbor, MI 48104\", \"604 South State Street Ann Arbor, MI 48104\", \"604 South State Street Ann Arbor, MI 48104\", \"604 South State Street Ann Arbor, MI 48104\", \"741 Packard Street Ann Arbor, MI 48104\", \"741 Packard Street Ann Arbor, MI 48104\", \"741 Packard Street Ann Arbor, MI 48104\", \"904 South State Street Ann Arbor, MI 48104\", \"904 South State Street Ann Arbor, MI 48104\", \"904 South State Street Ann Arbor, MI 48104\", \"904 South State Street Ann Arbor, MI 48104\", \"618 Packard St Ann Arbor, MI 48104\", \"618 Packard St Ann Arbor, MI 48104\", \"618 Packard St Ann Arbor, MI 48104\", \"618 Packard St Ann Arbor, MI 48104\", \"402 Hill Street Ann Arbor, MI 48104\", \"402 Hill Street Ann Arbor, MI 48104\", \"402 Hill Street Ann Arbor, MI 48104\", \"402 Hill Street Ann Arbor, MI 48104\", \"402 Hill Street Ann Arbor, MI 48104\", \"402 Hill Street Ann Arbor, MI 48104\", \"624 Packard St Ann Arbor, MI 48104\", \"624 Packard St Ann Arbor, MI 48104\", \"624 Packard St Ann Arbor, MI 48104\", \"1355 King George Blvd Ann Arbor, MI 48108\", \"1355 King George Blvd Ann Arbor, MI 48108\", \"1355 King George Blvd Ann Arbor, MI 48108\", \"1355 King George Blvd Ann Arbor, MI 48108\", \"1355 King George Blvd Ann Arbor, MI 48108\", \"1355 King George Blvd Ann Arbor, MI 48108\", \"1355 King George Blvd Ann Arbor, MI 48108\", \"1355 King George Blvd Ann Arbor, MI 48108\", \"1355 King George Blvd Ann Arbor, MI 48108\", \"1355 King George Blvd Ann Arbor, MI 48108\", \"1355 King George Blvd Ann Arbor, MI 48108\", \"1355 King George Blvd Ann Arbor, MI 48108\", \"1355 King George Blvd Ann Arbor, MI 48108\", \"1355 King George Blvd Ann Arbor, MI 48108\", \"1355 King George Blvd Ann Arbor, MI 48108\", \"1355 King George Blvd Ann Arbor, MI 48108\", \"817 Arch St Ann Arbor, MI 48104\", \"817 Arch St Ann Arbor, MI 48104\", \"817 Arch St Ann Arbor, MI 48104\", \"701 S. MAIN ST. ANN ARBOR, MI 48104\", \"602 Mary Ct. Ann Arbor, MI 48104\", \"602 Mary Ct. Ann Arbor, MI 48104\", \"602 Mary Ct. Ann Arbor, MI 48104\", \"602 Mary Ct. Ann Arbor, MI 48104\", \"602 Mary Ct. Ann Arbor, MI 48104\", \"602 Mary Ct. Ann Arbor, MI 48104\", \"818 Hill Street Ann Arbor, MI 48104\", \"1109 White Street Ann Arbor, MI 48104\", \"809 Hill Street Ann Arbor, MI 48104\", \"723 Oakland Avenue Ann Arbor, MI 48104\", \"814 Hill Street Ann Arbor, MI 48104\", \"808 Tappan Avenue Ann Arbor, MI 48104\", \"608 Monroe Street Ann Arbor, MI 48104\", \"608 Monroe Street Ann Arbor, MI 48104\", \"706 Arch Street Ann Arbor, MI 48104\", \"706 Arch Street Ann Arbor, MI 48104\", \"706 Arch Street Ann Arbor, MI 48104\", \"706 Arch Street Ann Arbor, MI 48104\", \"720 South State Street Ann Arbor, MI 48104\", \"720 South State Street Ann Arbor, MI 48104\", \"720 South State Street Ann Arbor, MI 48104\", \"720 South State Street Ann Arbor, MI 48104\", \"720 South State Street Ann Arbor, MI 48104\", \"720 South State Street Ann Arbor, MI 48104\", \"720 South State Street Ann Arbor, MI 48104\", \"720 South State Street Ann Arbor, MI 48104\", \"720 South State Street Ann Arbor, MI 48104\", \"720 South State Street Ann Arbor, MI 48104\", \"720 South State Street Ann Arbor, MI 48104\", \"720 South State Street Ann Arbor, MI 48104\", \"815 South State Street Ann Arbor, MI 48104\", \"815 South State Street Ann Arbor, MI 48104\", \"815 South State Street Ann Arbor, MI 48104\", \"815 South State Street Ann Arbor, MI 48104\", \"Ann Arbor, MI 48108\", \"Ann Arbor, MI 48108\", \"Ann Arbor, MI 48108\", \"Ann Arbor, MI 48108\", \"701 South State Street Ann Arbor, MI 48109\", \"701 South State Street Ann Arbor, MI 48109\", \"701 South State Street Ann Arbor, MI 48109\", \"701 South State Street Ann Arbor, MI 48109\", \"726 South State Street Ann Arbor, MI 48104\", \"726 South State Street Ann Arbor, MI 48104\", \"726 South State Street Ann Arbor, MI 48104\", \"726 South State Street Ann Arbor, MI 48104\", \"726 South State Street Ann Arbor, MI 48104\", \"726 South State Street Ann Arbor, MI 48104\", \"726 South State Street Ann Arbor, MI 48104\", \"726 South State Street Ann Arbor, MI 48104\", \"726 South State Street Ann Arbor, MI 48104\", \"726 South State Street Ann Arbor, MI 48104\", \"726 South State Street Ann Arbor, MI 48104\", \"726 South State Street Ann Arbor, MI 48104\", \"720 South State Street Ann Arbor, MI 48104\", \"720 South State Street Ann Arbor, MI 48104\", \"720 South State Street Ann Arbor, MI 48104\", \"720 South State Street Ann Arbor, MI 48104\", \"816 South State Street Ann Arbor, MI 48104\", \"816 South State Street Ann Arbor, MI 48104\", \"816 South State Street Ann Arbor, MI 48104\", \"816 South State Street Ann Arbor, MI 48104\", \"816 South State Street Ann Arbor, MI 48104\", \"816 South State Street Ann Arbor, MI 48104\", \"931 South State Street Ann Arbor, MI 48104\", \"931 South State Street Ann Arbor, MI 48104\", \"931 South State Street Ann Arbor, MI 48104\", \"931 South State Street Ann Arbor, MI 48104\", \"931 South State Street Ann Arbor, MI 48104\", \"931 South State Street Ann Arbor, MI 48104\", \"Ann Arbor, MI 48104\", \"Ann Arbor, MI 48104\", \"Ann Arbor, MI 48104\", \"Ann Arbor, MI 48104\", \"Ann Arbor, MI 48104\", \"Ann Arbor, MI 48104\", \"816 South State Street Ann Arbor, MI 48104\", \"816 South State Street Ann Arbor, MI 48104\", \"816 South State Street Ann Arbor, MI 48104\", \"816 South State Street Ann Arbor, MI 48104\", \"816 South State Street Ann Arbor, MI 48104\", \"816 South State Street Ann Arbor, MI 48104\", \"921 Mary Street Ann Arbor, MI 48104\", \"921 Mary Street Ann Arbor, MI 48104\", \"921 Mary Street Ann Arbor, MI 48104\", \"921 Mary Street Ann Arbor, MI 48104\", \"921 Mary Street Ann Arbor, MI 48104\", \"921 Mary Street Ann Arbor, MI 48104\", \"711 Packard Street Ann Arbor, MI 48104\", \"711 Packard Street Ann Arbor, MI 48104\", \"711 Packard Street Ann Arbor, MI 48104\", \"711 Packard Street Ann Arbor, MI 48104\", \"711 Packard Street Ann Arbor, MI 48104\", \"711 Packard Street Ann Arbor, MI 48104\", \"186 Carriage Way Ypsilanti, MI 48197\", \"186 Carriage Way Ypsilanti, MI 48197\", \"186 Carriage Way Ypsilanti, MI 48197\", \"186 Carriage Way Ypsilanti, MI 48197\", \"186 Carriage Way Ypsilanti, MI 48197\", \"186 Carriage Way Ypsilanti, MI 48197\", \"1412 Geddes Apt 8. Ann Arbor, MI 48104\", \"1412 Geddes Apt 8. Ann Arbor, MI 48104\", \"1412 Geddes Apt 8. Ann Arbor, MI 48104\", \"1412 Geddes Apt 8. Ann Arbor, MI 48104\", \"1412 Geddes Apt 8. Ann Arbor, MI 48104\", \"1412 Geddes Apt 8. Ann Arbor, MI 48104\", \"Ann Arbor, MI 48104\", \"Ann Arbor, MI 48104\", \"Ann Arbor, MI 48104\", \"Ann Arbor, MI 48104\", \"Ann Arbor, MI 48104\", \"Ann Arbor, MI 48104\", \"745 Packard Street Ann Arbor, MI 48104\", \"745 Packard Street Ann Arbor, MI 48104\", \"745 Packard Street Ann Arbor, MI 48104\", \"745 Packard Street Ann Arbor, MI 48104\", \"702 Tappan Ann Arbor, MI 48104\", \"702 Tappan Ann Arbor, MI 48104\", \"902 Packard Street Ann Arbor, MI 48104\", \"902 Packard Street Ann Arbor, MI 48104\", \"902 Packard Street Ann Arbor, MI 48104\", \"902 Packard Street Ann Arbor, MI 48104\", \"902 Packard Street Ann Arbor, MI 48104\", \"902 Packard Street Ann Arbor, MI 48104\"], \"lat\": [42.27400215, 42.27400215, 42.27400215, 42.27400215, 42.27400215, 42.27356665, 42.27356665, 42.27356665, 42.27356665, 42.27356665, 42.27356665, 42.27356665, 42.27356665, 42.27356665, 42.27356665, 42.27356665, 42.27356665, 42.27390515, 42.27390515, 42.27390515, 42.27390515, 42.27390515, 42.27390515, 42.27390515, 42.27390515, 42.27390515, 42.27390515, 42.27390515, 42.27390515, 42.26999415, 42.26999415, 42.26999415, 42.2706884, 42.2706884, 42.2706884, 42.2706884, 42.2712012, 42.2712012, 42.2712012, 42.2712012, 42.2716189, 42.2716189, 42.2716189, 42.2716189, 42.2716189, 42.2716189, 42.27109635, 42.27109635, 42.27109635, 42.2434531067, 42.2434531067, 42.2434531067, 42.2434531067, 42.2434531067, 42.2434531067, 42.2434531067, 42.2434531067, 42.2434531067, 42.2434531067, 42.2434531067, 42.2434531067, 42.2434531067, 42.2434531067, 42.2434531067, 42.2434531067, 42.26999525, 42.26999525, 42.26999525, 42.272673, 42.27002055, 42.27002055, 42.27002055, 42.27002055, 42.27002055, 42.27002055, 42.271884, 42.26868285, 42.27213785, 42.2724353, 42.2717205, 42.2717009022, 42.2729544, 42.2729544, 42.26889735, 42.26889735, 42.26889735, 42.26889735, 42.2727108333, 42.2727108333, 42.2727108333, 42.2727108333, 42.2727108333, 42.2727108333, 42.2727108333, 42.2727108333, 42.2727108333, 42.2727108333, 42.2727108333, 42.2727108333, 42.2716708571, 42.2716708571, 42.2716708571, 42.2716708571, 42.2681569, 42.2681569, 42.2681569, 42.2681569, 42.2728692, 42.2728692, 42.2728692, 42.2728692, 42.2724034, 42.2724034, 42.2724034, 42.2724034, 42.2724034, 42.2724034, 42.2724034, 42.2724034, 42.2724034, 42.2724034, 42.2724034, 42.2724034, 42.2727108333, 42.2727108333, 42.2727108333, 42.2727108333, 42.2714613, 42.2714613, 42.2714613, 42.2714613, 42.2714613, 42.2714613, 42.269811, 42.269811, 42.269811, 42.269811, 42.269811, 42.269811, 42.2681569, 42.2681569, 42.2681569, 42.2681569, 42.2681569, 42.2681569, 42.2714613, 42.2714613, 42.2714613, 42.2714613, 42.2714613, 42.2714613, 42.2703972, 42.2703972, 42.2703972, 42.2703972, 42.2703972, 42.2703972, 42.2707889824, 42.2707889824, 42.2707889824, 42.2707889824, 42.2707889824, 42.2707889824, 42.2335250764, 42.2335250764, 42.2335250764, 42.2335250764, 42.2335250764, 42.2335250764, 42.2669827, 42.2669827, 42.2669827, 42.2669827, 42.2669827, 42.2669827, 42.2681569, 42.2681569, 42.2681569, 42.2681569, 42.2681569, 42.2681569, 42.2697883, 42.2697883, 42.2697883, 42.2697883, 42.27095, 42.27095, 42.2684022222, 42.2684022222, 42.2684022222, 42.2684022222, 42.2684022222, 42.2684022222], \"legendgroup\": \"East Packard\", \"lon\": [-83.7348212252, -83.7348212252, -83.7348212252, -83.7348212252, -83.7348212252, -83.7410658584, -83.7410658584, -83.7410658584, -83.7410658584, -83.7410658584, -83.7410658584, -83.7410658584, -83.7410658584, -83.7410658584, -83.7410658584, -83.7410658584, -83.7410658584, -83.7410415544, -83.7410415544, -83.7410415544, -83.7410415544, -83.7410415544, -83.7410415544, -83.7410415544, -83.7410415544, -83.7410415544, -83.7410415544, -83.7410415544, -83.7410415544, -83.7392745094, -83.7392745094, -83.7392745094, -83.7408620513, -83.7408620513, -83.7408620513, -83.7408620513, -83.741279575, -83.741279575, -83.741279575, -83.741279575, -83.744174, -83.744174, -83.744174, -83.744174, -83.744174, -83.744174, -83.7411768791, -83.7411768791, -83.7411768791, -83.7250997116, -83.7250997116, -83.7250997116, -83.7250997116, -83.7250997116, -83.7250997116, -83.7250997116, -83.7250997116, -83.7250997116, -83.7250997116, -83.7250997116, -83.7250997116, -83.7250997116, -83.7250997116, -83.7250997116, -83.7250997116, -83.738633799, -83.738633799, -83.738633799, -83.749319, -83.7416143, -83.7416143, -83.7416143, -83.7416143, -83.7416143, -83.7416143, -83.738322, -83.7390794927, -83.7388560539, -83.739098228, -83.7385528017, -83.7378066036, -83.7416300221, -83.7416300221, -83.7401788777, -83.7401788777, -83.7401788777, -83.7401788777, -83.7407561667, -83.7407561667, -83.7407561667, -83.7407561667, -83.7407561667, -83.7407561667, -83.7407561667, -83.7407561667, -83.7407561667, -83.7407561667, -83.7407561667, -83.7407561667, -83.7405251429, -83.7405251429, -83.7405251429, -83.7405251429, -83.7312291, -83.7312291, -83.7312291, -83.7312291, -83.7400626, -83.7400626, -83.7400626, -83.7400626, -83.7410483, -83.7410483, -83.7410483, -83.7410483, -83.7410483, -83.7410483, -83.7410483, -83.7410483, -83.7410483, -83.7410483, -83.7410483, -83.7410483, -83.7407561667, -83.7407561667, -83.7407561667, -83.7407561667, -83.7407624, -83.7407624, -83.7407624, -83.7407624, -83.7407624, -83.7407624, -83.740392, -83.740392, -83.740392, -83.740392, -83.740392, -83.740392, -83.7312291, -83.7312291, -83.7312291, -83.7312291, -83.7312291, -83.7312291, -83.7407624, -83.7407624, -83.7407624, -83.7407624, -83.7407624, -83.7407624, -83.7415352746, -83.7415352746, -83.7415352746, -83.7415352746, -83.7415352746, -83.7415352746, -83.7403217168, -83.7403217168, -83.7403217168, -83.7403217168, -83.7403217168, -83.7403217168, -83.6488895984, -83.6488895984, -83.6488895984, -83.6488895984, -83.6488895984, -83.6488895984, -83.6677172, -83.6677172, -83.6677172, -83.6677172, -83.6677172, -83.6677172, -83.7312291, -83.7312291, -83.7312291, -83.7312291, -83.7312291, -83.7312291, -83.73910519, -83.73910519, -83.73910519, -83.73910519, -83.73689, -83.73689, -83.7380392222, -83.7380392222, -83.7380392222, -83.7380392222, -83.7380392222, -83.7380392222], \"marker\": {\"color\": \"#E2E2E2\"}, \"mode\": \"markers\", \"name\": \"East Packard\", \"showlegend\": true, \"subplot\": \"mapbox\", \"type\": \"scattermapbox\"}, {\"customdata\": [[5000.0], [5000.0], [5000.0], [5000.0], [5000.0], [5000.0], [1700.0], [1700.0], [1700.0], [1700.0], [1700.0], [1700.0], [1900.0], [1900.0], [1900.0], [1900.0], [1900.0], [1900.0], [4300.0], [5600.0], [8000.0], [650.0], [650.0], [650.0], [650.0], [900.0], [900.0], [900.0], [900.0], [1000.0], [1000.0], [1000.0], [1000.0], [1000.0], [1000.0], [1100.0], [1100.0], [1100.0], [1100.0], [1100.0], [1100.0], [1400.0], [1400.0], [1400.0], [1400.0], [1400.0], [1400.0], [435.0], [435.0], [435.0], [435.0], [435.0], [435.0], [435.0], [435.0], [435.0], [435.0], [435.0], [435.0], [1150.0], [1150.0], [1150.0], [1150.0], [1150.0], [1150.0], [5850.0], [5850.0], [5850.0], [5850.0], [5850.0], [5850.0]], \"hoverlabel\": {\"namelength\": 0}, \"hovertemplate\": \"<b>%{hovertext}</b><br><br>neighborhood=Oxbridge<br>price=%{customdata[0]}<br>lat=%{lat}<br>lon=%{lon}\", \"hovertext\": [\"1616 Washtenaw Avenue Ann Arbor, MI 48104\", \"1616 Washtenaw Avenue Ann Arbor, MI 48104\", \"1616 Washtenaw Avenue Ann Arbor, MI 48104\", \"1616 Washtenaw Avenue Ann Arbor, MI 48104\", \"1616 Washtenaw Avenue Ann Arbor, MI 48104\", \"1616 Washtenaw Avenue Ann Arbor, MI 48104\", \"2234 Pittsfield Blvd Ann Arbor, MI 48104\", \"2234 Pittsfield Blvd Ann Arbor, MI 48104\", \"2234 Pittsfield Blvd Ann Arbor, MI 48104\", \"2234 Pittsfield Blvd Ann Arbor, MI 48104\", \"2234 Pittsfield Blvd Ann Arbor, MI 48104\", \"2234 Pittsfield Blvd Ann Arbor, MI 48104\", \"470 Rock Creek Drive Ann Arbor, MI 48104\", \"470 Rock Creek Drive Ann Arbor, MI 48104\", \"470 Rock Creek Drive Ann Arbor, MI 48104\", \"470 Rock Creek Drive Ann Arbor, MI 48104\", \"470 Rock Creek Drive Ann Arbor, MI 48104\", \"470 Rock Creek Drive Ann Arbor, MI 48104\", \"509 Linden Street Ann Arbor, MI 48104\", \"1619 South University Avenue Ann Arbor, MI 48104\", \"541 Elm Street Ann Arbor, MI 48104\", \"1700 Geddes Avenue Ann Arbor, MI 48104\", \"1700 Geddes Avenue Ann Arbor, MI 48104\", \"1700 Geddes Avenue Ann Arbor, MI 48104\", \"1700 Geddes Avenue Ann Arbor, MI 48104\", \"1700 Geddes Avenue Ann Arbor, MI 48104\", \"1700 Geddes Avenue Ann Arbor, MI 48104\", \"1700 Geddes Avenue Ann Arbor, MI 48104\", \"1700 Geddes Avenue Ann Arbor, MI 48104\", \"305 Awixa Road Ann Arbor, MI 48104\", \"305 Awixa Road Ann Arbor, MI 48104\", \"305 Awixa Road Ann Arbor, MI 48104\", \"305 Awixa Road Ann Arbor, MI 48104\", \"305 Awixa Road Ann Arbor, MI 48104\", \"305 Awixa Road Ann Arbor, MI 48104\", \"2253 Glencoe Hills Drive Apt. 9 Ann Arbor, MI 48108\", \"2253 Glencoe Hills Drive Apt. 9 Ann Arbor, MI 48108\", \"2253 Glencoe Hills Drive Apt. 9 Ann Arbor, MI 48108\", \"2253 Glencoe Hills Drive Apt. 9 Ann Arbor, MI 48108\", \"2253 Glencoe Hills Drive Apt. 9 Ann Arbor, MI 48108\", \"2253 Glencoe Hills Drive Apt. 9 Ann Arbor, MI 48108\", \"125 Carriage Way Ypsilanti, MI 48197\", \"125 Carriage Way Ypsilanti, MI 48197\", \"125 Carriage Way Ypsilanti, MI 48197\", \"125 Carriage Way Ypsilanti, MI 48197\", \"125 Carriage Way Ypsilanti, MI 48197\", \"125 Carriage Way Ypsilanti, MI 48197\", \"615 Oswego Street Ann Arbor, MI 48104\", \"615 Oswego Street Ann Arbor, MI 48104\", \"615 Oswego Street Ann Arbor, MI 48104\", \"615 Oswego Street Ann Arbor, MI 48104\", \"615 Oswego Street Ann Arbor, MI 48104\", \"615 Oswego Street Ann Arbor, MI 48104\", \"615 Oswego Street Ann Arbor, MI 48104\", \"615 Oswego Street Ann Arbor, MI 48104\", \"615 Oswego Street Ann Arbor, MI 48104\", \"615 Oswego Street Ann Arbor, MI 48104\", \"615 Oswego Street Ann Arbor, MI 48104\", \"615 Oswego Street Ann Arbor, MI 48104\", \"930 Church St Ann Arbor, MI 48104\", \"930 Church St Ann Arbor, MI 48104\", \"930 Church St Ann Arbor, MI 48104\", \"930 Church St Ann Arbor, MI 48104\", \"930 Church St Ann Arbor, MI 48104\", \"930 Church St Ann Arbor, MI 48104\", \"Ann Arbor, MI 48104\", \"Ann Arbor, MI 48104\", \"Ann Arbor, MI 48104\", \"Ann Arbor, MI 48104\", \"Ann Arbor, MI 48104\", \"Ann Arbor, MI 48104\"], \"lat\": [42.2718566, 42.2718566, 42.2718566, 42.2718566, 42.2718566, 42.2718566, 42.2548173723, 42.2548173723, 42.2548173723, 42.2548173723, 42.2548173723, 42.2548173723, 42.2753627712, 42.2753627712, 42.2753627712, 42.2753627712, 42.2753627712, 42.2753627712, 42.2761563737, 42.2751928286, 42.275595, 42.2760346246, 42.2760346246, 42.2760346246, 42.2760346246, 42.2760346246, 42.2760346246, 42.2760346246, 42.2760346246, 42.2764859742, 42.2764859742, 42.2764859742, 42.2764859742, 42.2764859742, 42.2764859742, 42.2538400866, 42.2538400866, 42.2538400866, 42.2538400866, 42.2538400866, 42.2538400866, 42.2340746422, 42.2340746422, 42.2340746422, 42.2340746422, 42.2340746422, 42.2340746422, 42.2742698571, 42.2742698571, 42.2742698571, 42.2742698571, 42.2742698571, 42.2742698571, 42.2742698571, 42.2742698571, 42.2742698571, 42.2742698571, 42.2742698571, 42.2742698571, 42.27047565, 42.27047565, 42.27047565, 42.27047565, 42.27047565, 42.27047565, 42.2681569, 42.2681569, 42.2681569, 42.2681569, 42.2681569, 42.2681569], \"legendgroup\": \"Oxbridge\", \"lon\": [-83.7277366, -83.7277366, -83.7277366, -83.7277366, -83.7277366, -83.7277366, -83.6907705624, -83.6907705624, -83.6907705624, -83.6907705624, -83.6907705624, -83.6907705624, -83.713224035, -83.713224035, -83.713224035, -83.713224035, -83.713224035, -83.713224035, -83.7278835106, -83.7281514409, -83.730556, -83.7270628691, -83.7270628691, -83.7270628691, -83.7270628691, -83.7270628691, -83.7270628691, -83.7270628691, -83.7270628691, -83.7173828246, -83.7173828246, -83.7173828246, -83.7173828246, -83.7173828246, -83.7173828246, -83.6735869667, -83.6735869667, -83.6735869667, -83.6735869667, -83.6735869667, -83.6735869667, -83.6489076835, -83.6489076835, -83.6489076835, -83.6489076835, -83.6489076835, -83.6489076835, -83.7231884286, -83.7231884286, -83.7231884286, -83.7231884286, -83.7231884286, -83.7231884286, -83.7231884286, -83.7231884286, -83.7231884286, -83.7231884286, -83.7231884286, -83.7231884286, -83.7348049, -83.7348049, -83.7348049, -83.7348049, -83.7348049, -83.7348049, -83.7312291, -83.7312291, -83.7312291, -83.7312291, -83.7312291, -83.7312291], \"marker\": {\"color\": \"#1CBE4F\"}, \"mode\": \"markers\", \"name\": \"Oxbridge\", \"showlegend\": true, \"subplot\": \"mapbox\", \"type\": \"scattermapbox\"}, {\"customdata\": [[666.0], [666.0], [666.0], [666.0], [725.0], [725.0], [725.0], [800.0], [800.0], [800.0], [800.0], [1085.0], [1085.0], [1085.0], [1085.0], [1085.0], [1085.0], [1099.0], [1245.0], [1245.0], [1349.0], [1545.0], [1625.0], [1545.0], [1115.0], [1115.0], [1115.0], [1115.0], [1115.0], [1115.0], [1145.0], [1145.0], [1145.0], [1145.0], [1145.0], [1145.0], [1325.0], [1475.0], [4599.0], [1395.0], [1395.0], [1645.0], [1555.0], [1245.0], [1129.0], [750.0], [1055.0], [959.0], [1595.0], [1595.0], [1625.0], [1725.0], [1725.0], [1725.0], [1725.0], [1725.0], [1725.0], [1725.0], [1725.0], [1725.0], [1725.0], [1725.0], [1725.0], [1725.0], [1725.0], [1725.0], [1725.0], [3345.0], [3345.0], [3345.0], [3345.0], [3345.0], [3345.0], [4100.0], [4100.0], [4100.0], [4100.0], [4100.0], [4100.0], [4900.0], [890.0], [890.0], [890.0], [5700.0], [5700.0], [5700.0], [5700.0], [5700.0], [5700.0], [650.0], [650.0], [650.0], [650.0], [650.0], [650.0], [650.0], [650.0], [650.0], [650.0], [650.0], [650.0], [650.0], [650.0], [400.0], [400.0], [400.0], [400.0], [550.0], [550.0], [550.0], [550.0], [550.0], [550.0], [550.0], [550.0], [555.0], [555.0], [555.0], [555.0], [450.0], [450.0], [450.0], [450.0], [450.0], [450.0], [450.0], [450.0], [450.0], [450.0], [450.0], [450.0], [750.0], [750.0], [750.0], [750.0], [815.0], [815.0], [815.0], [815.0], [999.0], [999.0], [999.0], [999.0], [1550.0], [1550.0], [1550.0], [1550.0], [1550.0], [1550.0], [1700.0], [450.0], [450.0], [450.0], [450.0], [785.0], [785.0], [785.0], [785.0], [3150.0], [3150.0], [3150.0], [3150.0], [3150.0], [3150.0], [4500.0], [4500.0], [4500.0], [4500.0], [4500.0], [4500.0], [4860.0], [4860.0], [4860.0], [4860.0], [4860.0], [4860.0]], \"hoverlabel\": {\"namelength\": 0}, \"hovertemplate\": \"<b>%{hovertext}</b><br><br>neighborhood=Elbel<br>price=%{customdata[0]}<br>lat=%{lat}<br>lon=%{lon}\", \"hovertext\": [\"818 Brown St Ann Arbor, MI 48104\", \"818 Brown St Ann Arbor, MI 48104\", \"818 Brown St Ann Arbor, MI 48104\", \"818 Brown St Ann Arbor, MI 48104\", \"402 BENJAMIN ANN ARBOR, MI 48104\", \"402 BENJAMIN ANN ARBOR, MI 48104\", \"402 BENJAMIN ANN ARBOR, MI 48104\", \"615 South Main Street Ann Arbor, MI 48104\", \"615 South Main Street Ann Arbor, MI 48104\", \"615 South Main Street Ann Arbor, MI 48104\", \"615 South Main Street Ann Arbor, MI 48104\", \"125 West Hoover Avenue Ann Arbor, MI 48103\", \"125 West Hoover Avenue Ann Arbor, MI 48103\", \"125 West Hoover Avenue Ann Arbor, MI 48103\", \"125 West Hoover Avenue Ann Arbor, MI 48103\", \"125 West Hoover Avenue Ann Arbor, MI 48103\", \"125 West Hoover Avenue Ann Arbor, MI 48103\", \"1036 S Main St Ann Arbor, MI 48104\", \"1036 S Main St Ann Arbor, MI 48104\", \"1036 S Main St Ann Arbor, MI 48104\", \"1036 S Main St Ann Arbor, MI 48104\", \"1036 S Main St Ann Arbor, MI 48104\", \"1036 S Main St Ann Arbor, MI 48104\", \"1036 S Main St Ann Arbor, MI 48104\", \"125 West Hoover Avenue Ann Arbor, MI 48103\", \"125 West Hoover Avenue Ann Arbor, MI 48103\", \"125 West Hoover Avenue Ann Arbor, MI 48103\", \"125 West Hoover Avenue Ann Arbor, MI 48103\", \"125 West Hoover Avenue Ann Arbor, MI 48103\", \"125 West Hoover Avenue Ann Arbor, MI 48103\", \"912 Sybil St Ann Arbor, MI 48104\", \"912 Sybil St Ann Arbor, MI 48104\", \"912 Sybil St Ann Arbor, MI 48104\", \"912 Sybil St Ann Arbor, MI 48104\", \"912 Sybil St Ann Arbor, MI 48104\", \"912 Sybil St Ann Arbor, MI 48104\", \"508 Hill St Ann Arbor, MI 48104\", \"508 Hill St Ann Arbor, MI 48104\", \"508 Hill St Ann Arbor, MI 48104\", \"728 S Main St Ann Arbor, MI 48104\", \"728 S Main St Ann Arbor, MI 48104\", \"728 S Main St Ann Arbor, MI 48104\", \"615 South Main Street Ann Arbor, MI 48104\", \"615 South Main Street Ann Arbor, MI 48104\", \"615 South Main Street Ann Arbor, MI 48104\", \"615 South Main Street Ann Arbor, MI 48104\", \"615 South Main Street Ann Arbor, MI 48104\", \"615 South Main Street Ann Arbor, MI 48104\", \"318 John St. Ann Arbor, MI 48104\", \"908 Sybil St Ann Arbor, MI 48104\", \"908 Sybil St Ann Arbor, MI 48104\", \"921 South Division Street Ann Arbor, MI 48104\", \"921 South Division Street Ann Arbor, MI 48104\", \"921 South Division Street Ann Arbor, MI 48104\", \"921 South Division Street Ann Arbor, MI 48104\", \"921 South Division Street Ann Arbor, MI 48104\", \"921 South Division Street Ann Arbor, MI 48104\", \"921 South Division Street Ann Arbor, MI 48104\", \"921 South Division Street Ann Arbor, MI 48104\", \"921 South Division Street Ann Arbor, MI 48104\", \"921 South Division Street Ann Arbor, MI 48104\", \"921 South Division Street Ann Arbor, MI 48104\", \"921 South Division Street Ann Arbor, MI 48104\", \"921 South Division Street Ann Arbor, MI 48104\", \"921 South Division Street Ann Arbor, MI 48104\", \"921 South Division Street Ann Arbor, MI 48104\", \"921 South Division Street Ann Arbor, MI 48104\", \"201 E Madison St Ann Arbor, MI 48104\", \"201 E Madison St Ann Arbor, MI 48104\", \"201 E Madison St Ann Arbor, MI 48104\", \"201 E Madison St Ann Arbor, MI 48104\", \"201 E Madison St Ann Arbor, MI 48104\", \"201 E Madison St Ann Arbor, MI 48104\", \"808 Greene Street Ann Arbor, MI 48104\", \"808 Greene Street Ann Arbor, MI 48104\", \"808 Greene Street Ann Arbor, MI 48104\", \"808 Greene Street Ann Arbor, MI 48104\", \"808 Greene Street Ann Arbor, MI 48104\", \"808 Greene Street Ann Arbor, MI 48104\", \"505 East Hoover Avenue Ann Arbor, MI 48104\", \"828 Greene St Ann Arbor, MI 48104\", \"828 Greene St Ann Arbor, MI 48104\", \"828 Greene St Ann Arbor, MI 48104\", \"145 Hill Street Ann Arbor, MI 48104\", \"145 Hill Street Ann Arbor, MI 48104\", \"145 Hill Street Ann Arbor, MI 48104\", \"145 Hill Street Ann Arbor, MI 48104\", \"145 Hill Street Ann Arbor, MI 48104\", \"145 Hill Street Ann Arbor, MI 48104\", \"615 South Main Street Ann Arbor, MI 48104\", \"615 South Main Street Ann Arbor, MI 48104\", \"615 South Main Street Ann Arbor, MI 48104\", \"615 South Main Street Ann Arbor, MI 48104\", \"615 South Main Street Ann Arbor, MI 48104\", \"615 South Main Street Ann Arbor, MI 48104\", \"615 South Main Street Ann Arbor, MI 48104\", \"615 South Main Street Ann Arbor, MI 48104\", \"615 South Main Street Ann Arbor, MI 48104\", \"615 South Main Street Ann Arbor, MI 48104\", \"615 South Main Street Ann Arbor, MI 48104\", \"615 South Main Street Ann Arbor, MI 48104\", \"615 South Main Street Ann Arbor, MI 48104\", \"615 South Main Street Ann Arbor, MI 48104\", \"912 Brown Street Ann Arbor, MI 48104\", \"912 Brown Street Ann Arbor, MI 48104\", \"912 Brown Street Ann Arbor, MI 48104\", \"912 Brown Street Ann Arbor, MI 48104\", \"615 South Main Street Ann Arbor, MI 48104\", \"615 South Main Street Ann Arbor, MI 48104\", \"615 South Main Street Ann Arbor, MI 48104\", \"615 South Main Street Ann Arbor, MI 48104\", \"915 South Division Street Ann Arbor, MI 48104\", \"915 South Division Street Ann Arbor, MI 48104\", \"915 South Division Street Ann Arbor, MI 48104\", \"915 South Division Street Ann Arbor, MI 48104\", \"629 South Division Street Ann Arbor, MI 48104\", \"629 South Division Street Ann Arbor, MI 48104\", \"629 South Division Street Ann Arbor, MI 48104\", \"629 South Division Street Ann Arbor, MI 48104\", \"212 Koch Avenue Ann Arbor, MI 48103\", \"212 Koch Avenue Ann Arbor, MI 48103\", \"212 Koch Avenue Ann Arbor, MI 48103\", \"212 Koch Avenue Ann Arbor, MI 48103\", \"212 Koch Avenue Ann Arbor, MI 48103\", \"212 Koch Avenue Ann Arbor, MI 48103\", \"212 Koch Avenue Ann Arbor, MI 48103\", \"212 Koch Avenue Ann Arbor, MI 48103\", \"212 Koch Avenue Ann Arbor, MI 48103\", \"212 Koch Avenue Ann Arbor, MI 48103\", \"212 Koch Avenue Ann Arbor, MI 48103\", \"212 Koch Avenue Ann Arbor, MI 48103\", \"126 Hill Street Ann Arbor, MI 48104\", \"126 Hill Street Ann Arbor, MI 48104\", \"126 Hill Street Ann Arbor, MI 48104\", \"126 Hill Street Ann Arbor, MI 48104\", \"121 East Hoover Avenue Ann Arbor, MI 48104\", \"121 East Hoover Avenue Ann Arbor, MI 48104\", \"121 East Hoover Avenue Ann Arbor, MI 48104\", \"121 East Hoover Avenue Ann Arbor, MI 48104\", \"615 South Main Street Ann Arbor, MI 48104\", \"615 South Main Street Ann Arbor, MI 48104\", \"615 South Main Street Ann Arbor, MI 48104\", \"615 South Main Street Ann Arbor, MI 48104\", \"823 Brown Street Ann Arbor MI United States Ann Arbor, MI 48104\", \"823 Brown Street Ann Arbor MI United States Ann Arbor, MI 48104\", \"823 Brown Street Ann Arbor MI United States Ann Arbor, MI 48104\", \"823 Brown Street Ann Arbor MI United States Ann Arbor, MI 48104\", \"823 Brown Street Ann Arbor MI United States Ann Arbor, MI 48104\", \"823 Brown Street Ann Arbor MI United States Ann Arbor, MI 48104\", \"915 S Division St Ann Arbor, MI 48104\", \"615 South Main Street Ann Arbor, MI 48104\", \"615 South Main Street Ann Arbor, MI 48104\", \"615 South Main Street Ann Arbor, MI 48104\", \"615 South Main Street Ann Arbor, MI 48104\", \"1211 S 7th St Ann Arbor, MI 48103\", \"1211 S 7th St Ann Arbor, MI 48103\", \"1211 S 7th St Ann Arbor, MI 48103\", \"1211 S 7th St Ann Arbor, MI 48103\", \"1310 South 7th Street Ann Arbor, MI 48103\", \"1310 South 7th Street Ann Arbor, MI 48103\", \"1310 South 7th Street Ann Arbor, MI 48103\", \"1310 South 7th Street Ann Arbor, MI 48103\", \"1310 South 7th Street Ann Arbor, MI 48103\", \"1310 South 7th Street Ann Arbor, MI 48103\", \"426 Hill Street Ann Arbor, MI 48104\", \"426 Hill Street Ann Arbor, MI 48104\", \"426 Hill Street Ann Arbor, MI 48104\", \"426 Hill Street Ann Arbor, MI 48104\", \"426 Hill Street Ann Arbor, MI 48104\", \"426 Hill Street Ann Arbor, MI 48104\", \"Ann Arbor, MI 48104\", \"Ann Arbor, MI 48104\", \"Ann Arbor, MI 48104\", \"Ann Arbor, MI 48104\", \"Ann Arbor, MI 48104\", \"Ann Arbor, MI 48104\"], \"lat\": [42.2710413, 42.2710413, 42.2710413, 42.2710413, 42.27073085, 42.27073085, 42.27073085, 42.27344145, 42.27344145, 42.27344145, 42.27344145, 42.26924285, 42.26924285, 42.26924285, 42.26924285, 42.26924285, 42.26924285, 42.26792465, 42.26792465, 42.26792465, 42.26792465, 42.26792465, 42.26792465, 42.26792465, 42.26924285, 42.26924285, 42.26924285, 42.26924285, 42.26924285, 42.26924285, 42.2704052, 42.2704052, 42.2704052, 42.2704052, 42.2704052, 42.2704052, 42.27162025, 42.27162025, 42.27162025, 42.2717444, 42.2717444, 42.2717444, 42.27344145, 42.27344145, 42.27344145, 42.27344145, 42.27344145, 42.27344145, 42.2729286, 42.27052135, 42.27052135, 42.2701553, 42.2701553, 42.2701553, 42.2701553, 42.2701553, 42.2701553, 42.2701553, 42.2701553, 42.2701553, 42.2701553, 42.2701553, 42.2701553, 42.2701553, 42.2701553, 42.2701553, 42.2701553, 42.2742766, 42.2742766, 42.2742766, 42.2742766, 42.2742766, 42.2742766, 42.27130265, 42.27130265, 42.27130265, 42.27130265, 42.27130265, 42.27130265, 42.2698422, 42.2707862, 42.2707862, 42.2707862, 42.271785, 42.271785, 42.271785, 42.271785, 42.271785, 42.271785, 42.27344145, 42.27344145, 42.27344145, 42.27344145, 42.27344145, 42.27344145, 42.27344145, 42.27344145, 42.27344145, 42.27344145, 42.27344145, 42.27344145, 42.27344145, 42.27344145, 42.2698437, 42.2698437, 42.2698437, 42.2698437, 42.27344145, 42.27344145, 42.27344145, 42.27344145, 42.2706011429, 42.2706011429, 42.2706011429, 42.2706011429, 42.27315925, 42.27315925, 42.27315925, 42.27315925, 42.27213825, 42.27213825, 42.27213825, 42.27213825, 42.27213825, 42.27213825, 42.27213825, 42.27213825, 42.27213825, 42.27213825, 42.27213825, 42.27213825, 42.2714679, 42.2714679, 42.2714679, 42.2714679, 42.2695914, 42.2695914, 42.2695914, 42.2695914, 42.27344145, 42.27344145, 42.27344145, 42.27344145, 42.27085115, 42.27085115, 42.27085115, 42.27085115, 42.27085115, 42.27085115, 42.2706011429, 42.27344145, 42.27344145, 42.27344145, 42.27344145, 42.26603745, 42.26603745, 42.26603745, 42.26603745, 42.2650135854, 42.2650135854, 42.2650135854, 42.2650135854, 42.2650135854, 42.2650135854, 42.2716111, 42.2716111, 42.2716111, 42.2716111, 42.2716111, 42.2716111, 42.2681569, 42.2681569, 42.2681569, 42.2681569, 42.2681569, 42.2681569], \"legendgroup\": \"Elbel\", \"lon\": [-83.74896435, -83.74896435, -83.74896435, -83.74896435, -83.7441297716, -83.7441297716, -83.7441297716, -83.7486558355, -83.7486558355, -83.7486558355, -83.7486558355, -83.751492449, -83.751492449, -83.751492449, -83.751492449, -83.751492449, -83.751492449, -83.7505913532, -83.7505913532, -83.7505913532, -83.7505913532, -83.7505913532, -83.7505913532, -83.7505913532, -83.751492449, -83.751492449, -83.751492449, -83.751492449, -83.751492449, -83.751492449, -83.7433931868, -83.7433931868, -83.7433931868, -83.7433931868, -83.7433931868, -83.7433931868, -83.7429202253, -83.7429202253, -83.7429202253, -83.7501264225, -83.7501264225, -83.7501264225, -83.7486558355, -83.7486558355, -83.7486558355, -83.7486558355, -83.7486558355, -83.7486558355, -83.7456555614, -83.7434066502, -83.7434066502, -83.74410045, -83.74410045, -83.74410045, -83.74410045, -83.74410045, -83.74410045, -83.74410045, -83.74410045, -83.74410045, -83.74410045, -83.74410045, -83.74410045, -83.74410045, -83.74410045, -83.74410045, -83.74410045, -83.7473706707, -83.7473706707, -83.7473706707, -83.7473706707, -83.7473706707, -83.7473706707, -83.747741505, -83.747741505, -83.747741505, -83.747741505, -83.747741505, -83.747741505, -83.74287105, -83.74781095, -83.74781095, -83.74781095, -83.747724, -83.747724, -83.747724, -83.747724, -83.747724, -83.747724, -83.7486558355, -83.7486558355, -83.7486558355, -83.7486558355, -83.7486558355, -83.7486558355, -83.7486558355, -83.7486558355, -83.7486558355, -83.7486558355, -83.7486558355, -83.7486558355, -83.7486558355, -83.7486558355, -83.7489586215, -83.7489586215, -83.7489586215, -83.7489586215, -83.7486558355, -83.7486558355, -83.7486558355, -83.7486558355, -83.7442822857, -83.7442822857, -83.7442822857, -83.7442822857, -83.74412705, -83.74412705, -83.74412705, -83.74412705, -83.75094115, -83.75094115, -83.75094115, -83.75094115, -83.75094115, -83.75094115, -83.75094115, -83.75094115, -83.75094115, -83.75094115, -83.75094115, -83.75094115, -83.7485058596, -83.7485058596, -83.7485058596, -83.7485058596, -83.7491213928, -83.7491213928, -83.7491213928, -83.7491213928, -83.7486558355, -83.7486558355, -83.7486558355, -83.7486558355, -83.7484231, -83.7484231, -83.7484231, -83.7484231, -83.7484231, -83.7484231, -83.7442822857, -83.7486558355, -83.7486558355, -83.7486558355, -83.7486558355, -83.7579725954, -83.7579725954, -83.7579725954, -83.7579725954, -83.7582959486, -83.7582959486, -83.7582959486, -83.7582959486, -83.7582959486, -83.7582959486, -83.7433733399, -83.7433733399, -83.7433733399, -83.7433733399, -83.7433733399, -83.7433733399, -83.7312291, -83.7312291, -83.7312291, -83.7312291, -83.7312291, -83.7312291], \"marker\": {\"color\": \"#C4451C\"}, \"mode\": \"markers\", \"name\": \"Elbel\", \"showlegend\": true, \"subplot\": \"mapbox\", \"type\": \"scattermapbox\"}, {\"customdata\": [[1195.0], [2245.0], [1095.0], [2995.0], [845.0], [795.0], [1100.0], [1100.0], [1100.0], [1100.0], [1100.0], [1100.0], [1150.0], [1745.0], [1745.0], [1745.0], [1745.0], [1745.0], [1745.0], [1745.0], [1745.0], [1745.0], [1745.0], [1745.0], [1745.0], [1745.0], [1745.0], [1745.0], [1745.0], [700.0], [700.0], [700.0], [700.0], [350.0], [350.0], [350.0], [350.0], [350.0], [350.0], [350.0], [350.0], [350.0], [350.0], [350.0], [350.0], [700.0], [700.0], [700.0], [700.0], [725.0], [725.0], [725.0], [725.0], [790.0], [790.0], [790.0], [790.0], [875.0], [875.0], [875.0], [875.0], [1024.0], [1024.0], [1024.0], [1024.0], [1024.0], [1024.0], [1024.0], [1024.0], [1024.0], [1024.0], [1024.0], [1024.0], [1024.0], [1024.0], [905.0], [905.0], [955.0], [990.0], [992.5], [1040.0], [1107.5], [2300.0], [2300.0], [2300.0], [2300.0], [2300.0], [2300.0], [2390.0], [2390.0], [2390.0], [2390.0], [2390.0], [2390.0], [4500.0], [4500.0], [4500.0], [4500.0], [4500.0], [4500.0]], \"hoverlabel\": {\"namelength\": 0}, \"hovertemplate\": \"<b>%{hovertext}</b><br><br>neighborhood=North Ingalls<br>price=%{customdata[0]}<br>lat=%{lat}<br>lon=%{lon}\", \"hovertext\": [\"205 S State St Ann Arbor, MI 48104\", \"205 S State St Ann Arbor, MI 48104\", \"205 S State St Ann Arbor, MI 48104\", \"205 S State St Ann Arbor, MI 48104\", \"205 S State St Ann Arbor, MI 48104\", \"205 S State St Ann Arbor, MI 48104\", \"1261 Island Drive Apt #104 Ann Arbor, MI 48105\", \"1261 Island Drive Apt #104 Ann Arbor, MI 48105\", \"1261 Island Drive Apt #104 Ann Arbor, MI 48105\", \"1261 Island Drive Apt #104 Ann Arbor, MI 48105\", \"1261 Island Drive Apt #104 Ann Arbor, MI 48105\", \"1261 Island Drive Apt #104 Ann Arbor, MI 48105\", \"1016 East Ann Street Ann Arbor, MI 48104\", \"411 High Street Ann Arbor, MI 48104\", \"411 High Street Ann Arbor, MI 48104\", \"411 High Street Ann Arbor, MI 48104\", \"411 High Street Ann Arbor, MI 48104\", \"411 High Street Ann Arbor, MI 48104\", \"411 High Street Ann Arbor, MI 48104\", \"411 High Street Ann Arbor, MI 48104\", \"411 High Street Ann Arbor, MI 48104\", \"411 High Street Ann Arbor, MI 48104\", \"411 High Street Ann Arbor, MI 48104\", \"411 High Street Ann Arbor, MI 48104\", \"411 High Street Ann Arbor, MI 48104\", \"411 High Street Ann Arbor, MI 48104\", \"411 High Street Ann Arbor, MI 48104\", \"411 High Street Ann Arbor, MI 48104\", \"411 High Street Ann Arbor, MI 48104\", \"801 East Catherine Ann Arbor, MI 48104\", \"801 East Catherine Ann Arbor, MI 48104\", \"801 East Catherine Ann Arbor, MI 48104\", \"801 East Catherine Ann Arbor, MI 48104\", \"1105 Maiden Lane Court Ann Arbor, MI 48105\", \"1105 Maiden Lane Court Ann Arbor, MI 48105\", \"1105 Maiden Lane Court Ann Arbor, MI 48105\", \"1105 Maiden Lane Court Ann Arbor, MI 48105\", \"1105 Maiden Lane Court Ann Arbor, MI 48105\", \"1105 Maiden Lane Court Ann Arbor, MI 48105\", \"1105 Maiden Lane Court Ann Arbor, MI 48105\", \"1105 Maiden Lane Court Ann Arbor, MI 48105\", \"1105 Maiden Lane Court Ann Arbor, MI 48105\", \"1105 Maiden Lane Court Ann Arbor, MI 48105\", \"1105 Maiden Lane Court Ann Arbor, MI 48105\", \"1105 Maiden Lane Court Ann Arbor, MI 48105\", \"310 North Thayer Street Ann Arbor, MI 48104\", \"310 North Thayer Street Ann Arbor, MI 48104\", \"310 North Thayer Street Ann Arbor, MI 48104\", \"310 North Thayer Street Ann Arbor, MI 48104\", \"820 Fuller Street Ann Arbor, MI 48104\", \"820 Fuller Street Ann Arbor, MI 48104\", \"820 Fuller Street Ann Arbor, MI 48104\", \"820 Fuller Street Ann Arbor, MI 48104\", \"Ann Arbor, MI 48104\", \"Ann Arbor, MI 48104\", \"Ann Arbor, MI 48104\", \"Ann Arbor, MI 48104\", \"Ann Arbor, MI 48104\", \"Ann Arbor, MI 48104\", \"Ann Arbor, MI 48104\", \"Ann Arbor, MI 48104\", \"411 East Washington Street Ann Arbor, MI 48104\", \"411 East Washington Street Ann Arbor, MI 48104\", \"411 East Washington Street Ann Arbor, MI 48104\", \"411 East Washington Street Ann Arbor, MI 48104\", \"411 East Washington Street Ann Arbor, MI 48104\", \"411 East Washington Street Ann Arbor, MI 48104\", \"411 East Washington Street Ann Arbor, MI 48104\", \"411 East Washington Street Ann Arbor, MI 48104\", \"411 East Washington Street Ann Arbor, MI 48104\", \"411 East Washington Street Ann Arbor, MI 48104\", \"411 East Washington Street Ann Arbor, MI 48104\", \"411 East Washington Street Ann Arbor, MI 48104\", \"411 East Washington Street Ann Arbor, MI 48104\", \"411 East Washington Street Ann Arbor, MI 48104\", \"311 Thompson St Ann Arbor, MI 48104\", \"311 Thompson St Ann Arbor, MI 48104\", \"311 Thompson St Ann Arbor, MI 48104\", \"311 Thompson St Ann Arbor, MI 48104\", \"311 Thompson St Ann Arbor, MI 48104\", \"311 Thompson St Ann Arbor, MI 48104\", \"311 Thompson St Ann Arbor, MI 48104\", \"306 Beakes St. #1 Ann Arbor, MI 48104\", \"306 Beakes St. #1 Ann Arbor, MI 48104\", \"306 Beakes St. #1 Ann Arbor, MI 48104\", \"306 Beakes St. #1 Ann Arbor, MI 48104\", \"306 Beakes St. #1 Ann Arbor, MI 48104\", \"306 Beakes St. #1 Ann Arbor, MI 48104\", \"205 South State Street Ann Arbor, MI 48104\", \"205 South State Street Ann Arbor, MI 48104\", \"205 South State Street Ann Arbor, MI 48104\", \"205 South State Street Ann Arbor, MI 48104\", \"205 South State Street Ann Arbor, MI 48104\", \"205 South State Street Ann Arbor, MI 48104\", \"210 North Thayer Street Ann Arbor, MI 48104\", \"210 North Thayer Street Ann Arbor, MI 48104\", \"210 North Thayer Street Ann Arbor, MI 48104\", \"210 North Thayer Street Ann Arbor, MI 48104\", \"210 North Thayer Street Ann Arbor, MI 48104\", \"210 North Thayer Street Ann Arbor, MI 48104\"], \"lat\": [42.2801081, 42.2801081, 42.2801081, 42.2801081, 42.2801081, 42.2801081, 42.2909443942, 42.2909443942, 42.2909443942, 42.2909443942, 42.2909443942, 42.2909443942, 42.2820228, 42.2866292489, 42.2866292489, 42.2866292489, 42.2866292489, 42.2866292489, 42.2866292489, 42.2866292489, 42.2866292489, 42.2866292489, 42.2866292489, 42.2866292489, 42.2866292489, 42.2866292489, 42.2866292489, 42.2866292489, 42.2866292489, 42.283149, 42.283149, 42.283149, 42.283149, 42.2881074033, 42.2881074033, 42.2881074033, 42.2881074033, 42.2881074033, 42.2881074033, 42.2881074033, 42.2881074033, 42.2881074033, 42.2881074033, 42.2881074033, 42.2881074033, 42.2834658, 42.2834658, 42.2834658, 42.2834658, 42.2859364, 42.2859364, 42.2859364, 42.2859364, 42.2681569, 42.2681569, 42.2681569, 42.2681569, 42.2681569, 42.2681569, 42.2681569, 42.2681569, 42.2804787, 42.2804787, 42.2804787, 42.2804787, 42.2804787, 42.2804787, 42.2804787, 42.2804787, 42.2804787, 42.2804787, 42.2804787, 42.2804787, 42.2804787, 42.2804787, 42.2791677143, 42.2791677143, 42.2791677143, 42.2791677143, 42.2791677143, 42.2791677143, 42.2791677143, 42.2860678619, 42.2860678619, 42.2860678619, 42.2860678619, 42.2860678619, 42.2860678619, 42.2801081, 42.2801081, 42.2801081, 42.2801081, 42.2801081, 42.2801081, 42.2823347755, 42.2823347755, 42.2823347755, 42.2823347755, 42.2823347755, 42.2823347755], \"legendgroup\": \"North Ingalls\", \"lon\": [-83.7406625, -83.7406625, -83.7406625, -83.7406625, -83.7406625, -83.7406625, -83.7322052989, -83.7322052989, -83.7322052989, -83.7322052989, -83.7322052989, -83.7322052989, -83.7362443, -83.7432413532, -83.7432413532, -83.7432413532, -83.7432413532, -83.7432413532, -83.7432413532, -83.7432413532, -83.7432413532, -83.7432413532, -83.7432413532, -83.7432413532, -83.7432413532, -83.7432413532, -83.7432413532, -83.7432413532, -83.7432413532, -83.739538, -83.739538, -83.739538, -83.739538, -83.7337397791, -83.7337397791, -83.7337397791, -83.7337397791, -83.7337397791, -83.7337397791, -83.7337397791, -83.7337397791, -83.7337397791, -83.7337397791, -83.7337397791, -83.7337397791, -83.73951965, -83.73951965, -83.73951965, -83.73951965, -83.7391141409, -83.7391141409, -83.7391141409, -83.7391141409, -83.7312291, -83.7312291, -83.7312291, -83.7312291, -83.7312291, -83.7312291, -83.7312291, -83.7312291, -83.7434586, -83.7434586, -83.7434586, -83.7434586, -83.7434586, -83.7434586, -83.7434586, -83.7434586, -83.7434586, -83.7434586, -83.7434586, -83.7434586, -83.7434586, -83.7434586, -83.7431431429, -83.7431431429, -83.7431431429, -83.7431431429, -83.7431431429, -83.7431431429, -83.7431431429, -83.7454138158, -83.7454138158, -83.7454138158, -83.7454138158, -83.7454138158, -83.7454138158, -83.7406625, -83.7406625, -83.7406625, -83.7406625, -83.7406625, -83.7406625, -83.7395689388, -83.7395689388, -83.7395689388, -83.7395689388, -83.7395689388, -83.7395689388], \"marker\": {\"color\": \"#DEA0FD\"}, \"mode\": \"markers\", \"name\": \"North Ingalls\", \"showlegend\": true, \"subplot\": \"mapbox\", \"type\": \"scattermapbox\"}, {\"customdata\": [[1045.0], [1045.0], [1345.0], [1495.0], [1595.0], [1595.0], [1595.0], [1595.0], [1270.0], [1295.0], [1395.0], [1595.0], [1695.0], [1517.5], [1517.5], [1517.5], [1517.5], [1517.5], [1517.5], [1517.5], [1517.5], [1517.5], [1517.5], [1517.5], [1517.5], [1517.5], [1517.5], [1517.5], [1517.5], [1595.0], [1595.0], [1595.0], [1595.0], [1595.0], [1595.0], [1595.0], [1595.0], [1595.0], [1595.0], [1595.0], [1595.0], [1595.0], [1595.0], [1595.0], [1595.0], [1830.0], [1165.0], [1165.0], [1165.0], [1165.0], [1165.0], [1165.0], [1165.0], [1165.0], [1165.0], [1165.0], [1165.0], [1165.0], [1165.0], [1165.0], [1165.0], [1165.0], [865.0], [865.0], [865.0], [865.0], [865.0], [865.0], [865.0], [865.0], [865.0], [865.0], [865.0], [865.0], [4150.0], [4150.0], [4150.0], [4150.0], [4150.0], [4150.0], [4150.0], [4150.0], [4150.0], [4150.0], [4150.0], [4150.0], [4150.0], [4150.0], [4150.0], [4150.0], [5250.0], [6000.0], [6000.0], [6000.0], [6000.0], [6000.0], [6000.0], [1400.0], [1400.0], [1400.0], [1400.0], [1400.0], [1400.0], [1400.0], [1400.0], [1400.0], [1400.0], [1400.0], [1400.0], [15000.0], [500.0], [500.0], [500.0], [500.0], [600.0], [600.0], [600.0], [600.0], [1050.0], [1050.0], [1050.0], [1050.0], [1050.0], [1050.0], [1050.0], [1050.0], [1050.0], [1050.0], [1050.0], [1050.0], [1050.0], [1050.0], [840.0], [840.0], [840.0], [840.0], [850.0], [850.0], [850.0], [850.0], [850.0], [850.0], [850.0], [850.0], [858.0], [858.0], [858.0], [858.0], [1000.0], [1000.0], [1000.0], [1000.0], [1000.0], [1000.0], [712.5], [712.5], [712.5], [712.5], [712.5], [712.5], [712.5], [712.5], [712.5], [712.5], [712.5], [712.5], [1200.0], [1200.0], [1200.0], [1200.0], [1200.0], [1200.0], [5850.0], [5850.0], [5850.0], [5850.0], [5850.0], [5850.0], [662.0], [662.0], [662.0], [662.0], [800.0], [800.0], [800.0], [800.0]], \"hoverlabel\": {\"namelength\": 0}, \"hovertemplate\": \"<b>%{hovertext}</b><br><br>neighborhood=Tappan<br>price=%{customdata[0]}<br>lat=%{lat}<br>lon=%{lon}\", \"hovertext\": [\"825 Tappan Ave Ann Arbor, MI 48104\", \"825 Tappan Ave Ann Arbor, MI 48104\", \"825 Tappan Ave Ann Arbor, MI 48104\", \"825 Tappan Ave Ann Arbor, MI 48104\", \"825 Tappan Ave Ann Arbor, MI 48104\", \"825 Tappan Ave Ann Arbor, MI 48104\", \"825 Tappan Ave Ann Arbor, MI 48104\", \"825 Tappan Ave Ann Arbor, MI 48104\", \"925 Church Street #6 Ann Arbor, MI 48104\", \"1014 Church St Ann Arbor, MI 48104\", \"1014 Church St Ann Arbor, MI 48104\", \"1014 Church St Ann Arbor, MI 48104\", \"1014 Church St Ann Arbor, MI 48104\", \"921 Church St Ann Arbor, MI 48104-3436\", \"921 Church St Ann Arbor, MI 48104-3436\", \"921 Church St Ann Arbor, MI 48104-3436\", \"921 Church St Ann Arbor, MI 48104-3436\", \"921 Church St Ann Arbor, MI 48104-3436\", \"921 Church St Ann Arbor, MI 48104-3436\", \"921 Church St Ann Arbor, MI 48104-3436\", \"921 Church St Ann Arbor, MI 48104-3436\", \"921 Church St Ann Arbor, MI 48104-3436\", \"921 Church St Ann Arbor, MI 48104-3436\", \"921 Church St Ann Arbor, MI 48104-3436\", \"921 Church St Ann Arbor, MI 48104-3436\", \"921 Church St Ann Arbor, MI 48104-3436\", \"921 Church St Ann Arbor, MI 48104-3436\", \"921 Church St Ann Arbor, MI 48104-3436\", \"921 Church St Ann Arbor, MI 48104-3436\", \"402 Hill Street Ann Arbor, MI 48104\", \"402 Hill Street Ann Arbor, MI 48104\", \"402 Hill Street Ann Arbor, MI 48104\", \"402 Hill Street Ann Arbor, MI 48104\", \"402 Hill Street Ann Arbor, MI 48104\", \"402 Hill Street Ann Arbor, MI 48104\", \"402 Hill Street Ann Arbor, MI 48104\", \"402 Hill Street Ann Arbor, MI 48104\", \"402 Hill Street Ann Arbor, MI 48104\", \"402 Hill Street Ann Arbor, MI 48104\", \"402 Hill Street Ann Arbor, MI 48104\", \"402 Hill Street Ann Arbor, MI 48104\", \"402 Hill Street Ann Arbor, MI 48104\", \"402 Hill Street Ann Arbor, MI 48104\", \"402 Hill Street Ann Arbor, MI 48104\", \"402 Hill Street Ann Arbor, MI 48104\", \"Hill Street Ann Arbor, MI 48104\", \"921 Church St Ann Arbor, MI 48104-3436\", \"921 Church St Ann Arbor, MI 48104-3436\", \"921 Church St Ann Arbor, MI 48104-3436\", \"921 Church St Ann Arbor, MI 48104-3436\", \"921 Church St Ann Arbor, MI 48104-3436\", \"921 Church St Ann Arbor, MI 48104-3436\", \"921 Church St Ann Arbor, MI 48104-3436\", \"921 Church St Ann Arbor, MI 48104-3436\", \"921 Church St Ann Arbor, MI 48104-3436\", \"921 Church St Ann Arbor, MI 48104-3436\", \"921 Church St Ann Arbor, MI 48104-3436\", \"921 Church St Ann Arbor, MI 48104-3436\", \"921 Church St Ann Arbor, MI 48104-3436\", \"921 Church St Ann Arbor, MI 48104-3436\", \"921 Church St Ann Arbor, MI 48104-3436\", \"921 Church St Ann Arbor, MI 48104-3436\", \"921 Church St Ann Arbor, MI 48104-3436\", \"921 Church St Ann Arbor, MI 48104-3436\", \"921 Church St Ann Arbor, MI 48104-3436\", \"921 Church St Ann Arbor, MI 48104-3436\", \"921 Church St Ann Arbor, MI 48104-3436\", \"921 Church St Ann Arbor, MI 48104-3436\", \"921 Church St Ann Arbor, MI 48104-3436\", \"921 Church St Ann Arbor, MI 48104-3436\", \"921 Church St Ann Arbor, MI 48104-3436\", \"921 Church St Ann Arbor, MI 48104-3436\", \"921 Church St Ann Arbor, MI 48104-3436\", \"921 Church St Ann Arbor, MI 48104-3436\", \"923 Greenwood Ave Ann Arbor, MI 48104\", \"923 Greenwood Ave Ann Arbor, MI 48104\", \"923 Greenwood Ave Ann Arbor, MI 48104\", \"923 Greenwood Ave Ann Arbor, MI 48104\", \"923 Greenwood Ave Ann Arbor, MI 48104\", \"923 Greenwood Ave Ann Arbor, MI 48104\", \"923 Greenwood Ave Ann Arbor, MI 48104\", \"923 Greenwood Ave Ann Arbor, MI 48104\", \"923 Greenwood Ave Ann Arbor, MI 48104\", \"923 Greenwood Ave Ann Arbor, MI 48104\", \"923 Greenwood Ave Ann Arbor, MI 48104\", \"923 Greenwood Ave Ann Arbor, MI 48104\", \"923 Greenwood Ave Ann Arbor, MI 48104\", \"923 Greenwood Ave Ann Arbor, MI 48104\", \"923 Greenwood Ave Ann Arbor, MI 48104\", \"923 Greenwood Ave Ann Arbor, MI 48104\", \"1117 White Street Ann Arbor, MI 48104\", \"1004 East University Avenue Ann Arbor, MI 48104\", \"1004 East University Avenue Ann Arbor, MI 48104\", \"1004 East University Avenue Ann Arbor, MI 48104\", \"1004 East University Avenue Ann Arbor, MI 48104\", \"1004 East University Avenue Ann Arbor, MI 48104\", \"1004 East University Avenue Ann Arbor, MI 48104\", \"922 Church St Ann Arbor, MI 48104\", \"922 Church St Ann Arbor, MI 48104\", \"922 Church St Ann Arbor, MI 48104\", \"922 Church St Ann Arbor, MI 48104\", \"922 Church St Ann Arbor, MI 48104\", \"922 Church St Ann Arbor, MI 48104\", \"818 S Forest Ave Ann Arbor, MI 48104\", \"818 S Forest Ave Ann Arbor, MI 48104\", \"818 S Forest Ave Ann Arbor, MI 48104\", \"818 S Forest Ave Ann Arbor, MI 48104\", \"818 S Forest Ave Ann Arbor, MI 48104\", \"818 S Forest Ave Ann Arbor, MI 48104\", \"1012 Hill Street Ann Arbor, MI 48104\", \"818 Church Street Ann Arbor, MI 48104\", \"818 Church Street Ann Arbor, MI 48104\", \"818 Church Street Ann Arbor, MI 48104\", \"818 Church Street Ann Arbor, MI 48104\", \"1016 East University Avenue Ann Arbor, MI 48104\", \"1016 East University Avenue Ann Arbor, MI 48104\", \"1016 East University Avenue Ann Arbor, MI 48104\", \"1016 East University Avenue Ann Arbor, MI 48104\", \"922 Church Street Ann Arbor, MI 48104\", \"922 Church Street Ann Arbor, MI 48104\", \"922 Church Street Ann Arbor, MI 48104\", \"922 Church Street Ann Arbor, MI 48104\", \"922 Church Street Ann Arbor, MI 48104\", \"922 Church Street Ann Arbor, MI 48104\", \"922 Church Street Ann Arbor, MI 48104\", \"922 Church Street Ann Arbor, MI 48104\", \"922 Church Street Ann Arbor, MI 48104\", \"922 Church Street Ann Arbor, MI 48104\", \"922 Church Street Ann Arbor, MI 48104\", \"922 Church Street Ann Arbor, MI 48104\", \"922 Church Street Ann Arbor, MI 48104\", \"922 Church Street Ann Arbor, MI 48104\", \"1109 White Street Ann Arbor, MI 48104\", \"1109 White Street Ann Arbor, MI 48104\", \"1109 White Street Ann Arbor, MI 48104\", \"1109 White Street Ann Arbor, MI 48104\", \"Ann Arbor, MI 48104\", \"Ann Arbor, MI 48104\", \"Ann Arbor, MI 48104\", \"Ann Arbor, MI 48104\", \"816 Tappan Avenue Ann Arbor, MI 48104\", \"816 Tappan Avenue Ann Arbor, MI 48104\", \"816 Tappan Avenue Ann Arbor, MI 48104\", \"816 Tappan Avenue Ann Arbor, MI 48104\", \"2119 Highland Road Ann Arbor, MI 48104\", \"2119 Highland Road Ann Arbor, MI 48104\", \"2119 Highland Road Ann Arbor, MI 48104\", \"2119 Highland Road Ann Arbor, MI 48104\", \"1015 Vaughn Street Ann Arbor, MI 48104\", \"1015 Vaughn Street Ann Arbor, MI 48104\", \"1015 Vaughn Street Ann Arbor, MI 48104\", \"1015 Vaughn Street Ann Arbor, MI 48104\", \"1015 Vaughn Street Ann Arbor, MI 48104\", \"1015 Vaughn Street Ann Arbor, MI 48104\", \"1001 South Forest Avenue Ann Arbor, MI 48104\", \"1001 South Forest Avenue Ann Arbor, MI 48104\", \"1001 South Forest Avenue Ann Arbor, MI 48104\", \"1001 South Forest Avenue Ann Arbor, MI 48104\", \"1001 South Forest Avenue Ann Arbor, MI 48104\", \"1001 South Forest Avenue Ann Arbor, MI 48104\", \"1001 South Forest Avenue Ann Arbor, MI 48104\", \"1001 South Forest Avenue Ann Arbor, MI 48104\", \"1001 South Forest Avenue Ann Arbor, MI 48104\", \"1001 South Forest Avenue Ann Arbor, MI 48104\", \"1001 South Forest Avenue Ann Arbor, MI 48104\", \"1001 South Forest Avenue Ann Arbor, MI 48104\", \"824 Packard Street Ann Arbor, MI 48104\", \"824 Packard Street Ann Arbor, MI 48104\", \"824 Packard Street Ann Arbor, MI 48104\", \"824 Packard Street Ann Arbor, MI 48104\", \"824 Packard Street Ann Arbor, MI 48104\", \"824 Packard Street Ann Arbor, MI 48104\", \"1022 Vaughn Street Ann Arbor, MI 48104\", \"1022 Vaughn Street Ann Arbor, MI 48104\", \"1022 Vaughn Street Ann Arbor, MI 48104\", \"1022 Vaughn Street Ann Arbor, MI 48104\", \"1022 Vaughn Street Ann Arbor, MI 48104\", \"1022 Vaughn Street Ann Arbor, MI 48104\", \"900 Oakland Avenue Ann Arbor, MI 48104\", \"900 Oakland Avenue Ann Arbor, MI 48104\", \"900 Oakland Avenue Ann Arbor, MI 48104\", \"900 Oakland Avenue Ann Arbor, MI 48104\", \"1120 Oakland Avenue Ann Arbor, MI 48104\", \"1120 Oakland Avenue Ann Arbor, MI 48104\", \"1120 Oakland Avenue Ann Arbor, MI 48104\", \"1120 Oakland Avenue Ann Arbor, MI 48104\"], \"lat\": [42.27143305, 42.27143305, 42.27143305, 42.27143305, 42.27143305, 42.27143305, 42.27143305, 42.27143305, 42.27066465, 42.2695552, 42.2695552, 42.2695552, 42.2695552, 42.2708315, 42.2708315, 42.2708315, 42.2708315, 42.2708315, 42.2708315, 42.2708315, 42.2708315, 42.2708315, 42.2708315, 42.2708315, 42.2708315, 42.2708315, 42.2708315, 42.2708315, 42.2708315, 42.2716189, 42.2716189, 42.2716189, 42.2716189, 42.2716189, 42.2716189, 42.2716189, 42.2716189, 42.2716189, 42.2716189, 42.2716189, 42.2716189, 42.2716189, 42.2716189, 42.2716189, 42.2716189, 42.2721812, 42.2708315, 42.2708315, 42.2708315, 42.2708315, 42.2708315, 42.2708315, 42.2708315, 42.2708315, 42.2708315, 42.2708315, 42.2708315, 42.2708315, 42.2708315, 42.2708315, 42.2708315, 42.2708315, 42.2708315, 42.2708315, 42.2708315, 42.2708315, 42.2708315, 42.2708315, 42.2708315, 42.2708315, 42.2708315, 42.2708315, 42.2708315, 42.2708315, 42.2695705, 42.2695705, 42.2695705, 42.2695705, 42.2695705, 42.2695705, 42.2695705, 42.2695705, 42.2695705, 42.2695705, 42.2695705, 42.2695705, 42.2695705, 42.2695705, 42.2695705, 42.2695705, 42.26833665, 42.26971775, 42.26971775, 42.26971775, 42.26971775, 42.26971775, 42.26971775, 42.27081465, 42.27081465, 42.27081465, 42.27081465, 42.27081465, 42.27081465, 42.27141985, 42.27141985, 42.27141985, 42.27141985, 42.27141985, 42.27141985, 42.27178445, 42.2714201, 42.2714201, 42.2714201, 42.2714201, 42.2693287, 42.2693287, 42.2693287, 42.2693287, 42.27081465, 42.27081465, 42.27081465, 42.27081465, 42.27081465, 42.27081465, 42.27081465, 42.27081465, 42.27081465, 42.27081465, 42.27081465, 42.27081465, 42.27081465, 42.27081465, 42.26868285, 42.26868285, 42.26868285, 42.26868285, 42.2681569, 42.2681569, 42.2681569, 42.2681569, 42.27134095, 42.27134095, 42.27134095, 42.27134095, 42.2757956784, 42.2757956784, 42.2757956784, 42.2757956784, 42.2690653008, 42.2690653008, 42.2690653008, 42.2690653008, 42.2690653008, 42.2690653008, 42.2702573, 42.2702573, 42.2702573, 42.2702573, 42.2702573, 42.2702573, 42.2702573, 42.2702573, 42.2702573, 42.2702573, 42.2702573, 42.2702573, 42.26881205, 42.26881205, 42.26881205, 42.26881205, 42.26881205, 42.26881205, 42.2689015864, 42.2689015864, 42.2689015864, 42.2689015864, 42.2689015864, 42.2689015864, 42.2708298, 42.2708298, 42.2708298, 42.2708298, 42.2700711, 42.2700711, 42.2700711, 42.2700711], \"legendgroup\": \"Tappan\", \"lon\": [-83.7369479573, -83.7369479573, -83.7369479573, -83.7369479573, -83.7369479573, -83.7369479573, -83.7369479573, -83.7369479573, -83.73412175, -83.734748172, -83.734748172, -83.734748172, -83.734748172, -83.7341342022, -83.7341342022, -83.7341342022, -83.7341342022, -83.7341342022, -83.7341342022, -83.7341342022, -83.7341342022, -83.7341342022, -83.7341342022, -83.7341342022, -83.7341342022, -83.7341342022, -83.7341342022, -83.7341342022, -83.7341342022, -83.744174, -83.744174, -83.744174, -83.744174, -83.744174, -83.744174, -83.744174, -83.744174, -83.744174, -83.744174, -83.744174, -83.744174, -83.744174, -83.744174, -83.744174, -83.744174, -83.7332127, -83.7341342022, -83.7341342022, -83.7341342022, -83.7341342022, -83.7341342022, -83.7341342022, -83.7341342022, -83.7341342022, -83.7341342022, -83.7341342022, -83.7341342022, -83.7341342022, -83.7341342022, -83.7341342022, -83.7341342022, -83.7341342022, -83.7341342022, -83.7341342022, -83.7341342022, -83.7341342022, -83.7341342022, -83.7341342022, -83.7341342022, -83.7341342022, -83.7341342022, -83.7341342022, -83.7341342022, -83.7341342022, -83.7378098011, -83.7378098011, -83.7378098011, -83.7378098011, -83.7378098011, -83.7378098011, -83.7378098011, -83.7378098011, -83.7378098011, -83.7378098011, -83.7378098011, -83.7378098011, -83.7378098011, -83.7378098011, -83.7378098011, -83.7378098011, -83.7391164994, -83.7359970173, -83.7359970173, -83.7359970173, -83.7359970173, -83.7359970173, -83.7359970173, -83.7348229787, -83.7348229787, -83.7348229787, -83.7348229787, -83.7348229787, -83.7348229787, -83.7335468289, -83.7335468289, -83.7335468289, -83.7335468289, -83.7335468289, -83.7335468289, -83.736471535, -83.7348102763, -83.7348102763, -83.7348102763, -83.7348102763, -83.7359667084, -83.7359667084, -83.7359667084, -83.7359667084, -83.7348229787, -83.7348229787, -83.7348229787, -83.7348229787, -83.7348229787, -83.7348229787, -83.7348229787, -83.7348229787, -83.7348229787, -83.7348229787, -83.7348229787, -83.7348229787, -83.7348229787, -83.7348229787, -83.7390794927, -83.7390794927, -83.7390794927, -83.7390794927, -83.7312291, -83.7312291, -83.7312291, -83.7312291, -83.7377798442, -83.7377798442, -83.7377798442, -83.7377798442, -83.7200763084, -83.7200763084, -83.7200763084, -83.7200763084, -83.736805223, -83.736805223, -83.736805223, -83.736805223, -83.736805223, -83.736805223, -83.7327919504, -83.7327919504, -83.7327919504, -83.7327919504, -83.7327919504, -83.7327919504, -83.7327919504, -83.7327919504, -83.7327919504, -83.7327919504, -83.7327919504, -83.7327919504, -83.73846045, -83.73846045, -83.73846045, -83.73846045, -83.73846045, -83.73846045, -83.7366445223, -83.7366445223, -83.7366445223, -83.7366445223, -83.7366445223, -83.7366445223, -83.7390934836, -83.7390934836, -83.7390934836, -83.7390934836, -83.7348105038, -83.7348105038, -83.7348105038, -83.7348105038], \"marker\": {\"color\": \"#FE00FA\"}, \"mode\": \"markers\", \"name\": \"Tappan\", \"showlegend\": true, \"subplot\": \"mapbox\", \"type\": \"scattermapbox\"}, {\"customdata\": [[1150.0], [1150.0], [1150.0], [1150.0], [1150.0], [1150.0], [1250.0], [1250.0], [1250.0], [1650.0], [1250.0], [1250.0], [1250.0], [1250.0], [1250.0], [1250.0], [1250.0], [1250.0], [1250.0], [1250.0], [2100.0], [2100.0], [2100.0], [2100.0], [2100.0], [2100.0], [2700.0], [2700.0], [2700.0], [2700.0], [2700.0], [2700.0], [3800.0], [4195.0], [4350.0], [4200.0], [4200.0], [4200.0], [4200.0], [4200.0], [4200.0], [4400.0], [4400.0], [4400.0], [4400.0], [4400.0], [4400.0], [4950.0], [4950.0], [4950.0], [4950.0], [4950.0], [4950.0], [5200.0], [1000.0], [1000.0], [1000.0], [1000.0], [1000.0], [1000.0], [550.0], [550.0], [550.0], [550.0], [550.0], [550.0], [550.0], [550.0], [600.0], [600.0], [600.0], [600.0], [650.0], [650.0], [650.0], [650.0], [675.0], [675.0], [675.0], [675.0], [675.0], [675.0], [675.0], [675.0], [675.0], [675.0], [675.0], [675.0], [675.0], [675.0], [675.0], [675.0], [710.0], [710.0], [710.0], [710.0], [755.0], [755.0], [755.0], [755.0], [772.0], [772.0], [772.0], [772.0], [800.0], [800.0], [800.0], [800.0], [800.0], [800.0], [800.0], [800.0], [915.0], [915.0], [915.0], [915.0], [525.0], [525.0], [525.0], [525.0], [525.0], [525.0], [525.0], [525.0], [525.0], [525.0], [525.0], [525.0], [1100.0], [1280.0], [1280.0], [1280.0], [1280.0], [1280.0], [1280.0], [650.0], [650.0], [650.0], [650.0], [500.0], [500.0], [500.0], [500.0], [750.0], [750.0], [750.0], [750.0], [1750.0], [1750.0], [1750.0], [1750.0], [1750.0], [1750.0], [1800.0], [1800.0], [1800.0], [1800.0], [1800.0], [1800.0], [800.0], [800.0], [800.0], [800.0], [3500.0], [3500.0], [3500.0], [3500.0], [3500.0], [3500.0], [3685.0], [3685.0], [3685.0], [3685.0], [3685.0], [3685.0], [3850.0], [3850.0], [3850.0], [3850.0], [3850.0], [3850.0], [4140.0], [4140.0], [4140.0], [4140.0], [4140.0], [4140.0], [4850.0], [4850.0], [4850.0], [4850.0], [4850.0], [4850.0], [825.0], [5800.0], [5800.0], [5800.0], [5800.0], [5800.0], [5800.0]], \"hoverlabel\": {\"namelength\": 0}, \"hovertemplate\": \"<b>%{hovertext}</b><br><br>neighborhood=North Burns Park<br>price=%{customdata[0]}<br>lat=%{lat}<br>lon=%{lon}\", \"hovertext\": [\"2405 Packard Street Ann Arbor, MI 48108\", \"2405 Packard Street Ann Arbor, MI 48108\", \"2405 Packard Street Ann Arbor, MI 48108\", \"2405 Packard Street Ann Arbor, MI 48108\", \"2405 Packard Street Ann Arbor, MI 48108\", \"2405 Packard Street Ann Arbor, MI 48108\", \"1221 Brooklyn Avenue Ann Arbor, MI 48104\", \"1221 Brooklyn Avenue Ann Arbor, MI 48104\", \"1221 Brooklyn Avenue Ann Arbor, MI 48104\", \"1221 Brooklyn Avenue Ann Arbor, MI 48104\", \"845 Brookwood Place Ann Arbor, MI 48104\", \"845 Brookwood Place Ann Arbor, MI 48104\", \"845 Brookwood Place Ann Arbor, MI 48104\", \"845 Brookwood Place Ann Arbor, MI 48104\", \"2003 Anderson Avenue Ann Arbor, MI 48104\", \"2003 Anderson Avenue Ann Arbor, MI 48104\", \"2003 Anderson Avenue Ann Arbor, MI 48104\", \"2003 Anderson Avenue Ann Arbor, MI 48104\", \"2003 Anderson Avenue Ann Arbor, MI 48104\", \"2003 Anderson Avenue Ann Arbor, MI 48104\", \"1003 Packard Street Ann Arbor, MI 48104\", \"1003 Packard Street Ann Arbor, MI 48104\", \"1003 Packard Street Ann Arbor, MI 48104\", \"1003 Packard Street Ann Arbor, MI 48104\", \"1003 Packard Street Ann Arbor, MI 48104\", \"1003 Packard Street Ann Arbor, MI 48104\", \"1110 Michigan Ave Ann Arbor, MI 48104\", \"1110 Michigan Ave Ann Arbor, MI 48104\", \"1110 Michigan Ave Ann Arbor, MI 48104\", \"1110 Michigan Ave Ann Arbor, MI 48104\", \"1110 Michigan Ave Ann Arbor, MI 48104\", \"1110 Michigan Ave Ann Arbor, MI 48104\", \"1015 Michigan Avenue Ann Arbor, MI 48104\", \"1537 Packard Street Ann Arbor, MI 48104\", \"1537 Packard Street Ann Arbor, MI 48104\", \"1228 White Street Ann Arbor, MI 48104\", \"1228 White Street Ann Arbor, MI 48104\", \"1228 White Street Ann Arbor, MI 48104\", \"1228 White Street Ann Arbor, MI 48104\", \"1228 White Street Ann Arbor, MI 48104\", \"1228 White Street Ann Arbor, MI 48104\", \"827 McKinley Avenue Ann Arbor, MI 48104\", \"827 McKinley Avenue Ann Arbor, MI 48104\", \"827 McKinley Avenue Ann Arbor, MI 48104\", \"827 McKinley Avenue Ann Arbor, MI 48104\", \"827 McKinley Avenue Ann Arbor, MI 48104\", \"827 McKinley Avenue Ann Arbor, MI 48104\", \"1020 South Forest Avenue Ann Arbor, MI 48104\", \"1020 South Forest Avenue Ann Arbor, MI 48104\", \"1020 South Forest Avenue Ann Arbor, MI 48104\", \"1020 South Forest Avenue Ann Arbor, MI 48104\", \"1020 South Forest Avenue Ann Arbor, MI 48104\", \"1020 South Forest Avenue Ann Arbor, MI 48104\", \"1030 Church Street Ann Arbor, MI 48104\", \"1320 Cambridge Road Ann Arbor, MI 48104\", \"1320 Cambridge Road Ann Arbor, MI 48104\", \"1320 Cambridge Road Ann Arbor, MI 48104\", \"1320 Cambridge Road Ann Arbor, MI 48104\", \"1320 Cambridge Road Ann Arbor, MI 48104\", \"1320 Cambridge Road Ann Arbor, MI 48104\", \"Ann Arbor, MI 48104\", \"Ann Arbor, MI 48104\", \"Ann Arbor, MI 48104\", \"Ann Arbor, MI 48104\", \"1204 East University Avenue Ann Arbor, MI 48104\", \"1204 East University Avenue Ann Arbor, MI 48104\", \"1204 East University Avenue Ann Arbor, MI 48104\", \"1204 East University Avenue Ann Arbor, MI 48104\", \"1137 South Forest Avenue Ann Arbor, MI 48104\", \"1137 South Forest Avenue Ann Arbor, MI 48104\", \"1137 South Forest Avenue Ann Arbor, MI 48104\", \"1137 South Forest Avenue Ann Arbor, MI 48104\", \"Ann Arbor, MI 48104\", \"Ann Arbor, MI 48104\", \"Ann Arbor, MI 48104\", \"Ann Arbor, MI 48104\", \"1070 Ferdon Road Ann Arbor, MI 48104\", \"1070 Ferdon Road Ann Arbor, MI 48104\", \"1070 Ferdon Road Ann Arbor, MI 48104\", \"1070 Ferdon Road Ann Arbor, MI 48104\", \"1070 Ferdon Road Ann Arbor, MI 48104\", \"1070 Ferdon Road Ann Arbor, MI 48104\", \"1070 Ferdon Road Ann Arbor, MI 48104\", \"1070 Ferdon Road Ann Arbor, MI 48104\", \"1070 Ferdon Road Ann Arbor, MI 48104\", \"1070 Ferdon Road Ann Arbor, MI 48104\", \"1070 Ferdon Road Ann Arbor, MI 48104\", \"1070 Ferdon Road Ann Arbor, MI 48104\", \"1131 Church St Ann Arbor, MI 48104\", \"1131 Church St Ann Arbor, MI 48104\", \"1131 Church St Ann Arbor, MI 48104\", \"1131 Church St Ann Arbor, MI 48104\", \"930 Dewey Avenue Ann Arbor, MI 48104\", \"930 Dewey Avenue Ann Arbor, MI 48104\", \"930 Dewey Avenue Ann Arbor, MI 48104\", \"930 Dewey Avenue Ann Arbor, MI 48104\", \"Ann Arbor, MI 48104\", \"Ann Arbor, MI 48104\", \"Ann Arbor, MI 48104\", \"Ann Arbor, MI 48104\", \"Ann Arbor, MI 48104\", \"Ann Arbor, MI 48104\", \"Ann Arbor, MI 48104\", \"Ann Arbor, MI 48104\", \"Ann Arbor, MI 48104\", \"Ann Arbor, MI 48104\", \"Ann Arbor, MI 48104\", \"Ann Arbor, MI 48104\", \"1003 Packard Street Ann Arbor, MI 48104\", \"1003 Packard Street Ann Arbor, MI 48104\", \"1003 Packard Street Ann Arbor, MI 48104\", \"1003 Packard Street Ann Arbor, MI 48104\", \"1131 Church Street Ann Arbor, MI 48104\", \"1131 Church Street Ann Arbor, MI 48104\", \"1131 Church Street Ann Arbor, MI 48104\", \"1131 Church Street Ann Arbor, MI 48104\", \"2955 Roundtree Boulevard Ypsilanti, MI 48197\", \"2955 Roundtree Boulevard Ypsilanti, MI 48197\", \"2955 Roundtree Boulevard Ypsilanti, MI 48197\", \"2955 Roundtree Boulevard Ypsilanti, MI 48197\", \"2955 Roundtree Boulevard Ypsilanti, MI 48197\", \"2955 Roundtree Boulevard Ypsilanti, MI 48197\", \"2955 Roundtree Boulevard Ypsilanti, MI 48197\", \"2955 Roundtree Boulevard Ypsilanti, MI 48197\", \"2955 Roundtree Boulevard Ypsilanti, MI 48197\", \"2955 Roundtree Boulevard Ypsilanti, MI 48197\", \"2955 Roundtree Boulevard Ypsilanti, MI 48197\", \"2955 Roundtree Boulevard Ypsilanti, MI 48197\", \"1006 Packard Street Ann Arbor, MI 48104\", \"1228 Prospect Street Ann Arbor, MI 48104\", \"1228 Prospect Street Ann Arbor, MI 48104\", \"1228 Prospect Street Ann Arbor, MI 48104\", \"1228 Prospect Street Ann Arbor, MI 48104\", \"1228 Prospect Street Ann Arbor, MI 48104\", \"1228 Prospect Street Ann Arbor, MI 48104\", \"1001 South Forest Avenue Ann Arbor, MI 48104\", \"1001 South Forest Avenue Ann Arbor, MI 48104\", \"1001 South Forest Avenue Ann Arbor, MI 48104\", \"1001 South Forest Avenue Ann Arbor, MI 48104\", \"1119 Granger Avenue Ann Arbor, MI 48104\", \"1119 Granger Avenue Ann Arbor, MI 48104\", \"1119 Granger Avenue Ann Arbor, MI 48104\", \"1119 Granger Avenue Ann Arbor, MI 48104\", \"1424 Golden Avenue Ann Arbor, MI 48104\", \"1424 Golden Avenue Ann Arbor, MI 48104\", \"1424 Golden Avenue Ann Arbor, MI 48104\", \"1424 Golden Avenue Ann Arbor, MI 48104\", \"1905 Packard Street Ann Arbor, MI 48104\", \"1905 Packard Street Ann Arbor, MI 48104\", \"1905 Packard Street Ann Arbor, MI 48104\", \"1905 Packard Street Ann Arbor, MI 48104\", \"1905 Packard Street Ann Arbor, MI 48104\", \"1905 Packard Street Ann Arbor, MI 48104\", \"3029 Charing Cross Road Ann Arbor, MI 48108\", \"3029 Charing Cross Road Ann Arbor, MI 48108\", \"3029 Charing Cross Road Ann Arbor, MI 48108\", \"3029 Charing Cross Road Ann Arbor, MI 48108\", \"3029 Charing Cross Road Ann Arbor, MI 48108\", \"3029 Charing Cross Road Ann Arbor, MI 48108\", \"931 Dewey Avenue Ann Arbor, MI 48104\", \"931 Dewey Avenue Ann Arbor, MI 48104\", \"931 Dewey Avenue Ann Arbor, MI 48104\", \"931 Dewey Avenue Ann Arbor, MI 48104\", \"1532 Packard St. Ann Arbor, MI 48104\", \"1532 Packard St. Ann Arbor, MI 48104\", \"1532 Packard St. Ann Arbor, MI 48104\", \"1532 Packard St. Ann Arbor, MI 48104\", \"1532 Packard St. Ann Arbor, MI 48104\", \"1532 Packard St. Ann Arbor, MI 48104\", \"1308 Olivia Avenue Ann Arbor, MI 48104\", \"1308 Olivia Avenue Ann Arbor, MI 48104\", \"1308 Olivia Avenue Ann Arbor, MI 48104\", \"1308 Olivia Avenue Ann Arbor, MI 48104\", \"1308 Olivia Avenue Ann Arbor, MI 48104\", \"1308 Olivia Avenue Ann Arbor, MI 48104\", \"1114 Prospect Street Ann Arbor, MI 48104\", \"1114 Prospect Street Ann Arbor, MI 48104\", \"1114 Prospect Street Ann Arbor, MI 48104\", \"1114 Prospect Street Ann Arbor, MI 48104\", \"1114 Prospect Street Ann Arbor, MI 48104\", \"1114 Prospect Street Ann Arbor, MI 48104\", \"1209 Packard Street Ann Arbor, MI 48104\", \"1209 Packard Street Ann Arbor, MI 48104\", \"1209 Packard Street Ann Arbor, MI 48104\", \"1209 Packard Street Ann Arbor, MI 48104\", \"1209 Packard Street Ann Arbor, MI 48104\", \"1209 Packard Street Ann Arbor, MI 48104\", \"926 Packard St Ann Arbor, MI 48104\", \"926 Packard St Ann Arbor, MI 48104\", \"926 Packard St Ann Arbor, MI 48104\", \"926 Packard St Ann Arbor, MI 48104\", \"926 Packard St Ann Arbor, MI 48104\", \"926 Packard St Ann Arbor, MI 48104\", \"1006 Packard Street Ann Arbor, MI 48104\", \"1116 South Forest Avenue Ann Arbor, MI 48104\", \"1116 South Forest Avenue Ann Arbor, MI 48104\", \"1116 South Forest Avenue Ann Arbor, MI 48104\", \"1116 South Forest Avenue Ann Arbor, MI 48104\", \"1116 South Forest Avenue Ann Arbor, MI 48104\", \"1116 South Forest Avenue Ann Arbor, MI 48104\"], \"lat\": [42.2532598667, 42.2532598667, 42.2532598667, 42.2532598667, 42.2532598667, 42.2532598667, 42.2636812041, 42.2636812041, 42.2636812041, 42.2636812041, 42.267098541, 42.267098541, 42.267098541, 42.267098541, 42.2571126352, 42.2571126352, 42.2571126352, 42.2571126352, 42.2571126352, 42.2571126352, 42.267774, 42.267774, 42.267774, 42.267774, 42.267774, 42.267774, 42.2671593144, 42.2671593144, 42.2671593144, 42.2671593144, 42.2671593144, 42.2671593144, 42.2679428, 42.2629466327, 42.2629466327, 42.26673915, 42.26673915, 42.26673915, 42.26673915, 42.26673915, 42.26673915, 42.267735585, 42.267735585, 42.267735585, 42.267735585, 42.267735585, 42.267735585, 42.269397, 42.269397, 42.269397, 42.269397, 42.269397, 42.269397, 42.2687191, 42.269818, 42.269818, 42.269818, 42.269818, 42.269818, 42.269818, 42.2681569, 42.2681569, 42.2681569, 42.2681569, 42.2683457, 42.2683457, 42.2683457, 42.2683457, 42.267644, 42.267644, 42.267644, 42.267644, 42.2681569, 42.2681569, 42.2681569, 42.2681569, 42.268017, 42.268017, 42.268017, 42.268017, 42.268017, 42.268017, 42.268017, 42.268017, 42.268017, 42.268017, 42.268017, 42.268017, 42.2682222, 42.2682222, 42.2682222, 42.2682222, 42.2658186735, 42.2658186735, 42.2658186735, 42.2658186735, 42.2681569, 42.2681569, 42.2681569, 42.2681569, 42.2681569, 42.2681569, 42.2681569, 42.2681569, 42.2681569, 42.2681569, 42.2681569, 42.2681569, 42.267774, 42.267774, 42.267774, 42.267774, 42.2682222, 42.2682222, 42.2682222, 42.2682222, 42.2286905714, 42.2286905714, 42.2286905714, 42.2286905714, 42.2286905714, 42.2286905714, 42.2286905714, 42.2286905714, 42.2286905714, 42.2286905714, 42.2286905714, 42.2286905714, 42.26734385, 42.2675817143, 42.2675817143, 42.2675817143, 42.2675817143, 42.2675817143, 42.2675817143, 42.2702573, 42.2702573, 42.2702573, 42.2702573, 42.2643804545, 42.2643804545, 42.2643804545, 42.2643804545, 42.263449, 42.263449, 42.263449, 42.263449, 42.2587724139, 42.2587724139, 42.2587724139, 42.2587724139, 42.2587724139, 42.2587724139, 42.2447275366, 42.2447275366, 42.2447275366, 42.2447275366, 42.2447275366, 42.2447275366, 42.2659826735, 42.2659826735, 42.2659826735, 42.2659826735, 42.26303775, 42.26303775, 42.26303775, 42.26303775, 42.26303775, 42.26303775, 42.2655903636, 42.2655903636, 42.2655903636, 42.2655903636, 42.2655903636, 42.2655903636, 42.2681623, 42.2681623, 42.2681623, 42.2681623, 42.2681623, 42.2681623, 42.2655023, 42.2655023, 42.2655023, 42.2655023, 42.2655023, 42.2655023, 42.2678677692, 42.2678677692, 42.2678677692, 42.2678677692, 42.2678677692, 42.2678677692, 42.26734385, 42.26824, 42.26824, 42.26824, 42.26824, 42.26824, 42.26824], \"legendgroup\": \"North Burns Park\", \"lon\": [-83.72432868, -83.72432868, -83.72432868, -83.72432868, -83.72432868, -83.72432868, -83.734498, -83.734498, -83.734498, -83.734498, -83.7381128998, -83.7381128998, -83.7381128998, -83.7381128998, -83.7214918743, -83.7214918743, -83.7214918743, -83.7214918743, -83.7214918743, -83.7214918743, -83.7367795675, -83.7367795675, -83.7367795675, -83.7367795675, -83.7367795675, -83.7367795675, -83.7351197557, -83.7351197557, -83.7351197557, -83.7351197557, -83.7351197557, -83.7351197557, -83.7354788, -83.7318699592, -83.7318699592, -83.7395725507, -83.7395725507, -83.7395725507, -83.7395725507, -83.7395725507, -83.7395725507, -83.7387431071, -83.7387431071, -83.7387431071, -83.7387431071, -83.7387431071, -83.7387431071, -83.733224825, -83.733224825, -83.733224825, -83.733224825, -83.733224825, -83.733224825, -83.7346463323, -83.732097, -83.732097, -83.732097, -83.732097, -83.732097, -83.732097, -83.7312291, -83.7312291, -83.7312291, -83.7312291, -83.7366784973, -83.7366784973, -83.7366784973, -83.7366784973, -83.732978, -83.732978, -83.732978, -83.732978, -83.7312291, -83.7312291, -83.7312291, -83.7312291, -83.725579, -83.725579, -83.725579, -83.725579, -83.725579, -83.725579, -83.725579, -83.725579, -83.725579, -83.725579, -83.725579, -83.725579, -83.734027419, -83.734027419, -83.734027419, -83.734027419, -83.7370826122, -83.7370826122, -83.7370826122, -83.7370826122, -83.7312291, -83.7312291, -83.7312291, -83.7312291, -83.7312291, -83.7312291, -83.7312291, -83.7312291, -83.7312291, -83.7312291, -83.7312291, -83.7312291, -83.7367795675, -83.7367795675, -83.7367795675, -83.7367795675, -83.734027419, -83.734027419, -83.734027419, -83.734027419, -83.6551216429, -83.6551216429, -83.6551216429, -83.6551216429, -83.6551216429, -83.6551216429, -83.6551216429, -83.6551216429, -83.6551216429, -83.6551216429, -83.6551216429, -83.6551216429, -83.7371027388, -83.7340347143, -83.7340347143, -83.7340347143, -83.7340347143, -83.7340347143, -83.7340347143, -83.7327919504, -83.7327919504, -83.7327919504, -83.7327919504, -83.7357980909, -83.7357980909, -83.7357980909, -83.7357980909, -83.736276, -83.736276, -83.736276, -83.736276, -83.7282782755, -83.7282782755, -83.7282782755, -83.7282782755, -83.7282782755, -83.7282782755, -83.6893325787, -83.6893325787, -83.6893325787, -83.6893325787, -83.6893325787, -83.6893325787, -83.7370906122, -83.7370906122, -83.7370906122, -83.7370906122, -83.7322548333, -83.7322548333, -83.7322548333, -83.7322548333, -83.7322548333, -83.7322548333, -83.731465, -83.731465, -83.731465, -83.731465, -83.731465, -83.731465, -83.7348695523, -83.7348695523, -83.7348695523, -83.7348695523, -83.7348695523, -83.7348695523, -83.7345142, -83.7345142, -83.7345142, -83.7345142, -83.7345142, -83.7345142, -83.7374896923, -83.7374896923, -83.7374896923, -83.7374896923, -83.7374896923, -83.7374896923, -83.7371027388, -83.733199, -83.733199, -83.733199, -83.733199, -83.733199, -83.733199], \"marker\": {\"color\": \"#325A9B\"}, \"mode\": \"markers\", \"name\": \"North Burns Park\", \"showlegend\": true, \"subplot\": \"mapbox\", \"type\": \"scattermapbox\"}],\n",
       "                        {\"legend\": {\"title\": {\"text\": \"neighborhood\"}, \"tracegroupgap\": 0}, \"mapbox\": {\"center\": {\"lat\": 42.27387389608035, \"lon\": -83.73743804727238}, \"domain\": {\"x\": [0.0, 1.0], \"y\": [0.0, 1.0]}, \"style\": \"carto-positron\", \"zoom\": 12}, \"margin\": {\"b\": 0, \"l\": 0, \"r\": 0, \"t\": 0}, \"template\": {\"data\": {\"bar\": [{\"error_x\": {\"color\": \"#2a3f5f\"}, \"error_y\": {\"color\": \"#2a3f5f\"}, \"marker\": {\"line\": {\"color\": \"#E5ECF6\", \"width\": 0.5}}, \"type\": \"bar\"}], \"barpolar\": [{\"marker\": {\"line\": {\"color\": \"#E5ECF6\", \"width\": 0.5}}, \"type\": \"barpolar\"}], \"carpet\": [{\"aaxis\": {\"endlinecolor\": \"#2a3f5f\", \"gridcolor\": \"white\", \"linecolor\": \"white\", \"minorgridcolor\": \"white\", \"startlinecolor\": \"#2a3f5f\"}, \"baxis\": {\"endlinecolor\": \"#2a3f5f\", \"gridcolor\": \"white\", \"linecolor\": \"white\", \"minorgridcolor\": \"white\", \"startlinecolor\": \"#2a3f5f\"}, \"type\": \"carpet\"}], \"choropleth\": [{\"colorbar\": {\"outlinewidth\": 0, \"ticks\": \"\"}, \"type\": \"choropleth\"}], \"contour\": [{\"colorbar\": {\"outlinewidth\": 0, \"ticks\": \"\"}, \"colorscale\": [[0.0, \"#0d0887\"], [0.1111111111111111, \"#46039f\"], [0.2222222222222222, \"#7201a8\"], [0.3333333333333333, \"#9c179e\"], [0.4444444444444444, \"#bd3786\"], [0.5555555555555556, \"#d8576b\"], [0.6666666666666666, \"#ed7953\"], [0.7777777777777778, \"#fb9f3a\"], [0.8888888888888888, \"#fdca26\"], [1.0, \"#f0f921\"]], \"type\": \"contour\"}], \"contourcarpet\": [{\"colorbar\": {\"outlinewidth\": 0, \"ticks\": \"\"}, \"type\": \"contourcarpet\"}], \"heatmap\": [{\"colorbar\": {\"outlinewidth\": 0, \"ticks\": \"\"}, \"colorscale\": [[0.0, \"#0d0887\"], [0.1111111111111111, \"#46039f\"], [0.2222222222222222, \"#7201a8\"], [0.3333333333333333, \"#9c179e\"], [0.4444444444444444, \"#bd3786\"], [0.5555555555555556, \"#d8576b\"], [0.6666666666666666, \"#ed7953\"], [0.7777777777777778, \"#fb9f3a\"], [0.8888888888888888, \"#fdca26\"], [1.0, \"#f0f921\"]], \"type\": \"heatmap\"}], \"heatmapgl\": [{\"colorbar\": {\"outlinewidth\": 0, \"ticks\": \"\"}, \"colorscale\": [[0.0, \"#0d0887\"], [0.1111111111111111, \"#46039f\"], [0.2222222222222222, \"#7201a8\"], [0.3333333333333333, \"#9c179e\"], [0.4444444444444444, \"#bd3786\"], [0.5555555555555556, \"#d8576b\"], [0.6666666666666666, \"#ed7953\"], [0.7777777777777778, \"#fb9f3a\"], [0.8888888888888888, \"#fdca26\"], [1.0, \"#f0f921\"]], \"type\": \"heatmapgl\"}], \"histogram\": [{\"marker\": {\"colorbar\": {\"outlinewidth\": 0, \"ticks\": \"\"}}, \"type\": \"histogram\"}], \"histogram2d\": [{\"colorbar\": {\"outlinewidth\": 0, \"ticks\": \"\"}, \"colorscale\": [[0.0, \"#0d0887\"], [0.1111111111111111, \"#46039f\"], [0.2222222222222222, \"#7201a8\"], [0.3333333333333333, \"#9c179e\"], [0.4444444444444444, \"#bd3786\"], [0.5555555555555556, \"#d8576b\"], [0.6666666666666666, \"#ed7953\"], [0.7777777777777778, \"#fb9f3a\"], [0.8888888888888888, \"#fdca26\"], [1.0, \"#f0f921\"]], \"type\": \"histogram2d\"}], \"histogram2dcontour\": [{\"colorbar\": {\"outlinewidth\": 0, \"ticks\": \"\"}, \"colorscale\": [[0.0, \"#0d0887\"], [0.1111111111111111, \"#46039f\"], [0.2222222222222222, \"#7201a8\"], [0.3333333333333333, \"#9c179e\"], [0.4444444444444444, \"#bd3786\"], [0.5555555555555556, \"#d8576b\"], [0.6666666666666666, \"#ed7953\"], [0.7777777777777778, \"#fb9f3a\"], [0.8888888888888888, \"#fdca26\"], [1.0, \"#f0f921\"]], \"type\": \"histogram2dcontour\"}], \"mesh3d\": [{\"colorbar\": {\"outlinewidth\": 0, \"ticks\": \"\"}, \"type\": \"mesh3d\"}], \"parcoords\": [{\"line\": {\"colorbar\": {\"outlinewidth\": 0, \"ticks\": \"\"}}, \"type\": \"parcoords\"}], \"pie\": [{\"automargin\": true, \"type\": \"pie\"}], \"scatter\": [{\"marker\": {\"colorbar\": {\"outlinewidth\": 0, \"ticks\": \"\"}}, \"type\": \"scatter\"}], \"scatter3d\": [{\"line\": {\"colorbar\": {\"outlinewidth\": 0, \"ticks\": \"\"}}, \"marker\": {\"colorbar\": {\"outlinewidth\": 0, \"ticks\": \"\"}}, \"type\": \"scatter3d\"}], \"scattercarpet\": [{\"marker\": {\"colorbar\": {\"outlinewidth\": 0, \"ticks\": \"\"}}, \"type\": \"scattercarpet\"}], \"scattergeo\": [{\"marker\": {\"colorbar\": {\"outlinewidth\": 0, \"ticks\": \"\"}}, \"type\": \"scattergeo\"}], \"scattergl\": [{\"marker\": {\"colorbar\": {\"outlinewidth\": 0, \"ticks\": \"\"}}, \"type\": \"scattergl\"}], \"scattermapbox\": [{\"marker\": {\"colorbar\": {\"outlinewidth\": 0, \"ticks\": \"\"}}, \"type\": \"scattermapbox\"}], \"scatterpolar\": [{\"marker\": {\"colorbar\": {\"outlinewidth\": 0, \"ticks\": \"\"}}, \"type\": \"scatterpolar\"}], \"scatterpolargl\": [{\"marker\": {\"colorbar\": {\"outlinewidth\": 0, \"ticks\": \"\"}}, \"type\": \"scatterpolargl\"}], \"scatterternary\": [{\"marker\": {\"colorbar\": {\"outlinewidth\": 0, \"ticks\": \"\"}}, \"type\": \"scatterternary\"}], \"surface\": [{\"colorbar\": {\"outlinewidth\": 0, \"ticks\": \"\"}, \"colorscale\": [[0.0, \"#0d0887\"], [0.1111111111111111, \"#46039f\"], [0.2222222222222222, \"#7201a8\"], [0.3333333333333333, \"#9c179e\"], [0.4444444444444444, \"#bd3786\"], [0.5555555555555556, \"#d8576b\"], [0.6666666666666666, \"#ed7953\"], [0.7777777777777778, \"#fb9f3a\"], [0.8888888888888888, \"#fdca26\"], [1.0, \"#f0f921\"]], \"type\": \"surface\"}], \"table\": [{\"cells\": {\"fill\": {\"color\": \"#EBF0F8\"}, \"line\": {\"color\": \"white\"}}, \"header\": {\"fill\": {\"color\": \"#C8D4E3\"}, \"line\": {\"color\": \"white\"}}, \"type\": \"table\"}]}, \"layout\": {\"annotationdefaults\": {\"arrowcolor\": \"#2a3f5f\", \"arrowhead\": 0, \"arrowwidth\": 1}, \"coloraxis\": {\"colorbar\": {\"outlinewidth\": 0, \"ticks\": \"\"}}, \"colorscale\": {\"diverging\": [[0, \"#8e0152\"], [0.1, \"#c51b7d\"], [0.2, \"#de77ae\"], [0.3, \"#f1b6da\"], [0.4, \"#fde0ef\"], [0.5, \"#f7f7f7\"], [0.6, \"#e6f5d0\"], [0.7, \"#b8e186\"], [0.8, \"#7fbc41\"], [0.9, \"#4d9221\"], [1, \"#276419\"]], \"sequential\": [[0.0, \"#0d0887\"], [0.1111111111111111, \"#46039f\"], [0.2222222222222222, \"#7201a8\"], [0.3333333333333333, \"#9c179e\"], [0.4444444444444444, \"#bd3786\"], [0.5555555555555556, \"#d8576b\"], [0.6666666666666666, \"#ed7953\"], [0.7777777777777778, \"#fb9f3a\"], [0.8888888888888888, \"#fdca26\"], [1.0, \"#f0f921\"]], \"sequentialminus\": [[0.0, \"#0d0887\"], [0.1111111111111111, \"#46039f\"], [0.2222222222222222, \"#7201a8\"], [0.3333333333333333, \"#9c179e\"], [0.4444444444444444, \"#bd3786\"], [0.5555555555555556, \"#d8576b\"], [0.6666666666666666, \"#ed7953\"], [0.7777777777777778, \"#fb9f3a\"], [0.8888888888888888, \"#fdca26\"], [1.0, \"#f0f921\"]]}, \"colorway\": [\"#636efa\", \"#EF553B\", \"#00cc96\", \"#ab63fa\", \"#FFA15A\", \"#19d3f3\", \"#FF6692\", \"#B6E880\", \"#FF97FF\", \"#FECB52\"], \"font\": {\"color\": \"#2a3f5f\"}, \"geo\": {\"bgcolor\": \"white\", \"lakecolor\": \"white\", \"landcolor\": \"#E5ECF6\", \"showlakes\": true, \"showland\": true, \"subunitcolor\": \"white\"}, \"hoverlabel\": {\"align\": \"left\"}, \"hovermode\": \"closest\", \"mapbox\": {\"style\": \"light\"}, \"paper_bgcolor\": \"white\", \"plot_bgcolor\": \"#E5ECF6\", \"polar\": {\"angularaxis\": {\"gridcolor\": \"white\", \"linecolor\": \"white\", \"ticks\": \"\"}, \"bgcolor\": \"#E5ECF6\", \"radialaxis\": {\"gridcolor\": \"white\", \"linecolor\": \"white\", \"ticks\": \"\"}}, \"scene\": {\"xaxis\": {\"backgroundcolor\": \"#E5ECF6\", \"gridcolor\": \"white\", \"gridwidth\": 2, \"linecolor\": \"white\", \"showbackground\": true, \"ticks\": \"\", \"zerolinecolor\": \"white\"}, \"yaxis\": {\"backgroundcolor\": \"#E5ECF6\", \"gridcolor\": \"white\", \"gridwidth\": 2, \"linecolor\": \"white\", \"showbackground\": true, \"ticks\": \"\", \"zerolinecolor\": \"white\"}, \"zaxis\": {\"backgroundcolor\": \"#E5ECF6\", \"gridcolor\": \"white\", \"gridwidth\": 2, \"linecolor\": \"white\", \"showbackground\": true, \"ticks\": \"\", \"zerolinecolor\": \"white\"}}, \"shapedefaults\": {\"line\": {\"color\": \"#2a3f5f\"}}, \"ternary\": {\"aaxis\": {\"gridcolor\": \"white\", \"linecolor\": \"white\", \"ticks\": \"\"}, \"baxis\": {\"gridcolor\": \"white\", \"linecolor\": \"white\", \"ticks\": \"\"}, \"bgcolor\": \"#E5ECF6\", \"caxis\": {\"gridcolor\": \"white\", \"linecolor\": \"white\", \"ticks\": \"\"}}, \"title\": {\"x\": 0.05}, \"xaxis\": {\"automargin\": true, \"gridcolor\": \"white\", \"linecolor\": \"white\", \"ticks\": \"\", \"title\": {\"standoff\": 15}, \"zerolinecolor\": \"white\", \"zerolinewidth\": 2}, \"yaxis\": {\"automargin\": true, \"gridcolor\": \"white\", \"linecolor\": \"white\", \"ticks\": \"\", \"title\": {\"standoff\": 15}, \"zerolinecolor\": \"white\", \"zerolinewidth\": 2}}}},\n",
       "                        {\"responsive\": true}\n",
       "                    ).then(function(){\n",
       "                            \n",
       "var gd = document.getElementById('a91ad891-eeb8-4c5c-a8cb-3e78bbaa7d7f');\n",
       "var x = new MutationObserver(function (mutations, observer) {{\n",
       "        var display = window.getComputedStyle(gd).display;\n",
       "        if (!display || display === 'none') {{\n",
       "            console.log([gd, 'removed!']);\n",
       "            Plotly.purge(gd);\n",
       "            observer.disconnect();\n",
       "        }}\n",
       "}});\n",
       "\n",
       "// Listen for the removal of the full notebook cells\n",
       "var notebookContainer = gd.closest('#notebook-container');\n",
       "if (notebookContainer) {{\n",
       "    x.observe(notebookContainer, {childList: true});\n",
       "}}\n",
       "\n",
       "// Listen for the clearing of the current output cell\n",
       "var outputEl = gd.closest('.output');\n",
       "if (outputEl) {{\n",
       "    x.observe(outputEl, {childList: true});\n",
       "}}\n",
       "\n",
       "                        })\n",
       "                };\n",
       "                });\n",
       "            </script>\n",
       "        </div>"
      ]
     },
     "metadata": {},
     "output_type": "display_data"
    }
   ],
   "source": [
    "fig.update_layout(margin={\"r\":0,\"t\":0,\"l\":0,\"b\":0})\n",
    "fig.show()"
   ]
  },
  {
   "cell_type": "markdown",
   "metadata": {},
   "source": [
    "## additional ideas\n",
    "- neighborhoods by number of listings (density)\n",
    "- neighborhoods by variability of price\n",
    "- ???"
   ]
  },
  {
   "cell_type": "code",
   "execution_count": null,
   "metadata": {},
   "outputs": [],
   "source": []
  }
 ],
 "metadata": {
  "kernelspec": {
   "display_name": "Python 3",
   "language": "python",
   "name": "python3"
  },
  "language_info": {
   "codemirror_mode": {
    "name": "ipython",
    "version": 3
   },
   "file_extension": ".py",
   "mimetype": "text/x-python",
   "name": "python",
   "nbconvert_exporter": "python",
   "pygments_lexer": "ipython3",
   "version": "3.7.3"
  }
 },
 "nbformat": 4,
 "nbformat_minor": 4
}

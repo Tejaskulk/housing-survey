{
 "cells": [
  {
   "cell_type": "code",
   "execution_count": 12,
   "metadata": {},
   "outputs": [],
   "source": [
    "import pandas as pd\n",
    "import matplotlib.pyplot as plt\n",
    "\n",
    "\n",
    "\n",
    "df = pd.read_json(\"./offcampushousing.JSON\")\n"
   ]
  },
  {
   "cell_type": "code",
   "execution_count": 13,
   "metadata": {},
   "outputs": [
    {
     "name": "stdout",
     "output_type": "stream",
     "text": [
      "Welcome\n"
     ]
    }
   ],
   "source": [
    "print(\"Welcome\")\n",
    "#print(\"asd\")\n",
    "#minimum_range = int(input(\"Enter a minimum price range: \"))\n",
    "#maximum_range = int(input(\"Enter a maximum price range: \"))\n"
   ]
  },
  {
   "cell_type": "code",
   "execution_count": 6,
   "metadata": {
    "scrolled": true
   },
   "outputs": [],
   "source": [
    "#df[\"price\"]"
   ]
  },
  {
   "cell_type": "code",
   "execution_count": 7,
   "metadata": {},
   "outputs": [],
   "source": [
    "#less_than = df[df[\"price\"] < maximum_range]\n",
    "#between = less_than[less_than[\"price\"] > minimum_range]\n",
    "#print(\"Here are your results\")\n",
    "#between"
   ]
  },
  {
   "cell_type": "code",
   "execution_count": 8,
   "metadata": {},
   "outputs": [],
   "source": [
    "#company_and_price = df.groupby(\"neighborhood\")[\"price\"]\n",
    "#company_and_price.mean()"
   ]
  },
  {
   "cell_type": "code",
   "execution_count": 14,
   "metadata": {},
   "outputs": [
    {
     "data": {
      "text/plain": [
       "pandas.core.frame.DataFrame"
      ]
     },
     "execution_count": 14,
     "metadata": {},
     "output_type": "execute_result"
    }
   ],
   "source": [
    "neighborhoodsdf = pd.DataFrame(df[\"neighborhood\"].unique())\n",
    "type(neighborhoodsdf)\n"
   ]
  },
  {
   "cell_type": "code",
   "execution_count": 25,
   "metadata": {},
   "outputs": [
    {
     "data": {
      "text/plain": [
       "pandas.core.frame.DataFrame"
      ]
     },
     "execution_count": 25,
     "metadata": {},
     "output_type": "execute_result"
    }
   ],
   "source": [
    "nprice = df[[\"neighborhood\", \"price\"]]\n",
    "prices = nprice.groupby(\"price\")\n",
    "prices = pd.DataFrame(prices)\n",
    "prices.head()\n",
    "type(prices)\n",
    "#prices[\"price\"].head()\n",
    "#boxplot = df.boxplot(by='X')\n",
    "#boxplot = prices.boxplot(column = \"East Packard\", by = prices[\"price\"])\n",
    "#boxplot\n",
    "\n",
    "#df = pd.DataFrame(np.random.randn(10, 4),\n",
    " #                 columns=['Col1', 'Col2', 'Col3', 'Col4'])\n",
    "#boxplot = df.boxplot(column=['Col1', 'Col2', 'Col3'])"
   ]
  },
  {
   "cell_type": "code",
   "execution_count": null,
   "metadata": {},
   "outputs": [],
   "source": []
  },
  {
   "cell_type": "code",
   "execution_count": null,
   "metadata": {},
   "outputs": [],
   "source": []
  }
 ],
 "metadata": {
  "kernelspec": {
   "display_name": "Python 3",
   "language": "python",
   "name": "python3"
  },
  "language_info": {
   "codemirror_mode": {
    "name": "ipython",
    "version": 3
   },
   "file_extension": ".py",
   "mimetype": "text/x-python",
   "name": "python",
   "nbconvert_exporter": "python",
   "pygments_lexer": "ipython3",
   "version": "3.7.1"
  }
 },
 "nbformat": 4,
 "nbformat_minor": 2
}

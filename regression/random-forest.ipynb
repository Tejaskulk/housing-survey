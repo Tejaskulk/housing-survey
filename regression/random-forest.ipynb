{
 "cells": [
  {
   "cell_type": "markdown",
   "metadata": {},
   "source": [
    "## random forest regression model for predicting price"
   ]
  },
  {
   "cell_type": "code",
   "execution_count": 83,
   "metadata": {},
   "outputs": [],
   "source": [
    "import pandas as pd\n",
    "import numpy as np\n",
    "import random\n",
    "from sklearn.model_selection import train_test_split, cross_val_score\n",
    "from sklearn.ensemble import RandomForestRegressor\n",
    "from sklearn.datasets import make_regression\n",
    "from sklearn.impute import SimpleImputer\n",
    "from sklearn.metrics import mean_squared_error\n",
    "from tqdm.notebook import tqdm"
   ]
  },
  {
   "cell_type": "code",
   "execution_count": 84,
   "metadata": {
    "scrolled": true
   },
   "outputs": [],
   "source": [
    "X = pd.read_json('../data/model_data/X.json')\n",
    "y = pd.read_json('../data/model_data/y.json', typ='series')"
   ]
  },
  {
   "cell_type": "markdown",
   "metadata": {},
   "source": [
    "## some data cleaning"
   ]
  },
  {
   "cell_type": "code",
   "execution_count": 85,
   "metadata": {},
   "outputs": [],
   "source": [
    "# one-hot-encode categorical features\n",
    "X_encoded = pd.get_dummies(X)\n",
    "X_float = X.select_dtypes(include=np.number)\n",
    "X = pd.concat([X_float, X_encoded], axis=1)"
   ]
  },
  {
   "cell_type": "code",
   "execution_count": 86,
   "metadata": {},
   "outputs": [],
   "source": [
    "# impute np.nan values with numerical sentinel \n",
    "imp = SimpleImputer(missing_values=np.nan, strategy='constant', fill_value = -999)\n",
    "X = imp.fit_transform(X)"
   ]
  },
  {
   "cell_type": "code",
   "execution_count": 87,
   "metadata": {},
   "outputs": [],
   "source": [
    "X_tr, X_test, y_tr, y_test = train_test_split(X, y, random_state=4)"
   ]
  },
  {
   "cell_type": "code",
   "execution_count": 88,
   "metadata": {},
   "outputs": [],
   "source": [
    "# oops -- impute singular 0 value by mean imputation\n",
    "y_test[1576] = np.mean(y_test)"
   ]
  },
  {
   "cell_type": "markdown",
   "metadata": {},
   "source": [
    "## hyperparameter selection"
   ]
  },
  {
   "cell_type": "code",
   "execution_count": 89,
   "metadata": {},
   "outputs": [],
   "source": [
    "def mean_absolute_percentage_error(y_true, y_pred): \n",
    "    y_true = np.array(y_true)\n",
    "    y_pred = np.array(y_pred)\n",
    "    return np.mean(np.abs((y_true - y_pred) / y_true)) * 100"
   ]
  },
  {
   "cell_type": "code",
   "execution_count": 90,
   "metadata": {
    "scrolled": true
   },
   "outputs": [],
   "source": [
    "def calc_metrics(y_true, y_pred):\n",
    "    price_pred = np.exp(y_pred)\n",
    "    price_true = np.exp(y_true).to_numpy()\n",
    "    \n",
    "    mape = mean_absolute_percentage_error(price_true, price_pred)\n",
    "    rmsle = mean_squared_error(y_true, y_pred, squared=False)\n",
    "    rmse = mean_squared_error(price_true, price_pred, squared=False)\n",
    "    \n",
    "    return mape, rmsle, rmse"
   ]
  },
  {
   "cell_type": "code",
   "execution_count": 91,
   "metadata": {},
   "outputs": [],
   "source": [
    "# random search for hyperparameter selection\n",
    "m_list, n_list = [], []\n",
    "for i in range(100):\n",
    "        m_list.append(random.randint(1, 50))\n",
    "        n_list.append(random.randint(1, 20))\n",
    "\n",
    "m_list.sort()\n",
    "\n",
    "values = list(zip(m_list, n_list))"
   ]
  },
  {
   "cell_type": "code",
   "execution_count": null,
   "metadata": {
    "scrolled": true
   },
   "outputs": [
    {
     "data": {
      "application/vnd.jupyter.widget-view+json": {
       "model_id": "40840b9e2d81447cace6c45233d7605e",
       "version_major": 2,
       "version_minor": 0
      },
      "text/plain": [
       "HBox(children=(FloatProgress(value=0.0), HTML(value='')))"
      ]
     },
     "metadata": {},
     "output_type": "display_data"
    }
   ],
   "source": [
    "# 5-fold cross-validation \n",
    "cv_scores = []\n",
    "for m_, n_ in tqdm(values):\n",
    "    rf = RandomForestRegressor(max_features=m_, n_estimators=n_, random_state=42, criterion='mse')\n",
    "    scores = -cross_val_score(rf, X, y, scoring='neg_mean_squared_error') # default: k=5\n",
    "    cv_scores.append(scores.mean())\n",
    "    \n",
    "m, n = values[np.argmin(cv_scores)]\n",
    "print('optimal values:', (m, n))\n",
    "print('performance:', np.min(cv_scores))"
   ]
  },
  {
   "cell_type": "code",
   "execution_count": null,
   "metadata": {},
   "outputs": [],
   "source": [
    "# evaluate on test data\n",
    "rf = RandomForestRegressor(max_features=m, n_estimators=n, random_state=42)\n",
    "rf.fit(X_tr, y_tr)\n",
    "\n",
    "# sort in ascending order to detect possible bias\n",
    "idx = list(np.argsort(y_test))\n",
    "\n",
    "y_test = pd.Series(y_test.to_numpy()[idx])\n",
    "X_test = X_test[idx]\n",
    "\n",
    "y_pred = rf.predict(X_test)"
   ]
  },
  {
   "cell_type": "markdown",
   "metadata": {},
   "source": [
    "## metrics and error visualization"
   ]
  },
  {
   "cell_type": "code",
   "execution_count": 82,
   "metadata": {},
   "outputs": [
    {
     "name": "stdout",
     "output_type": "stream",
     "text": [
      "MAPE: 71.27630227576151%\n",
      "RMSLE: 0.2947503897832102\n",
      "RMSE: 446.02004171437466\n"
     ]
    }
   ],
   "source": [
    "mape, rmsle, rmse = calc_metrics(y_test, y_pred)\n",
    "\n",
    "print('MAPE:', str(mape) + '%')\n",
    "print('RMSLE:', str(rmsle))\n",
    "print('RMSE:', rmse)"
   ]
  },
  {
   "cell_type": "code",
   "execution_count": 61,
   "metadata": {},
   "outputs": [
    {
     "data": {
      "image/png": "[encoded data removed]",
      "text/plain": [
       "<Figure size 432x432 with 1 Axes>"
      ]
     },
     "metadata": {},
     "output_type": "display_data"
    }
   ],
   "source": [
    "# visualize errors\n",
    "import matplotlib.pyplot as plt\n",
    "import seaborn as sns\n",
    "\n",
    "price_pred = np.exp(y_pred)\n",
    "price_true = np.exp(y_test.to_numpy())\n",
    "\n",
    "sns.set(style='darkgrid')\n",
    "plt.subplots(figsize=(6,6))\n",
    "plt.plot(np.abs(price_pred - price_true) / price_true * 100, 'o', markersize=2)\n",
    "plt.plot(np.arange(1200), [mape] * 1200, label='MAPE', color='#2ca02c')\n",
    "plt.title('prediction percent error')\n",
    "plt.ylim(-10, 100) # note: some outliers are not visible\n",
    "plt.ylabel('percent error')\n",
    "plt.xlabel('listing number')\n",
    "plt.legend()\n",
    "plt.savefig('error.png', dpi=300)"
   ]
  },
  {
   "cell_type": "markdown",
   "metadata": {},
   "source": [
    "## permutation importance"
   ]
  },
  {
   "cell_type": "markdown",
   "metadata": {},
   "source": [
    "look at these links here:\n",
    "[explanation](https://scikit-learn.org/stable/modules/permutation_importance.html),\n",
    "[implementation](https://scikit-learn.org/stable/auto_examples/inspection/plot_permutation_importance.html#sphx-glr-auto-examples-inspection-plot-permutation-importance-py)"
   ]
  },
  {
   "cell_type": "code",
   "execution_count": 60,
   "metadata": {},
   "outputs": [],
   "source": [
    "## start here!\n",
    "\n",
    "\n"
   ]
  },
  {
   "cell_type": "code",
   "execution_count": null,
   "metadata": {},
   "outputs": [],
   "source": []
  }
 ],
 "metadata": {
  "kernelspec": {
   "display_name": "Python 3",
   "language": "python",
   "name": "python3"
  },
  "language_info": {
   "codemirror_mode": {
    "name": "ipython",
    "version": 3
   },
   "file_extension": ".py",
   "mimetype": "text/x-python",
   "name": "python",
   "nbconvert_exporter": "python",
   "pygments_lexer": "ipython3",
   "version": "3.7.3"
  }
 },
 "nbformat": 4,
 "nbformat_minor": 2
}

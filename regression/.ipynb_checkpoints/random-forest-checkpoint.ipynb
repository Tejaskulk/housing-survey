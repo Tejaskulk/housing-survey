{
 "cells": [
  {
   "cell_type": "markdown",
   "metadata": {},
   "source": [
    "## random forest regression model for predicting price"
   ]
  },
  {
   "cell_type": "code",
   "execution_count": 198,
   "metadata": {},
   "outputs": [],
   "source": [
    "import pandas as pd\n",
    "import numpy as np\n",
    "import random\n",
    "from sklearn.model_selection import train_test_split\n",
    "from sklearn.ensemble import RandomForestRegressor\n",
    "from sklearn.datasets import make_regression\n",
    "from sklearn.impute import SimpleImputer\n",
    "from sklearn.metrics import mean_squared_error"
   ]
  },
  {
   "cell_type": "code",
   "execution_count": 199,
   "metadata": {
    "scrolled": true
   },
   "outputs": [],
   "source": [
    "X = pd.read_json('../data/model_data/X.json')\n",
    "y = pd.read_json('../data/model_data/y.json', typ='series')"
   ]
  },
  {
   "cell_type": "markdown",
   "metadata": {},
   "source": [
    "## some data cleaning"
   ]
  },
  {
   "cell_type": "code",
   "execution_count": 200,
   "metadata": {},
   "outputs": [],
   "source": [
    "# one-hot-encode categorical features\n",
    "X_encoded = pd.get_dummies(X)\n",
    "X_float = X.select_dtypes(include=np.number)\n",
    "X = pd.concat([X_float, X_encoded], axis=1)"
   ]
  },
  {
   "cell_type": "code",
   "execution_count": 201,
   "metadata": {},
   "outputs": [],
   "source": [
    "# impute np.nan values with numerical sentinel \n",
    "imp = SimpleImputer(missing_values=np.nan, strategy='constant', fill_value = -999)\n",
    "X = imp.fit_transform(X)"
   ]
  },
  {
   "cell_type": "code",
   "execution_count": 202,
   "metadata": {},
   "outputs": [],
   "source": [
    "X_tr, X_test, y_tr, y_test = train_test_split(X, y, random_state=4)\n",
    "X_train, X_val, y_train, y_val = train_test_split(X_tr, y_tr, random_state=4)"
   ]
  },
  {
   "cell_type": "code",
   "execution_count": 203,
   "metadata": {},
   "outputs": [],
   "source": [
    "# oops -- impute 0 value by mean imputation\n",
    "y_test[1576] = np.mean(y_test)"
   ]
  },
  {
   "cell_type": "markdown",
   "metadata": {},
   "source": [
    "## hyperparameter selection"
   ]
  },
  {
   "cell_type": "code",
   "execution_count": 204,
   "metadata": {},
   "outputs": [],
   "source": [
    "def mean_absolute_percentage_error(y_true, y_pred): \n",
    "    y_true = np.array(y_true)\n",
    "    y_pred = np.array(y_pred)\n",
    "    return np.mean(np.abs((y_true - y_pred) / y_true)) * 100"
   ]
  },
  {
   "cell_type": "code",
   "execution_count": 205,
   "metadata": {
    "scrolled": true
   },
   "outputs": [],
   "source": [
    "def calc_metrics(y_true, y_pred):\n",
    "    price_pred = np.exp(y_pred)\n",
    "    price_true = np.exp(y_true).to_numpy()\n",
    "    \n",
    "    mape = mean_absolute_percentage_error(price_true, price_pred)\n",
    "    rmse_log = mean_squared_error(y_true, y_pred, squared=False) * 100\n",
    "    rmse_price = mean_squared_error(price_true, price_pred, squared=False)\n",
    "    \n",
    "    return mape, rmse_log, rmse_price"
   ]
  },
  {
   "cell_type": "code",
   "execution_count": 210,
   "metadata": {
    "scrolled": true
   },
   "outputs": [
    {
     "name": "stdout",
     "output_type": "stream",
     "text": [
      "(1, 3)\n",
      "\t (11.868127197784286, 29.813390474439544, 516.3571581690837)\n",
      "(2, 14)\n",
      "\t (9.332532626128096, 20.95848306565033, 540.3585664417809)\n",
      "(2, 8)\n",
      "\t (9.652128955686546, 22.138162373211507, 551.964298620017)\n",
      "(4, 8)\n",
      "\t (9.23573689549033, 19.97813794136923, 479.62163155003293)\n",
      "(5, 2)\n",
      "\t (10.32337961228274, 31.94618734340683, 555.9811176997027)\n",
      "(5, 18)\n",
      "\t (8.904972306683456, 18.84066179703354, 500.9642552978658)\n",
      "(5, 19)\n",
      "\t (8.918219530604595, 18.733813316590226, 492.85965054461093)\n",
      "(5, 3)\n",
      "\t (9.992419128064329, 25.720613973720802, 519.0243644696916)\n",
      "(6, 13)\n",
      "\t (9.542366558546805, 20.991449234422173, 505.9179875673234)\n",
      "(6, 1)\n",
      "\t (13.575443276211812, 30.23057191039954, 835.1097871032017)\n",
      "(7, 7)\n",
      "\t (9.352970376619394, 18.96248297198112, 492.36239212223177)\n",
      "(7, 20)\n",
      "\t (8.648856664154476, 18.16668606083976, 481.81159018232273)\n",
      "(8, 18)\n",
      "\t (9.07948437029665, 19.836967522146708, 480.7420911150541)\n",
      "(8, 8)\n",
      "\t (9.23863702247349, 19.928101590805532, 446.27294601068536)\n",
      "(8, 12)\n",
      "\t (9.2482193500273, 20.14918915647344, 511.53646650997814)\n",
      "(9, 1)\n",
      "\t (12.636404682039304, 49.5267839586572, 678.2760298091791)\n",
      "(10, 2)\n",
      "\t (10.993372456443591, 27.725889210535037, 646.1522282106854)\n",
      "(10, 18)\n",
      "\t (8.861778298916985, 19.914454867178794, 551.8725737111471)\n",
      "(11, 16)\n",
      "\t (9.01439719050468, 18.927948376998042, 470.9614724681812)\n",
      "(11, 19)\n",
      "\t (8.951595713616284, 19.0492821908447, 462.99555537710523)\n",
      "(11, 9)\n",
      "\t (9.136932271286211, 19.904419388082353, 510.5207236558106)\n",
      "(11, 15)\n",
      "\t (9.066511696423506, 18.883695635365, 468.36763550646987)\n",
      "(11, 19)\n",
      "\t (8.951595713616284, 19.0492821908447, 462.99555537710523)\n",
      "(12, 5)\n",
      "\t (9.603557277405518, 20.4184601017604, 447.1931743830774)\n",
      "(12, 2)\n",
      "\t (10.969718565062266, 25.893131814040167, 502.4188985831343)\n",
      "(13, 11)\n",
      "\t (9.133237761234012, 20.47976468627268, 495.33933671383915)\n",
      "(13, 5)\n",
      "\t (9.793106714060098, 23.072527488825347, 544.3262297779161)\n",
      "(13, 12)\n",
      "\t (9.134962377235416, 20.617345898420787, 514.2297912972479)\n",
      "(14, 9)\n",
      "\t (9.469850432960897, 19.491349297691805, 500.1973748524751)\n",
      "(14, 2)\n",
      "\t (11.94094346830589, 26.059978781547187, 590.9318636901861)\n",
      "(14, 5)\n",
      "\t (10.20375102517625, 20.760467988000624, 513.4480400228906)\n",
      "(15, 9)\n",
      "\t (9.635780841350414, 22.59315909833344, 585.6933345939949)\n",
      "(15, 1)\n",
      "\t (11.823109537025973, 31.719027311132606, 752.9673691973053)\n",
      "(15, 13)\n",
      "\t (9.798866733360425, 21.359457979807107, 554.7164732908549)\n",
      "(15, 11)\n",
      "\t (9.662519581803044, 21.584220845462188, 556.4784524441501)\n",
      "(16, 10)\n",
      "\t (9.063768991958032, 19.393156922322312, 504.1451671948213)\n",
      "(16, 1)\n",
      "\t (12.524751500732007, 32.2966857875264, 714.4603304814797)\n",
      "(17, 3)\n",
      "\t (9.43644099528467, 20.47117861310415, 505.22595674194974)\n",
      "(18, 9)\n",
      "\t (9.02641193760196, 19.94201309225036, 547.2410133888827)\n",
      "(18, 20)\n",
      "\t (8.896741553597206, 18.721371837071317, 500.3746389206745)\n",
      "(18, 12)\n",
      "\t (9.15452325590241, 19.70121137528788, 538.990707027487)\n",
      "(19, 9)\n",
      "\t (9.218078915791402, 19.784295106966002, 510.9282693260178)\n",
      "(20, 3)\n",
      "\t (10.114925640057418, 25.378198955119746, 461.8553338017647)\n",
      "(20, 11)\n",
      "\t (9.006267623245156, 18.754840013990076, 462.4037146541849)\n",
      "(21, 15)\n",
      "\t (9.05212179835394, 18.7016243718534, 482.131681084048)\n",
      "(22, 8)\n",
      "\t (9.269201983106406, 19.925297182157898, 507.51373506240174)\n",
      "(22, 8)\n",
      "\t (9.269201983106406, 19.925297182157898, 507.51373506240174)\n",
      "(22, 11)\n",
      "\t (9.15809349945602, 18.99927809113646, 477.12943211536736)\n",
      "(23, 20)\n",
      "\t (9.013466814848815, 19.284298325879412, 521.84869921693)\n",
      "(23, 2)\n",
      "\t (10.017351176195772, 24.576393982082905, 594.0610426003035)\n",
      "(23, 10)\n",
      "\t (9.175913002243233, 20.275181319205927, 547.8500988858749)\n",
      "(24, 3)\n",
      "\t (9.781727331266596, 21.170688860797885, 498.20510877147353)\n",
      "(25, 13)\n",
      "\t (9.159901246778105, 19.36085021988453, 501.8148870212742)\n",
      "(25, 13)\n",
      "\t (9.159901246778105, 19.36085021988453, 501.8148870212742)\n",
      "(25, 6)\n",
      "\t (9.363828248167348, 20.281359946642148, 476.05573786524553)\n",
      "(25, 10)\n",
      "\t (9.194410838690633, 19.386356021131558, 507.55308104823825)\n",
      "(26, 11)\n",
      "\t (9.341295471996148, 19.227044615864163, 492.75226490573107)\n",
      "(28, 16)\n",
      "\t (9.157302354755794, 18.72791307861253, 469.52065312900766)\n",
      "(31, 15)\n",
      "\t (8.909558046808405, 18.65228003170727, 484.2979406661337)\n",
      "(31, 6)\n",
      "\t (9.207900288798312, 19.734045016364778, 519.5764960402929)\n",
      "(34, 15)\n",
      "\t (9.27444255885671, 19.112793718881072, 498.36707607804743)\n",
      "(35, 9)\n",
      "\t (9.334367466415502, 19.689087571276616, 494.1974337884378)\n",
      "(35, 3)\n",
      "\t (9.657213861102178, 20.967156690001215, 437.6072167593989)\n",
      "(36, 1)\n",
      "\t (12.578544426737043, 26.378124312172247, 705.860466151983)\n",
      "(36, 11)\n",
      "\t (9.235901237602121, 18.694719590419172, 462.0565041786365)\n",
      "(37, 12)\n",
      "\t (9.371787059198471, 19.092119347607277, 475.5077021732265)\n",
      "(37, 8)\n",
      "\t (9.510169326844322, 19.10454542820162, 459.4170604501798)\n",
      "(37, 20)\n",
      "\t (9.267681497205924, 18.902256835981696, 463.07903785473746)\n",
      "(38, 14)\n",
      "\t (9.284013030901928, 19.547562715121625, 494.5227497963493)\n",
      "(38, 17)\n",
      "\t (9.096600915330026, 19.122525641974175, 476.4406646378635)\n",
      "(39, 8)\n",
      "\t (9.255849784313273, 18.99202758077421, 486.01540931075283)\n",
      "(39, 11)\n",
      "\t (9.362599791711865, 19.15961454370322, 494.7018600807742)\n",
      "(39, 20)\n",
      "\t (9.07705848236217, 18.616145732841158, 474.1864922190969)\n",
      "(39, 3)\n",
      "\t (9.60486418469671, 19.692211369067753, 392.43299810858804)\n",
      "(39, 10)\n",
      "\t (9.341165044407033, 19.442283027635682, 511.41773373043964)\n",
      "(41, 1)\n",
      "\t (12.770015351496633, 26.69273081502833, 712.9301976910472)\n",
      "(42, 11)\n",
      "\t (9.286967616858972, 18.718953129177603, 472.52394266662435)\n",
      "(42, 8)\n",
      "\t (8.9869698840484, 18.13631833591647, 458.6112709446451)\n",
      "(43, 14)\n",
      "\t (9.31436891105509, 19.319792062542916, 492.69900649061793)\n",
      "(43, 9)\n",
      "\t (9.265906416964736, 19.232631382322587, 502.87014806562183)\n",
      "(44, 18)\n",
      "\t (9.130751770315616, 18.749431653783493, 464.666981986315)\n",
      "(44, 20)\n",
      "\t (9.004454941268577, 18.44398442443739, 460.61278772704486)\n",
      "(44, 8)\n",
      "\t (9.182085943701965, 18.807954294498042, 469.0811904477025)\n",
      "(45, 14)\n",
      "\t (9.180004865552434, 18.687798967506566, 464.83652176388506)\n",
      "(45, 1)\n",
      "\t (11.995846472396506, 24.277928692662737, 637.8968213219366)\n",
      "(45, 3)\n",
      "\t (9.577069107937438, 19.730535030009293, 381.7217191391489)\n",
      "(45, 7)\n",
      "\t (9.044656029629278, 18.243684788987157, 426.5198528356947)\n",
      "(45, 1)\n",
      "\t (11.995846472396506, 24.277928692662737, 637.8968213219366)\n",
      "(46, 17)\n",
      "\t (8.97906611582931, 18.511986958640172, 458.9034536706256)\n",
      "(46, 16)\n",
      "\t (9.037074811138112, 18.67980254399221, 467.65800423124415)\n",
      "(46, 18)\n",
      "\t (9.064779902974534, 18.613867247619613, 456.75980091858617)\n",
      "(47, 17)\n",
      "\t (9.03131958033297, 18.435591135847933, 470.1087673543409)\n",
      "(47, 8)\n",
      "\t (9.218138215744489, 18.85912579124362, 483.8777359149247)\n",
      "(48, 7)\n",
      "\t (9.008927100444804, 18.307789154359458, 397.1986450730132)\n",
      "(48, 19)\n",
      "\t (9.13426862473683, 18.714377980967694, 450.67129807814183)\n",
      "(49, 6)\n",
      "\t (8.969188226576359, 18.365247107450816, 443.65513718859034)\n",
      "(49, 13)\n",
      "\t (9.08513010827722, 18.96998363456404, 481.96468885734765)\n",
      "(49, 5)\n",
      "\t (8.966256119076753, 18.068176354575392, 412.04435101285)\n",
      "(50, 15)\n",
      "\t (9.169563845666518, 18.852199656951356, 467.25104271369975)\n",
      "(50, 19)\n",
      "\t (9.211618977393963, 18.855006508261724, 462.60556563139494)\n"
     ]
    }
   ],
   "source": [
    "# random search for hyperparameter selection\n",
    "m_list, n_list = [], []\n",
    "for i in range(100):\n",
    "        m_list.append(random.randint(1, 50))\n",
    "        n_list.append(random.randint(1, 20))\n",
    "\n",
    "m_list.sort()\n",
    "\n",
    "for m, n in zip(m_list, n_list):\n",
    "    regr = RandomForestRegressor(max_features=m, n_estimators=n, random_state=42)\n",
    "    regr.fit(X_train, y_train)\n",
    "    y_pred = regr.predict(X_val)\n",
    "    print((m, n))\n",
    "    print('\\t', calc_metrics(y_val, y_pred))\n",
    "    \n",
    "# (m, n) = 45, 3"
   ]
  },
  {
   "cell_type": "code",
   "execution_count": 211,
   "metadata": {},
   "outputs": [],
   "source": [
    "# evaluate on test data\n",
    "regr = RandomForestRegressor(max_features=45, n_estimators=3, random_state=42)\n",
    "regr.fit(X_train, y_train)\n",
    "y_pred = regr.predict(X_test)"
   ]
  },
  {
   "cell_type": "markdown",
   "metadata": {},
   "source": [
    "## metrics and error visualization"
   ]
  },
  {
   "cell_type": "code",
   "execution_count": 212,
   "metadata": {},
   "outputs": [
    {
     "name": "stdout",
     "output_type": "stream",
     "text": [
      "MAPE: 11.505778770481536%\n",
      "RMSE (log): 25.453144818084272%\n",
      "RMSE: 440.30788171066075\n"
     ]
    }
   ],
   "source": [
    "mape, rmse_log, rmse_price = calc_metrics(y_test, y_pred)\n",
    "\n",
    "print('MAPE:', str(mape) + '%')\n",
    "print('RMSE (log):', str(rmse_log) + '%')\n",
    "print('RMSE:', rmse_price)"
   ]
  },
  {
   "cell_type": "code",
   "execution_count": 213,
   "metadata": {},
   "outputs": [
    {
     "data": {
      "image/png": "[encoded data removed]",
      "text/plain": [
       "<Figure size 432x432 with 1 Axes>"
      ]
     },
     "metadata": {},
     "output_type": "display_data"
    }
   ],
   "source": [
    "# visualize errors\n",
    "import matplotlib.pyplot as plt\n",
    "import seaborn as sns\n",
    "\n",
    "sns.set(style='darkgrid')\n",
    "plt.subplots(figsize=(6,6))\n",
    "plt.plot(np.abs(price_pred - price_true) / price_true * 100, 'o', markersize=2)\n",
    "plt.plot(np.arange(1200), [mape] * 1200, label='MAPE')\n",
    "plt.plot(np.arange(1200), [rmse_log] * 1200, label='RMSE')\n",
    "plt.title('prediction percent error')\n",
    "plt.ylim(-10, 120) # note: 3 outliers are not visible\n",
    "plt.legend()\n",
    "plt.savefig('error.png', dpi=300)"
   ]
  },
  {
   "cell_type": "code",
   "execution_count": null,
   "metadata": {},
   "outputs": [],
   "source": []
  }
 ],
 "metadata": {
  "kernelspec": {
   "display_name": "Python 3",
   "language": "python",
   "name": "python3"
  },
  "language_info": {
   "codemirror_mode": {
    "name": "ipython",
    "version": 3
   },
   "file_extension": ".py",
   "mimetype": "text/x-python",
   "name": "python",
   "nbconvert_exporter": "python",
   "pygments_lexer": "ipython3",
   "version": "3.7.3"
  }
 },
 "nbformat": 4,
 "nbformat_minor": 2
}

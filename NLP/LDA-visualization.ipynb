{
 "cells": [
  {
   "cell_type": "code",
   "execution_count": 26,
   "metadata": {},
   "outputs": [
    {
     "name": "stderr",
     "output_type": "stream",
     "text": [
      "[nltk_data] Downloading package stopwords to\n",
      "[nltk_data]     C:\\Users\\ericy\\AppData\\Roaming\\nltk_data...\n",
      "[nltk_data]   Package stopwords is already up-to-date!\n"
     ]
    }
   ],
   "source": [
    "import numpy as np\n",
    "import pandas as pd\n",
    "import matplotlib.pyplot as plt\n",
    "import seaborn as sns; sns.set_style('whitegrid')\n",
    "import os\n",
    "import re\n",
    "import nltk\n",
    "from wordcloud import WordCloud\n",
    "import warnings; warnings.simplefilter(\"ignore\", DeprecationWarning)\n",
    "\n",
    "# Load the library with the CountVectorizer method\n",
    "from sklearn.feature_extraction.text import CountVectorizer\n",
    "nltk.download('stopwords')\n",
    "\n",
    "# Load the LDA model from sk-learn\n",
    "from sklearn.decomposition import LatentDirichletAllocation as LDA\n",
    "from pyLDAvis import sklearn as sklearn_lda\n",
    "import pickle \n",
    "import pyLDAvis"
   ]
  },
  {
   "cell_type": "code",
   "execution_count": 12,
   "metadata": {},
   "outputs": [],
   "source": [
    "# Make a copy of dataframe\n",
    "for source in ['offcampushousing', 'showmetherent', 'apartments', 'craigslist', 'aggregated']:\n",
    "    df = pd.read_json(f\"../data/cleaned_data/{source}.json\")\n",
    "    descriptions_price = df.copy()\n",
    "    descriptions_price = descriptions_price.drop(columns=['address', 'bed', 'bath', 'area', 'company', 'neighborhood', 'laundry', 'pets', 'parking', 'utilities', 'property_type', 'year_built', 'images'], axis=1)\n",
    "\n",
    "    # Remove punctuation\n",
    "    descriptions_price['description_processed'] = descriptions_price['description'].map(lambda x: re.sub('[,\\.!?]', '', x))\n",
    "\n",
    "    # Convert the titles to lowercase\n",
    "    descriptions_price['description_processed'] = descriptions_price['description_processed'].map(lambda x: x.lower())\n",
    "    \n",
    "    # Join the different processed titles together.\n",
    "    long_string = ','.join(list(descriptions_price['description_processed'].values))\n",
    "    wordcloud = WordCloud(background_color=\"white\", max_words=1000, contour_width=3, contour_color='steelblue')\n",
    "    wordcloud.generate(long_string)\n",
    "    wordcloud.to_file(f'{source}-cloud.png')"
   ]
  },
  {
   "cell_type": "code",
   "execution_count": 23,
   "metadata": {},
   "outputs": [
    {
     "name": "stderr",
     "output_type": "stream",
     "text": [
      "C:\\Users\\ericy\\Anaconda3\\lib\\site-packages\\ipykernel_launcher.py:15: MatplotlibDeprecationWarning: Adding an axes using the same arguments as a previous axes currently reuses the earlier instance.  In a future version, a new instance will always be created and returned.  Meanwhile, this warning can be suppressed, and the future behavior ensured, by passing a unique label to each axes instance.\n",
      "  from ipykernel import kernelapp as app\n"
     ]
    },
    {
     "data": {
      "image/png": "[encoded data removed]",
      "text/plain": [
       "<Figure size 1080x667.491 with 1 Axes>"
      ]
     },
     "metadata": {},
     "output_type": "display_data"
    }
   ],
   "source": [
    "# Helper function\n",
    "def plot_10_most_common_words(count_data, count_vectorizer):\n",
    "    words = count_vectorizer.get_feature_names()\n",
    "    total_counts = np.zeros(len(words))\n",
    "    for t in count_data:\n",
    "        total_counts+=t.toarray()[0]\n",
    "    \n",
    "    count_dict = (zip(words, total_counts))\n",
    "    count_dict = sorted(count_dict, key=lambda x:x[1], reverse=True)[0:10]\n",
    "    words = [w[0] for w in count_dict]\n",
    "    counts = [w[1] for w in count_dict]\n",
    "    x_pos = np.arange(len(words)) \n",
    "    \n",
    "    plt.figure(2, figsize=(15, 15/1.6180))\n",
    "    plt.subplot(title='10 most common words')\n",
    "    sns.set_context(\"notebook\", font_scale=1.25, rc={\"lines.linewidth\": 2.5})\n",
    "    sns.barplot(x_pos, counts, palette='husl')\n",
    "    plt.xticks(x_pos, words, rotation=90) \n",
    "    plt.xlabel('words')\n",
    "    plt.ylabel('counts')\n",
    "    plt.savefig(f'{source}-most-common.png', dpi=300)\n",
    "    \n",
    "# Set stop words\n",
    "stopwords = nltk.corpus.stopwords.words(\"english\")\n",
    "new_stop_words = ['room',\n",
    "                  'available', \n",
    "                  'house', \n",
    "                  'apartment',\n",
    "                  'apartments',\n",
    "                  'two', \n",
    "                  'ann', \n",
    "                  'arbor', \n",
    "                  'one', \n",
    "                  'unit', \n",
    "                  'floor', \n",
    "                  'rent', \n",
    "                  'campus', \n",
    "                  'month', \n",
    "                  'central', \n",
    "                  'lease',  \n",
    "                  'contact',\n",
    "                  'home']\n",
    "stopwords.extend(new_stop_words)\n",
    "\n",
    "# Initialise the count vectorizer with the English stop words\n",
    "count_vectorizer = CountVectorizer(stop_words = stopwords)\n",
    "\n",
    "for source in ['offcampushousing', 'showmetherent', 'apartments', 'craigslist', 'aggregated']:\n",
    "    df = pd.read_json(f\"../data/cleaned_data/{source}.json\")\n",
    "    descriptions_price = df.copy()\n",
    "    descriptions_price = descriptions_price.drop(columns=['address', 'bed', 'bath', 'area', 'company', 'neighborhood', 'laundry', 'pets', 'parking', 'utilities', 'property_type', 'year_built', 'images'], axis=1)\n",
    "    \n",
    "    # Remove punctuation\n",
    "    descriptions_price['description_processed'] = descriptions_price['description'].map(lambda x: re.sub('[,\\.!?]', '', x))\n",
    "\n",
    "    # Convert the titles to lowercase\n",
    "    descriptions_price['description_processed'] = descriptions_price['description_processed'].map(lambda x: x.lower())\n",
    "    \n",
    "    \n",
    "    # Fit and transform the processed titles\n",
    "    count_data = count_vectorizer.fit_transform(descriptions_price['description_processed'])\n",
    "\n",
    "    # Visualise the 10 most common words\n",
    "    plot_10_most_common_words(count_data, count_vectorizer)"
   ]
  },
  {
   "cell_type": "code",
   "execution_count": 41,
   "metadata": {},
   "outputs": [
    {
     "name": "stdout",
     "output_type": "stream",
     "text": [
      "Topics found via LDA:\n",
      "\n",
      "Topic #1:\n",
      "center pet community bedroom fitness us michigan amenities pool park\n",
      "\n",
      "Topic #2:\n",
      "community bedroom offers enjoy living 2020 downtown parking many 24\n",
      "\n",
      "Topic #3:\n",
      "bedroom located street parking building location living furnished downtown school\n",
      "\n",
      "Topic #4:\n",
      "parking bedroom large kitchen included laundry new great water bedrooms\n",
      "\n",
      "Topic #5:\n",
      "bedroom application community closet center show living call info free\n",
      "\n",
      "Topic #6:\n",
      "bedroom community us 10 located space call 00 info show\n"
     ]
    }
   ],
   "source": [
    "# Helper function\n",
    "def print_topics(model, count_vectorizer, n_top_words):\n",
    "    words = count_vectorizer.get_feature_names()\n",
    "    for topic_idx, topic in enumerate(model.components_):\n",
    "        print(\"\\nTopic #%d:\" % (topic_idx + 1))\n",
    "        print(\" \".join([words[i]\n",
    "                        for i in topic.argsort()[:-n_top_words - 1:-1]]))\n",
    "        \n",
    "# Tweak the two parameters below\n",
    "number_topics = 6\n",
    "number_words = 10\n",
    "# Create and fit the LDA model\n",
    "lda = LDA(n_components=number_topics, n_jobs=-1)\n",
    "lda.fit(count_data)\n",
    "# Print the topics found by the LDA model\n",
    "print(\"Topics found via LDA:\")\n",
    "print_topics(lda, count_vectorizer, number_words)"
   ]
  },
  {
   "cell_type": "code",
   "execution_count": 42,
   "metadata": {},
   "outputs": [],
   "source": [
    "LDAvis_data_filepath = os.path.join('ldavis_prepared_' + str(number_topics))\n",
    "\n",
    "LDAvis_prepared = sklearn_lda.prepare(lda, count_data, count_vectorizer)\n",
    "pyLDAvis.save_html(LDAvis_prepared, 'LDA/ldavis_prepared_' + str(number_topics) + '.html')"
   ]
  }
 ],
 "metadata": {
  "kernelspec": {
   "display_name": "Python 3",
   "language": "python",
   "name": "python3"
  },
  "language_info": {
   "codemirror_mode": {
    "name": "ipython",
    "version": 3
   },
   "file_extension": ".py",
   "mimetype": "text/x-python",
   "name": "python",
   "nbconvert_exporter": "python",
   "pygments_lexer": "ipython3",
   "version": "3.7.3"
  }
 },
 "nbformat": 4,
 "nbformat_minor": 2
}

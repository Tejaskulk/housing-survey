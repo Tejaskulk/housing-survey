{
 "cells": [
  {
   "cell_type": "code",
   "execution_count": 1,
   "metadata": {},
   "outputs": [
    {
     "data": {
      "text/plain": [
       "0       [2BR / 1Ba, 876ft2, available jan 24, cats are...\n",
       "1       [4BR / 2.5Ba, 2000ft2, available jan 7, cats a...\n",
       "2                 [3BR / 2Ba, apartment, attached garage]\n",
       "3       [1BR / 1Ba, 800ft2, available feb 1, cats are ...\n",
       "4       [1BR / 1Ba, 800ft2, available feb 1, cats are ...\n",
       "                              ...                        \n",
       "2995    [2BR / 2Ba, 943ft2, cats are OK - purrr, dogs ...\n",
       "2996    [1BR / 1Ba, available aug 29, cats are OK - pu...\n",
       "2997    [2BR / 2Ba, 916ft2, available dec 23, 2019, ca...\n",
       "2998    [1BR / 1Ba, 658ft2, available dec 23, 2019, ca...\n",
       "2999    [2BR / 2Ba, 950ft2, available jan 6, applicati...\n",
       "Name: tags, Length: 2990, dtype: object"
      ]
     },
     "execution_count": 1,
     "metadata": {},
     "output_type": "execute_result"
    }
   ],
   "source": [
    "import numpy as np\n",
    "import pandas as pd\n",
    "import re\n",
    "df = pd.read_json('craigslist.json')\n",
    "\n",
    "# remove entries with price not listed; convert price from string to int\n",
    "df = df[pd.notnull(df['price'])]\n",
    "df.price = df.price.str[1:].astype(int)\n",
    "\n",
    "df.tags"
   ]
  },
  {
   "cell_type": "code",
   "execution_count": 2,
   "metadata": {},
   "outputs": [
    {
     "data": {
      "text/plain": [
       "0     1095\n",
       "1     2000\n",
       "2      695\n",
       "3     1385\n",
       "4     1185\n",
       "5      580\n",
       "7     1375\n",
       "8     1235\n",
       "9      952\n",
       "10    1095\n",
       "Name: price, dtype: int32"
      ]
     },
     "execution_count": 2,
     "metadata": {},
     "output_type": "execute_result"
    }
   ],
   "source": [
    "df.iloc[0:10]['price']"
   ]
  },
  {
   "cell_type": "code",
   "execution_count": 3,
   "metadata": {},
   "outputs": [
    {
     "data": {
      "text/plain": [
       "price                                                           1375\n",
       "tags               [1BR / 1Ba, 800ft2, available feb 1, cats are ...\n",
       "description        QR Code Link to This Post\\n\\n\\nHave you heard ...\n",
       "images             [https://images.craigslist.org/00s0s_fSIY5lG9L...\n",
       "posted_datetime                             2020-01-15T10:31:16-0500\n",
       "address                         1505 Natalie Lane near Kipling Drive\n",
       "Name: 7, dtype: object"
      ]
     },
     "execution_count": 3,
     "metadata": {},
     "output_type": "execute_result"
    }
   ],
   "source": [
    "df.iloc[6]"
   ]
  },
  {
   "cell_type": "code",
   "execution_count": null,
   "metadata": {},
   "outputs": [],
   "source": []
  }
 ],
 "metadata": {
  "kernelspec": {
   "display_name": "Python 3",
   "language": "python",
   "name": "python3"
  },
  "language_info": {
   "codemirror_mode": {
    "name": "ipython",
    "version": 3
   },
   "file_extension": ".py",
   "mimetype": "text/x-python",
   "name": "python",
   "nbconvert_exporter": "python",
   "pygments_lexer": "ipython3",
   "version": "3.7.3"
  }
 },
 "nbformat": 4,
 "nbformat_minor": 4
}

{
 "cells": [
  {
   "cell_type": "code",
   "execution_count": 153,
   "metadata": {},
   "outputs": [],
   "source": [
    "import numpy as np\n",
    "import pandas as pd\n",
    "import matplotlib.pyplot as plt\n",
    "import seaborn as sns\n",
    "from scipy import stats\n",
    "import re\n",
    "import sklearn \n",
    "import json"
   ]
  },
  {
   "cell_type": "code",
   "execution_count": 2,
   "metadata": {},
   "outputs": [],
   "source": [
    "df = pd.read_json('../data/aggregated.json')"
   ]
  },
  {
   "cell_type": "code",
   "execution_count": 39,
   "metadata": {},
   "outputs": [
    {
     "data": {
      "image/png": "[encoded data removed]",
      "text/plain": [
       "<Figure size 432x288 with 1 Axes>"
      ]
     },
     "metadata": {},
     "output_type": "display_data"
    }
   ],
   "source": [
    "sns.set(style='darkgrid')\n",
    "sns.distplot(df['price'], kde_kws={'bw':700}, bins=12, color='#2ca02c')\n",
    "plt.yscale('log')"
   ]
  },
  {
   "cell_type": "code",
   "execution_count": 38,
   "metadata": {},
   "outputs": [
    {
     "data": {
      "text/plain": [
       "count     7818.000000\n",
       "mean      1583.984971\n",
       "std       1095.510351\n",
       "min          1.000000\n",
       "25%        989.000000\n",
       "50%       1299.000000\n",
       "75%       1725.000000\n",
       "max      15900.000000\n",
       "Name: price, dtype: float64"
      ]
     },
     "execution_count": 38,
     "metadata": {},
     "output_type": "execute_result"
    }
   ],
   "source": [
    "df['price'].describe()"
   ]
  },
  {
   "cell_type": "code",
   "execution_count": 57,
   "metadata": {},
   "outputs": [],
   "source": []
  },
  {
   "cell_type": "code",
   "execution_count": null,
   "metadata": {},
   "outputs": [],
   "source": [
    "def clean_area(area):\n",
    "    if isinstance(area, int):\n",
    "        return area\n",
    "    elif isinstance(area, float):\n",
    "        return area\n",
    "    elif re.search('(\\d+)(?:\\s*[\\-\\/+*]\\s*)(\\d+)', str(area)) != None and len(area) > 4:\n",
    "        var = re.search('(\\d+)(?:\\s*[\\-\\/+*]\\s*)(\\d+)', str(area))\n",
    "        return (int(var.group(1)) + int(var.group(2))) / 2\n",
    "    elif re.search('(\\d+)', area) != None:\n",
    "        if re.search('(\\d+)(?:x)(\\d+)', area) != None:\n",
    "            num = re.search('(\\d+)(?:x)(\\d+)', area)\n",
    "            return int(num.group(1)) * int(num.group(2))\n",
    "        area = area.replace(',', '').replace('~', '')\n",
    "        return re.search('(\\d+)', area).group(1)\n",
    "    else:\n",
    "        return None\n",
    "\n",
    "area = df[df['area'].notnull()]['area'].apply(clean_area)\n",
    "area = area[area.notnull() & area != 0 & (np.abs(stats.zscore(df)) < 3).all(axis=1)].astype(int)\n",
    "df_plot = df.copy()\n",
    "df_plot['area'] = area\n",
    "\n",
    "g = sns.jointplot(x='price', y='area', data=df_plot, kind='hex')\n",
    "# g.ax_joint.set_xscale('log')\n",
    "# g.ax_joint.set_yscale('log')"
   ]
  },
  {
   "cell_type": "code",
   "execution_count": null,
   "metadata": {},
   "outputs": [],
   "source": [
    "sns.set(style=\"white\")\n"
   ]
  },
  {
   "cell_type": "code",
   "execution_count": null,
   "metadata": {},
   "outputs": [],
   "source": []
  }
 ],
 "metadata": {
  "kernelspec": {
   "display_name": "Python 3",
   "language": "python",
   "name": "python3"
  },
  "language_info": {
   "codemirror_mode": {
    "name": "ipython",
    "version": 3
   },
   "file_extension": ".py",
   "mimetype": "text/x-python",
   "name": "python",
   "nbconvert_exporter": "python",
   "pygments_lexer": "ipython3",
   "version": "3.7.3"
  }
 },
 "nbformat": 4,
 "nbformat_minor": 4
}

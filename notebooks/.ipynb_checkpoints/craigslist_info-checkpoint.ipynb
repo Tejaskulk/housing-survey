{
 "cells": [
  {
   "cell_type": "code",
   "execution_count": 1,
   "metadata": {},
   "outputs": [],
   "source": [
    "import json\n",
    "import re\n",
    "\n",
    "import pandas as pd\n",
    "import numpy as np\n",
    "import matplotlib as plt"
   ]
  },
  {
   "cell_type": "code",
   "execution_count": 2,
   "metadata": {},
   "outputs": [],
   "source": [
    "listings_json = json.load(open(\"../data/aggregated.json\"))"
   ]
  },
  {
   "cell_type": "code",
   "execution_count": 3,
   "metadata": {
    "scrolled": true
   },
   "outputs": [
    {
     "name": "stdout",
     "output_type": "stream",
     "text": [
      "<class 'pandas.core.frame.DataFrame'>\n",
      "Index: 9374 entries, 0 to 9373\n",
      "Data columns (total 15 columns):\n",
      "address          8779 non-null object\n",
      "price            7818 non-null float64\n",
      "bed              9203 non-null object\n",
      "bath             9203 non-null float64\n",
      "area             6468 non-null object\n",
      "company          3930 non-null object\n",
      "neighborhood     2520 non-null object\n",
      "laundry          7302 non-null float64\n",
      "pets             7302 non-null float64\n",
      "parking          7302 non-null float64\n",
      "utilities        9374 non-null object\n",
      "property_type    9246 non-null object\n",
      "year_built       3237 non-null float64\n",
      "description      9374 non-null object\n",
      "images           9374 non-null object\n",
      "dtypes: float64(6), object(9)\n",
      "memory usage: 1.1+ MB\n"
     ]
    }
   ],
   "source": [
    "aggregated = pd.DataFrame(listings_json)\n",
    "aggregated.head()\n",
    "aggregated.info()"
   ]
  },
  {
   "cell_type": "code",
   "execution_count": 4,
   "metadata": {},
   "outputs": [
    {
     "ename": "NameError",
     "evalue": "name 'get_area' is not defined",
     "output_type": "error",
     "traceback": [
      "\u001b[0;31m---------------------------------------------------------------------------\u001b[0m",
      "\u001b[0;31mNameError\u001b[0m                                 Traceback (most recent call last)",
      "\u001b[0;32m<ipython-input-4-b5d04bc1dbce>\u001b[0m in \u001b[0;36m<module>\u001b[0;34m\u001b[0m\n\u001b[0;32m----> 1\u001b[0;31m \u001b[0maggregated\u001b[0m\u001b[0;34m[\u001b[0m\u001b[0;34m[\u001b[0m\u001b[0;34m'price'\u001b[0m\u001b[0;34m,\u001b[0m \u001b[0;34m'bed'\u001b[0m\u001b[0;34m,\u001b[0m \u001b[0;34m'bath'\u001b[0m\u001b[0;34m,\u001b[0m \u001b[0;34m'parking'\u001b[0m\u001b[0;34m,\u001b[0m \u001b[0;34m'pets'\u001b[0m\u001b[0;34m,\u001b[0m \u001b[0;34m'laundry'\u001b[0m\u001b[0;34m,\u001b[0m \u001b[0;34m'year_built'\u001b[0m\u001b[0;34m,\u001b[0m \u001b[0mget_area\u001b[0m\u001b[0;34m(\u001b[0m\u001b[0;34m'area'\u001b[0m\u001b[0;34m)\u001b[0m\u001b[0;34m]\u001b[0m\u001b[0;34m]\u001b[0m\u001b[0;34m.\u001b[0m\u001b[0mcorr\u001b[0m\u001b[0;34m(\u001b[0m\u001b[0;34m)\u001b[0m\u001b[0;34m\u001b[0m\u001b[0;34m\u001b[0m\u001b[0m\n\u001b[0m",
      "\u001b[0;31mNameError\u001b[0m: name 'get_area' is not defined"
     ]
    }
   ],
   "source": [
    "aggregated[['price', 'bed', 'bath', 'parking', 'pets', 'laundry', 'year_built', get_area('area')]].corr()"
   ]
  },
  {
   "cell_type": "code",
   "execution_count": null,
   "metadata": {},
   "outputs": [],
   "source": []
  },
  {
   "cell_type": "code",
   "execution_count": null,
   "metadata": {},
   "outputs": [],
   "source": []
  },
  {
   "cell_type": "code",
   "execution_count": null,
   "metadata": {},
   "outputs": [],
   "source": [
    "craigslist.tags.apply(get_square_footage).count()"
   ]
  },
  {
   "cell_type": "code",
   "execution_count": null,
   "metadata": {},
   "outputs": [],
   "source": [
    "craigslist.tags.apply(get_bed_baths).count()"
   ]
  },
  {
   "cell_type": "code",
   "execution_count": null,
   "metadata": {},
   "outputs": [],
   "source": []
  },
  {
   "cell_type": "code",
   "execution_count": null,
   "metadata": {},
   "outputs": [],
   "source": [
    "np.unique(np.array(craigslist.tags.sum()))"
   ]
  },
  {
   "cell_type": "code",
   "execution_count": null,
   "metadata": {},
   "outputs": [],
   "source": [
    "def clean_description(description):\n",
    "    return description.strip(\"QR Code Link to This Post\").strip()"
   ]
  },
  {
   "cell_type": "code",
   "execution_count": null,
   "metadata": {},
   "outputs": [],
   "source": [
    "def get_bed_baths(tags):\n",
    "    br_ba_re = re.compile(r\"(?P<beds>\\d+)BR \\/ (?P<baths>\\d+\\.?\\d?)Ba\")\n",
    "    for tag in tags:\n",
    "        match = br_ba_re.match(tag)\n",
    "        if match:\n",
    "            return match.group(\"beds\"), match.group(\"baths\")"
   ]
  },
  {
   "cell_type": "code",
   "execution_count": null,
   "metadata": {},
   "outputs": [],
   "source": [
    "def get_app_fee(tags):\n",
    "    app_fee_re = re.compile(r\"application fee details: \\$(?P<fee>\\s*\\d+\\.?\\d{0,2})\")\n",
    "    for tag in tags:\n",
    "        match = app_fee_re.match(tag)\n",
    "        if match:\n",
    "            return match.group(\"fee\")"
   ]
  },
  {
   "cell_type": "code",
   "execution_count": null,
   "metadata": {},
   "outputs": [],
   "source": [
    "def get_square_footage(tags):\n",
    "    sq_ft_re = re.compile(r\"(?P<sqft>\\d+)ft2\")\n",
    "    for tag in tags:\n",
    "        match = sq_ft_re.match(tag)\n",
    "        if match:\n",
    "            return match.group(\"sqft\")"
   ]
  },
  {
   "cell_type": "code",
   "execution_count": 5,
   "metadata": {},
   "outputs": [],
   "source": [
    "def get_area(area):\n",
    "    if area == None:\n",
    "        return np.nan\n",
    "    else:\n",
    "        return area\n",
    "    "
   ]
  },
  {
   "cell_type": "code",
   "execution_count": null,
   "metadata": {},
   "outputs": [],
   "source": []
  }
 ],
 "metadata": {
  "kernelspec": {
   "display_name": "Python 3",
   "language": "python",
   "name": "python3"
  },
  "language_info": {
   "codemirror_mode": {
    "name": "ipython",
    "version": 3
   },
   "file_extension": ".py",
   "mimetype": "text/x-python",
   "name": "python",
   "nbconvert_exporter": "python",
   "pygments_lexer": "ipython3",
   "version": "3.7.4"
  }
 },
 "nbformat": 4,
 "nbformat_minor": 4
}

{
 "cells": [
  {
   "cell_type": "code",
   "execution_count": 27,
   "metadata": {},
   "outputs": [],
   "source": [
    "import json\n",
    "import re\n",
    "\n",
    "import pandas as pd\n",
    "import numpy as np\n",
    "import matplotlib.pyplot as plt"
   ]
  },
  {
   "cell_type": "code",
   "execution_count": 9,
   "metadata": {},
   "outputs": [],
   "source": [
    "listings_json = json.load(open(\"../data/aggregated.json\"))"
   ]
  },
  {
   "cell_type": "code",
   "execution_count": 10,
   "metadata": {
    "scrolled": true
   },
   "outputs": [
    {
     "data": {
      "text/html": [
       "<div>\n",
       "<style scoped>\n",
       "    .dataframe tbody tr th:only-of-type {\n",
       "        vertical-align: middle;\n",
       "    }\n",
       "\n",
       "    .dataframe tbody tr th {\n",
       "        vertical-align: top;\n",
       "    }\n",
       "\n",
       "    .dataframe thead th {\n",
       "        text-align: right;\n",
       "    }\n",
       "</style>\n",
       "<table border=\"1\" class=\"dataframe\">\n",
       "  <thead>\n",
       "    <tr style=\"text-align: right;\">\n",
       "      <th></th>\n",
       "      <th>address</th>\n",
       "      <th>price</th>\n",
       "      <th>bed</th>\n",
       "      <th>bath</th>\n",
       "      <th>area</th>\n",
       "      <th>company</th>\n",
       "      <th>neighborhood</th>\n",
       "      <th>laundry</th>\n",
       "      <th>pets</th>\n",
       "      <th>parking</th>\n",
       "      <th>utilities</th>\n",
       "      <th>property_type</th>\n",
       "      <th>year_built</th>\n",
       "      <th>description</th>\n",
       "      <th>images</th>\n",
       "    </tr>\n",
       "  </thead>\n",
       "  <tbody>\n",
       "    <tr>\n",
       "      <td>0</td>\n",
       "      <td>3050 Birch Hollow Dr</td>\n",
       "      <td>1095.0</td>\n",
       "      <td>2</td>\n",
       "      <td>1.0</td>\n",
       "      <td>876</td>\n",
       "      <td>None</td>\n",
       "      <td>None</td>\n",
       "      <td>1.0</td>\n",
       "      <td>1.0</td>\n",
       "      <td>1.0</td>\n",
       "      <td>[]</td>\n",
       "      <td>apartment</td>\n",
       "      <td>NaN</td>\n",
       "      <td>This bedroom apartments includes:\\n\\n→ Contemp...</td>\n",
       "      <td>[https://images.craigslist.org/00S0S_8ZkasrSZ6...</td>\n",
       "    </tr>\n",
       "    <tr>\n",
       "      <td>1</td>\n",
       "      <td>912 Rose Ave</td>\n",
       "      <td>2000.0</td>\n",
       "      <td>4</td>\n",
       "      <td>2.5</td>\n",
       "      <td>2000</td>\n",
       "      <td>None</td>\n",
       "      <td>None</td>\n",
       "      <td>1.0</td>\n",
       "      <td>1.0</td>\n",
       "      <td>1.0</td>\n",
       "      <td>[]</td>\n",
       "      <td>house</td>\n",
       "      <td>NaN</td>\n",
       "      <td>Stunning Ann Arbor home, perfect family house ...</td>\n",
       "      <td>[https://images.craigslist.org/00Y0Y_4tey2xf24...</td>\n",
       "    </tr>\n",
       "    <tr>\n",
       "      <td>2</td>\n",
       "      <td>None</td>\n",
       "      <td>695.0</td>\n",
       "      <td>3</td>\n",
       "      <td>2.0</td>\n",
       "      <td>0</td>\n",
       "      <td>None</td>\n",
       "      <td>None</td>\n",
       "      <td>1.0</td>\n",
       "      <td>0.0</td>\n",
       "      <td>1.0</td>\n",
       "      <td>[]</td>\n",
       "      <td>apartment</td>\n",
       "      <td>NaN</td>\n",
       "      <td>AWESOME Affordable. This stunning 3 bedroom, 1...</td>\n",
       "      <td>[]</td>\n",
       "    </tr>\n",
       "    <tr>\n",
       "      <td>3</td>\n",
       "      <td>1505 Natalie Lane near Kipling Drive</td>\n",
       "      <td>1385.0</td>\n",
       "      <td>1</td>\n",
       "      <td>1.0</td>\n",
       "      <td>800</td>\n",
       "      <td>None</td>\n",
       "      <td>None</td>\n",
       "      <td>1.0</td>\n",
       "      <td>1.0</td>\n",
       "      <td>1.0</td>\n",
       "      <td>[]</td>\n",
       "      <td>apartment</td>\n",
       "      <td>NaN</td>\n",
       "      <td>Have you heard about our Stars &amp; Stripes progr...</td>\n",
       "      <td>[https://images.craigslist.org/00p0p_1PnkFaSsW...</td>\n",
       "    </tr>\n",
       "    <tr>\n",
       "      <td>4</td>\n",
       "      <td>1505 Natalie Lane near Kipling Drive</td>\n",
       "      <td>1185.0</td>\n",
       "      <td>1</td>\n",
       "      <td>1.0</td>\n",
       "      <td>800</td>\n",
       "      <td>None</td>\n",
       "      <td>None</td>\n",
       "      <td>1.0</td>\n",
       "      <td>1.0</td>\n",
       "      <td>1.0</td>\n",
       "      <td>[]</td>\n",
       "      <td>apartment</td>\n",
       "      <td>NaN</td>\n",
       "      <td>Have you heard about our Stars &amp; Stripes progr...</td>\n",
       "      <td>[https://images.craigslist.org/00k0k_7n7PgfXF5...</td>\n",
       "    </tr>\n",
       "  </tbody>\n",
       "</table>\n",
       "</div>"
      ],
      "text/plain": [
       "                                address   price bed  bath  area company  \\\n",
       "0                  3050 Birch Hollow Dr  1095.0   2   1.0   876    None   \n",
       "1                          912 Rose Ave  2000.0   4   2.5  2000    None   \n",
       "2                                  None   695.0   3   2.0     0    None   \n",
       "3  1505 Natalie Lane near Kipling Drive  1385.0   1   1.0   800    None   \n",
       "4  1505 Natalie Lane near Kipling Drive  1185.0   1   1.0   800    None   \n",
       "\n",
       "  neighborhood  laundry  pets  parking utilities property_type  year_built  \\\n",
       "0         None      1.0   1.0      1.0        []     apartment         NaN   \n",
       "1         None      1.0   1.0      1.0        []         house         NaN   \n",
       "2         None      1.0   0.0      1.0        []     apartment         NaN   \n",
       "3         None      1.0   1.0      1.0        []     apartment         NaN   \n",
       "4         None      1.0   1.0      1.0        []     apartment         NaN   \n",
       "\n",
       "                                         description  \\\n",
       "0  This bedroom apartments includes:\\n\\n→ Contemp...   \n",
       "1  Stunning Ann Arbor home, perfect family house ...   \n",
       "2  AWESOME Affordable. This stunning 3 bedroom, 1...   \n",
       "3  Have you heard about our Stars & Stripes progr...   \n",
       "4  Have you heard about our Stars & Stripes progr...   \n",
       "\n",
       "                                              images  \n",
       "0  [https://images.craigslist.org/00S0S_8ZkasrSZ6...  \n",
       "1  [https://images.craigslist.org/00Y0Y_4tey2xf24...  \n",
       "2                                                 []  \n",
       "3  [https://images.craigslist.org/00p0p_1PnkFaSsW...  \n",
       "4  [https://images.craigslist.org/00k0k_7n7PgfXF5...  "
      ]
     },
     "execution_count": 10,
     "metadata": {},
     "output_type": "execute_result"
    }
   ],
   "source": [
    "aggregated = pd.DataFrame(listings_json)\n",
    "aggregated.head()"
   ]
  },
  {
   "cell_type": "code",
   "execution_count": 11,
   "metadata": {},
   "outputs": [
    {
     "data": {
      "text/html": [
       "<div>\n",
       "<style scoped>\n",
       "    .dataframe tbody tr th:only-of-type {\n",
       "        vertical-align: middle;\n",
       "    }\n",
       "\n",
       "    .dataframe tbody tr th {\n",
       "        vertical-align: top;\n",
       "    }\n",
       "\n",
       "    .dataframe thead th {\n",
       "        text-align: right;\n",
       "    }\n",
       "</style>\n",
       "<table border=\"1\" class=\"dataframe\">\n",
       "  <thead>\n",
       "    <tr style=\"text-align: right;\">\n",
       "      <th></th>\n",
       "      <th>address</th>\n",
       "      <th>price</th>\n",
       "      <th>bed</th>\n",
       "      <th>bath</th>\n",
       "      <th>area</th>\n",
       "      <th>company</th>\n",
       "      <th>neighborhood</th>\n",
       "      <th>laundry</th>\n",
       "      <th>pets</th>\n",
       "      <th>parking</th>\n",
       "      <th>utilities</th>\n",
       "      <th>property_type</th>\n",
       "      <th>year_built</th>\n",
       "      <th>description</th>\n",
       "      <th>images</th>\n",
       "    </tr>\n",
       "  </thead>\n",
       "  <tbody>\n",
       "    <tr>\n",
       "      <td>0</td>\n",
       "      <td>3050 Birch Hollow Dr</td>\n",
       "      <td>1095.0</td>\n",
       "      <td>2.0</td>\n",
       "      <td>1.0</td>\n",
       "      <td>876.0</td>\n",
       "      <td>None</td>\n",
       "      <td>None</td>\n",
       "      <td>1.0</td>\n",
       "      <td>1.0</td>\n",
       "      <td>1.0</td>\n",
       "      <td>[]</td>\n",
       "      <td>apartment</td>\n",
       "      <td>NaN</td>\n",
       "      <td>This bedroom apartments includes:\\n\\n→ Contemp...</td>\n",
       "      <td>[https://images.craigslist.org/00S0S_8ZkasrSZ6...</td>\n",
       "    </tr>\n",
       "    <tr>\n",
       "      <td>1</td>\n",
       "      <td>912 Rose Ave</td>\n",
       "      <td>2000.0</td>\n",
       "      <td>4.0</td>\n",
       "      <td>2.5</td>\n",
       "      <td>2000.0</td>\n",
       "      <td>None</td>\n",
       "      <td>None</td>\n",
       "      <td>1.0</td>\n",
       "      <td>1.0</td>\n",
       "      <td>1.0</td>\n",
       "      <td>[]</td>\n",
       "      <td>house</td>\n",
       "      <td>NaN</td>\n",
       "      <td>Stunning Ann Arbor home, perfect family house ...</td>\n",
       "      <td>[https://images.craigslist.org/00Y0Y_4tey2xf24...</td>\n",
       "    </tr>\n",
       "    <tr>\n",
       "      <td>2</td>\n",
       "      <td>None</td>\n",
       "      <td>695.0</td>\n",
       "      <td>3.0</td>\n",
       "      <td>2.0</td>\n",
       "      <td>0.0</td>\n",
       "      <td>None</td>\n",
       "      <td>None</td>\n",
       "      <td>1.0</td>\n",
       "      <td>0.0</td>\n",
       "      <td>1.0</td>\n",
       "      <td>[]</td>\n",
       "      <td>apartment</td>\n",
       "      <td>NaN</td>\n",
       "      <td>AWESOME Affordable. This stunning 3 bedroom, 1...</td>\n",
       "      <td>[]</td>\n",
       "    </tr>\n",
       "    <tr>\n",
       "      <td>3</td>\n",
       "      <td>1505 Natalie Lane near Kipling Drive</td>\n",
       "      <td>1385.0</td>\n",
       "      <td>1.0</td>\n",
       "      <td>1.0</td>\n",
       "      <td>800.0</td>\n",
       "      <td>None</td>\n",
       "      <td>None</td>\n",
       "      <td>1.0</td>\n",
       "      <td>1.0</td>\n",
       "      <td>1.0</td>\n",
       "      <td>[]</td>\n",
       "      <td>apartment</td>\n",
       "      <td>NaN</td>\n",
       "      <td>Have you heard about our Stars &amp; Stripes progr...</td>\n",
       "      <td>[https://images.craigslist.org/00p0p_1PnkFaSsW...</td>\n",
       "    </tr>\n",
       "    <tr>\n",
       "      <td>4</td>\n",
       "      <td>1505 Natalie Lane near Kipling Drive</td>\n",
       "      <td>1185.0</td>\n",
       "      <td>1.0</td>\n",
       "      <td>1.0</td>\n",
       "      <td>800.0</td>\n",
       "      <td>None</td>\n",
       "      <td>None</td>\n",
       "      <td>1.0</td>\n",
       "      <td>1.0</td>\n",
       "      <td>1.0</td>\n",
       "      <td>[]</td>\n",
       "      <td>apartment</td>\n",
       "      <td>NaN</td>\n",
       "      <td>Have you heard about our Stars &amp; Stripes progr...</td>\n",
       "      <td>[https://images.craigslist.org/00k0k_7n7PgfXF5...</td>\n",
       "    </tr>\n",
       "  </tbody>\n",
       "</table>\n",
       "</div>"
      ],
      "text/plain": [
       "                                address   price  bed  bath    area company  \\\n",
       "0                  3050 Birch Hollow Dr  1095.0  2.0   1.0   876.0    None   \n",
       "1                          912 Rose Ave  2000.0  4.0   2.5  2000.0    None   \n",
       "2                                  None   695.0  3.0   2.0     0.0    None   \n",
       "3  1505 Natalie Lane near Kipling Drive  1385.0  1.0   1.0   800.0    None   \n",
       "4  1505 Natalie Lane near Kipling Drive  1185.0  1.0   1.0   800.0    None   \n",
       "\n",
       "  neighborhood  laundry  pets  parking utilities property_type  year_built  \\\n",
       "0         None      1.0   1.0      1.0        []     apartment         NaN   \n",
       "1         None      1.0   1.0      1.0        []         house         NaN   \n",
       "2         None      1.0   0.0      1.0        []     apartment         NaN   \n",
       "3         None      1.0   1.0      1.0        []     apartment         NaN   \n",
       "4         None      1.0   1.0      1.0        []     apartment         NaN   \n",
       "\n",
       "                                         description  \\\n",
       "0  This bedroom apartments includes:\\n\\n→ Contemp...   \n",
       "1  Stunning Ann Arbor home, perfect family house ...   \n",
       "2  AWESOME Affordable. This stunning 3 bedroom, 1...   \n",
       "3  Have you heard about our Stars & Stripes progr...   \n",
       "4  Have you heard about our Stars & Stripes progr...   \n",
       "\n",
       "                                              images  \n",
       "0  [https://images.craigslist.org/00S0S_8ZkasrSZ6...  \n",
       "1  [https://images.craigslist.org/00Y0Y_4tey2xf24...  \n",
       "2                                                 []  \n",
       "3  [https://images.craigslist.org/00p0p_1PnkFaSsW...  \n",
       "4  [https://images.craigslist.org/00k0k_7n7PgfXF5...  "
      ]
     },
     "execution_count": 11,
     "metadata": {},
     "output_type": "execute_result"
    }
   ],
   "source": [
    "aggregated['area'] = aggregated['area'].apply(get_area)\n",
    "aggregated['bed'] = aggregated['bed'].apply(get_bed)\n",
    "aggregated.head()"
   ]
  },
  {
   "cell_type": "code",
   "execution_count": 12,
   "metadata": {},
   "outputs": [
    {
     "data": {
      "text/html": [
       "<div>\n",
       "<style scoped>\n",
       "    .dataframe tbody tr th:only-of-type {\n",
       "        vertical-align: middle;\n",
       "    }\n",
       "\n",
       "    .dataframe tbody tr th {\n",
       "        vertical-align: top;\n",
       "    }\n",
       "\n",
       "    .dataframe thead th {\n",
       "        text-align: right;\n",
       "    }\n",
       "</style>\n",
       "<table border=\"1\" class=\"dataframe\">\n",
       "  <thead>\n",
       "    <tr style=\"text-align: right;\">\n",
       "      <th></th>\n",
       "      <th>price</th>\n",
       "      <th>bed</th>\n",
       "      <th>bath</th>\n",
       "      <th>parking</th>\n",
       "      <th>pets</th>\n",
       "      <th>laundry</th>\n",
       "      <th>year_built</th>\n",
       "      <th>area</th>\n",
       "    </tr>\n",
       "  </thead>\n",
       "  <tbody>\n",
       "    <tr>\n",
       "      <td>price</td>\n",
       "      <td>1.000000</td>\n",
       "      <td>0.609696</td>\n",
       "      <td>0.340268</td>\n",
       "      <td>-0.081144</td>\n",
       "      <td>-0.195342</td>\n",
       "      <td>-0.066057</td>\n",
       "      <td>-0.038724</td>\n",
       "      <td>0.295215</td>\n",
       "    </tr>\n",
       "    <tr>\n",
       "      <td>bed</td>\n",
       "      <td>0.609696</td>\n",
       "      <td>1.000000</td>\n",
       "      <td>0.660943</td>\n",
       "      <td>0.076723</td>\n",
       "      <td>-0.080173</td>\n",
       "      <td>-0.027155</td>\n",
       "      <td>0.110130</td>\n",
       "      <td>0.433381</td>\n",
       "    </tr>\n",
       "    <tr>\n",
       "      <td>bath</td>\n",
       "      <td>0.340268</td>\n",
       "      <td>0.660943</td>\n",
       "      <td>1.000000</td>\n",
       "      <td>0.057643</td>\n",
       "      <td>-0.093690</td>\n",
       "      <td>-0.002040</td>\n",
       "      <td>0.153776</td>\n",
       "      <td>0.590749</td>\n",
       "    </tr>\n",
       "    <tr>\n",
       "      <td>parking</td>\n",
       "      <td>-0.081144</td>\n",
       "      <td>0.076723</td>\n",
       "      <td>0.057643</td>\n",
       "      <td>1.000000</td>\n",
       "      <td>0.320473</td>\n",
       "      <td>0.203173</td>\n",
       "      <td>0.175739</td>\n",
       "      <td>-0.035837</td>\n",
       "    </tr>\n",
       "    <tr>\n",
       "      <td>pets</td>\n",
       "      <td>-0.195342</td>\n",
       "      <td>-0.080173</td>\n",
       "      <td>-0.093690</td>\n",
       "      <td>0.320473</td>\n",
       "      <td>1.000000</td>\n",
       "      <td>0.193587</td>\n",
       "      <td>NaN</td>\n",
       "      <td>-0.163541</td>\n",
       "    </tr>\n",
       "    <tr>\n",
       "      <td>laundry</td>\n",
       "      <td>-0.066057</td>\n",
       "      <td>-0.027155</td>\n",
       "      <td>-0.002040</td>\n",
       "      <td>0.203173</td>\n",
       "      <td>0.193587</td>\n",
       "      <td>1.000000</td>\n",
       "      <td>0.404787</td>\n",
       "      <td>-0.179801</td>\n",
       "    </tr>\n",
       "    <tr>\n",
       "      <td>year_built</td>\n",
       "      <td>-0.038724</td>\n",
       "      <td>0.110130</td>\n",
       "      <td>0.153776</td>\n",
       "      <td>0.175739</td>\n",
       "      <td>NaN</td>\n",
       "      <td>0.404787</td>\n",
       "      <td>1.000000</td>\n",
       "      <td>0.234603</td>\n",
       "    </tr>\n",
       "    <tr>\n",
       "      <td>area</td>\n",
       "      <td>0.295215</td>\n",
       "      <td>0.433381</td>\n",
       "      <td>0.590749</td>\n",
       "      <td>-0.035837</td>\n",
       "      <td>-0.163541</td>\n",
       "      <td>-0.179801</td>\n",
       "      <td>0.234603</td>\n",
       "      <td>1.000000</td>\n",
       "    </tr>\n",
       "  </tbody>\n",
       "</table>\n",
       "</div>"
      ],
      "text/plain": [
       "               price       bed      bath   parking      pets   laundry  \\\n",
       "price       1.000000  0.609696  0.340268 -0.081144 -0.195342 -0.066057   \n",
       "bed         0.609696  1.000000  0.660943  0.076723 -0.080173 -0.027155   \n",
       "bath        0.340268  0.660943  1.000000  0.057643 -0.093690 -0.002040   \n",
       "parking    -0.081144  0.076723  0.057643  1.000000  0.320473  0.203173   \n",
       "pets       -0.195342 -0.080173 -0.093690  0.320473  1.000000  0.193587   \n",
       "laundry    -0.066057 -0.027155 -0.002040  0.203173  0.193587  1.000000   \n",
       "year_built -0.038724  0.110130  0.153776  0.175739       NaN  0.404787   \n",
       "area        0.295215  0.433381  0.590749 -0.035837 -0.163541 -0.179801   \n",
       "\n",
       "            year_built      area  \n",
       "price        -0.038724  0.295215  \n",
       "bed           0.110130  0.433381  \n",
       "bath          0.153776  0.590749  \n",
       "parking       0.175739 -0.035837  \n",
       "pets               NaN -0.163541  \n",
       "laundry       0.404787 -0.179801  \n",
       "year_built    1.000000  0.234603  \n",
       "area          0.234603  1.000000  "
      ]
     },
     "execution_count": 12,
     "metadata": {},
     "output_type": "execute_result"
    }
   ],
   "source": [
    "aggregated[['price', 'bed', 'bath', 'parking', 'pets', 'laundry', 'year_built', 'area']].corr()"
   ]
  },
  {
   "cell_type": "code",
   "execution_count": 13,
   "metadata": {},
   "outputs": [
    {
     "data": {
      "text/plain": [
       "<matplotlib.axes._subplots.AxesSubplot at 0x1226c9890>"
      ]
     },
     "execution_count": 13,
     "metadata": {},
     "output_type": "execute_result"
    }
   ],
   "source": [
    "graph = aggregated.groupby('property_type').mean()\n",
    "graph.plot.bar(y = ['bed'], legend = False)"
   ]
  },
  {
   "cell_type": "code",
   "execution_count": 14,
   "metadata": {
    "scrolled": true
   },
   "outputs": [
    {
     "data": {
      "text/plain": [
       "<matplotlib.axes._subplots.AxesSubplot at 0x12256aa10>"
      ]
     },
     "execution_count": 14,
     "metadata": {},
     "output_type": "execute_result"
    },
    {
     "data": {
      "image/png": "[encoded data removed]",
      "text/plain": [
       "<Figure size 432x288 with 1 Axes>"
      ]
     },
     "metadata": {
      "needs_background": "light"
     },
     "output_type": "display_data"
    }
   ],
   "source": [
    "graph2 = aggregated.groupby('property_type').mean()\n",
    "graph2.plot.bar(y = ['price'], legend = False)"
   ]
  },
  {
   "cell_type": "code",
   "execution_count": 15,
   "metadata": {},
   "outputs": [
    {
     "data": {
      "text/plain": [
       "<matplotlib.axes._subplots.AxesSubplot at 0x122560690>"
      ]
     },
     "execution_count": 15,
     "metadata": {},
     "output_type": "execute_result"
    },
    {
     "data": {
      "image/png": "[encoded data removed]",
      "text/plain": [
       "<Figure size 432x288 with 1 Axes>"
      ]
     },
     "metadata": {
      "needs_background": "light"
     },
     "output_type": "display_data"
    }
   ],
   "source": [
    "graph3 = aggregated.groupby('neighborhood').mean()\n",
    "graph3.plot.bar(y = ['parking'], legend = False)"
   ]
  },
  {
   "cell_type": "code",
   "execution_count": 16,
   "metadata": {},
   "outputs": [
    {
     "data": {
      "text/plain": [
       "<matplotlib.axes._subplots.AxesSubplot at 0x12287e990>"
      ]
     },
     "execution_count": 16,
     "metadata": {},
     "output_type": "execute_result"
    },
    {
     "data": {
      "image/png": "[encoded data removed]",
      "text/plain": [
       "<Figure size 432x288 with 1 Axes>"
      ]
     },
     "metadata": {
      "needs_background": "light"
     },
     "output_type": "display_data"
    }
   ],
   "source": [
    "graph = aggregated.groupby('property_type').mean()\n",
    "graph.plot.bar(y = ['bed'], legend = False)"
   ]
  },
  {
   "cell_type": "code",
   "execution_count": 17,
   "metadata": {},
   "outputs": [],
   "source": [
    "def get_area(area):\n",
    "    if area == None or isinstance(area, str):\n",
    "        return np.nan\n",
    "    else:\n",
    "        return area"
   ]
  },
  {
   "cell_type": "code",
   "execution_count": 18,
   "metadata": {},
   "outputs": [],
   "source": [
    "def get_bed(bed):\n",
    "    if bed == None or isinstance(bed, str):\n",
    "        return np.nan\n",
    "    else:\n",
    "        return bed"
   ]
  },
  {
   "cell_type": "code",
   "execution_count": 19,
   "metadata": {},
   "outputs": [],
   "source": [
    "def remove_nonfloat(cat):\n",
    "    if cat == None or isinstance(cat, str) or np.isnan(cat):\n",
    "        return 0\n",
    "    else:\n",
    "        return cat"
   ]
  },
  {
   "cell_type": "code",
   "execution_count": 20,
   "metadata": {},
   "outputs": [
    {
     "data": {
      "text/html": [
       "<div>\n",
       "<style scoped>\n",
       "    .dataframe tbody tr th:only-of-type {\n",
       "        vertical-align: middle;\n",
       "    }\n",
       "\n",
       "    .dataframe tbody tr th {\n",
       "        vertical-align: top;\n",
       "    }\n",
       "\n",
       "    .dataframe thead th {\n",
       "        text-align: right;\n",
       "    }\n",
       "</style>\n",
       "<table border=\"1\" class=\"dataframe\">\n",
       "  <thead>\n",
       "    <tr style=\"text-align: right;\">\n",
       "      <th></th>\n",
       "      <th>address</th>\n",
       "      <th>price</th>\n",
       "      <th>bed</th>\n",
       "      <th>bath</th>\n",
       "      <th>area</th>\n",
       "      <th>company</th>\n",
       "      <th>neighborhood</th>\n",
       "      <th>laundry</th>\n",
       "      <th>pets</th>\n",
       "      <th>parking</th>\n",
       "      <th>utilities</th>\n",
       "      <th>property_type</th>\n",
       "      <th>year_built</th>\n",
       "      <th>description</th>\n",
       "      <th>images</th>\n",
       "    </tr>\n",
       "  </thead>\n",
       "  <tbody>\n",
       "    <tr>\n",
       "      <td>0</td>\n",
       "      <td>3050 Birch Hollow Dr</td>\n",
       "      <td>1095.0</td>\n",
       "      <td>2.0</td>\n",
       "      <td>1.0</td>\n",
       "      <td>876.0</td>\n",
       "      <td>None</td>\n",
       "      <td>None</td>\n",
       "      <td>1.0</td>\n",
       "      <td>1.0</td>\n",
       "      <td>1.0</td>\n",
       "      <td>[]</td>\n",
       "      <td>apartment</td>\n",
       "      <td>NaN</td>\n",
       "      <td>This bedroom apartments includes:\\n\\n→ Contemp...</td>\n",
       "      <td>[https://images.craigslist.org/00S0S_8ZkasrSZ6...</td>\n",
       "    </tr>\n",
       "    <tr>\n",
       "      <td>1</td>\n",
       "      <td>912 Rose Ave</td>\n",
       "      <td>2000.0</td>\n",
       "      <td>4.0</td>\n",
       "      <td>2.5</td>\n",
       "      <td>2000.0</td>\n",
       "      <td>None</td>\n",
       "      <td>None</td>\n",
       "      <td>1.0</td>\n",
       "      <td>1.0</td>\n",
       "      <td>1.0</td>\n",
       "      <td>[]</td>\n",
       "      <td>house</td>\n",
       "      <td>NaN</td>\n",
       "      <td>Stunning Ann Arbor home, perfect family house ...</td>\n",
       "      <td>[https://images.craigslist.org/00Y0Y_4tey2xf24...</td>\n",
       "    </tr>\n",
       "    <tr>\n",
       "      <td>2</td>\n",
       "      <td>None</td>\n",
       "      <td>695.0</td>\n",
       "      <td>3.0</td>\n",
       "      <td>2.0</td>\n",
       "      <td>0.0</td>\n",
       "      <td>None</td>\n",
       "      <td>None</td>\n",
       "      <td>1.0</td>\n",
       "      <td>0.0</td>\n",
       "      <td>1.0</td>\n",
       "      <td>[]</td>\n",
       "      <td>apartment</td>\n",
       "      <td>NaN</td>\n",
       "      <td>AWESOME Affordable. This stunning 3 bedroom, 1...</td>\n",
       "      <td>[]</td>\n",
       "    </tr>\n",
       "    <tr>\n",
       "      <td>3</td>\n",
       "      <td>1505 Natalie Lane near Kipling Drive</td>\n",
       "      <td>1385.0</td>\n",
       "      <td>1.0</td>\n",
       "      <td>1.0</td>\n",
       "      <td>800.0</td>\n",
       "      <td>None</td>\n",
       "      <td>None</td>\n",
       "      <td>1.0</td>\n",
       "      <td>1.0</td>\n",
       "      <td>1.0</td>\n",
       "      <td>[]</td>\n",
       "      <td>apartment</td>\n",
       "      <td>NaN</td>\n",
       "      <td>Have you heard about our Stars &amp; Stripes progr...</td>\n",
       "      <td>[https://images.craigslist.org/00p0p_1PnkFaSsW...</td>\n",
       "    </tr>\n",
       "    <tr>\n",
       "      <td>4</td>\n",
       "      <td>1505 Natalie Lane near Kipling Drive</td>\n",
       "      <td>1185.0</td>\n",
       "      <td>1.0</td>\n",
       "      <td>1.0</td>\n",
       "      <td>800.0</td>\n",
       "      <td>None</td>\n",
       "      <td>None</td>\n",
       "      <td>1.0</td>\n",
       "      <td>1.0</td>\n",
       "      <td>1.0</td>\n",
       "      <td>[]</td>\n",
       "      <td>apartment</td>\n",
       "      <td>NaN</td>\n",
       "      <td>Have you heard about our Stars &amp; Stripes progr...</td>\n",
       "      <td>[https://images.craigslist.org/00k0k_7n7PgfXF5...</td>\n",
       "    </tr>\n",
       "  </tbody>\n",
       "</table>\n",
       "</div>"
      ],
      "text/plain": [
       "                                address   price  bed  bath    area company  \\\n",
       "0                  3050 Birch Hollow Dr  1095.0  2.0   1.0   876.0    None   \n",
       "1                          912 Rose Ave  2000.0  4.0   2.5  2000.0    None   \n",
       "2                                  None   695.0  3.0   2.0     0.0    None   \n",
       "3  1505 Natalie Lane near Kipling Drive  1385.0  1.0   1.0   800.0    None   \n",
       "4  1505 Natalie Lane near Kipling Drive  1185.0  1.0   1.0   800.0    None   \n",
       "\n",
       "  neighborhood  laundry  pets  parking utilities property_type  year_built  \\\n",
       "0         None      1.0   1.0      1.0        []     apartment         NaN   \n",
       "1         None      1.0   1.0      1.0        []         house         NaN   \n",
       "2         None      1.0   0.0      1.0        []     apartment         NaN   \n",
       "3         None      1.0   1.0      1.0        []     apartment         NaN   \n",
       "4         None      1.0   1.0      1.0        []     apartment         NaN   \n",
       "\n",
       "                                         description  \\\n",
       "0  This bedroom apartments includes:\\n\\n→ Contemp...   \n",
       "1  Stunning Ann Arbor home, perfect family house ...   \n",
       "2  AWESOME Affordable. This stunning 3 bedroom, 1...   \n",
       "3  Have you heard about our Stars & Stripes progr...   \n",
       "4  Have you heard about our Stars & Stripes progr...   \n",
       "\n",
       "                                              images  \n",
       "0  [https://images.craigslist.org/00S0S_8ZkasrSZ6...  \n",
       "1  [https://images.craigslist.org/00Y0Y_4tey2xf24...  \n",
       "2                                                 []  \n",
       "3  [https://images.craigslist.org/00p0p_1PnkFaSsW...  \n",
       "4  [https://images.craigslist.org/00k0k_7n7PgfXF5...  "
      ]
     },
     "execution_count": 20,
     "metadata": {},
     "output_type": "execute_result"
    }
   ],
   "source": [
    "df = pd.DataFrame(listings_json)\n",
    "df['area'] = df['area'].apply(remove_nonfloat)\n",
    "df['bed'] = df['bed'].apply(remove_nonfloat)\n",
    "df['bath'] = df['bath'].apply(remove_nonfloat)\n",
    "df['price'] = df['price'].apply(remove_nonfloat)\n",
    "df['laundry'] = df['laundry'].apply(remove_nonfloat)\n",
    "df['pets'] = df['pets'].apply(remove_nonfloat)\n",
    "df['parking'] = df['parking'].apply(remove_nonfloat)\n",
    "aggregated.head()"
   ]
  },
  {
   "cell_type": "code",
   "execution_count": 21,
   "metadata": {},
   "outputs": [],
   "source": [
    "from sklearn.preprocessing import StandardScaler\n",
    "features = ['price', 'bed', 'bath', 'area', 'laundry', 'pets', 'parking']\n",
    "x = df.loc[:, features].values\n",
    "y = df.loc[:,['neighborhood']].values\n",
    "x = StandardScaler().fit_transform(x)"
   ]
  },
  {
   "cell_type": "code",
   "execution_count": 22,
   "metadata": {},
   "outputs": [],
   "source": [
    "from sklearn.decomposition import PCA\n",
    "pca = PCA(n_components=2)\n",
    "principalComponents = pca.fit_transform(x)\n",
    "principalDf = pd.DataFrame(data = principalComponents\n",
    "             , columns = ['principal component 1', 'principal component 2'])\n",
    "finalDf = pd.concat([principalDf, df[['neighborhood']]], axis = 1)"
   ]
  },
  {
   "cell_type": "code",
   "execution_count": 28,
   "metadata": {},
   "outputs": [
    {
     "data": {
      "text/plain": [
       "Text(0.5, 1.0, '2 component PCA')"
      ]
     },
     "execution_count": 28,
     "metadata": {},
     "output_type": "execute_result"
    },
    {
     "data": {
      "image/png": "[encoded data removed]",
      "text/plain": [
       "<Figure size 576x576 with 1 Axes>"
      ]
     },
     "metadata": {
      "needs_background": "light"
     },
     "output_type": "display_data"
    }
   ],
   "source": [
    "fig = plt.figure(figsize = (8,8))\n",
    "ax = fig.add_subplot(1,1,1) \n",
    "ax.set_xlabel('Principal Component 1', fontsize = 15)\n",
    "ax.set_ylabel('Principal Component 2', fontsize = 15)\n",
    "ax.set_title('2 component PCA', fontsize = 20)"
   ]
  },
  {
   "cell_type": "code",
   "execution_count": 33,
   "metadata": {},
   "outputs": [],
   "source": [
    "targets = ['North Campus', 'East Packard', 'Oxbridge']\n",
    "colors = ['r', 'g', 'b']\n",
    "for target, color in zip(targets,colors):\n",
    "    indicesToKeep = finalDf['neighborhood'] == target\n",
    "    ax.scatter(finalDf.loc[indicesToKeep, 'principal component 1']\n",
    "               , finalDf.loc[indicesToKeep, 'principal component 2']\n",
    "               , c = color\n",
    "               , s = 50)\n",
    "ax.legend(targets)\n",
    "ax.grid()"
   ]
  },
  {
   "cell_type": "code",
   "execution_count": null,
   "metadata": {},
   "outputs": [],
   "source": []
  },
  {
   "cell_type": "code",
   "execution_count": null,
   "metadata": {},
   "outputs": [],
   "source": [
    "\n",
    "    "
   ]
  },
  {
   "cell_type": "code",
   "execution_count": null,
   "metadata": {},
   "outputs": [],
   "source": []
  },
  {
   "cell_type": "code",
   "execution_count": null,
   "metadata": {},
   "outputs": [],
   "source": []
  }
 ],
 "metadata": {
  "kernelspec": {
   "display_name": "Python 3",
   "language": "python",
   "name": "python3"
  },
  "language_info": {
   "codemirror_mode": {
    "name": "ipython",
    "version": 3
   },
   "file_extension": ".py",
   "mimetype": "text/x-python",
   "name": "python",
   "nbconvert_exporter": "python",
   "pygments_lexer": "ipython3",
   "version": "3.7.4"
  }
 },
 "nbformat": 4,
 "nbformat_minor": 4
}

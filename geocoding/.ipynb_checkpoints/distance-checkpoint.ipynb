{
 "cells": [
  {
   "cell_type": "code",
   "execution_count": 16,
   "metadata": {},
   "outputs": [],
   "source": [
    "import math\n",
    "import pandas as pd"
   ]
  },
  {
   "cell_type": "code",
   "execution_count": 3,
   "metadata": {},
   "outputs": [],
   "source": [
    "## returns straight-line (Euclidean) distance in km\n",
    "def distance(address, landmark):\n",
    "    lat1, lon1 = address\n",
    "    lat2, lon2 = landmark\n",
    "    p = 0.017453292519943295;    # Math.PI / 180\n",
    "    a = 0.5 - math.cos((lat2 - lat1) * p) / 2 + math.cos(lat1 * p) * math.cos(lat2 * p) * (1 - math.cos((lon2 - lon1) * p)) / 2;\n",
    "\n",
    "    return 12742 * math.asin(math.sqrt(a)); # 2 * R; R = 6371 km"
   ]
  },
  {
   "cell_type": "code",
   "execution_count": 4,
   "metadata": {},
   "outputs": [
    {
     "data": {
      "text/plain": [
       "2.031583762765907"
      ]
     },
     "execution_count": 4,
     "metadata": {},
     "output_type": "execute_result"
    }
   ],
   "source": [
    "# test function -- CCTC to Pierpont\n",
    "distance((42.278165, -83.734749), (42.291151, -83.717377))"
   ]
  },
  {
   "cell_type": "code",
   "execution_count": 7,
   "metadata": {},
   "outputs": [],
   "source": [
    "## TODO: load data\n",
    "df = pd.read_csv('../data/geocoded_data/{FILENAME}.csv')"
   ]
  },
  {
   "cell_type": "code",
   "execution_count": 6,
   "metadata": {},
   "outputs": [
    {
     "name": "stdout",
     "output_type": "stream",
     "text": [
      "distance_to_CCTC\n",
      "distance_to_Pierpont\n",
      "distance_to_Stadium\n",
      "distance_to_Union\n",
      "distance_to_Ross\n",
      "distance_to_IM\n",
      "distance_to_NCRB\n",
      "distance_to_CCRB\n",
      "distance_to_UgLi\n"
     ]
    }
   ],
   "source": [
    "landmarks = ['CCTC', 'Pierpont', 'Stadium', 'Union', 'Ross', 'IM', 'NCRB', 'CCRB', 'UgLi']\n",
    "landmark_coords = [(42.278165, -83.734749), \n",
    "                   (42.291151, -83.717377), \n",
    "                   (42.265865, -83.748684),\n",
    "                   (42.275177, -83.741517),\n",
    "                   (42.278046, -83.738220),\n",
    "                   (42.269382, -83.749068),\n",
    "                   (42.295156, -83.714627),\n",
    "                   (42.281104, -83.733603),\n",
    "                   (42.275654, -83.737176)]\n",
    "\n",
    "for landmark, coord in zip(landmarks, landmark_coords):\n",
    "    s = f'distance_to_{landmark}'\n",
    "    addresses = zip(df.lat, df.lon)\n",
    "    dist = []\n",
    "    for address in addresses:\n",
    "        dist.append(distance(address, landmark_coords))\n",
    "    df[f'distance_to_{landmark}'] = dist"
   ]
  },
  {
   "cell_type": "code",
   "execution_count": null,
   "metadata": {},
   "outputs": [],
   "source": [
    "df.head()"
   ]
  },
  {
   "cell_type": "code",
   "execution_count": null,
   "metadata": {},
   "outputs": [],
   "source": [
    "# save new data\n",
    "df.to_json('../data/model_data/data.json')"
   ]
  }
 ],
 "metadata": {
  "kernelspec": {
   "display_name": "Python 3",
   "language": "python",
   "name": "python3"
  },
  "language_info": {
   "codemirror_mode": {
    "name": "ipython",
    "version": 3
   },
   "file_extension": ".py",
   "mimetype": "text/x-python",
   "name": "python",
   "nbconvert_exporter": "python",
   "pygments_lexer": "ipython3",
   "version": "3.7.3"
  }
 },
 "nbformat": 4,
 "nbformat_minor": 2
}

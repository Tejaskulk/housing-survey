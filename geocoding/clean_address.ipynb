{
 "cells": [
  {
   "cell_type": "code",
   "execution_count": 30,
   "metadata": {},
   "outputs": [
    {
     "name": "stdout",
     "output_type": "stream",
     "text": [
      "dirty address: 1862\n",
      "no address: 595\n"
     ]
    }
   ],
   "source": [
    "import pandas as pd\n",
    "import re\n",
    "\n",
    "df = pd.read_json('../data/aggregated.json')\n",
    "idx_dirty_addy, dirty_addy, no_addy = [], [], []\n",
    "\n",
    "for i, address in enumerate(df.address.values):\n",
    "    if address == None:\n",
    "        no_addy.append(i)\n",
    "    elif not re.search('^\\d', address):\n",
    "        idx_dirty_addy.append(i)\n",
    "        dirty_addy.append(address)\n",
    "        \n",
    "print('dirty address:', len(dirty_addy))\n",
    "print('no address:', len(no_addy))"
   ]
  },
  {
   "cell_type": "code",
   "execution_count": null,
   "metadata": {},
   "outputs": [],
   "source": []
  }
 ],
 "metadata": {
  "kernelspec": {
   "display_name": "Python 3",
   "language": "python",
   "name": "python3"
  },
  "language_info": {
   "codemirror_mode": {
    "name": "ipython",
    "version": 3
   },
   "file_extension": ".py",
   "mimetype": "text/x-python",
   "name": "python",
   "nbconvert_exporter": "python",
   "pygments_lexer": "ipython3",
   "version": "3.7.3"
  }
 },
 "nbformat": 4,
 "nbformat_minor": 4
}
